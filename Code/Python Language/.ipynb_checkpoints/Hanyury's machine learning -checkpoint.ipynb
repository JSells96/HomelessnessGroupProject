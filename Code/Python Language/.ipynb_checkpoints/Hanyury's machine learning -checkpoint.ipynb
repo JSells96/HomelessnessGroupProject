{
 "cells": [
  {
   "cell_type": "code",
   "execution_count": 2,
   "id": "909433df",
   "metadata": {},
   "outputs": [],
   "source": [
    "import pandas as pd\n",
    "from sklearn.linear_model import LinearRegression\n",
    "from sklearn.model_selection import train_test_split\n",
    "import matplotlib.pyplot as plt\n",
    "%matplotlib inline\n",
    "from sklearn import metrics\n",
    "import numpy as np\n"
   ]
  },
  {
   "cell_type": "code",
   "execution_count": 2,
   "id": "5c57654f",
   "metadata": {
    "scrolled": true
   },
   "outputs": [
    {
     "data": {
      "text/html": [
       "<div>\n",
       "<style scoped>\n",
       "    .dataframe tbody tr th:only-of-type {\n",
       "        vertical-align: middle;\n",
       "    }\n",
       "\n",
       "    .dataframe tbody tr th {\n",
       "        vertical-align: top;\n",
       "    }\n",
       "\n",
       "    .dataframe thead th {\n",
       "        text-align: right;\n",
       "    }\n",
       "</style>\n",
       "<table border=\"1\" class=\"dataframe\">\n",
       "  <thead>\n",
       "    <tr style=\"text-align: right;\">\n",
       "      <th></th>\n",
       "      <th>By_State</th>\n",
       "      <th>States</th>\n",
       "      <th>pop_total2010</th>\n",
       "      <th>pop_total2011</th>\n",
       "      <th>pop_total2012</th>\n",
       "      <th>pop_total2013</th>\n",
       "      <th>pop_total2014</th>\n",
       "      <th>pop_total2015</th>\n",
       "      <th>pop_total2016</th>\n",
       "      <th>pop_total2017</th>\n",
       "      <th>pop_total2018</th>\n",
       "      <th>pop_total2019</th>\n",
       "      <th>pop_total2020</th>\n",
       "    </tr>\n",
       "  </thead>\n",
       "  <tbody>\n",
       "    <tr>\n",
       "      <th>0</th>\n",
       "      <td>Alabama</td>\n",
       "      <td>1</td>\n",
       "      <td>6046</td>\n",
       "      <td>5558</td>\n",
       "      <td>5209</td>\n",
       "      <td>4689</td>\n",
       "      <td>4561</td>\n",
       "      <td>3970</td>\n",
       "      <td>4111</td>\n",
       "      <td>3793</td>\n",
       "      <td>3434</td>\n",
       "      <td>3261</td>\n",
       "      <td>3351</td>\n",
       "    </tr>\n",
       "    <tr>\n",
       "      <th>1</th>\n",
       "      <td>Alaska</td>\n",
       "      <td>2</td>\n",
       "      <td>1863</td>\n",
       "      <td>2128</td>\n",
       "      <td>1913</td>\n",
       "      <td>1946</td>\n",
       "      <td>1784</td>\n",
       "      <td>1956</td>\n",
       "      <td>1940</td>\n",
       "      <td>1845</td>\n",
       "      <td>2016</td>\n",
       "      <td>1907</td>\n",
       "      <td>1949</td>\n",
       "    </tr>\n",
       "    <tr>\n",
       "      <th>2</th>\n",
       "      <td>Arizona</td>\n",
       "      <td>3</td>\n",
       "      <td>13711</td>\n",
       "      <td>10504</td>\n",
       "      <td>11302</td>\n",
       "      <td>10562</td>\n",
       "      <td>10495</td>\n",
       "      <td>9896</td>\n",
       "      <td>9707</td>\n",
       "      <td>8947</td>\n",
       "      <td>9865</td>\n",
       "      <td>10007</td>\n",
       "      <td>10979</td>\n",
       "    </tr>\n",
       "    <tr>\n",
       "      <th>3</th>\n",
       "      <td>Arkansas</td>\n",
       "      <td>4</td>\n",
       "      <td>2762</td>\n",
       "      <td>3424</td>\n",
       "      <td>4214</td>\n",
       "      <td>3812</td>\n",
       "      <td>2936</td>\n",
       "      <td>2560</td>\n",
       "      <td>2463</td>\n",
       "      <td>2467</td>\n",
       "      <td>2712</td>\n",
       "      <td>2717</td>\n",
       "      <td>2366</td>\n",
       "    </tr>\n",
       "    <tr>\n",
       "      <th>4</th>\n",
       "      <td>California</td>\n",
       "      <td>5</td>\n",
       "      <td>123480</td>\n",
       "      <td>125128</td>\n",
       "      <td>120098</td>\n",
       "      <td>118552</td>\n",
       "      <td>113952</td>\n",
       "      <td>115738</td>\n",
       "      <td>118142</td>\n",
       "      <td>131532</td>\n",
       "      <td>129972</td>\n",
       "      <td>151278</td>\n",
       "      <td>161548</td>\n",
       "    </tr>\n",
       "  </tbody>\n",
       "</table>\n",
       "</div>"
      ],
      "text/plain": [
       "      By_State  States  pop_total2010  pop_total2011  pop_total2012  \\\n",
       "0     Alabama        1           6046           5558           5209   \n",
       "1      Alaska        2           1863           2128           1913   \n",
       "2     Arizona        3          13711          10504          11302   \n",
       "3    Arkansas        4           2762           3424           4214   \n",
       "4  California        5         123480         125128         120098   \n",
       "\n",
       "   pop_total2013  pop_total2014  pop_total2015  pop_total2016  pop_total2017  \\\n",
       "0           4689           4561           3970           4111           3793   \n",
       "1           1946           1784           1956           1940           1845   \n",
       "2          10562          10495           9896           9707           8947   \n",
       "3           3812           2936           2560           2463           2467   \n",
       "4         118552         113952         115738         118142         131532   \n",
       "\n",
       "   pop_total2018  pop_total2019  pop_total2020  \n",
       "0           3434           3261           3351  \n",
       "1           2016           1907           1949  \n",
       "2           9865          10007          10979  \n",
       "3           2712           2717           2366  \n",
       "4         129972         151278         161548  "
      ]
     },
     "execution_count": 2,
     "metadata": {},
     "output_type": "execute_result"
    }
   ],
   "source": [
    "homelesspop = pd.read_excel(\"../../Data/homeless population by state.xlsx\")\n",
    "homelesspop.head()"
   ]
  },
  {
   "cell_type": "code",
   "execution_count": 44,
   "id": "52e893af",
   "metadata": {
    "scrolled": true
   },
   "outputs": [
    {
     "name": "stdout",
     "output_type": "stream",
     "text": [
      "<class 'pandas.core.frame.DataFrame'>\n",
      "RangeIndex: 51 entries, 0 to 50\n",
      "Data columns (total 13 columns):\n",
      " #   Column         Non-Null Count  Dtype \n",
      "---  ------         --------------  ----- \n",
      " 0   By_State       51 non-null     object\n",
      " 1   States         51 non-null     int64 \n",
      " 2   pop_total2010  51 non-null     int64 \n",
      " 3   pop_total2011  51 non-null     int64 \n",
      " 4   pop_total2012  51 non-null     int64 \n",
      " 5   pop_total2013  51 non-null     int64 \n",
      " 6   pop_total2014  51 non-null     int64 \n",
      " 7   pop_total2015  51 non-null     int64 \n",
      " 8   pop_total2016  51 non-null     int64 \n",
      " 9   pop_total2017  51 non-null     int64 \n",
      " 10  pop_total2018  51 non-null     int64 \n",
      " 11  pop_total2019  51 non-null     int64 \n",
      " 12  pop_total2020  51 non-null     int64 \n",
      "dtypes: int64(12), object(1)\n",
      "memory usage: 5.3+ KB\n"
     ]
    }
   ],
   "source": [
    "homelesspop.info()"
   ]
  },
  {
   "cell_type": "markdown",
   "id": "ef95b9fd",
   "metadata": {},
   "source": [
    "## Data Wrangling"
   ]
  },
  {
   "cell_type": "code",
   "execution_count": 3,
   "id": "0c5372ab",
   "metadata": {
    "scrolled": false
   },
   "outputs": [
    {
     "data": {
      "text/html": [
       "<div>\n",
       "<style scoped>\n",
       "    .dataframe tbody tr th:only-of-type {\n",
       "        vertical-align: middle;\n",
       "    }\n",
       "\n",
       "    .dataframe tbody tr th {\n",
       "        vertical-align: top;\n",
       "    }\n",
       "\n",
       "    .dataframe thead th {\n",
       "        text-align: right;\n",
       "    }\n",
       "</style>\n",
       "<table border=\"1\" class=\"dataframe\">\n",
       "  <thead>\n",
       "    <tr style=\"text-align: right;\">\n",
       "      <th></th>\n",
       "      <th>States</th>\n",
       "      <th>pop_total2010</th>\n",
       "      <th>pop_total2011</th>\n",
       "      <th>pop_total2012</th>\n",
       "      <th>pop_total2013</th>\n",
       "      <th>pop_total2014</th>\n",
       "      <th>pop_total2015</th>\n",
       "      <th>pop_total2016</th>\n",
       "      <th>pop_total2017</th>\n",
       "      <th>pop_total2018</th>\n",
       "      <th>pop_total2019</th>\n",
       "      <th>pop_total2020</th>\n",
       "    </tr>\n",
       "  </thead>\n",
       "  <tbody>\n",
       "    <tr>\n",
       "      <th>0</th>\n",
       "      <td>1</td>\n",
       "      <td>6046</td>\n",
       "      <td>5558</td>\n",
       "      <td>5209</td>\n",
       "      <td>4689</td>\n",
       "      <td>4561</td>\n",
       "      <td>3970</td>\n",
       "      <td>4111</td>\n",
       "      <td>3793</td>\n",
       "      <td>3434</td>\n",
       "      <td>3261</td>\n",
       "      <td>3351</td>\n",
       "    </tr>\n",
       "    <tr>\n",
       "      <th>1</th>\n",
       "      <td>2</td>\n",
       "      <td>1863</td>\n",
       "      <td>2128</td>\n",
       "      <td>1913</td>\n",
       "      <td>1946</td>\n",
       "      <td>1784</td>\n",
       "      <td>1956</td>\n",
       "      <td>1940</td>\n",
       "      <td>1845</td>\n",
       "      <td>2016</td>\n",
       "      <td>1907</td>\n",
       "      <td>1949</td>\n",
       "    </tr>\n",
       "    <tr>\n",
       "      <th>2</th>\n",
       "      <td>3</td>\n",
       "      <td>13711</td>\n",
       "      <td>10504</td>\n",
       "      <td>11302</td>\n",
       "      <td>10562</td>\n",
       "      <td>10495</td>\n",
       "      <td>9896</td>\n",
       "      <td>9707</td>\n",
       "      <td>8947</td>\n",
       "      <td>9865</td>\n",
       "      <td>10007</td>\n",
       "      <td>10979</td>\n",
       "    </tr>\n",
       "    <tr>\n",
       "      <th>3</th>\n",
       "      <td>4</td>\n",
       "      <td>2762</td>\n",
       "      <td>3424</td>\n",
       "      <td>4214</td>\n",
       "      <td>3812</td>\n",
       "      <td>2936</td>\n",
       "      <td>2560</td>\n",
       "      <td>2463</td>\n",
       "      <td>2467</td>\n",
       "      <td>2712</td>\n",
       "      <td>2717</td>\n",
       "      <td>2366</td>\n",
       "    </tr>\n",
       "    <tr>\n",
       "      <th>4</th>\n",
       "      <td>5</td>\n",
       "      <td>123480</td>\n",
       "      <td>125128</td>\n",
       "      <td>120098</td>\n",
       "      <td>118552</td>\n",
       "      <td>113952</td>\n",
       "      <td>115738</td>\n",
       "      <td>118142</td>\n",
       "      <td>131532</td>\n",
       "      <td>129972</td>\n",
       "      <td>151278</td>\n",
       "      <td>161548</td>\n",
       "    </tr>\n",
       "  </tbody>\n",
       "</table>\n",
       "</div>"
      ],
      "text/plain": [
       "   States  pop_total2010  pop_total2011  pop_total2012  pop_total2013  \\\n",
       "0       1           6046           5558           5209           4689   \n",
       "1       2           1863           2128           1913           1946   \n",
       "2       3          13711          10504          11302          10562   \n",
       "3       4           2762           3424           4214           3812   \n",
       "4       5         123480         125128         120098         118552   \n",
       "\n",
       "   pop_total2014  pop_total2015  pop_total2016  pop_total2017  pop_total2018  \\\n",
       "0           4561           3970           4111           3793           3434   \n",
       "1           1784           1956           1940           1845           2016   \n",
       "2          10495           9896           9707           8947           9865   \n",
       "3           2936           2560           2463           2467           2712   \n",
       "4         113952         115738         118142         131532         129972   \n",
       "\n",
       "   pop_total2019  pop_total2020  \n",
       "0           3261           3351  \n",
       "1           1907           1949  \n",
       "2          10007          10979  \n",
       "3           2717           2366  \n",
       "4         151278         161548  "
      ]
     },
     "execution_count": 3,
     "metadata": {},
     "output_type": "execute_result"
    }
   ],
   "source": [
    "homelesspop1 = homelesspop.drop(['By_State'], axis=1)\n",
    "homelesspop1.head()"
   ]
  },
  {
   "cell_type": "code",
   "execution_count": 22,
   "id": "612702c3",
   "metadata": {},
   "outputs": [],
   "source": [
    "x = homelesspop1[['pop_total2010', 'pop_total2011', 'pop_total2012', 'pop_total2013','pop_total2014','pop_total2015','pop_total2016','pop_total2017','pop_total2018','pop_total2019','pop_total2020']]\n",
    "y = homelesspop1['States']"
   ]
  },
  {
   "cell_type": "code",
   "execution_count": 23,
   "id": "c041625f",
   "metadata": {},
   "outputs": [],
   "source": [
    "x_train, x_test, y_train, y_test = train_test_split(x,y, test_size = .4)"
   ]
  },
  {
   "cell_type": "code",
   "execution_count": 24,
   "id": "6f4806a3",
   "metadata": {},
   "outputs": [
    {
     "name": "stdout",
     "output_type": "stream",
     "text": [
      "(30, 11) (30,)\n",
      "(21, 11) (21,)\n"
     ]
    }
   ],
   "source": [
    "print(x_train.shape, y_train.shape)\n",
    "print(x_test.shape, y_test.shape)"
   ]
  },
  {
   "cell_type": "markdown",
   "id": "a07957f6",
   "metadata": {},
   "source": [
    "## Creating the linear Regression Model"
   ]
  },
  {
   "cell_type": "code",
   "execution_count": 27,
   "id": "d79cc741",
   "metadata": {},
   "outputs": [
    {
     "data": {
      "text/plain": [
       "LinearRegression()"
      ]
     },
     "execution_count": 27,
     "metadata": {},
     "output_type": "execute_result"
    }
   ],
   "source": [
    "lm = LinearRegression()\n",
    "lm.fit(x_train, y_train)"
   ]
  },
  {
   "cell_type": "markdown",
   "id": "61930dda",
   "metadata": {},
   "source": [
    "## Examine Predictions"
   ]
  },
  {
   "cell_type": "code",
   "execution_count": 26,
   "id": "4a60754f",
   "metadata": {},
   "outputs": [
    {
     "data": {
      "text/plain": [
       "array([ 29.08928867,  36.75368399,  28.76269334,  41.83028368,\n",
       "       245.61724233,  57.10722876,  30.6857734 ,  58.49500343,\n",
       "        20.920419  ,  27.33971983,   2.17753787,  28.33193259,\n",
       "       132.65401767,  -1.82502421,  41.43361975,  55.01089068,\n",
       "        13.60277879,  86.59525966,  34.531286  ,  27.57887782,\n",
       "        22.13394807])"
      ]
     },
     "execution_count": 26,
     "metadata": {},
     "output_type": "execute_result"
    }
   ],
   "source": [
    "predictions = lm.predict(x_test)\n",
    "predictions"
   ]
  },
  {
   "cell_type": "code",
   "execution_count": 28,
   "id": "8144d9ac",
   "metadata": {},
   "outputs": [
    {
     "data": {
      "text/plain": [
       "<matplotlib.collections.PathCollection at 0x2052b28eaf0>"
      ]
     },
     "execution_count": 28,
     "metadata": {},
     "output_type": "execute_result"
    },
    {
     "data": {
      "image/png": "[encoded data removed]",
      "text/plain": [
       "<Figure size 432x288 with 1 Axes>"
      ]
     },
     "metadata": {
      "needs_background": "light"
     },
     "output_type": "display_data"
    }
   ],
   "source": [
    "plt.scatter(y_test, predictions)"
   ]
  },
  {
   "cell_type": "markdown",
   "id": "00488119",
   "metadata": {},
   "source": [
    "## Accuracy Score"
   ]
  },
  {
   "cell_type": "code",
   "execution_count": 30,
   "id": "4e46eee6",
   "metadata": {},
   "outputs": [
    {
     "name": "stdout",
     "output_type": "stream",
     "text": [
      "Score: -15.675383322206457\n"
     ]
    }
   ],
   "source": [
    "print(\"Score:\", lm.score(x_test, y_test))"
   ]
  },
  {
   "cell_type": "markdown",
   "id": "9fb4cbf0",
   "metadata": {},
   "source": [
    "looks like the model is not so accurate \n",
    "\n",
    "## Mean Absolute Error (MAE)"
   ]
  },
  {
   "cell_type": "code",
   "execution_count": 31,
   "id": "68db89b9",
   "metadata": {},
   "outputs": [
    {
     "data": {
      "text/plain": [
       "35.4249023461598"
      ]
     },
     "execution_count": 31,
     "metadata": {},
     "output_type": "execute_result"
    }
   ],
   "source": [
    "metrics.mean_absolute_error(y_test, predictions)"
   ]
  },
  {
   "cell_type": "markdown",
   "id": "d3df27e1",
   "metadata": {},
   "source": [
    "## Mean Squared Error (MSE)"
   ]
  },
  {
   "cell_type": "code",
   "execution_count": 32,
   "id": "849963e6",
   "metadata": {},
   "outputs": [
    {
     "data": {
      "text/plain": [
       "3490.1085728790385"
      ]
     },
     "execution_count": 32,
     "metadata": {},
     "output_type": "execute_result"
    }
   ],
   "source": [
    "metrics.mean_squared_error(y_test, predictions)"
   ]
  },
  {
   "cell_type": "markdown",
   "id": "f5c6be76",
   "metadata": {},
   "source": [
    "## Root Mean Squared Error (RMSE)"
   ]
  },
  {
   "cell_type": "code",
   "execution_count": 33,
   "id": "bb92a5a3",
   "metadata": {},
   "outputs": [
    {
     "data": {
      "text/plain": [
       "59.077140865812375"
      ]
     },
     "execution_count": 33,
     "metadata": {},
     "output_type": "execute_result"
    }
   ],
   "source": [
    "np.sqrt(metrics.mean_squared_error(y_test, predictions))"
   ]
  },
  {
   "cell_type": "markdown",
   "id": "61084b83",
   "metadata": {},
   "source": [
    "## k-fold Cross Validation"
   ]
  },
  {
   "cell_type": "code",
   "execution_count": 34,
   "id": "0e8ec578",
   "metadata": {},
   "outputs": [],
   "source": [
    "from sklearn.model_selection import KFold\n",
    "from sklearn.model_selection import cross_val_score"
   ]
  },
  {
   "cell_type": "markdown",
   "id": "40afec37",
   "metadata": {},
   "source": [
    "## Creating Folds"
   ]
  },
  {
   "cell_type": "code",
   "execution_count": 39,
   "id": "96906cca",
   "metadata": {},
   "outputs": [
    {
     "name": "stdout",
     "output_type": "stream",
     "text": [
      "train: [ 0  1  3  4  5  6  7  8  9 10 11 12 13 14 15 16 17 18 19 20 21 23 24 25\n",
      " 27 28 29 30 31 32 34 35 36 37 38 39 40 41 42 43 45 46 47 48 50], test: [ 2 22 26 33 44 49]\n",
      "train: [ 0  1  2  4  5  6  7  8  9 10 11 12 13 14 15 16 17 18 19 20 21 22 23 24\n",
      " 25 26 28 29 31 33 34 35 36 37 38 39 40 41 42 43 44 45 46 47 48 49], test: [ 3 27 30 32 50]\n",
      "train: [ 0  1  2  3  4  5  6  7  8  9 10 11 12 13 14 15 16 17 18 19 20 22 23 24\n",
      " 25 26 27 28 30 31 32 33 34 35 36 37 38 40 42 43 44 45 46 48 49 50], test: [21 29 39 41 47]\n",
      "train: [ 0  1  2  3  4  5  6  7  8  9 10 11 12 14 15 16 17 18 20 21 22 23 25 26\n",
      " 27 28 29 30 31 32 33 34 35 36 37 39 41 42 43 44 45 46 47 48 49 50], test: [13 19 24 38 40]\n",
      "train: [ 0  1  2  3  4  5  6  7  8  9 10 11 12 13 14 15 16 18 19 20 21 22 24 25\n",
      " 26 27 28 29 30 31 32 33 34 35 37 38 39 40 41 43 44 45 47 48 49 50], test: [17 23 36 42 46]\n",
      "train: [ 0  1  2  3  5  6  7  8  9 11 12 13 15 16 17 18 19 20 21 22 23 24 25 26\n",
      " 27 28 29 30 32 33 35 36 37 38 39 40 41 42 43 44 45 46 47 48 49 50], test: [ 4 10 14 31 34]\n",
      "train: [ 0  1  2  3  4  5  6  7  8  9 10 11 12 13 14 15 16 17 19 21 22 23 24 25\n",
      " 26 27 29 30 31 32 33 34 36 37 38 39 40 41 42 43 44 46 47 48 49 50], test: [18 20 28 35 45]\n",
      "train: [ 0  2  3  4  5  8  9 10 11 12 13 14 15 16 17 18 19 20 21 22 23 24 26 27\n",
      " 28 29 30 31 32 33 34 35 36 37 38 39 40 41 42 43 44 45 46 47 49 50], test: [ 1  6  7 25 48]\n",
      "train: [ 1  2  3  4  6  7  8  9 10 12 13 14 17 18 19 20 21 22 23 24 25 26 27 28\n",
      " 29 30 31 32 33 34 35 36 37 38 39 40 41 42 43 44 45 46 47 48 49 50], test: [ 0  5 11 15 16]\n",
      "train: [ 0  1  2  3  4  5  6  7 10 11 13 14 15 16 17 18 19 20 21 22 23 24 25 26\n",
      " 27 28 29 30 31 32 33 34 35 36 38 39 40 41 42 44 45 46 47 48 49 50], test: [ 8  9 12 37 43]\n"
     ]
    },
    {
     "name": "stderr",
     "output_type": "stream",
     "text": [
      "C:\\Users\\hanyu\\anaconda3\\lib\\site-packages\\sklearn\\utils\\validation.py:70: FutureWarning: Pass shuffle=True, random_state=1 as keyword args. From version 1.0 (renaming of 0.25) passing these as positional arguments will result in an error\n",
      "  warnings.warn(f\"Pass {args_msg} as keyword args. From version \"\n"
     ]
    }
   ],
   "source": [
    "kfold = KFold(10, True, 1)\n",
    "for train, test in kfold.split(x,y):\n",
    "    print('train: %s, test: %s' % (train,test))"
   ]
  },
  {
   "cell_type": "code",
   "execution_count": 40,
   "id": "38c76b98",
   "metadata": {},
   "outputs": [
    {
     "name": "stdout",
     "output_type": "stream",
     "text": [
      "[-2.16629232e+03 -5.02818225e+02 -1.25991657e+02 -5.85148942e+01\n",
      " -2.43903980e+01 -2.08359588e+00 -3.47460743e+01 -2.44368078e+02\n",
      " -3.23693176e+02 -4.47317977e+02]\n"
     ]
    }
   ],
   "source": [
    "print(cross_val_score(lm, x,y, cv=10))"
   ]
  },
  {
   "cell_type": "markdown",
   "id": "253e6d77",
   "metadata": {},
   "source": [
    "looks like model 3 is the best moder for the analysis of homeless populationin the last decade."
   ]
  },
  {
   "cell_type": "markdown",
   "id": "4de3ef03",
   "metadata": {},
   "source": [
    "# # Looking for k-mean and clusters"
   ]
  },
  {
   "cell_type": "code",
   "execution_count": 1,
   "id": "b2837124",
   "metadata": {},
   "outputs": [],
   "source": [
    "import pandas as pd\n",
    "import numpy as np\n",
    "import matplotlib.pyplot as plt\n",
    "import seaborn as sns\n",
    "%matplotlib inline\n",
    "from sklearn.cluster import KMeans"
   ]
  },
  {
   "cell_type": "markdown",
   "id": "fb8eb312",
   "metadata": {},
   "source": [
    "to perform a K-Mean"
   ]
  },
  {
   "cell_type": "code",
   "execution_count": 45,
   "id": "bb1bc342",
   "metadata": {},
   "outputs": [
    {
     "data": {
      "text/plain": [
       "KMeans(n_clusters=3)"
      ]
     },
     "execution_count": 45,
     "metadata": {},
     "output_type": "execute_result"
    }
   ],
   "source": [
    "kmeans = KMeans(n_clusters=3)\n",
    "kmeans.fit(homelesspop1)"
   ]
  },
  {
   "cell_type": "code",
   "execution_count": 46,
   "id": "4b4f7702",
   "metadata": {
    "scrolled": true
   },
   "outputs": [
    {
     "data": {
      "text/plain": [
       "<matplotlib.collections.PathCollection at 0x2cb463eeee0>"
      ]
     },
     "execution_count": 46,
     "metadata": {},
     "output_type": "execute_result"
    },
    {
     "data": {
      "image/png": "[encoded data removed]",
      "text/plain": [
       "<Figure size 720x432 with 1 Axes>"
      ]
     },
     "metadata": {
      "needs_background": "light"
     },
     "output_type": "display_data"
    }
   ],
   "source": [
    "plt.figure(figsize=(10,6))\n",
    "plt.title('K Means')\n",
    "plt.scatter(homelesspop1['States'], homelesspop1['pop_total2010'], homelesspop1['pop_total2020'], c=kmeans.labels_, cmap='viridis')"
   ]
  },
  {
   "cell_type": "markdown",
   "id": "77c73add",
   "metadata": {},
   "source": [
    "We can see that the there are about 20 states that have a high amount of homeless population in the years of 2010 and 2020"
   ]
  },
  {
   "cell_type": "code",
   "execution_count": 47,
   "id": "9c37fa55",
   "metadata": {
    "scrolled": true
   },
   "outputs": [
    {
     "data": {
      "text/plain": [
       "<matplotlib.collections.PathCollection at 0x2cb4816db50>"
      ]
     },
     "execution_count": 47,
     "metadata": {},
     "output_type": "execute_result"
    },
    {
     "data": {
      "image/png": "[encoded data removed]",
      "text/plain": [
       "<Figure size 720x432 with 1 Axes>"
      ]
     },
     "metadata": {
      "needs_background": "light"
     },
     "output_type": "display_data"
    }
   ],
   "source": [
    "plt.figure(figsize=(10,6))\n",
    "plt.title('K Means')\n",
    "plt.scatter(homelesspop1['States'], homelesspop1['pop_total2015'],homelesspop1['pop_total2020'], c=kmeans.labels_, cmap='viridis')"
   ]
  },
  {
   "cell_type": "markdown",
   "id": "cb24cbb4",
   "metadata": {},
   "source": [
    "in the year of 2015 and 2020 there seems to have been an increase on the amount of states with higher homeless population."
   ]
  },
  {
   "cell_type": "markdown",
   "id": "38554ece",
   "metadata": {},
   "source": [
    "### addinglabels to data set"
   ]
  },
  {
   "cell_type": "code",
   "execution_count": 48,
   "id": "f3de8930",
   "metadata": {},
   "outputs": [],
   "source": [
    "homelesspop1['Group'] = kmeans.labels_"
   ]
  },
  {
   "cell_type": "code",
   "execution_count": 49,
   "id": "53b68080",
   "metadata": {},
   "outputs": [
    {
     "data": {
      "text/html": [
       "<div>\n",
       "<style scoped>\n",
       "    .dataframe tbody tr th:only-of-type {\n",
       "        vertical-align: middle;\n",
       "    }\n",
       "\n",
       "    .dataframe tbody tr th {\n",
       "        vertical-align: top;\n",
       "    }\n",
       "\n",
       "    .dataframe thead th {\n",
       "        text-align: right;\n",
       "    }\n",
       "</style>\n",
       "<table border=\"1\" class=\"dataframe\">\n",
       "  <thead>\n",
       "    <tr style=\"text-align: right;\">\n",
       "      <th></th>\n",
       "      <th>States</th>\n",
       "      <th>pop_total2010</th>\n",
       "      <th>pop_total2011</th>\n",
       "      <th>pop_total2012</th>\n",
       "      <th>pop_total2013</th>\n",
       "      <th>pop_total2014</th>\n",
       "      <th>pop_total2015</th>\n",
       "      <th>pop_total2016</th>\n",
       "      <th>pop_total2017</th>\n",
       "      <th>pop_total2018</th>\n",
       "      <th>pop_total2019</th>\n",
       "      <th>pop_total2020</th>\n",
       "      <th>Group</th>\n",
       "    </tr>\n",
       "  </thead>\n",
       "  <tbody>\n",
       "    <tr>\n",
       "      <th>0</th>\n",
       "      <td>1</td>\n",
       "      <td>6046</td>\n",
       "      <td>5558</td>\n",
       "      <td>5209</td>\n",
       "      <td>4689</td>\n",
       "      <td>4561</td>\n",
       "      <td>3970</td>\n",
       "      <td>4111</td>\n",
       "      <td>3793</td>\n",
       "      <td>3434</td>\n",
       "      <td>3261</td>\n",
       "      <td>3351</td>\n",
       "      <td>1</td>\n",
       "    </tr>\n",
       "    <tr>\n",
       "      <th>1</th>\n",
       "      <td>2</td>\n",
       "      <td>1863</td>\n",
       "      <td>2128</td>\n",
       "      <td>1913</td>\n",
       "      <td>1946</td>\n",
       "      <td>1784</td>\n",
       "      <td>1956</td>\n",
       "      <td>1940</td>\n",
       "      <td>1845</td>\n",
       "      <td>2016</td>\n",
       "      <td>1907</td>\n",
       "      <td>1949</td>\n",
       "      <td>1</td>\n",
       "    </tr>\n",
       "    <tr>\n",
       "      <th>2</th>\n",
       "      <td>3</td>\n",
       "      <td>13711</td>\n",
       "      <td>10504</td>\n",
       "      <td>11302</td>\n",
       "      <td>10562</td>\n",
       "      <td>10495</td>\n",
       "      <td>9896</td>\n",
       "      <td>9707</td>\n",
       "      <td>8947</td>\n",
       "      <td>9865</td>\n",
       "      <td>10007</td>\n",
       "      <td>10979</td>\n",
       "      <td>1</td>\n",
       "    </tr>\n",
       "    <tr>\n",
       "      <th>3</th>\n",
       "      <td>4</td>\n",
       "      <td>2762</td>\n",
       "      <td>3424</td>\n",
       "      <td>4214</td>\n",
       "      <td>3812</td>\n",
       "      <td>2936</td>\n",
       "      <td>2560</td>\n",
       "      <td>2463</td>\n",
       "      <td>2467</td>\n",
       "      <td>2712</td>\n",
       "      <td>2717</td>\n",
       "      <td>2366</td>\n",
       "      <td>1</td>\n",
       "    </tr>\n",
       "    <tr>\n",
       "      <th>4</th>\n",
       "      <td>5</td>\n",
       "      <td>123480</td>\n",
       "      <td>125128</td>\n",
       "      <td>120098</td>\n",
       "      <td>118552</td>\n",
       "      <td>113952</td>\n",
       "      <td>115738</td>\n",
       "      <td>118142</td>\n",
       "      <td>131532</td>\n",
       "      <td>129972</td>\n",
       "      <td>151278</td>\n",
       "      <td>161548</td>\n",
       "      <td>2</td>\n",
       "    </tr>\n",
       "  </tbody>\n",
       "</table>\n",
       "</div>"
      ],
      "text/plain": [
       "   States  pop_total2010  pop_total2011  pop_total2012  pop_total2013  \\\n",
       "0       1           6046           5558           5209           4689   \n",
       "1       2           1863           2128           1913           1946   \n",
       "2       3          13711          10504          11302          10562   \n",
       "3       4           2762           3424           4214           3812   \n",
       "4       5         123480         125128         120098         118552   \n",
       "\n",
       "   pop_total2014  pop_total2015  pop_total2016  pop_total2017  pop_total2018  \\\n",
       "0           4561           3970           4111           3793           3434   \n",
       "1           1784           1956           1940           1845           2016   \n",
       "2          10495           9896           9707           8947           9865   \n",
       "3           2936           2560           2463           2467           2712   \n",
       "4         113952         115738         118142         131532         129972   \n",
       "\n",
       "   pop_total2019  pop_total2020  Group  \n",
       "0           3261           3351      1  \n",
       "1           1907           1949      1  \n",
       "2          10007          10979      1  \n",
       "3           2717           2366      1  \n",
       "4         151278         161548      2  "
      ]
     },
     "execution_count": 49,
     "metadata": {},
     "output_type": "execute_result"
    }
   ],
   "source": [
    "homelesspop1.head()"
   ]
  },
  {
   "cell_type": "markdown",
   "id": "afd53a9e",
   "metadata": {},
   "source": [
    "#### investigate KMeans by groupby"
   ]
  },
  {
   "cell_type": "code",
   "execution_count": 50,
   "id": "8abf404e",
   "metadata": {},
   "outputs": [
    {
     "data": {
      "text/plain": [
       "Group\n",
       "0    31.000000\n",
       "1    25.866667\n",
       "2    19.000000\n",
       "Name: States, dtype: float64"
      ]
     },
     "execution_count": 50,
     "metadata": {},
     "output_type": "execute_result"
    }
   ],
   "source": [
    "homelesspop1.groupby('Group')['States'].mean()"
   ]
  },
  {
   "cell_type": "code",
   "execution_count": 51,
   "id": "98dc7263",
   "metadata": {},
   "outputs": [
    {
     "data": {
      "text/plain": [
       "Group\n",
       "0    33049.000000\n",
       "1     6878.311111\n",
       "2    94543.000000\n",
       "Name: pop_total2010, dtype: float64"
      ]
     },
     "execution_count": 51,
     "metadata": {},
     "output_type": "execute_result"
    }
   ],
   "source": [
    "homelesspop1.groupby('Group')['pop_total2010'].mean()"
   ]
  },
  {
   "cell_type": "code",
   "execution_count": 52,
   "id": "ee7faba1",
   "metadata": {},
   "outputs": [
    {
     "data": {
      "text/plain": [
       "Group\n",
       "0     25033.000000\n",
       "1      5654.511111\n",
       "2    101994.000000\n",
       "Name: pop_total2015, dtype: float64"
      ]
     },
     "execution_count": 52,
     "metadata": {},
     "output_type": "execute_result"
    }
   ],
   "source": [
    "homelesspop1.groupby('Group')['pop_total2015'].mean()"
   ]
  },
  {
   "cell_type": "code",
   "execution_count": 53,
   "id": "708a0f1d",
   "metadata": {},
   "outputs": [
    {
     "data": {
      "text/plain": [
       "Group\n",
       "0     23903.500000\n",
       "1      5050.688889\n",
       "2    126409.500000\n",
       "Name: pop_total2020, dtype: float64"
      ]
     },
     "execution_count": 53,
     "metadata": {},
     "output_type": "execute_result"
    }
   ],
   "source": [
    "homelesspop1.groupby('Group')['pop_total2020'].mean()"
   ]
  },
  {
   "cell_type": "code",
   "execution_count": 54,
   "id": "e440991c",
   "metadata": {},
   "outputs": [
    {
     "data": {
      "text/plain": [
       "array([[ 3.10000000e+01,  3.30490000e+04,  3.26752500e+04,\n",
       "         3.18067500e+04,  2.85665000e+04,  2.74290000e+04,\n",
       "         2.50330000e+04,  2.42790000e+04,  2.36037500e+04,\n",
       "         2.46780000e+04,  2.35560000e+04,  2.39035000e+04,\n",
       "         0.00000000e+00],\n",
       "       [ 2.58666667e+01,  6.87831111e+03,  6.65193333e+03,\n",
       "         6.65922222e+03,  6.09411111e+03,  5.91680000e+03,\n",
       "         5.65451111e+03,  5.38831111e+03,  5.11368889e+03,\n",
       "         5.03740000e+03,  4.99091111e+03,  5.05068889e+03,\n",
       "        -2.77555756e-17],\n",
       "       [ 1.90000000e+01,  9.45430000e+04,  9.42865000e+04,\n",
       "         9.48320000e+04,  9.79910000e+04,  9.72710000e+04,\n",
       "         1.01994000e+05,  1.02247000e+05,  1.10517500e+05,\n",
       "         1.10934500e+05,  1.21684500e+05,  1.26409500e+05,\n",
       "         1.00000000e+00]])"
      ]
     },
     "execution_count": 54,
     "metadata": {},
     "output_type": "execute_result"
    }
   ],
   "source": [
    "kmeans.cluster_centers_"
   ]
  },
  {
   "cell_type": "markdown",
   "id": "8cffdc71",
   "metadata": {},
   "source": [
    "# Decision Trees"
   ]
  },
  {
   "cell_type": "code",
   "execution_count": 56,
   "id": "a83cbaab",
   "metadata": {},
   "outputs": [],
   "source": [
    "import pandas as pd\n",
    "import numpy as np\n",
    "import matplotlib.pyplot as plt\n",
    "import seaborn as sns\n",
    "%matplotlib inline\n",
    "from sklearn.model_selection import train_test_split\n",
    "from sklearn.tree import DecisionTreeClassifier\n",
    "from sklearn.metrics import classification_report, confusion_matrix, accuracy_score"
   ]
  },
  {
   "cell_type": "code",
   "execution_count": 73,
   "id": "e1878439",
   "metadata": {
    "scrolled": false
   },
   "outputs": [
    {
     "data": {
      "text/html": [
       "<div>\n",
       "<style scoped>\n",
       "    .dataframe tbody tr th:only-of-type {\n",
       "        vertical-align: middle;\n",
       "    }\n",
       "\n",
       "    .dataframe tbody tr th {\n",
       "        vertical-align: top;\n",
       "    }\n",
       "\n",
       "    .dataframe thead th {\n",
       "        text-align: right;\n",
       "    }\n",
       "</style>\n",
       "<table border=\"1\" class=\"dataframe\">\n",
       "  <thead>\n",
       "    <tr style=\"text-align: right;\">\n",
       "      <th></th>\n",
       "      <th>By_State</th>\n",
       "      <th>States</th>\n",
       "      <th>pop_total2010</th>\n",
       "      <th>pop_total2011</th>\n",
       "      <th>pop_total2012</th>\n",
       "      <th>pop_total2013</th>\n",
       "      <th>pop_total2014</th>\n",
       "      <th>pop_total2015</th>\n",
       "      <th>pop_total2016</th>\n",
       "      <th>pop_total2017</th>\n",
       "      <th>pop_total2018</th>\n",
       "      <th>pop_total2019</th>\n",
       "      <th>pop_total2020</th>\n",
       "    </tr>\n",
       "  </thead>\n",
       "  <tbody>\n",
       "    <tr>\n",
       "      <th>0</th>\n",
       "      <td>Alabama</td>\n",
       "      <td>1</td>\n",
       "      <td>6046</td>\n",
       "      <td>5558</td>\n",
       "      <td>5209</td>\n",
       "      <td>4689</td>\n",
       "      <td>4561</td>\n",
       "      <td>3970</td>\n",
       "      <td>4111</td>\n",
       "      <td>3793</td>\n",
       "      <td>3434</td>\n",
       "      <td>3261</td>\n",
       "      <td>3351</td>\n",
       "    </tr>\n",
       "    <tr>\n",
       "      <th>1</th>\n",
       "      <td>Alaska</td>\n",
       "      <td>2</td>\n",
       "      <td>1863</td>\n",
       "      <td>2128</td>\n",
       "      <td>1913</td>\n",
       "      <td>1946</td>\n",
       "      <td>1784</td>\n",
       "      <td>1956</td>\n",
       "      <td>1940</td>\n",
       "      <td>1845</td>\n",
       "      <td>2016</td>\n",
       "      <td>1907</td>\n",
       "      <td>1949</td>\n",
       "    </tr>\n",
       "    <tr>\n",
       "      <th>2</th>\n",
       "      <td>Arizona</td>\n",
       "      <td>3</td>\n",
       "      <td>13711</td>\n",
       "      <td>10504</td>\n",
       "      <td>11302</td>\n",
       "      <td>10562</td>\n",
       "      <td>10495</td>\n",
       "      <td>9896</td>\n",
       "      <td>9707</td>\n",
       "      <td>8947</td>\n",
       "      <td>9865</td>\n",
       "      <td>10007</td>\n",
       "      <td>10979</td>\n",
       "    </tr>\n",
       "    <tr>\n",
       "      <th>3</th>\n",
       "      <td>Arkansas</td>\n",
       "      <td>4</td>\n",
       "      <td>2762</td>\n",
       "      <td>3424</td>\n",
       "      <td>4214</td>\n",
       "      <td>3812</td>\n",
       "      <td>2936</td>\n",
       "      <td>2560</td>\n",
       "      <td>2463</td>\n",
       "      <td>2467</td>\n",
       "      <td>2712</td>\n",
       "      <td>2717</td>\n",
       "      <td>2366</td>\n",
       "    </tr>\n",
       "    <tr>\n",
       "      <th>4</th>\n",
       "      <td>California</td>\n",
       "      <td>5</td>\n",
       "      <td>123480</td>\n",
       "      <td>125128</td>\n",
       "      <td>120098</td>\n",
       "      <td>118552</td>\n",
       "      <td>113952</td>\n",
       "      <td>115738</td>\n",
       "      <td>118142</td>\n",
       "      <td>131532</td>\n",
       "      <td>129972</td>\n",
       "      <td>151278</td>\n",
       "      <td>161548</td>\n",
       "    </tr>\n",
       "  </tbody>\n",
       "</table>\n",
       "</div>"
      ],
      "text/plain": [
       "      By_State  States  pop_total2010  pop_total2011  pop_total2012  \\\n",
       "0     Alabama        1           6046           5558           5209   \n",
       "1      Alaska        2           1863           2128           1913   \n",
       "2     Arizona        3          13711          10504          11302   \n",
       "3    Arkansas        4           2762           3424           4214   \n",
       "4  California        5         123480         125128         120098   \n",
       "\n",
       "   pop_total2013  pop_total2014  pop_total2015  pop_total2016  pop_total2017  \\\n",
       "0           4689           4561           3970           4111           3793   \n",
       "1           1946           1784           1956           1940           1845   \n",
       "2          10562          10495           9896           9707           8947   \n",
       "3           3812           2936           2560           2463           2467   \n",
       "4         118552         113952         115738         118142         131532   \n",
       "\n",
       "   pop_total2018  pop_total2019  pop_total2020  \n",
       "0           3434           3261           3351  \n",
       "1           2016           1907           1949  \n",
       "2           9865          10007          10979  \n",
       "3           2712           2717           2366  \n",
       "4         129972         151278         161548  "
      ]
     },
     "execution_count": 73,
     "metadata": {},
     "output_type": "execute_result"
    }
   ],
   "source": [
    "homelesspop.head()"
   ]
  },
  {
   "cell_type": "markdown",
   "id": "ce2c70a2",
   "metadata": {},
   "source": [
    "### wrangling data"
   ]
  },
  {
   "cell_type": "code",
   "execution_count": 86,
   "id": "9c6ef4a5",
   "metadata": {},
   "outputs": [
    {
     "data": {
      "text/html": [
       "<div>\n",
       "<style scoped>\n",
       "    .dataframe tbody tr th:only-of-type {\n",
       "        vertical-align: middle;\n",
       "    }\n",
       "\n",
       "    .dataframe tbody tr th {\n",
       "        vertical-align: top;\n",
       "    }\n",
       "\n",
       "    .dataframe thead th {\n",
       "        text-align: right;\n",
       "    }\n",
       "</style>\n",
       "<table border=\"1\" class=\"dataframe\">\n",
       "  <thead>\n",
       "    <tr style=\"text-align: right;\">\n",
       "      <th></th>\n",
       "      <th>By_State</th>\n",
       "      <th>pop_total2010</th>\n",
       "      <th>pop_total2011</th>\n",
       "      <th>pop_total2012</th>\n",
       "      <th>pop_total2013</th>\n",
       "      <th>pop_total2014</th>\n",
       "      <th>pop_total2015</th>\n",
       "      <th>pop_total2016</th>\n",
       "      <th>pop_total2017</th>\n",
       "      <th>pop_total2018</th>\n",
       "      <th>pop_total2019</th>\n",
       "      <th>pop_total2020</th>\n",
       "    </tr>\n",
       "  </thead>\n",
       "  <tbody>\n",
       "    <tr>\n",
       "      <th>0</th>\n",
       "      <td>Alabama</td>\n",
       "      <td>6046</td>\n",
       "      <td>5558</td>\n",
       "      <td>5209</td>\n",
       "      <td>4689</td>\n",
       "      <td>4561</td>\n",
       "      <td>3970</td>\n",
       "      <td>4111</td>\n",
       "      <td>3793</td>\n",
       "      <td>3434</td>\n",
       "      <td>3261</td>\n",
       "      <td>3351</td>\n",
       "    </tr>\n",
       "    <tr>\n",
       "      <th>1</th>\n",
       "      <td>Alaska</td>\n",
       "      <td>1863</td>\n",
       "      <td>2128</td>\n",
       "      <td>1913</td>\n",
       "      <td>1946</td>\n",
       "      <td>1784</td>\n",
       "      <td>1956</td>\n",
       "      <td>1940</td>\n",
       "      <td>1845</td>\n",
       "      <td>2016</td>\n",
       "      <td>1907</td>\n",
       "      <td>1949</td>\n",
       "    </tr>\n",
       "    <tr>\n",
       "      <th>2</th>\n",
       "      <td>Arizona</td>\n",
       "      <td>13711</td>\n",
       "      <td>10504</td>\n",
       "      <td>11302</td>\n",
       "      <td>10562</td>\n",
       "      <td>10495</td>\n",
       "      <td>9896</td>\n",
       "      <td>9707</td>\n",
       "      <td>8947</td>\n",
       "      <td>9865</td>\n",
       "      <td>10007</td>\n",
       "      <td>10979</td>\n",
       "    </tr>\n",
       "    <tr>\n",
       "      <th>3</th>\n",
       "      <td>Arkansas</td>\n",
       "      <td>2762</td>\n",
       "      <td>3424</td>\n",
       "      <td>4214</td>\n",
       "      <td>3812</td>\n",
       "      <td>2936</td>\n",
       "      <td>2560</td>\n",
       "      <td>2463</td>\n",
       "      <td>2467</td>\n",
       "      <td>2712</td>\n",
       "      <td>2717</td>\n",
       "      <td>2366</td>\n",
       "    </tr>\n",
       "    <tr>\n",
       "      <th>4</th>\n",
       "      <td>California</td>\n",
       "      <td>123480</td>\n",
       "      <td>125128</td>\n",
       "      <td>120098</td>\n",
       "      <td>118552</td>\n",
       "      <td>113952</td>\n",
       "      <td>115738</td>\n",
       "      <td>118142</td>\n",
       "      <td>131532</td>\n",
       "      <td>129972</td>\n",
       "      <td>151278</td>\n",
       "      <td>161548</td>\n",
       "    </tr>\n",
       "  </tbody>\n",
       "</table>\n",
       "</div>"
      ],
      "text/plain": [
       "      By_State  pop_total2010  pop_total2011  pop_total2012  pop_total2013  \\\n",
       "0     Alabama            6046           5558           5209           4689   \n",
       "1      Alaska            1863           2128           1913           1946   \n",
       "2     Arizona           13711          10504          11302          10562   \n",
       "3    Arkansas            2762           3424           4214           3812   \n",
       "4  California          123480         125128         120098         118552   \n",
       "\n",
       "   pop_total2014  pop_total2015  pop_total2016  pop_total2017  pop_total2018  \\\n",
       "0           4561           3970           4111           3793           3434   \n",
       "1           1784           1956           1940           1845           2016   \n",
       "2          10495           9896           9707           8947           9865   \n",
       "3           2936           2560           2463           2467           2712   \n",
       "4         113952         115738         118142         131532         129972   \n",
       "\n",
       "   pop_total2019  pop_total2020  \n",
       "0           3261           3351  \n",
       "1           1907           1949  \n",
       "2          10007          10979  \n",
       "3           2717           2366  \n",
       "4         151278         161548  "
      ]
     },
     "execution_count": 86,
     "metadata": {},
     "output_type": "execute_result"
    }
   ],
   "source": [
    "homelesspop2 = homelesspop.drop('States', axis=1)\n",
    "homelesspop2.head()"
   ]
  },
  {
   "cell_type": "code",
   "execution_count": 82,
   "id": "461aa23d",
   "metadata": {},
   "outputs": [],
   "source": [
    "x = homelesspop2.drop('By_State', axis=1)\n",
    "y = homelesspop2['By_State']"
   ]
  },
  {
   "cell_type": "markdown",
   "id": "4dfbb817",
   "metadata": {},
   "source": [
    "### setting up a Train Test Split"
   ]
  },
  {
   "cell_type": "code",
   "execution_count": 84,
   "id": "7aa54189",
   "metadata": {},
   "outputs": [],
   "source": [
    "x_train, x_test, y_train, y_test = train_test_split(x,y, test_size=0.3, random_state=76)"
   ]
  },
  {
   "cell_type": "markdown",
   "id": "69c1b728",
   "metadata": {},
   "source": [
    "### Creating an initial Decision Tree"
   ]
  },
  {
   "cell_type": "code",
   "execution_count": 85,
   "id": "1a691394",
   "metadata": {},
   "outputs": [
    {
     "data": {
      "text/plain": [
       "DecisionTreeClassifier(random_state=76)"
      ]
     },
     "execution_count": 85,
     "metadata": {},
     "output_type": "execute_result"
    }
   ],
   "source": [
    "decisionTree = DecisionTreeClassifier(random_state=76)\n",
    "decisionTree.fit(x_train, y_train)"
   ]
  },
  {
   "cell_type": "markdown",
   "id": "0fa2f095",
   "metadata": {},
   "source": [
    "Assessing the model"
   ]
  },
  {
   "cell_type": "code",
   "execution_count": 90,
   "id": "f579888c",
   "metadata": {},
   "outputs": [
    {
     "name": "stdout",
     "output_type": "stream",
     "text": [
      "[[0 0 0 1 0 0 0 0 0 0 0 0 0 0 0 0 0 0 0 0 0 0 0 0 0 0 0 0]\n",
      " [0 0 0 0 0 0 0 0 0 0 0 0 0 0 0 0 0 0 0 0 0 0 0 0 0 0 0 0]\n",
      " [0 0 0 0 0 0 0 0 0 0 0 0 1 0 0 0 0 0 0 0 0 0 0 0 0 0 0 0]\n",
      " [0 0 0 0 0 0 0 0 0 0 0 0 0 0 0 0 0 0 0 0 0 0 0 0 0 0 0 0]\n",
      " [0 0 0 0 0 0 0 0 0 0 0 0 0 0 0 0 0 0 0 0 0 0 0 0 0 1 0 0]\n",
      " [0 0 0 0 0 0 0 0 0 0 0 0 0 0 0 0 0 1 0 0 0 0 0 0 0 0 0 0]\n",
      " [0 0 0 0 0 0 0 0 0 0 1 0 0 0 0 0 0 0 0 0 0 0 0 0 0 0 0 0]\n",
      " [0 0 0 0 0 0 0 0 0 0 0 0 0 0 0 0 0 0 0 0 0 0 0 0 0 0 0 0]\n",
      " [0 0 0 0 0 0 0 0 0 0 0 0 0 0 0 0 0 0 0 0 0 0 0 0 1 0 0 0]\n",
      " [0 0 0 0 0 0 0 0 0 0 0 1 0 0 0 0 0 0 0 0 0 0 0 0 0 0 0 0]\n",
      " [0 0 0 0 0 0 0 0 0 0 0 0 0 0 0 0 0 0 0 0 0 0 0 0 0 0 0 0]\n",
      " [0 0 0 0 0 0 0 0 0 0 0 0 0 0 0 0 0 0 0 0 0 0 0 0 0 0 0 0]\n",
      " [0 0 0 0 0 0 0 0 0 0 0 0 0 0 0 0 0 0 0 0 0 0 0 0 0 0 0 0]\n",
      " [0 0 0 0 0 0 0 0 0 0 0 1 0 0 0 0 0 0 0 0 0 0 0 0 0 0 0 0]\n",
      " [0 0 0 0 0 0 0 1 0 0 0 0 0 0 0 0 0 0 0 0 0 0 0 0 0 0 0 0]\n",
      " [0 0 0 0 0 0 0 0 0 0 0 0 0 0 0 0 0 0 0 0 0 0 1 0 0 0 0 0]\n",
      " [0 0 0 0 0 0 0 0 0 0 0 0 0 0 0 0 0 0 0 0 0 0 0 0 0 1 0 0]\n",
      " [0 0 0 0 0 0 0 0 0 0 0 0 0 0 0 0 0 0 0 0 0 0 0 0 0 0 0 0]\n",
      " [0 1 0 0 0 0 0 0 0 0 0 0 0 0 0 0 0 0 0 0 0 0 0 0 0 0 0 0]\n",
      " [0 0 0 0 0 0 0 0 0 0 0 0 0 0 0 0 0 0 0 0 0 0 0 0 0 0 0 0]\n",
      " [0 0 0 0 0 0 0 0 0 0 0 0 0 0 0 0 0 0 0 1 0 0 0 0 0 0 0 0]\n",
      " [0 0 0 0 0 0 0 0 0 0 0 0 0 0 0 0 0 0 0 0 0 0 0 0 0 1 0 0]\n",
      " [0 0 0 0 0 0 0 0 0 0 0 0 0 0 0 0 0 0 0 0 0 0 0 0 0 0 0 0]\n",
      " [0 0 0 0 0 0 0 0 0 0 0 0 0 0 0 0 0 0 0 0 0 0 0 0 0 0 0 0]\n",
      " [0 0 0 0 0 0 0 0 0 0 0 0 0 0 0 0 0 0 0 0 0 0 0 0 0 0 0 0]\n",
      " [0 0 0 0 0 0 0 0 0 0 0 0 0 0 0 0 0 0 0 0 0 0 0 0 0 0 0 0]\n",
      " [0 0 0 0 0 0 0 0 0 0 0 0 0 0 0 0 0 0 0 0 0 0 0 1 0 0 0 0]\n",
      " [0 0 0 1 0 0 0 0 0 0 0 0 0 0 0 0 0 0 0 0 0 0 0 0 0 0 0 0]]\n",
      "                 precision    recall  f1-score   support\n",
      "\n",
      "  South Dakota        0.00      0.00      0.00       1.0\n",
      "       Alabama        0.00      0.00      0.00       0.0\n",
      "      Arkansas        0.00      0.00      0.00       1.0\n",
      "      Delaware        0.00      0.00      0.00       0.0\n",
      "       Florida        0.00      0.00      0.00       1.0\n",
      "       Georgia        0.00      0.00      0.00       1.0\n",
      "        Indiana       0.00      0.00      0.00       1.0\n",
      "      Michigan        0.00      0.00      0.00       0.0\n",
      "     Minnesota        0.00      0.00      0.00       1.0\n",
      "   Mississippi        0.00      0.00      0.00       1.0\n",
      "      Missouri        0.00      0.00      0.00       0.0\n",
      "       Montana        0.00      0.00      0.00       0.0\n",
      "      Nebraska        0.00      0.00      0.00       0.0\n",
      " New Hampshire        0.00      0.00      0.00       1.0\n",
      "    New Jersey        0.00      0.00      0.00       1.0\n",
      "    New Mexico        0.00      0.00      0.00       1.0\n",
      "      New York        0.00      0.00      0.00       1.0\n",
      "North Carolina        0.00      0.00      0.00       0.0\n",
      "      Oklahoma        0.00      0.00      0.00       1.0\n",
      "        Oregon        0.00      0.00      0.00       0.0\n",
      "  Pennsylvania        0.00      0.00      0.00       1.0\n",
      "         Texas        0.00      0.00      0.00       1.0\n",
      "          Utah        0.00      0.00      0.00       0.0\n",
      "       Vermont        0.00      0.00      0.00       0.0\n",
      "      Virginia        0.00      0.00      0.00       0.0\n",
      "    Washington        0.00      0.00      0.00       0.0\n",
      " West Virginia        0.00      0.00      0.00       1.0\n",
      "       Wyoming        0.00      0.00      0.00       1.0\n",
      "\n",
      "       accuracy                           0.00      16.0\n",
      "      macro avg       0.00      0.00      0.00      16.0\n",
      "   weighted avg       0.00      0.00      0.00      16.0\n",
      "\n"
     ]
    },
    {
     "name": "stderr",
     "output_type": "stream",
     "text": [
      "C:\\Users\\hanyu\\anaconda3\\lib\\site-packages\\sklearn\\metrics\\_classification.py:1248: UndefinedMetricWarning: Precision and F-score are ill-defined and being set to 0.0 in labels with no predicted samples. Use `zero_division` parameter to control this behavior.\n",
      "  _warn_prf(average, modifier, msg_start, len(result))\n",
      "C:\\Users\\hanyu\\anaconda3\\lib\\site-packages\\sklearn\\metrics\\_classification.py:1248: UndefinedMetricWarning: Recall and F-score are ill-defined and being set to 0.0 in labels with no true samples. Use `zero_division` parameter to control this behavior.\n",
      "  _warn_prf(average, modifier, msg_start, len(result))\n",
      "C:\\Users\\hanyu\\anaconda3\\lib\\site-packages\\sklearn\\metrics\\_classification.py:1248: UndefinedMetricWarning: Precision and F-score are ill-defined and being set to 0.0 in labels with no predicted samples. Use `zero_division` parameter to control this behavior.\n",
      "  _warn_prf(average, modifier, msg_start, len(result))\n",
      "C:\\Users\\hanyu\\anaconda3\\lib\\site-packages\\sklearn\\metrics\\_classification.py:1248: UndefinedMetricWarning: Recall and F-score are ill-defined and being set to 0.0 in labels with no true samples. Use `zero_division` parameter to control this behavior.\n",
      "  _warn_prf(average, modifier, msg_start, len(result))\n",
      "C:\\Users\\hanyu\\anaconda3\\lib\\site-packages\\sklearn\\metrics\\_classification.py:1248: UndefinedMetricWarning: Precision and F-score are ill-defined and being set to 0.0 in labels with no predicted samples. Use `zero_division` parameter to control this behavior.\n",
      "  _warn_prf(average, modifier, msg_start, len(result))\n",
      "C:\\Users\\hanyu\\anaconda3\\lib\\site-packages\\sklearn\\metrics\\_classification.py:1248: UndefinedMetricWarning: Recall and F-score are ill-defined and being set to 0.0 in labels with no true samples. Use `zero_division` parameter to control this behavior.\n",
      "  _warn_prf(average, modifier, msg_start, len(result))\n"
     ]
    }
   ],
   "source": [
    "treePredictions = decisionTree.predict(x_test)\n",
    "from sklearn.metrics import classification_report,confusion_matrix\n",
    "print(confusion_matrix(y_test,treePredictions))\n",
    "print(classification_report(y_test,treePredictions))"
   ]
  },
  {
   "cell_type": "markdown",
   "id": "ed0ed8ef",
   "metadata": {},
   "source": [
    "## Random Forest"
   ]
  },
  {
   "cell_type": "code",
   "execution_count": 95,
   "id": "b52b81f7",
   "metadata": {},
   "outputs": [],
   "source": [
    "import pandas as pd\n",
    "import numpy as np\n",
    "import matplotlib.pyplot as plt\n",
    "import seaborn as sns\n",
    "%matplotlib inline\n",
    "from sklearn.ensemble import RandomForestClassifier\n",
    "from sklearn.model_selection import train_test_split\n",
    "from sklearn.metrics import classification_report, confusion_matrix"
   ]
  },
  {
   "cell_type": "markdown",
   "id": "825894c6",
   "metadata": {},
   "source": [
    "## Data Wrangle"
   ]
  },
  {
   "cell_type": "code",
   "execution_count": 96,
   "id": "67fadf89",
   "metadata": {},
   "outputs": [],
   "source": [
    "x = homelesspop2.drop('By_State', axis=1)\n",
    "y = homelesspop2['By_State']"
   ]
  },
  {
   "cell_type": "markdown",
   "id": "73b25293",
   "metadata": {},
   "source": [
    "## Train Test Split"
   ]
  },
  {
   "cell_type": "code",
   "execution_count": 97,
   "id": "0e2e46c7",
   "metadata": {},
   "outputs": [],
   "source": [
    "x_train, x_test, y_train, y_test = train_test_split(x,y, test_size=0.3, random_state=76)"
   ]
  },
  {
   "cell_type": "markdown",
   "id": "6de9a448",
   "metadata": {},
   "source": [
    "## Initial Random Forest Model"
   ]
  },
  {
   "cell_type": "code",
   "execution_count": 98,
   "id": "c76cd5da",
   "metadata": {},
   "outputs": [
    {
     "data": {
      "text/plain": [
       "RandomForestClassifier(n_estimators=10, random_state=76)"
      ]
     },
     "execution_count": 98,
     "metadata": {},
     "output_type": "execute_result"
    }
   ],
   "source": [
    "forest = RandomForestClassifier(n_estimators=10, random_state=76)\n",
    "forest.fit(x_train, y_train)"
   ]
  },
  {
   "cell_type": "markdown",
   "id": "356c1838",
   "metadata": {},
   "source": [
    "## Evaluate Model Fit"
   ]
  },
  {
   "cell_type": "code",
   "execution_count": 99,
   "id": "1406974f",
   "metadata": {},
   "outputs": [
    {
     "name": "stdout",
     "output_type": "stream",
     "text": [
      "[[0 0 0 0 1 0 0 0 0 0 0 0 0 0 0 0 0 0 0 0 0 0 0 0 0 0 0 0 0 0]\n",
      " [0 0 0 0 0 0 0 0 0 0 0 0 0 0 0 0 0 0 0 0 0 0 0 0 0 0 0 0 0 0]\n",
      " [0 0 0 0 0 0 0 0 0 0 0 0 0 0 0 1 0 0 0 0 0 0 0 0 0 0 0 0 0 0]\n",
      " [0 0 0 0 0 0 0 0 0 0 0 0 0 0 0 0 0 0 0 0 0 0 0 0 0 0 0 0 0 0]\n",
      " [0 0 0 0 0 0 0 0 0 0 0 0 0 0 0 0 0 0 0 0 0 0 0 0 0 0 0 0 0 0]\n",
      " [0 0 0 0 0 0 0 0 0 0 0 0 0 0 0 0 0 0 0 0 0 0 0 0 0 0 1 0 0 0]\n",
      " [0 0 0 0 0 0 0 0 1 0 0 0 0 0 0 0 0 0 0 0 0 0 0 0 0 0 0 0 0 0]\n",
      " [0 0 0 0 0 0 0 0 0 0 0 0 0 0 0 0 0 0 0 0 0 0 0 0 0 0 0 0 0 0]\n",
      " [0 0 0 0 0 0 0 0 0 0 0 0 0 0 0 0 0 0 0 0 0 0 0 0 0 0 0 0 0 0]\n",
      " [0 0 0 0 0 0 0 0 0 0 0 0 0 0 0 0 0 0 0 0 0 0 0 0 0 0 0 0 1 0]\n",
      " [0 0 0 0 0 0 0 0 0 0 0 0 0 0 0 0 0 0 0 0 0 0 0 0 0 0 0 0 0 0]\n",
      " [0 0 0 0 0 0 0 0 0 0 0 0 0 0 0 0 0 0 0 0 0 0 0 0 0 0 0 0 0 0]\n",
      " [0 0 0 0 0 0 0 0 0 0 0 1 0 0 0 0 0 0 0 0 0 0 0 0 0 0 0 0 0 0]\n",
      " [0 0 0 0 0 0 0 0 0 0 0 0 0 0 0 0 0 0 0 0 0 0 0 0 0 1 0 0 0 0]\n",
      " [0 0 0 0 0 0 0 0 0 0 0 0 0 0 0 0 0 0 0 0 0 0 0 0 0 0 0 0 0 0]\n",
      " [0 0 0 0 0 0 0 0 0 0 0 0 0 0 0 0 0 0 0 0 0 0 0 0 0 0 0 0 0 0]\n",
      " [0 0 0 0 0 0 0 0 0 0 0 0 0 0 1 0 0 0 0 0 0 0 0 0 0 0 0 0 0 0]\n",
      " [0 0 0 0 0 0 0 0 0 0 0 0 0 0 0 0 0 0 0 0 1 0 0 0 0 0 0 0 0 0]\n",
      " [0 0 0 0 0 0 0 0 0 0 1 0 0 0 0 0 0 0 0 0 0 0 0 0 0 0 0 0 0 0]\n",
      " [0 0 0 1 0 0 0 0 0 0 0 0 0 0 0 0 0 0 0 0 0 0 0 0 0 0 0 0 0 0]\n",
      " [0 0 0 0 0 0 0 0 0 0 0 0 0 0 0 0 0 0 0 0 0 0 0 0 0 0 0 0 0 0]\n",
      " [0 1 0 0 0 0 0 0 0 0 0 0 0 0 0 0 0 0 0 0 0 0 0 0 0 0 0 0 0 0]\n",
      " [0 0 0 0 0 0 0 0 0 0 0 0 0 0 0 0 0 0 0 0 0 0 0 0 0 0 0 0 0 0]\n",
      " [0 0 0 0 0 0 0 0 0 0 0 0 0 0 0 0 0 0 0 0 0 0 1 0 0 0 0 0 0 0]\n",
      " [0 0 0 0 0 0 0 0 0 0 0 0 0 0 0 0 0 0 0 0 0 0 0 0 0 0 1 0 0 0]\n",
      " [0 0 0 0 0 0 0 0 0 0 0 0 0 0 0 0 0 0 0 0 0 0 0 0 0 0 0 0 0 0]\n",
      " [0 0 0 0 0 0 0 0 0 0 0 0 0 0 0 0 0 0 0 0 0 0 0 0 0 0 0 0 0 0]\n",
      " [0 0 0 0 0 0 0 1 0 0 0 0 0 0 0 0 0 0 0 0 0 0 0 0 0 0 0 0 0 0]\n",
      " [0 0 0 0 0 0 0 0 0 0 0 0 0 0 0 0 0 0 0 0 0 0 0 0 0 0 0 0 0 0]\n",
      " [0 0 0 0 1 0 0 0 0 0 0 0 0 0 0 0 0 0 0 0 0 0 0 0 0 0 0 0 0 0]]\n",
      "                 precision    recall  f1-score   support\n",
      "\n",
      "  South Dakota        0.00      0.00      0.00       1.0\n",
      "       Alabama        0.00      0.00      0.00       0.0\n",
      "      Arkansas        0.00      0.00      0.00       1.0\n",
      "    California        0.00      0.00      0.00       0.0\n",
      "      Delaware        0.00      0.00      0.00       0.0\n",
      "       Florida        0.00      0.00      0.00       1.0\n",
      "       Georgia        0.00      0.00      0.00       1.0\n",
      "         Idaho        0.00      0.00      0.00       0.0\n",
      "      Illinois        0.00      0.00      0.00       0.0\n",
      "        Indiana       0.00      0.00      0.00       1.0\n",
      "        Kansas        0.00      0.00      0.00       0.0\n",
      "      Maryland        0.00      0.00      0.00       0.0\n",
      "     Minnesota        0.00      0.00      0.00       1.0\n",
      "   Mississippi        0.00      0.00      0.00       1.0\n",
      "       Montana        0.00      0.00      0.00       0.0\n",
      "      Nebraska        0.00      0.00      0.00       0.0\n",
      " New Hampshire        0.00      0.00      0.00       1.0\n",
      "    New Jersey        0.00      0.00      0.00       1.0\n",
      "    New Mexico        0.00      0.00      0.00       1.0\n",
      "      New York        0.00      0.00      0.00       1.0\n",
      "North Carolina        0.00      0.00      0.00       0.0\n",
      "      Oklahoma        0.00      0.00      0.00       1.0\n",
      "        Oregon        0.00      0.00      0.00       0.0\n",
      "  Pennsylvania        0.00      0.00      0.00       1.0\n",
      "         Texas        0.00      0.00      0.00       1.0\n",
      "       Vermont        0.00      0.00      0.00       0.0\n",
      "    Washington        0.00      0.00      0.00       0.0\n",
      " West Virginia        0.00      0.00      0.00       1.0\n",
      "     Wisconsin        0.00      0.00      0.00       0.0\n",
      "       Wyoming        0.00      0.00      0.00       1.0\n",
      "\n",
      "       accuracy                           0.00      16.0\n",
      "      macro avg       0.00      0.00      0.00      16.0\n",
      "   weighted avg       0.00      0.00      0.00      16.0\n",
      "\n"
     ]
    },
    {
     "name": "stderr",
     "output_type": "stream",
     "text": [
      "C:\\Users\\hanyu\\anaconda3\\lib\\site-packages\\sklearn\\metrics\\_classification.py:1248: UndefinedMetricWarning: Precision and F-score are ill-defined and being set to 0.0 in labels with no predicted samples. Use `zero_division` parameter to control this behavior.\n",
      "  _warn_prf(average, modifier, msg_start, len(result))\n",
      "C:\\Users\\hanyu\\anaconda3\\lib\\site-packages\\sklearn\\metrics\\_classification.py:1248: UndefinedMetricWarning: Recall and F-score are ill-defined and being set to 0.0 in labels with no true samples. Use `zero_division` parameter to control this behavior.\n",
      "  _warn_prf(average, modifier, msg_start, len(result))\n",
      "C:\\Users\\hanyu\\anaconda3\\lib\\site-packages\\sklearn\\metrics\\_classification.py:1248: UndefinedMetricWarning: Precision and F-score are ill-defined and being set to 0.0 in labels with no predicted samples. Use `zero_division` parameter to control this behavior.\n",
      "  _warn_prf(average, modifier, msg_start, len(result))\n",
      "C:\\Users\\hanyu\\anaconda3\\lib\\site-packages\\sklearn\\metrics\\_classification.py:1248: UndefinedMetricWarning: Recall and F-score are ill-defined and being set to 0.0 in labels with no true samples. Use `zero_division` parameter to control this behavior.\n",
      "  _warn_prf(average, modifier, msg_start, len(result))\n",
      "C:\\Users\\hanyu\\anaconda3\\lib\\site-packages\\sklearn\\metrics\\_classification.py:1248: UndefinedMetricWarning: Precision and F-score are ill-defined and being set to 0.0 in labels with no predicted samples. Use `zero_division` parameter to control this behavior.\n",
      "  _warn_prf(average, modifier, msg_start, len(result))\n",
      "C:\\Users\\hanyu\\anaconda3\\lib\\site-packages\\sklearn\\metrics\\_classification.py:1248: UndefinedMetricWarning: Recall and F-score are ill-defined and being set to 0.0 in labels with no true samples. Use `zero_division` parameter to control this behavior.\n",
      "  _warn_prf(average, modifier, msg_start, len(result))\n"
     ]
    }
   ],
   "source": [
    "forestPredictions = forest.predict(x_test)\n",
    "print(confusion_matrix(y_test, forestPredictions))\n",
    "print(classification_report(y_test, forestPredictions))"
   ]
  },
  {
   "cell_type": "markdown",
   "id": "49ad9f4c",
   "metadata": {},
   "source": [
    "we can assume that this model does not fit the data and therefore we should look into a different analitical path."
   ]
  },
  {
   "cell_type": "code",
   "execution_count": null,
   "id": "a1b812dd",
   "metadata": {},
   "outputs": [],
   "source": []
  }
 ],
 "metadata": {
  "kernelspec": {
   "display_name": "Python 3 (ipykernel)",
   "language": "python",
   "name": "python3"
  },
  "language_info": {
   "codemirror_mode": {
    "name": "ipython",
    "version": 3
   },
   "file_extension": ".py",
   "mimetype": "text/x-python",
   "name": "python",
   "nbconvert_exporter": "python",
   "pygments_lexer": "ipython3",
   "version": "3.9.7"
  }
 },
 "nbformat": 4,
 "nbformat_minor": 5
}
