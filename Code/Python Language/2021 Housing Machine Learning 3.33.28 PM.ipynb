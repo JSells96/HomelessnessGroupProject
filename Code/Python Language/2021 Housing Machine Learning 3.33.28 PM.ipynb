{
 "cells": [
  {
   "cell_type": "code",
   "execution_count": 1,
   "id": "1d9ab730",
   "metadata": {},
   "outputs": [],
   "source": [
    "import pandas as pd\n",
    "from sklearn.linear_model import LinearRegression\n",
    "from sklearn.model_selection import train_test_split\n",
    "import matplotlib.pyplot as plt\n",
    "%matplotlib inline\n",
    "from sklearn import metrics\n",
    "import numpy as np"
   ]
  },
  {
   "cell_type": "markdown",
   "id": "bab86494",
   "metadata": {},
   "source": [
    "# Import Data"
   ]
  },
  {
   "cell_type": "code",
   "execution_count": 2,
   "id": "133ff904",
   "metadata": {},
   "outputs": [],
   "source": [
    "coc2021 = pd.read_excel ('/Users/lakisha/Desktop/HUD 2021 CoC Homeless Assistance Program Housing Inventory Report.xlsx')"
   ]
  },
  {
   "cell_type": "markdown",
   "id": "e493cf83",
   "metadata": {},
   "source": [
    "# Wrangle Data"
   ]
  },
  {
   "cell_type": "code",
   "execution_count": 3,
   "id": "7abda7f2",
   "metadata": {},
   "outputs": [],
   "source": [
    "x = coc2021[['Adult Only Beds', 'Child Only Beds', 'Youth Beds', 'Family Beds', 'Family Units']]\n",
    "y = coc2021['Total Yr Round Beds']"
   ]
  },
  {
   "cell_type": "markdown",
   "id": "baaf1793",
   "metadata": {},
   "source": [
    "# Train Test Split"
   ]
  },
  {
   "cell_type": "code",
   "execution_count": 4,
   "id": "d4b3c368",
   "metadata": {},
   "outputs": [],
   "source": [
    "x_train, x_test, y_train, y_test = train_test_split(x,y, test_size = .4)"
   ]
  },
  {
   "cell_type": "code",
   "execution_count": 5,
   "id": "df69262c",
   "metadata": {},
   "outputs": [
    {
     "name": "stdout",
     "output_type": "stream",
     "text": [
      "(5, 5) (5,)\n",
      "(4, 5) (4,)\n"
     ]
    }
   ],
   "source": [
    "print(x_train.shape, y_train.shape)\n",
    "print(x_test.shape, y_test.shape)"
   ]
  },
  {
   "cell_type": "markdown",
   "id": "3ebe9491",
   "metadata": {},
   "source": [
    "# Create Linear Regression Model"
   ]
  },
  {
   "cell_type": "code",
   "execution_count": 6,
   "id": "bd8a4777",
   "metadata": {},
   "outputs": [
    {
     "data": {
      "text/plain": [
       "LinearRegression()"
      ]
     },
     "execution_count": 6,
     "metadata": {},
     "output_type": "execute_result"
    }
   ],
   "source": [
    "lm = LinearRegression()\n",
    "lm.fit(x_train, y_train)"
   ]
  },
  {
   "cell_type": "markdown",
   "id": "7cf81f42",
   "metadata": {},
   "source": [
    "# Examine Predictions"
   ]
  },
  {
   "cell_type": "code",
   "execution_count": 7,
   "id": "0920450c",
   "metadata": {},
   "outputs": [
    {
     "data": {
      "text/plain": [
       "array([183412.51382743, 300762.82709212,  -8099.89743456, 303904.38065892])"
      ]
     },
     "execution_count": 7,
     "metadata": {},
     "output_type": "execute_result"
    }
   ],
   "source": [
    "predictions = lm.predict(x_test)\n",
    "predictions"
   ]
  },
  {
   "cell_type": "code",
   "execution_count": 8,
   "id": "4e27fff6",
   "metadata": {},
   "outputs": [
    {
     "data": {
      "text/plain": [
       "<matplotlib.collections.PathCollection at 0x7faac5021820>"
      ]
     },
     "execution_count": 8,
     "metadata": {},
     "output_type": "execute_result"
    },
    {
     "data": {
      "image/png": "[encoded data removed]",
      "text/plain": [
       "<Figure size 432x288 with 1 Axes>"
      ]
     },
     "metadata": {
      "needs_background": "light"
     },
     "output_type": "display_data"
    }
   ],
   "source": [
    "plt.scatter(y_test, predictions)"
   ]
  },
  {
   "cell_type": "markdown",
   "id": "65b7991a",
   "metadata": {},
   "source": [
    "# Accuracy Score"
   ]
  },
  {
   "cell_type": "code",
   "execution_count": 9,
   "id": "b6fa8119",
   "metadata": {},
   "outputs": [
    {
     "name": "stdout",
     "output_type": "stream",
     "text": [
      "Score: 0.9113099641689189\n"
     ]
    }
   ],
   "source": [
    "print(\"Score:\", lm.score(x_test, y_test))"
   ]
  },
  {
   "cell_type": "markdown",
   "id": "4768905e",
   "metadata": {},
   "source": [
    "# Data Accurate 99% of the time"
   ]
  },
  {
   "cell_type": "markdown",
   "id": "c57d8576",
   "metadata": {},
   "source": [
    "# Examine Error"
   ]
  },
  {
   "cell_type": "markdown",
   "id": "27b024e2",
   "metadata": {},
   "source": [
    "# Mean Absolute Error (MAE)"
   ]
  },
  {
   "cell_type": "code",
   "execution_count": 10,
   "id": "1aaf35ea",
   "metadata": {},
   "outputs": [
    {
     "data": {
      "text/plain": [
       "34185.80087773612"
      ]
     },
     "execution_count": 10,
     "metadata": {},
     "output_type": "execute_result"
    }
   ],
   "source": [
    "metrics.mean_absolute_error(y_test, predictions)"
   ]
  },
  {
   "cell_type": "markdown",
   "id": "7141823e",
   "metadata": {},
   "source": [
    "# Mean Squared Error (MSE)"
   ]
  },
  {
   "cell_type": "code",
   "execution_count": 11,
   "id": "2a2bd37b",
   "metadata": {},
   "outputs": [
    {
     "data": {
      "text/plain": [
       "1899672602.6643634"
      ]
     },
     "execution_count": 11,
     "metadata": {},
     "output_type": "execute_result"
    }
   ],
   "source": [
    "metrics.mean_squared_error(y_test, predictions)"
   ]
  },
  {
   "cell_type": "markdown",
   "id": "701ed389",
   "metadata": {},
   "source": [
    "# Root Mean Squared Error (RMSE)"
   ]
  },
  {
   "cell_type": "code",
   "execution_count": 12,
   "id": "a88611b8",
   "metadata": {},
   "outputs": [
    {
     "data": {
      "text/plain": [
       "43585.23376860979"
      ]
     },
     "execution_count": 12,
     "metadata": {},
     "output_type": "execute_result"
    }
   ],
   "source": [
    "np.sqrt(metrics.mean_squared_error(y_test, predictions))"
   ]
  },
  {
   "cell_type": "markdown",
   "id": "73576054",
   "metadata": {},
   "source": [
    "# k-Fold Cross Validation "
   ]
  },
  {
   "cell_type": "code",
   "execution_count": 13,
   "id": "0f49851a",
   "metadata": {},
   "outputs": [],
   "source": [
    "from sklearn.model_selection import KFold\n",
    "from sklearn.model_selection import cross_val_score"
   ]
  },
  {
   "cell_type": "markdown",
   "id": "f002b40c",
   "metadata": {},
   "source": [
    "# Create Folds"
   ]
  },
  {
   "cell_type": "code",
   "execution_count": 20,
   "id": "ee783658",
   "metadata": {},
   "outputs": [
    {
     "name": "stdout",
     "output_type": "stream",
     "text": [
      "train: [0 1 3 4 5 7], test: [2 6 8]\n",
      "train: [0 2 3 4 5 6 8], test: [1 7]\n",
      "train: [1 2 3 5 6 7 8], test: [0 4]\n",
      "train: [0 1 2 4 6 7 8], test: [3 5]\n"
     ]
    },
    {
     "name": "stderr",
     "output_type": "stream",
     "text": [
      "/Users/lakisha/opt/anaconda3/lib/python3.9/site-packages/sklearn/utils/validation.py:70: FutureWarning: Pass shuffle=True, random_state=1 as keyword args. From version 1.0 (renaming of 0.25) passing these as positional arguments will result in an error\n",
      "  warnings.warn(f\"Pass {args_msg} as keyword args. From version \"\n"
     ]
    }
   ],
   "source": [
    "kfold = KFold(4, True, 1)\n",
    "for train, test in kfold.split(x,y):\n",
    "    print('train: %s, test: %s' % (train,test))"
   ]
  },
  {
   "cell_type": "code",
   "execution_count": 21,
   "id": "557d6223",
   "metadata": {},
   "outputs": [
    {
     "name": "stdout",
     "output_type": "stream",
     "text": [
      "[0.99126559 0.99224255 0.96265987 0.9997433 ]\n"
     ]
    }
   ],
   "source": [
    "print(cross_val_score(lm, x,y, cv=4))"
   ]
  },
  {
   "cell_type": "markdown",
   "id": "98994ac6",
   "metadata": {},
   "source": [
    "# 4TH Model is the best model"
   ]
  },
  {
   "cell_type": "code",
   "execution_count": null,
   "id": "03495169",
   "metadata": {},
   "outputs": [],
   "source": []
  }
 ],
 "metadata": {
  "kernelspec": {
   "display_name": "Python 3 (ipykernel)",
   "language": "python",
   "name": "python3"
  },
  "language_info": {
   "codemirror_mode": {
    "name": "ipython",
    "version": 3
   },
   "file_extension": ".py",
   "mimetype": "text/x-python",
   "name": "python",
   "nbconvert_exporter": "python",
   "pygments_lexer": "ipython3",
   "version": "3.9.7"
  }
 },
 "nbformat": 4,
 "nbformat_minor": 5
}
