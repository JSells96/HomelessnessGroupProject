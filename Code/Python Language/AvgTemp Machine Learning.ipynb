{
 "cells": [
  {
   "cell_type": "code",
   "execution_count": 1,
   "id": "ab649e46",
   "metadata": {},
   "outputs": [],
   "source": [
    "import pandas as pd\n",
    "from sklearn.linear_model import LinearRegression\n",
    "from sklearn.model_selection import train_test_split\n",
    "import matplotlib.pyplot as plt\n",
    "%matplotlib inline\n",
    "from sklearn import metrics\n",
    "import numpy as np"
   ]
  },
  {
   "cell_type": "markdown",
   "id": "90bd58ed",
   "metadata": {},
   "source": [
    "# Importing Data"
   ]
  },
  {
   "cell_type": "code",
   "execution_count": 2,
   "id": "1313e6fb",
   "metadata": {},
   "outputs": [],
   "source": [
    "Temp = pd.read_excel('/Users/lakisha/Desktop/StateTemp.xlsx')"
   ]
  },
  {
   "cell_type": "code",
   "execution_count": 3,
   "id": "f0a96af7",
   "metadata": {},
   "outputs": [
    {
     "name": "stdout",
     "output_type": "stream",
     "text": [
      "<class 'pandas.core.frame.DataFrame'>\n",
      "RangeIndex: 48 entries, 0 to 47\n",
      "Data columns (total 14 columns):\n",
      " #   Column        Non-Null Count  Dtype  \n",
      "---  ------        --------------  -----  \n",
      " 0   State Number  48 non-null     int64  \n",
      " 1   States        48 non-null     object \n",
      " 2   avgtemp_2021  48 non-null     float64\n",
      " 3   avgtemp_2020  48 non-null     float64\n",
      " 4   avgtemp_2019  48 non-null     float64\n",
      " 5   avgtemp_2018  48 non-null     float64\n",
      " 6   avgtemp_2017  48 non-null     float64\n",
      " 7   avgtemp_2016  48 non-null     float64\n",
      " 8   avgtemp_2015  48 non-null     float64\n",
      " 9   avgtemp_2014  48 non-null     float64\n",
      " 10  avgtemp_2013  48 non-null     float64\n",
      " 11  avgtemp_2012  48 non-null     float64\n",
      " 12  avgtemp_2011  48 non-null     float64\n",
      " 13  avgtemp_2010  48 non-null     float64\n",
      "dtypes: float64(12), int64(1), object(1)\n",
      "memory usage: 5.4+ KB\n"
     ]
    }
   ],
   "source": [
    "Temp.info()"
   ]
  },
  {
   "cell_type": "code",
   "execution_count": 4,
   "id": "d806e603",
   "metadata": {},
   "outputs": [
    {
     "data": {
      "text/html": [
       "<div>\n",
       "<style scoped>\n",
       "    .dataframe tbody tr th:only-of-type {\n",
       "        vertical-align: middle;\n",
       "    }\n",
       "\n",
       "    .dataframe tbody tr th {\n",
       "        vertical-align: top;\n",
       "    }\n",
       "\n",
       "    .dataframe thead th {\n",
       "        text-align: right;\n",
       "    }\n",
       "</style>\n",
       "<table border=\"1\" class=\"dataframe\">\n",
       "  <thead>\n",
       "    <tr style=\"text-align: right;\">\n",
       "      <th></th>\n",
       "      <th>State Number</th>\n",
       "      <th>avgtemp_2021</th>\n",
       "      <th>avgtemp_2020</th>\n",
       "      <th>avgtemp_2019</th>\n",
       "      <th>avgtemp_2018</th>\n",
       "      <th>avgtemp_2017</th>\n",
       "      <th>avgtemp_2016</th>\n",
       "      <th>avgtemp_2015</th>\n",
       "      <th>avgtemp_2014</th>\n",
       "      <th>avgtemp_2013</th>\n",
       "      <th>avgtemp_2012</th>\n",
       "      <th>avgtemp_2011</th>\n",
       "      <th>avgtemp_2010</th>\n",
       "    </tr>\n",
       "  </thead>\n",
       "  <tbody>\n",
       "    <tr>\n",
       "      <th>0</th>\n",
       "      <td>1</td>\n",
       "      <td>64.2</td>\n",
       "      <td>64.9</td>\n",
       "      <td>65.4</td>\n",
       "      <td>64.5</td>\n",
       "      <td>65.0</td>\n",
       "      <td>65.3</td>\n",
       "      <td>64.6</td>\n",
       "      <td>62.0</td>\n",
       "      <td>62.6</td>\n",
       "      <td>64.9</td>\n",
       "      <td>63.8</td>\n",
       "      <td>62.7</td>\n",
       "    </tr>\n",
       "    <tr>\n",
       "      <th>1</th>\n",
       "      <td>2</td>\n",
       "      <td>26.5</td>\n",
       "      <td>27.5</td>\n",
       "      <td>32.2</td>\n",
       "      <td>30.4</td>\n",
       "      <td>29.3</td>\n",
       "      <td>31.9</td>\n",
       "      <td>30.0</td>\n",
       "      <td>30.3</td>\n",
       "      <td>27.8</td>\n",
       "      <td>24.3</td>\n",
       "      <td>27.0</td>\n",
       "      <td>27.4</td>\n",
       "    </tr>\n",
       "    <tr>\n",
       "      <th>2</th>\n",
       "      <td>3</td>\n",
       "      <td>62.2</td>\n",
       "      <td>62.6</td>\n",
       "      <td>60.3</td>\n",
       "      <td>62.3</td>\n",
       "      <td>63.0</td>\n",
       "      <td>62.2</td>\n",
       "      <td>61.8</td>\n",
       "      <td>62.2</td>\n",
       "      <td>60.4</td>\n",
       "      <td>62.1</td>\n",
       "      <td>60.3</td>\n",
       "      <td>60.4</td>\n",
       "    </tr>\n",
       "    <tr>\n",
       "      <th>3</th>\n",
       "      <td>4</td>\n",
       "      <td>61.2</td>\n",
       "      <td>61.1</td>\n",
       "      <td>61.2</td>\n",
       "      <td>61.2</td>\n",
       "      <td>62.5</td>\n",
       "      <td>62.8</td>\n",
       "      <td>61.4</td>\n",
       "      <td>58.7</td>\n",
       "      <td>59.6</td>\n",
       "      <td>63.6</td>\n",
       "      <td>61.8</td>\n",
       "      <td>61.2</td>\n",
       "    </tr>\n",
       "    <tr>\n",
       "      <th>4</th>\n",
       "      <td>5</td>\n",
       "      <td>60.3</td>\n",
       "      <td>60.5</td>\n",
       "      <td>58.4</td>\n",
       "      <td>60.1</td>\n",
       "      <td>60.3</td>\n",
       "      <td>60.1</td>\n",
       "      <td>60.8</td>\n",
       "      <td>61.4</td>\n",
       "      <td>59.3</td>\n",
       "      <td>59.5</td>\n",
       "      <td>57.4</td>\n",
       "      <td>57.7</td>\n",
       "    </tr>\n",
       "  </tbody>\n",
       "</table>\n",
       "</div>"
      ],
      "text/plain": [
       "   State Number  avgtemp_2021  avgtemp_2020  avgtemp_2019  avgtemp_2018  \\\n",
       "0             1          64.2          64.9          65.4          64.5   \n",
       "1             2          26.5          27.5          32.2          30.4   \n",
       "2             3          62.2          62.6          60.3          62.3   \n",
       "3             4          61.2          61.1          61.2          61.2   \n",
       "4             5          60.3          60.5          58.4          60.1   \n",
       "\n",
       "   avgtemp_2017  avgtemp_2016  avgtemp_2015  avgtemp_2014  avgtemp_2013  \\\n",
       "0          65.0          65.3          64.6          62.0          62.6   \n",
       "1          29.3          31.9          30.0          30.3          27.8   \n",
       "2          63.0          62.2          61.8          62.2          60.4   \n",
       "3          62.5          62.8          61.4          58.7          59.6   \n",
       "4          60.3          60.1          60.8          61.4          59.3   \n",
       "\n",
       "   avgtemp_2012  avgtemp_2011  avgtemp_2010  \n",
       "0          64.9          63.8          62.7  \n",
       "1          24.3          27.0          27.4  \n",
       "2          62.1          60.3          60.4  \n",
       "3          63.6          61.8          61.2  \n",
       "4          59.5          57.4          57.7  "
      ]
     },
     "execution_count": 4,
     "metadata": {},
     "output_type": "execute_result"
    }
   ],
   "source": [
    "Temp1 = Temp.drop(['States'], axis=1)\n",
    "Temp1.head()"
   ]
  },
  {
   "cell_type": "code",
   "execution_count": 5,
   "id": "33dd2a7d",
   "metadata": {},
   "outputs": [
    {
     "data": {
      "text/html": [
       "<div>\n",
       "<style scoped>\n",
       "    .dataframe tbody tr th:only-of-type {\n",
       "        vertical-align: middle;\n",
       "    }\n",
       "\n",
       "    .dataframe tbody tr th {\n",
       "        vertical-align: top;\n",
       "    }\n",
       "\n",
       "    .dataframe thead th {\n",
       "        text-align: right;\n",
       "    }\n",
       "</style>\n",
       "<table border=\"1\" class=\"dataframe\">\n",
       "  <thead>\n",
       "    <tr style=\"text-align: right;\">\n",
       "      <th></th>\n",
       "      <th>State Number</th>\n",
       "      <th>avgtemp_2021</th>\n",
       "      <th>avgtemp_2020</th>\n",
       "      <th>avgtemp_2019</th>\n",
       "      <th>avgtemp_2018</th>\n",
       "      <th>avgtemp_2017</th>\n",
       "      <th>avgtemp_2016</th>\n",
       "      <th>avgtemp_2015</th>\n",
       "      <th>avgtemp_2014</th>\n",
       "      <th>avgtemp_2013</th>\n",
       "      <th>avgtemp_2012</th>\n",
       "      <th>avgtemp_2011</th>\n",
       "      <th>avgtemp_2010</th>\n",
       "    </tr>\n",
       "  </thead>\n",
       "  <tbody>\n",
       "    <tr>\n",
       "      <th>0</th>\n",
       "      <td>1</td>\n",
       "      <td>64.2</td>\n",
       "      <td>64.9</td>\n",
       "      <td>65.4</td>\n",
       "      <td>64.5</td>\n",
       "      <td>65.0</td>\n",
       "      <td>65.3</td>\n",
       "      <td>64.6</td>\n",
       "      <td>62.0</td>\n",
       "      <td>62.6</td>\n",
       "      <td>64.9</td>\n",
       "      <td>63.8</td>\n",
       "      <td>62.7</td>\n",
       "    </tr>\n",
       "    <tr>\n",
       "      <th>1</th>\n",
       "      <td>2</td>\n",
       "      <td>26.5</td>\n",
       "      <td>27.5</td>\n",
       "      <td>32.2</td>\n",
       "      <td>30.4</td>\n",
       "      <td>29.3</td>\n",
       "      <td>31.9</td>\n",
       "      <td>30.0</td>\n",
       "      <td>30.3</td>\n",
       "      <td>27.8</td>\n",
       "      <td>24.3</td>\n",
       "      <td>27.0</td>\n",
       "      <td>27.4</td>\n",
       "    </tr>\n",
       "    <tr>\n",
       "      <th>2</th>\n",
       "      <td>3</td>\n",
       "      <td>62.2</td>\n",
       "      <td>62.6</td>\n",
       "      <td>60.3</td>\n",
       "      <td>62.3</td>\n",
       "      <td>63.0</td>\n",
       "      <td>62.2</td>\n",
       "      <td>61.8</td>\n",
       "      <td>62.2</td>\n",
       "      <td>60.4</td>\n",
       "      <td>62.1</td>\n",
       "      <td>60.3</td>\n",
       "      <td>60.4</td>\n",
       "    </tr>\n",
       "    <tr>\n",
       "      <th>3</th>\n",
       "      <td>4</td>\n",
       "      <td>61.2</td>\n",
       "      <td>61.1</td>\n",
       "      <td>61.2</td>\n",
       "      <td>61.2</td>\n",
       "      <td>62.5</td>\n",
       "      <td>62.8</td>\n",
       "      <td>61.4</td>\n",
       "      <td>58.7</td>\n",
       "      <td>59.6</td>\n",
       "      <td>63.6</td>\n",
       "      <td>61.8</td>\n",
       "      <td>61.2</td>\n",
       "    </tr>\n",
       "    <tr>\n",
       "      <th>4</th>\n",
       "      <td>5</td>\n",
       "      <td>60.3</td>\n",
       "      <td>60.5</td>\n",
       "      <td>58.4</td>\n",
       "      <td>60.1</td>\n",
       "      <td>60.3</td>\n",
       "      <td>60.1</td>\n",
       "      <td>60.8</td>\n",
       "      <td>61.4</td>\n",
       "      <td>59.3</td>\n",
       "      <td>59.5</td>\n",
       "      <td>57.4</td>\n",
       "      <td>57.7</td>\n",
       "    </tr>\n",
       "    <tr>\n",
       "      <th>5</th>\n",
       "      <td>6</td>\n",
       "      <td>47.5</td>\n",
       "      <td>47.3</td>\n",
       "      <td>45.3</td>\n",
       "      <td>47.2</td>\n",
       "      <td>47.9</td>\n",
       "      <td>47.3</td>\n",
       "      <td>47.4</td>\n",
       "      <td>46.1</td>\n",
       "      <td>45.1</td>\n",
       "      <td>48.3</td>\n",
       "      <td>45.4</td>\n",
       "      <td>46.2</td>\n",
       "    </tr>\n",
       "    <tr>\n",
       "      <th>6</th>\n",
       "      <td>7</td>\n",
       "      <td>51.4</td>\n",
       "      <td>51.8</td>\n",
       "      <td>49.8</td>\n",
       "      <td>50.8</td>\n",
       "      <td>50.9</td>\n",
       "      <td>51.8</td>\n",
       "      <td>49.8</td>\n",
       "      <td>48.7</td>\n",
       "      <td>49.8</td>\n",
       "      <td>52.5</td>\n",
       "      <td>50.9</td>\n",
       "      <td>51.4</td>\n",
       "    </tr>\n",
       "    <tr>\n",
       "      <th>7</th>\n",
       "      <td>8</td>\n",
       "      <td>57.4</td>\n",
       "      <td>58.0</td>\n",
       "      <td>57.5</td>\n",
       "      <td>57.1</td>\n",
       "      <td>57.6</td>\n",
       "      <td>57.4</td>\n",
       "      <td>56.4</td>\n",
       "      <td>54.7</td>\n",
       "      <td>55.8</td>\n",
       "      <td>58.5</td>\n",
       "      <td>57.4</td>\n",
       "      <td>56.7</td>\n",
       "    </tr>\n",
       "    <tr>\n",
       "      <th>8</th>\n",
       "      <td>9</td>\n",
       "      <td>72.2</td>\n",
       "      <td>73.2</td>\n",
       "      <td>73.2</td>\n",
       "      <td>72.3</td>\n",
       "      <td>72.8</td>\n",
       "      <td>72.5</td>\n",
       "      <td>73.4</td>\n",
       "      <td>70.6</td>\n",
       "      <td>71.7</td>\n",
       "      <td>71.9</td>\n",
       "      <td>71.7</td>\n",
       "      <td>69.2</td>\n",
       "    </tr>\n",
       "    <tr>\n",
       "      <th>9</th>\n",
       "      <td>10</td>\n",
       "      <td>64.5</td>\n",
       "      <td>65.6</td>\n",
       "      <td>66.2</td>\n",
       "      <td>65.1</td>\n",
       "      <td>65.8</td>\n",
       "      <td>65.8</td>\n",
       "      <td>65.3</td>\n",
       "      <td>63.0</td>\n",
       "      <td>63.4</td>\n",
       "      <td>65.5</td>\n",
       "      <td>64.6</td>\n",
       "      <td>63.0</td>\n",
       "    </tr>\n",
       "  </tbody>\n",
       "</table>\n",
       "</div>"
      ],
      "text/plain": [
       "   State Number  avgtemp_2021  avgtemp_2020  avgtemp_2019  avgtemp_2018  \\\n",
       "0             1          64.2          64.9          65.4          64.5   \n",
       "1             2          26.5          27.5          32.2          30.4   \n",
       "2             3          62.2          62.6          60.3          62.3   \n",
       "3             4          61.2          61.1          61.2          61.2   \n",
       "4             5          60.3          60.5          58.4          60.1   \n",
       "5             6          47.5          47.3          45.3          47.2   \n",
       "6             7          51.4          51.8          49.8          50.8   \n",
       "7             8          57.4          58.0          57.5          57.1   \n",
       "8             9          72.2          73.2          73.2          72.3   \n",
       "9            10          64.5          65.6          66.2          65.1   \n",
       "\n",
       "   avgtemp_2017  avgtemp_2016  avgtemp_2015  avgtemp_2014  avgtemp_2013  \\\n",
       "0          65.0          65.3          64.6          62.0          62.6   \n",
       "1          29.3          31.9          30.0          30.3          27.8   \n",
       "2          63.0          62.2          61.8          62.2          60.4   \n",
       "3          62.5          62.8          61.4          58.7          59.6   \n",
       "4          60.3          60.1          60.8          61.4          59.3   \n",
       "5          47.9          47.3          47.4          46.1          45.1   \n",
       "6          50.9          51.8          49.8          48.7          49.8   \n",
       "7          57.6          57.4          56.4          54.7          55.8   \n",
       "8          72.8          72.5          73.4          70.6          71.7   \n",
       "9          65.8          65.8          65.3          63.0          63.4   \n",
       "\n",
       "   avgtemp_2012  avgtemp_2011  avgtemp_2010  \n",
       "0          64.9          63.8          62.7  \n",
       "1          24.3          27.0          27.4  \n",
       "2          62.1          60.3          60.4  \n",
       "3          63.6          61.8          61.2  \n",
       "4          59.5          57.4          57.7  \n",
       "5          48.3          45.4          46.2  \n",
       "6          52.5          50.9          51.4  \n",
       "7          58.5          57.4          56.7  \n",
       "8          71.9          71.7          69.2  \n",
       "9          65.5          64.6          63.0  "
      ]
     },
     "execution_count": 5,
     "metadata": {},
     "output_type": "execute_result"
    }
   ],
   "source": [
    "Temp1.head(10)"
   ]
  },
  {
   "cell_type": "code",
   "execution_count": 6,
   "id": "392cb52a",
   "metadata": {},
   "outputs": [],
   "source": [
    "x = Temp[['avgtemp_2021','avgtemp_2020','avgtemp_2019', 'avgtemp_2018', 'avgtemp_2017', 'avgtemp_2016','avgtemp_2015', 'avgtemp_2014', 'avgtemp_2013', 'avgtemp_2012', 'avgtemp_2011', 'avgtemp_2010']]\n",
    "y = Temp['State Number']"
   ]
  },
  {
   "cell_type": "code",
   "execution_count": 7,
   "id": "813a8447",
   "metadata": {},
   "outputs": [],
   "source": [
    "x_train, x_test, y_train, y_test = train_test_split(x,y, test_size = .4)"
   ]
  },
  {
   "cell_type": "code",
   "execution_count": 8,
   "id": "72bafe74",
   "metadata": {},
   "outputs": [
    {
     "name": "stdout",
     "output_type": "stream",
     "text": [
      "(28, 12) (28,)\n",
      "(20, 12) (20,)\n"
     ]
    }
   ],
   "source": [
    "print(x_train.shape, y_train.shape)\n",
    "print(x_test.shape, y_test.shape)"
   ]
  },
  {
   "cell_type": "code",
   "execution_count": 9,
   "id": "e081f406",
   "metadata": {},
   "outputs": [
    {
     "data": {
      "text/plain": [
       "LinearRegression()"
      ]
     },
     "execution_count": 9,
     "metadata": {},
     "output_type": "execute_result"
    }
   ],
   "source": [
    "lm = LinearRegression()\n",
    "lm.fit(x_train, y_train)"
   ]
  },
  {
   "cell_type": "code",
   "execution_count": 10,
   "id": "63cd137e",
   "metadata": {},
   "outputs": [
    {
     "data": {
      "text/plain": [
       "array([ 29.17684689,  25.57337001,  21.80461622,  29.81807218,\n",
       "        38.76011377,   0.91474346,  31.35455949,  48.26126549,\n",
       "        15.18164889,  26.58452238, 181.85118431,  16.13920675,\n",
       "        22.92758466,  -1.95005155,  16.40776457,  31.89895901,\n",
       "        49.00302165,  33.18070831,   4.46388712,  12.72600476])"
      ]
     },
     "execution_count": 10,
     "metadata": {},
     "output_type": "execute_result"
    }
   ],
   "source": [
    "predictions = lm.predict(x_test)\n",
    "predictions"
   ]
  },
  {
   "cell_type": "code",
   "execution_count": 11,
   "id": "b1426657",
   "metadata": {},
   "outputs": [
    {
     "data": {
      "text/plain": [
       "<matplotlib.collections.PathCollection at 0x7feed80f7940>"
      ]
     },
     "execution_count": 11,
     "metadata": {},
     "output_type": "execute_result"
    },
    {
     "data": {
      "image/png": "[encoded data removed]",
      "text/plain": [
       "<Figure size 432x288 with 1 Axes>"
      ]
     },
     "metadata": {
      "needs_background": "light"
     },
     "output_type": "display_data"
    }
   ],
   "source": [
    "plt.scatter(y_test, predictions)"
   ]
  },
  {
   "cell_type": "code",
   "execution_count": 12,
   "id": "3c34a2b9",
   "metadata": {},
   "outputs": [
    {
     "name": "stdout",
     "output_type": "stream",
     "text": [
      "Score: -8.784717140427817\n"
     ]
    }
   ],
   "source": [
    "print(\"Score:\", lm.score(x_test, y_test))"
   ]
  },
  {
   "cell_type": "code",
   "execution_count": 13,
   "id": "02cf247f",
   "metadata": {},
   "outputs": [
    {
     "data": {
      "text/plain": [
       "25.220886650950735"
      ]
     },
     "execution_count": 13,
     "metadata": {},
     "output_type": "execute_result"
    }
   ],
   "source": [
    "metrics.mean_absolute_error(y_test, predictions)"
   ]
  },
  {
   "cell_type": "code",
   "execution_count": 14,
   "id": "68e8b18e",
   "metadata": {},
   "outputs": [
    {
     "data": {
      "text/plain": [
       "2075.436352656144"
      ]
     },
     "execution_count": 14,
     "metadata": {},
     "output_type": "execute_result"
    }
   ],
   "source": [
    "metrics.mean_squared_error(y_test, predictions)"
   ]
  },
  {
   "cell_type": "code",
   "execution_count": 15,
   "id": "8f04b971",
   "metadata": {},
   "outputs": [
    {
     "data": {
      "text/plain": [
       "45.55695723658621"
      ]
     },
     "execution_count": 15,
     "metadata": {},
     "output_type": "execute_result"
    }
   ],
   "source": [
    "np.sqrt(metrics.mean_squared_error(y_test, predictions))"
   ]
  },
  {
   "cell_type": "code",
   "execution_count": 16,
   "id": "fe577549",
   "metadata": {},
   "outputs": [],
   "source": [
    "from sklearn.model_selection import KFold\n",
    "from sklearn.model_selection import cross_val_score"
   ]
  },
  {
   "cell_type": "code",
   "execution_count": 17,
   "id": "978ad44b",
   "metadata": {},
   "outputs": [
    {
     "name": "stdout",
     "output_type": "stream",
     "text": [
      "train: [ 0  1  3  4  5  6  7  8  9 10 11 12 13 14 15 16 17 18 19 20 21 22 24 25\n",
      " 26 27 28 29 30 31 32 34 35 37 39 40 41 42 43 44 45 46 47], test: [ 2 23 33 36 38]\n",
      "train: [ 0  1  2  4  5  6  7  8  9 10 11 12 13 14 15 16 17 18 19 20 21 22 23 24\n",
      " 25 28 29 30 32 33 34 35 36 37 38 39 40 41 42 43 45 46 47], test: [ 3 26 27 31 44]\n",
      "train: [ 0  1  2  3  4  5  6  7  8  9 10 11 12 13 14 15 16 17 18 20 22 23 24 25\n",
      " 26 27 29 30 31 32 33 35 36 37 38 39 40 41 42 43 44 45 46], test: [19 21 28 34 47]\n",
      "train: [ 0  1  2  3  4  5  6  7  8  9 10 11 12 14 15 16 17 18 19 20 21 23 25 26\n",
      " 27 28 29 30 31 32 33 34 36 37 38 39 41 42 43 44 45 46 47], test: [13 22 24 35 40]\n",
      "train: [ 0  1  2  3  5  6  7  8  9 10 11 12 13 14 15 16 18 19 20 21 22 23 24 25\n",
      " 26 27 28 30 31 32 33 34 35 36 37 38 40 41 42 43 44 45 47], test: [ 4 17 29 39 46]\n",
      "train: [ 0  1  2  3  4  5  6  7  8  9 11 12 13 15 16 17 19 20 21 22 23 24 25 26\n",
      " 27 28 29 30 31 33 34 35 36 37 38 39 40 41 43 44 45 46 47], test: [10 14 18 32 42]\n",
      "train: [ 0  1  2  3  4  5  7  8  9 10 11 12 13 14 15 16 17 18 19 21 22 23 24 26\n",
      " 27 28 29 31 32 33 34 35 36 37 38 39 40 42 43 44 45 46 47], test: [ 6 20 25 30 41]\n",
      "train: [ 2  3  4  5  6  8  9 10 11 12 13 14 15 17 18 19 20 21 22 23 24 25 26 27\n",
      " 28 29 30 31 32 33 34 35 36 37 38 39 40 41 42 43 44 46 47], test: [ 0  1  7 16 45]\n",
      "train: [ 0  1  2  3  4  6  7  8 10 12 13 14 16 17 18 19 20 21 22 23 24 25 26 27\n",
      " 28 29 30 31 32 33 34 35 36 37 38 39 40 41 42 43 44 45 46 47], test: [ 5  9 11 15]\n",
      "train: [ 0  1  2  3  4  5  6  7  9 10 11 13 14 15 16 17 18 19 20 21 22 23 24 25\n",
      " 26 27 28 29 30 31 32 33 34 35 36 38 39 40 41 42 44 45 46 47], test: [ 8 12 37 43]\n"
     ]
    },
    {
     "name": "stderr",
     "output_type": "stream",
     "text": [
      "/Users/lakisha/opt/anaconda3/lib/python3.9/site-packages/sklearn/utils/validation.py:70: FutureWarning: Pass shuffle=True, random_state=1 as keyword args. From version 1.0 (renaming of 0.25) passing these as positional arguments will result in an error\n",
      "  warnings.warn(f\"Pass {args_msg} as keyword args. From version \"\n"
     ]
    }
   ],
   "source": [
    "kfold = KFold(10, True, 1)\n",
    "for train, test in kfold.split(x,y):\n",
    "    print('train: %s, test: %s' % (train,test))"
   ]
  },
  {
   "cell_type": "code",
   "execution_count": 18,
   "id": "0341d747",
   "metadata": {},
   "outputs": [
    {
     "name": "stdout",
     "output_type": "stream",
     "text": [
      "[-14.4659715  -9.8519401]\n"
     ]
    }
   ],
   "source": [
    "print(cross_val_score(lm, x,y, cv=2))"
   ]
  },
  {
   "cell_type": "code",
   "execution_count": 19,
   "id": "094dd39e",
   "metadata": {},
   "outputs": [],
   "source": [
    "import pandas as pd\n",
    "import numpy as np\n",
    "import matplotlib.pyplot as plt\n",
    "import seaborn as sns\n",
    "%matplotlib inline\n",
    "from sklearn.cluster import KMeans"
   ]
  },
  {
   "cell_type": "code",
   "execution_count": 22,
   "id": "a463d539",
   "metadata": {},
   "outputs": [
    {
     "data": {
      "text/html": [
       "<div>\n",
       "<style scoped>\n",
       "    .dataframe tbody tr th:only-of-type {\n",
       "        vertical-align: middle;\n",
       "    }\n",
       "\n",
       "    .dataframe tbody tr th {\n",
       "        vertical-align: top;\n",
       "    }\n",
       "\n",
       "    .dataframe thead th {\n",
       "        text-align: right;\n",
       "    }\n",
       "</style>\n",
       "<table border=\"1\" class=\"dataframe\">\n",
       "  <thead>\n",
       "    <tr style=\"text-align: right;\">\n",
       "      <th></th>\n",
       "      <th>State Number</th>\n",
       "      <th>avgtemp_2021</th>\n",
       "      <th>avgtemp_2020</th>\n",
       "      <th>avgtemp_2019</th>\n",
       "      <th>avgtemp_2018</th>\n",
       "      <th>avgtemp_2017</th>\n",
       "      <th>avgtemp_2016</th>\n",
       "      <th>avgtemp_2015</th>\n",
       "      <th>avgtemp_2014</th>\n",
       "      <th>avgtemp_2013</th>\n",
       "      <th>avgtemp_2012</th>\n",
       "      <th>avgtemp_2011</th>\n",
       "      <th>avgtemp_2010</th>\n",
       "    </tr>\n",
       "  </thead>\n",
       "  <tbody>\n",
       "    <tr>\n",
       "      <th>0</th>\n",
       "      <td>1</td>\n",
       "      <td>64.2</td>\n",
       "      <td>64.9</td>\n",
       "      <td>65.4</td>\n",
       "      <td>64.5</td>\n",
       "      <td>65.0</td>\n",
       "      <td>65.3</td>\n",
       "      <td>64.6</td>\n",
       "      <td>62.0</td>\n",
       "      <td>62.6</td>\n",
       "      <td>64.9</td>\n",
       "      <td>63.8</td>\n",
       "      <td>62.7</td>\n",
       "    </tr>\n",
       "    <tr>\n",
       "      <th>1</th>\n",
       "      <td>2</td>\n",
       "      <td>26.5</td>\n",
       "      <td>27.5</td>\n",
       "      <td>32.2</td>\n",
       "      <td>30.4</td>\n",
       "      <td>29.3</td>\n",
       "      <td>31.9</td>\n",
       "      <td>30.0</td>\n",
       "      <td>30.3</td>\n",
       "      <td>27.8</td>\n",
       "      <td>24.3</td>\n",
       "      <td>27.0</td>\n",
       "      <td>27.4</td>\n",
       "    </tr>\n",
       "    <tr>\n",
       "      <th>2</th>\n",
       "      <td>3</td>\n",
       "      <td>62.2</td>\n",
       "      <td>62.6</td>\n",
       "      <td>60.3</td>\n",
       "      <td>62.3</td>\n",
       "      <td>63.0</td>\n",
       "      <td>62.2</td>\n",
       "      <td>61.8</td>\n",
       "      <td>62.2</td>\n",
       "      <td>60.4</td>\n",
       "      <td>62.1</td>\n",
       "      <td>60.3</td>\n",
       "      <td>60.4</td>\n",
       "    </tr>\n",
       "    <tr>\n",
       "      <th>3</th>\n",
       "      <td>4</td>\n",
       "      <td>61.2</td>\n",
       "      <td>61.1</td>\n",
       "      <td>61.2</td>\n",
       "      <td>61.2</td>\n",
       "      <td>62.5</td>\n",
       "      <td>62.8</td>\n",
       "      <td>61.4</td>\n",
       "      <td>58.7</td>\n",
       "      <td>59.6</td>\n",
       "      <td>63.6</td>\n",
       "      <td>61.8</td>\n",
       "      <td>61.2</td>\n",
       "    </tr>\n",
       "    <tr>\n",
       "      <th>4</th>\n",
       "      <td>5</td>\n",
       "      <td>60.3</td>\n",
       "      <td>60.5</td>\n",
       "      <td>58.4</td>\n",
       "      <td>60.1</td>\n",
       "      <td>60.3</td>\n",
       "      <td>60.1</td>\n",
       "      <td>60.8</td>\n",
       "      <td>61.4</td>\n",
       "      <td>59.3</td>\n",
       "      <td>59.5</td>\n",
       "      <td>57.4</td>\n",
       "      <td>57.7</td>\n",
       "    </tr>\n",
       "    <tr>\n",
       "      <th>5</th>\n",
       "      <td>6</td>\n",
       "      <td>47.5</td>\n",
       "      <td>47.3</td>\n",
       "      <td>45.3</td>\n",
       "      <td>47.2</td>\n",
       "      <td>47.9</td>\n",
       "      <td>47.3</td>\n",
       "      <td>47.4</td>\n",
       "      <td>46.1</td>\n",
       "      <td>45.1</td>\n",
       "      <td>48.3</td>\n",
       "      <td>45.4</td>\n",
       "      <td>46.2</td>\n",
       "    </tr>\n",
       "    <tr>\n",
       "      <th>6</th>\n",
       "      <td>7</td>\n",
       "      <td>51.4</td>\n",
       "      <td>51.8</td>\n",
       "      <td>49.8</td>\n",
       "      <td>50.8</td>\n",
       "      <td>50.9</td>\n",
       "      <td>51.8</td>\n",
       "      <td>49.8</td>\n",
       "      <td>48.7</td>\n",
       "      <td>49.8</td>\n",
       "      <td>52.5</td>\n",
       "      <td>50.9</td>\n",
       "      <td>51.4</td>\n",
       "    </tr>\n",
       "    <tr>\n",
       "      <th>7</th>\n",
       "      <td>8</td>\n",
       "      <td>57.4</td>\n",
       "      <td>58.0</td>\n",
       "      <td>57.5</td>\n",
       "      <td>57.1</td>\n",
       "      <td>57.6</td>\n",
       "      <td>57.4</td>\n",
       "      <td>56.4</td>\n",
       "      <td>54.7</td>\n",
       "      <td>55.8</td>\n",
       "      <td>58.5</td>\n",
       "      <td>57.4</td>\n",
       "      <td>56.7</td>\n",
       "    </tr>\n",
       "    <tr>\n",
       "      <th>8</th>\n",
       "      <td>9</td>\n",
       "      <td>72.2</td>\n",
       "      <td>73.2</td>\n",
       "      <td>73.2</td>\n",
       "      <td>72.3</td>\n",
       "      <td>72.8</td>\n",
       "      <td>72.5</td>\n",
       "      <td>73.4</td>\n",
       "      <td>70.6</td>\n",
       "      <td>71.7</td>\n",
       "      <td>71.9</td>\n",
       "      <td>71.7</td>\n",
       "      <td>69.2</td>\n",
       "    </tr>\n",
       "    <tr>\n",
       "      <th>9</th>\n",
       "      <td>10</td>\n",
       "      <td>64.5</td>\n",
       "      <td>65.6</td>\n",
       "      <td>66.2</td>\n",
       "      <td>65.1</td>\n",
       "      <td>65.8</td>\n",
       "      <td>65.8</td>\n",
       "      <td>65.3</td>\n",
       "      <td>63.0</td>\n",
       "      <td>63.4</td>\n",
       "      <td>65.5</td>\n",
       "      <td>64.6</td>\n",
       "      <td>63.0</td>\n",
       "    </tr>\n",
       "  </tbody>\n",
       "</table>\n",
       "</div>"
      ],
      "text/plain": [
       "   State Number  avgtemp_2021  avgtemp_2020  avgtemp_2019  avgtemp_2018  \\\n",
       "0             1          64.2          64.9          65.4          64.5   \n",
       "1             2          26.5          27.5          32.2          30.4   \n",
       "2             3          62.2          62.6          60.3          62.3   \n",
       "3             4          61.2          61.1          61.2          61.2   \n",
       "4             5          60.3          60.5          58.4          60.1   \n",
       "5             6          47.5          47.3          45.3          47.2   \n",
       "6             7          51.4          51.8          49.8          50.8   \n",
       "7             8          57.4          58.0          57.5          57.1   \n",
       "8             9          72.2          73.2          73.2          72.3   \n",
       "9            10          64.5          65.6          66.2          65.1   \n",
       "\n",
       "   avgtemp_2017  avgtemp_2016  avgtemp_2015  avgtemp_2014  avgtemp_2013  \\\n",
       "0          65.0          65.3          64.6          62.0          62.6   \n",
       "1          29.3          31.9          30.0          30.3          27.8   \n",
       "2          63.0          62.2          61.8          62.2          60.4   \n",
       "3          62.5          62.8          61.4          58.7          59.6   \n",
       "4          60.3          60.1          60.8          61.4          59.3   \n",
       "5          47.9          47.3          47.4          46.1          45.1   \n",
       "6          50.9          51.8          49.8          48.7          49.8   \n",
       "7          57.6          57.4          56.4          54.7          55.8   \n",
       "8          72.8          72.5          73.4          70.6          71.7   \n",
       "9          65.8          65.8          65.3          63.0          63.4   \n",
       "\n",
       "   avgtemp_2012  avgtemp_2011  avgtemp_2010  \n",
       "0          64.9          63.8          62.7  \n",
       "1          24.3          27.0          27.4  \n",
       "2          62.1          60.3          60.4  \n",
       "3          63.6          61.8          61.2  \n",
       "4          59.5          57.4          57.7  \n",
       "5          48.3          45.4          46.2  \n",
       "6          52.5          50.9          51.4  \n",
       "7          58.5          57.4          56.7  \n",
       "8          71.9          71.7          69.2  \n",
       "9          65.5          64.6          63.0  "
      ]
     },
     "execution_count": 22,
     "metadata": {},
     "output_type": "execute_result"
    }
   ],
   "source": [
    "Temp1.head(10)"
   ]
  },
  {
   "cell_type": "code",
   "execution_count": 23,
   "id": "65804cdc",
   "metadata": {},
   "outputs": [
    {
     "data": {
      "text/plain": [
       "KMeans(n_clusters=2)"
      ]
     },
     "execution_count": 23,
     "metadata": {},
     "output_type": "execute_result"
    }
   ],
   "source": [
    "kmeans = KMeans(n_clusters=2)\n",
    "kmeans.fit(Temp1)"
   ]
  },
  {
   "cell_type": "code",
   "execution_count": 25,
   "id": "c3dc49ef",
   "metadata": {},
   "outputs": [
    {
     "data": {
      "text/plain": [
       "<matplotlib.collections.PathCollection at 0x7feeb802d850>"
      ]
     },
     "execution_count": 25,
     "metadata": {},
     "output_type": "execute_result"
    },
    {
     "data": {
      "image/png": "[encoded data removed]",
      "text/plain": [
       "<Figure size 720x432 with 1 Axes>"
      ]
     },
     "metadata": {
      "needs_background": "light"
     },
     "output_type": "display_data"
    }
   ],
   "source": [
    "plt.figure(figsize=(10,6))\n",
    "plt.title('K Means')\n",
    "plt.scatter(Temp1['State Number'], Temp1['avgtemp_2021'], Temp1['avgtemp_2010'], c=kmeans.labels_, cmap='viridis')"
   ]
  },
  {
   "cell_type": "code",
   "execution_count": 27,
   "id": "b0877807",
   "metadata": {},
   "outputs": [
    {
     "data": {
      "text/plain": [
       "<matplotlib.collections.PathCollection at 0x7feec80b2f10>"
      ]
     },
     "execution_count": 27,
     "metadata": {},
     "output_type": "execute_result"
    },
    {
     "data": {
      "image/png": "[encoded data removed]",
      "text/plain": [
       "<Figure size 720x432 with 1 Axes>"
      ]
     },
     "metadata": {
      "needs_background": "light"
     },
     "output_type": "display_data"
    }
   ],
   "source": [
    "plt.figure(figsize=(10,6))\n",
    "plt.title('K Means')\n",
    "plt.scatter(Temp1['State Number'], Temp1['avgtemp_2010'], Temp1['avgtemp_2015'], c=kmeans.labels_, cmap='viridis')"
   ]
  },
  {
   "cell_type": "code",
   "execution_count": 28,
   "id": "f5f9943d",
   "metadata": {},
   "outputs": [
    {
     "data": {
      "text/plain": [
       "<matplotlib.collections.PathCollection at 0x7feefd4234f0>"
      ]
     },
     "execution_count": 28,
     "metadata": {},
     "output_type": "execute_result"
    },
    {
     "data": {
      "image/png": "[encoded data removed]",
      "text/plain": [
       "<Figure size 720x432 with 1 Axes>"
      ]
     },
     "metadata": {
      "needs_background": "light"
     },
     "output_type": "display_data"
    }
   ],
   "source": [
    "plt.figure(figsize=(10,6))\n",
    "plt.title('K Means')\n",
    "plt.scatter(Temp1['State Number'], Temp1['avgtemp_2018'], Temp1['avgtemp_2020'], c=kmeans.labels_, cmap='viridis')"
   ]
  },
  {
   "cell_type": "code",
   "execution_count": 29,
   "id": "6c05b9ee",
   "metadata": {},
   "outputs": [],
   "source": [
    "Temp1['Group'] = kmeans.labels_"
   ]
  },
  {
   "cell_type": "code",
   "execution_count": 30,
   "id": "6dec496b",
   "metadata": {},
   "outputs": [
    {
     "data": {
      "text/html": [
       "<div>\n",
       "<style scoped>\n",
       "    .dataframe tbody tr th:only-of-type {\n",
       "        vertical-align: middle;\n",
       "    }\n",
       "\n",
       "    .dataframe tbody tr th {\n",
       "        vertical-align: top;\n",
       "    }\n",
       "\n",
       "    .dataframe thead th {\n",
       "        text-align: right;\n",
       "    }\n",
       "</style>\n",
       "<table border=\"1\" class=\"dataframe\">\n",
       "  <thead>\n",
       "    <tr style=\"text-align: right;\">\n",
       "      <th></th>\n",
       "      <th>State Number</th>\n",
       "      <th>avgtemp_2021</th>\n",
       "      <th>avgtemp_2020</th>\n",
       "      <th>avgtemp_2019</th>\n",
       "      <th>avgtemp_2018</th>\n",
       "      <th>avgtemp_2017</th>\n",
       "      <th>avgtemp_2016</th>\n",
       "      <th>avgtemp_2015</th>\n",
       "      <th>avgtemp_2014</th>\n",
       "      <th>avgtemp_2013</th>\n",
       "      <th>avgtemp_2012</th>\n",
       "      <th>avgtemp_2011</th>\n",
       "      <th>avgtemp_2010</th>\n",
       "      <th>Group</th>\n",
       "    </tr>\n",
       "  </thead>\n",
       "  <tbody>\n",
       "    <tr>\n",
       "      <th>0</th>\n",
       "      <td>1</td>\n",
       "      <td>64.2</td>\n",
       "      <td>64.9</td>\n",
       "      <td>65.4</td>\n",
       "      <td>64.5</td>\n",
       "      <td>65.0</td>\n",
       "      <td>65.3</td>\n",
       "      <td>64.6</td>\n",
       "      <td>62.0</td>\n",
       "      <td>62.6</td>\n",
       "      <td>64.9</td>\n",
       "      <td>63.8</td>\n",
       "      <td>62.7</td>\n",
       "      <td>1</td>\n",
       "    </tr>\n",
       "    <tr>\n",
       "      <th>1</th>\n",
       "      <td>2</td>\n",
       "      <td>26.5</td>\n",
       "      <td>27.5</td>\n",
       "      <td>32.2</td>\n",
       "      <td>30.4</td>\n",
       "      <td>29.3</td>\n",
       "      <td>31.9</td>\n",
       "      <td>30.0</td>\n",
       "      <td>30.3</td>\n",
       "      <td>27.8</td>\n",
       "      <td>24.3</td>\n",
       "      <td>27.0</td>\n",
       "      <td>27.4</td>\n",
       "      <td>0</td>\n",
       "    </tr>\n",
       "    <tr>\n",
       "      <th>2</th>\n",
       "      <td>3</td>\n",
       "      <td>62.2</td>\n",
       "      <td>62.6</td>\n",
       "      <td>60.3</td>\n",
       "      <td>62.3</td>\n",
       "      <td>63.0</td>\n",
       "      <td>62.2</td>\n",
       "      <td>61.8</td>\n",
       "      <td>62.2</td>\n",
       "      <td>60.4</td>\n",
       "      <td>62.1</td>\n",
       "      <td>60.3</td>\n",
       "      <td>60.4</td>\n",
       "      <td>1</td>\n",
       "    </tr>\n",
       "    <tr>\n",
       "      <th>3</th>\n",
       "      <td>4</td>\n",
       "      <td>61.2</td>\n",
       "      <td>61.1</td>\n",
       "      <td>61.2</td>\n",
       "      <td>61.2</td>\n",
       "      <td>62.5</td>\n",
       "      <td>62.8</td>\n",
       "      <td>61.4</td>\n",
       "      <td>58.7</td>\n",
       "      <td>59.6</td>\n",
       "      <td>63.6</td>\n",
       "      <td>61.8</td>\n",
       "      <td>61.2</td>\n",
       "      <td>1</td>\n",
       "    </tr>\n",
       "    <tr>\n",
       "      <th>4</th>\n",
       "      <td>5</td>\n",
       "      <td>60.3</td>\n",
       "      <td>60.5</td>\n",
       "      <td>58.4</td>\n",
       "      <td>60.1</td>\n",
       "      <td>60.3</td>\n",
       "      <td>60.1</td>\n",
       "      <td>60.8</td>\n",
       "      <td>61.4</td>\n",
       "      <td>59.3</td>\n",
       "      <td>59.5</td>\n",
       "      <td>57.4</td>\n",
       "      <td>57.7</td>\n",
       "      <td>1</td>\n",
       "    </tr>\n",
       "  </tbody>\n",
       "</table>\n",
       "</div>"
      ],
      "text/plain": [
       "   State Number  avgtemp_2021  avgtemp_2020  avgtemp_2019  avgtemp_2018  \\\n",
       "0             1          64.2          64.9          65.4          64.5   \n",
       "1             2          26.5          27.5          32.2          30.4   \n",
       "2             3          62.2          62.6          60.3          62.3   \n",
       "3             4          61.2          61.1          61.2          61.2   \n",
       "4             5          60.3          60.5          58.4          60.1   \n",
       "\n",
       "   avgtemp_2017  avgtemp_2016  avgtemp_2015  avgtemp_2014  avgtemp_2013  \\\n",
       "0          65.0          65.3          64.6          62.0          62.6   \n",
       "1          29.3          31.9          30.0          30.3          27.8   \n",
       "2          63.0          62.2          61.8          62.2          60.4   \n",
       "3          62.5          62.8          61.4          58.7          59.6   \n",
       "4          60.3          60.1          60.8          61.4          59.3   \n",
       "\n",
       "   avgtemp_2012  avgtemp_2011  avgtemp_2010  Group  \n",
       "0          64.9          63.8          62.7      1  \n",
       "1          24.3          27.0          27.4      0  \n",
       "2          62.1          60.3          60.4      1  \n",
       "3          63.6          61.8          61.2      1  \n",
       "4          59.5          57.4          57.7      1  "
      ]
     },
     "execution_count": 30,
     "metadata": {},
     "output_type": "execute_result"
    }
   ],
   "source": [
    "Temp1.head()"
   ]
  },
  {
   "cell_type": "code",
   "execution_count": 31,
   "id": "3969c0be",
   "metadata": {},
   "outputs": [
    {
     "data": {
      "text/plain": [
       "Group\n",
       "0    27.370370\n",
       "1    20.857143\n",
       "Name: State Number, dtype: float64"
      ]
     },
     "execution_count": 31,
     "metadata": {},
     "output_type": "execute_result"
    }
   ],
   "source": [
    "Temp1.groupby('Group')['State Number'].mean()"
   ]
  },
  {
   "cell_type": "code",
   "execution_count": 32,
   "id": "dba1ff10",
   "metadata": {},
   "outputs": [
    {
     "data": {
      "text/plain": [
       "Group\n",
       "0    47.922222\n",
       "1    60.857143\n",
       "Name: avgtemp_2021, dtype: float64"
      ]
     },
     "execution_count": 32,
     "metadata": {},
     "output_type": "execute_result"
    }
   ],
   "source": [
    "Temp1.groupby('Group')['avgtemp_2021'].mean()"
   ]
  },
  {
   "cell_type": "code",
   "execution_count": 33,
   "id": "3b2b8bef",
   "metadata": {},
   "outputs": [
    {
     "data": {
      "text/plain": [
       "Group\n",
       "0    46.955556\n",
       "1    59.661905\n",
       "Name: avgtemp_2010, dtype: float64"
      ]
     },
     "execution_count": 33,
     "metadata": {},
     "output_type": "execute_result"
    }
   ],
   "source": [
    "Temp1.groupby('Group')['avgtemp_2010'].mean()"
   ]
  },
  {
   "cell_type": "code",
   "execution_count": 34,
   "id": "7d954448",
   "metadata": {},
   "outputs": [
    {
     "data": {
      "text/plain": [
       "Group\n",
       "0    47.403704\n",
       "1    60.814286\n",
       "Name: avgtemp_2015, dtype: float64"
      ]
     },
     "execution_count": 34,
     "metadata": {},
     "output_type": "execute_result"
    }
   ],
   "source": [
    "Temp1.groupby('Group')['avgtemp_2015'].mean()"
   ]
  },
  {
   "cell_type": "code",
   "execution_count": 35,
   "id": "8cc693c3",
   "metadata": {},
   "outputs": [
    {
     "data": {
      "text/plain": [
       "Group\n",
       "0    46.681481\n",
       "1    60.676190\n",
       "Name: avgtemp_2018, dtype: float64"
      ]
     },
     "execution_count": 35,
     "metadata": {},
     "output_type": "execute_result"
    }
   ],
   "source": [
    "Temp1.groupby('Group')['avgtemp_2018'].mean()"
   ]
  },
  {
   "cell_type": "code",
   "execution_count": 36,
   "id": "3e3f25a0",
   "metadata": {},
   "outputs": [
    {
     "data": {
      "text/plain": [
       "Group\n",
       "0    47.603704\n",
       "1    61.261905\n",
       "Name: avgtemp_2020, dtype: float64"
      ]
     },
     "execution_count": 36,
     "metadata": {},
     "output_type": "execute_result"
    }
   ],
   "source": [
    "Temp1.groupby('Group')['avgtemp_2020'].mean()"
   ]
  },
  {
   "cell_type": "code",
   "execution_count": 37,
   "id": "a21bdb25",
   "metadata": {},
   "outputs": [
    {
     "data": {
      "text/plain": [
       "array([[27.37037037, 47.92222222, 47.6037037 , 45.94814815, 46.68148148,\n",
       "        47.37777778, 48.26296296, 47.4037037 , 45.60740741, 45.78148148,\n",
       "        48.34074074, 46.46666667, 46.95555556],\n",
       "       [20.85714286, 60.85714286, 61.26190476, 60.76666667, 60.67619048,\n",
       "        61.57619048, 61.55714286, 60.81428571, 58.88095238, 59.19047619,\n",
       "        61.85714286, 60.57619048, 59.66190476]])"
      ]
     },
     "execution_count": 37,
     "metadata": {},
     "output_type": "execute_result"
    }
   ],
   "source": [
    "kmeans.cluster_centers_"
   ]
  },
  {
   "cell_type": "markdown",
   "id": "c38d39ce",
   "metadata": {},
   "source": [
    "# Decision Trees"
   ]
  },
  {
   "cell_type": "code",
   "execution_count": 38,
   "id": "4fa870f4",
   "metadata": {},
   "outputs": [],
   "source": [
    "import pandas as pd\n",
    "import numpy as np\n",
    "import matplotlib.pyplot as plt\n",
    "import seaborn as sns\n",
    "%matplotlib inline\n",
    "from sklearn.model_selection import train_test_split\n",
    "from sklearn.tree import DecisionTreeClassifier\n",
    "from sklearn.metrics import classification_report, confusion_matrix, accuracy_score"
   ]
  },
  {
   "cell_type": "code",
   "execution_count": 39,
   "id": "a0a0cd9e",
   "metadata": {},
   "outputs": [
    {
     "data": {
      "text/html": [
       "<div>\n",
       "<style scoped>\n",
       "    .dataframe tbody tr th:only-of-type {\n",
       "        vertical-align: middle;\n",
       "    }\n",
       "\n",
       "    .dataframe tbody tr th {\n",
       "        vertical-align: top;\n",
       "    }\n",
       "\n",
       "    .dataframe thead th {\n",
       "        text-align: right;\n",
       "    }\n",
       "</style>\n",
       "<table border=\"1\" class=\"dataframe\">\n",
       "  <thead>\n",
       "    <tr style=\"text-align: right;\">\n",
       "      <th></th>\n",
       "      <th>State Number</th>\n",
       "      <th>States</th>\n",
       "      <th>avgtemp_2021</th>\n",
       "      <th>avgtemp_2020</th>\n",
       "      <th>avgtemp_2019</th>\n",
       "      <th>avgtemp_2018</th>\n",
       "      <th>avgtemp_2017</th>\n",
       "      <th>avgtemp_2016</th>\n",
       "      <th>avgtemp_2015</th>\n",
       "      <th>avgtemp_2014</th>\n",
       "      <th>avgtemp_2013</th>\n",
       "      <th>avgtemp_2012</th>\n",
       "      <th>avgtemp_2011</th>\n",
       "      <th>avgtemp_2010</th>\n",
       "    </tr>\n",
       "  </thead>\n",
       "  <tbody>\n",
       "    <tr>\n",
       "      <th>0</th>\n",
       "      <td>1</td>\n",
       "      <td>Alabama</td>\n",
       "      <td>64.2</td>\n",
       "      <td>64.9</td>\n",
       "      <td>65.4</td>\n",
       "      <td>64.5</td>\n",
       "      <td>65.0</td>\n",
       "      <td>65.3</td>\n",
       "      <td>64.6</td>\n",
       "      <td>62.0</td>\n",
       "      <td>62.6</td>\n",
       "      <td>64.9</td>\n",
       "      <td>63.8</td>\n",
       "      <td>62.7</td>\n",
       "    </tr>\n",
       "    <tr>\n",
       "      <th>1</th>\n",
       "      <td>2</td>\n",
       "      <td>Alaska</td>\n",
       "      <td>26.5</td>\n",
       "      <td>27.5</td>\n",
       "      <td>32.2</td>\n",
       "      <td>30.4</td>\n",
       "      <td>29.3</td>\n",
       "      <td>31.9</td>\n",
       "      <td>30.0</td>\n",
       "      <td>30.3</td>\n",
       "      <td>27.8</td>\n",
       "      <td>24.3</td>\n",
       "      <td>27.0</td>\n",
       "      <td>27.4</td>\n",
       "    </tr>\n",
       "    <tr>\n",
       "      <th>2</th>\n",
       "      <td>3</td>\n",
       "      <td>Arizona</td>\n",
       "      <td>62.2</td>\n",
       "      <td>62.6</td>\n",
       "      <td>60.3</td>\n",
       "      <td>62.3</td>\n",
       "      <td>63.0</td>\n",
       "      <td>62.2</td>\n",
       "      <td>61.8</td>\n",
       "      <td>62.2</td>\n",
       "      <td>60.4</td>\n",
       "      <td>62.1</td>\n",
       "      <td>60.3</td>\n",
       "      <td>60.4</td>\n",
       "    </tr>\n",
       "    <tr>\n",
       "      <th>3</th>\n",
       "      <td>4</td>\n",
       "      <td>Arkansas</td>\n",
       "      <td>61.2</td>\n",
       "      <td>61.1</td>\n",
       "      <td>61.2</td>\n",
       "      <td>61.2</td>\n",
       "      <td>62.5</td>\n",
       "      <td>62.8</td>\n",
       "      <td>61.4</td>\n",
       "      <td>58.7</td>\n",
       "      <td>59.6</td>\n",
       "      <td>63.6</td>\n",
       "      <td>61.8</td>\n",
       "      <td>61.2</td>\n",
       "    </tr>\n",
       "    <tr>\n",
       "      <th>4</th>\n",
       "      <td>5</td>\n",
       "      <td>California</td>\n",
       "      <td>60.3</td>\n",
       "      <td>60.5</td>\n",
       "      <td>58.4</td>\n",
       "      <td>60.1</td>\n",
       "      <td>60.3</td>\n",
       "      <td>60.1</td>\n",
       "      <td>60.8</td>\n",
       "      <td>61.4</td>\n",
       "      <td>59.3</td>\n",
       "      <td>59.5</td>\n",
       "      <td>57.4</td>\n",
       "      <td>57.7</td>\n",
       "    </tr>\n",
       "  </tbody>\n",
       "</table>\n",
       "</div>"
      ],
      "text/plain": [
       "   State Number      States  avgtemp_2021  avgtemp_2020  avgtemp_2019  \\\n",
       "0             1     Alabama          64.2          64.9          65.4   \n",
       "1             2      Alaska          26.5          27.5          32.2   \n",
       "2             3     Arizona          62.2          62.6          60.3   \n",
       "3             4    Arkansas          61.2          61.1          61.2   \n",
       "4             5  California          60.3          60.5          58.4   \n",
       "\n",
       "   avgtemp_2018  avgtemp_2017  avgtemp_2016  avgtemp_2015  avgtemp_2014  \\\n",
       "0          64.5          65.0          65.3          64.6          62.0   \n",
       "1          30.4          29.3          31.9          30.0          30.3   \n",
       "2          62.3          63.0          62.2          61.8          62.2   \n",
       "3          61.2          62.5          62.8          61.4          58.7   \n",
       "4          60.1          60.3          60.1          60.8          61.4   \n",
       "\n",
       "   avgtemp_2013  avgtemp_2012  avgtemp_2011  avgtemp_2010  \n",
       "0          62.6          64.9          63.8          62.7  \n",
       "1          27.8          24.3          27.0          27.4  \n",
       "2          60.4          62.1          60.3          60.4  \n",
       "3          59.6          63.6          61.8          61.2  \n",
       "4          59.3          59.5          57.4          57.7  "
      ]
     },
     "execution_count": 39,
     "metadata": {},
     "output_type": "execute_result"
    }
   ],
   "source": [
    "Temp.head()"
   ]
  },
  {
   "cell_type": "code",
   "execution_count": 40,
   "id": "44410d9a",
   "metadata": {},
   "outputs": [
    {
     "data": {
      "text/html": [
       "<div>\n",
       "<style scoped>\n",
       "    .dataframe tbody tr th:only-of-type {\n",
       "        vertical-align: middle;\n",
       "    }\n",
       "\n",
       "    .dataframe tbody tr th {\n",
       "        vertical-align: top;\n",
       "    }\n",
       "\n",
       "    .dataframe thead th {\n",
       "        text-align: right;\n",
       "    }\n",
       "</style>\n",
       "<table border=\"1\" class=\"dataframe\">\n",
       "  <thead>\n",
       "    <tr style=\"text-align: right;\">\n",
       "      <th></th>\n",
       "      <th>States</th>\n",
       "      <th>avgtemp_2021</th>\n",
       "      <th>avgtemp_2020</th>\n",
       "      <th>avgtemp_2019</th>\n",
       "      <th>avgtemp_2018</th>\n",
       "      <th>avgtemp_2017</th>\n",
       "      <th>avgtemp_2016</th>\n",
       "      <th>avgtemp_2015</th>\n",
       "      <th>avgtemp_2014</th>\n",
       "      <th>avgtemp_2013</th>\n",
       "      <th>avgtemp_2012</th>\n",
       "      <th>avgtemp_2011</th>\n",
       "      <th>avgtemp_2010</th>\n",
       "    </tr>\n",
       "  </thead>\n",
       "  <tbody>\n",
       "    <tr>\n",
       "      <th>0</th>\n",
       "      <td>Alabama</td>\n",
       "      <td>64.2</td>\n",
       "      <td>64.9</td>\n",
       "      <td>65.4</td>\n",
       "      <td>64.5</td>\n",
       "      <td>65.0</td>\n",
       "      <td>65.3</td>\n",
       "      <td>64.6</td>\n",
       "      <td>62.0</td>\n",
       "      <td>62.6</td>\n",
       "      <td>64.9</td>\n",
       "      <td>63.8</td>\n",
       "      <td>62.7</td>\n",
       "    </tr>\n",
       "    <tr>\n",
       "      <th>1</th>\n",
       "      <td>Alaska</td>\n",
       "      <td>26.5</td>\n",
       "      <td>27.5</td>\n",
       "      <td>32.2</td>\n",
       "      <td>30.4</td>\n",
       "      <td>29.3</td>\n",
       "      <td>31.9</td>\n",
       "      <td>30.0</td>\n",
       "      <td>30.3</td>\n",
       "      <td>27.8</td>\n",
       "      <td>24.3</td>\n",
       "      <td>27.0</td>\n",
       "      <td>27.4</td>\n",
       "    </tr>\n",
       "    <tr>\n",
       "      <th>2</th>\n",
       "      <td>Arizona</td>\n",
       "      <td>62.2</td>\n",
       "      <td>62.6</td>\n",
       "      <td>60.3</td>\n",
       "      <td>62.3</td>\n",
       "      <td>63.0</td>\n",
       "      <td>62.2</td>\n",
       "      <td>61.8</td>\n",
       "      <td>62.2</td>\n",
       "      <td>60.4</td>\n",
       "      <td>62.1</td>\n",
       "      <td>60.3</td>\n",
       "      <td>60.4</td>\n",
       "    </tr>\n",
       "    <tr>\n",
       "      <th>3</th>\n",
       "      <td>Arkansas</td>\n",
       "      <td>61.2</td>\n",
       "      <td>61.1</td>\n",
       "      <td>61.2</td>\n",
       "      <td>61.2</td>\n",
       "      <td>62.5</td>\n",
       "      <td>62.8</td>\n",
       "      <td>61.4</td>\n",
       "      <td>58.7</td>\n",
       "      <td>59.6</td>\n",
       "      <td>63.6</td>\n",
       "      <td>61.8</td>\n",
       "      <td>61.2</td>\n",
       "    </tr>\n",
       "    <tr>\n",
       "      <th>4</th>\n",
       "      <td>California</td>\n",
       "      <td>60.3</td>\n",
       "      <td>60.5</td>\n",
       "      <td>58.4</td>\n",
       "      <td>60.1</td>\n",
       "      <td>60.3</td>\n",
       "      <td>60.1</td>\n",
       "      <td>60.8</td>\n",
       "      <td>61.4</td>\n",
       "      <td>59.3</td>\n",
       "      <td>59.5</td>\n",
       "      <td>57.4</td>\n",
       "      <td>57.7</td>\n",
       "    </tr>\n",
       "  </tbody>\n",
       "</table>\n",
       "</div>"
      ],
      "text/plain": [
       "       States  avgtemp_2021  avgtemp_2020  avgtemp_2019  avgtemp_2018  \\\n",
       "0     Alabama          64.2          64.9          65.4          64.5   \n",
       "1      Alaska          26.5          27.5          32.2          30.4   \n",
       "2     Arizona          62.2          62.6          60.3          62.3   \n",
       "3    Arkansas          61.2          61.1          61.2          61.2   \n",
       "4  California          60.3          60.5          58.4          60.1   \n",
       "\n",
       "   avgtemp_2017  avgtemp_2016  avgtemp_2015  avgtemp_2014  avgtemp_2013  \\\n",
       "0          65.0          65.3          64.6          62.0          62.6   \n",
       "1          29.3          31.9          30.0          30.3          27.8   \n",
       "2          63.0          62.2          61.8          62.2          60.4   \n",
       "3          62.5          62.8          61.4          58.7          59.6   \n",
       "4          60.3          60.1          60.8          61.4          59.3   \n",
       "\n",
       "   avgtemp_2012  avgtemp_2011  avgtemp_2010  \n",
       "0          64.9          63.8          62.7  \n",
       "1          24.3          27.0          27.4  \n",
       "2          62.1          60.3          60.4  \n",
       "3          63.6          61.8          61.2  \n",
       "4          59.5          57.4          57.7  "
      ]
     },
     "execution_count": 40,
     "metadata": {},
     "output_type": "execute_result"
    }
   ],
   "source": [
    "Temp2 = Temp.drop('State Number', axis=1)\n",
    "Temp2.head()"
   ]
  },
  {
   "cell_type": "code",
   "execution_count": 41,
   "id": "3f0cafbc",
   "metadata": {},
   "outputs": [],
   "source": [
    "x = Temp2.drop('States', axis=1)\n",
    "y = Temp2['States']"
   ]
  },
  {
   "cell_type": "code",
   "execution_count": 42,
   "id": "e1ac7bcc",
   "metadata": {},
   "outputs": [],
   "source": [
    "x_train, x_test, y_train, y_test = train_test_split(x,y, test_size=0.3, random_state=76)"
   ]
  },
  {
   "cell_type": "code",
   "execution_count": 43,
   "id": "fdb46c97",
   "metadata": {},
   "outputs": [
    {
     "data": {
      "text/plain": [
       "DecisionTreeClassifier(random_state=76)"
      ]
     },
     "execution_count": 43,
     "metadata": {},
     "output_type": "execute_result"
    }
   ],
   "source": [
    "decisionTree = DecisionTreeClassifier(random_state=76)\n",
    "decisionTree.fit(x_train, y_train)"
   ]
  },
  {
   "cell_type": "code",
   "execution_count": 44,
   "id": "bda9912a",
   "metadata": {},
   "outputs": [
    {
     "name": "stdout",
     "output_type": "stream",
     "text": [
      "[[0 0 0 0 0 0 0 0 0 0 0 0 0 0 0 0 0 0 1 0 0 0 0 0 0]\n",
      " [0 0 0 0 0 0 0 0 0 0 0 0 0 0 0 0 0 0 0 0 0 0 0 0 0]\n",
      " [0 0 0 0 0 0 0 0 0 0 0 0 0 0 0 0 0 0 0 0 0 0 0 0 0]\n",
      " [0 0 0 0 0 0 0 0 0 0 0 0 0 0 0 0 0 0 0 1 0 0 0 0 0]\n",
      " [0 0 0 0 0 0 0 0 0 1 0 0 0 0 0 0 0 0 0 0 0 0 0 0 0]\n",
      " [0 0 0 0 0 0 0 0 1 0 0 0 0 0 0 0 0 0 0 0 0 0 0 0 0]\n",
      " [0 0 0 0 0 0 0 0 0 0 0 0 0 0 0 0 0 0 0 0 0 0 0 0 0]\n",
      " [0 0 0 0 0 0 0 0 0 0 1 0 0 0 0 0 0 0 0 0 0 0 0 0 0]\n",
      " [0 0 0 0 0 0 0 0 0 0 0 0 0 0 0 0 0 0 0 0 0 0 0 0 0]\n",
      " [0 0 0 0 0 0 0 0 0 0 0 0 0 0 0 0 0 0 0 0 0 0 0 0 0]\n",
      " [0 0 0 0 0 0 0 0 0 0 0 0 0 0 0 0 0 0 0 0 0 0 0 0 0]\n",
      " [0 0 0 0 0 0 0 0 0 0 0 0 0 0 0 0 0 0 0 1 0 0 0 0 0]\n",
      " [0 0 0 0 0 0 0 0 0 0 0 0 0 1 0 0 0 0 0 0 0 0 0 0 0]\n",
      " [0 0 0 0 0 0 0 0 0 0 0 0 0 0 0 0 0 0 0 0 0 0 0 0 0]\n",
      " [0 0 1 0 0 0 0 0 0 0 0 0 0 0 0 0 0 0 0 0 0 0 0 0 0]\n",
      " [0 0 0 0 0 0 0 0 0 0 0 0 0 0 0 0 0 0 1 0 0 0 0 0 0]\n",
      " [0 0 0 0 0 0 0 0 0 0 0 0 0 0 0 0 0 0 0 0 0 0 0 0 0]\n",
      " [0 0 0 0 0 0 1 0 0 0 0 0 0 0 0 0 0 0 0 0 0 0 0 0 0]\n",
      " [0 0 0 0 0 0 0 0 0 0 0 0 0 0 0 0 0 0 0 0 0 0 0 0 0]\n",
      " [0 0 0 0 0 0 0 0 0 0 0 0 0 0 0 0 0 0 0 0 0 0 0 0 0]\n",
      " [0 0 0 0 0 0 0 0 0 0 0 0 0 0 0 0 0 0 0 1 0 0 0 0 0]\n",
      " [0 1 0 0 0 0 0 0 0 0 0 0 0 0 0 0 0 0 0 0 0 0 0 0 0]\n",
      " [0 0 0 0 0 0 0 0 0 1 0 0 0 0 0 0 0 0 0 0 0 0 0 0 0]\n",
      " [0 0 0 0 0 0 1 0 0 0 0 0 0 0 0 0 0 0 0 0 0 0 0 0 0]\n",
      " [0 0 0 0 0 0 0 0 0 0 0 0 0 0 0 0 1 0 0 0 0 0 0 0 0]]\n",
      "                precision    recall  f1-score   support\n",
      "\n",
      "      Arkansas       0.00      0.00      0.00       1.0\n",
      "    California       0.00      0.00      0.00       0.0\n",
      "      Colorodo       0.00      0.00      0.00       0.0\n",
      "   Connecticut       0.00      0.00      0.00       1.0\n",
      "       Georgia       0.00      0.00      0.00       1.0\n",
      "         Idaho       0.00      0.00      0.00       1.0\n",
      "       Indiana       0.00      0.00      0.00       0.0\n",
      "        Kansas       0.00      0.00      0.00       1.0\n",
      "         Maine       0.00      0.00      0.00       0.0\n",
      "   Mississippi       0.00      0.00      0.00       0.0\n",
      "      Missouri       0.00      0.00      0.00       0.0\n",
      "      Nebraska       0.00      0.00      0.00       1.0\n",
      "    New Jersey       0.00      0.00      0.00       1.0\n",
      "    New Mexico       0.00      0.00      0.00       0.0\n",
      "      New York       0.00      0.00      0.00       1.0\n",
      "North Carolina       0.00      0.00      0.00       1.0\n",
      "  North Dakota       0.00      0.00      0.00       0.0\n",
      "          Ohio       0.00      0.00      0.00       1.0\n",
      "      Oklahoma       0.00      0.00      0.00       0.0\n",
      "  Pennsylvania       0.00      0.00      0.00       0.0\n",
      "  Rhode Island       0.00      0.00      0.00       1.0\n",
      "     Tennessee       0.00      0.00      0.00       1.0\n",
      "         Texas       0.00      0.00      0.00       1.0\n",
      " West Virginia       0.00      0.00      0.00       1.0\n",
      "       Wyoming       0.00      0.00      0.00       1.0\n",
      "\n",
      "      accuracy                           0.00      15.0\n",
      "     macro avg       0.00      0.00      0.00      15.0\n",
      "  weighted avg       0.00      0.00      0.00      15.0\n",
      "\n"
     ]
    },
    {
     "name": "stderr",
     "output_type": "stream",
     "text": [
      "/Users/lakisha/opt/anaconda3/lib/python3.9/site-packages/sklearn/metrics/_classification.py:1248: UndefinedMetricWarning: Precision and F-score are ill-defined and being set to 0.0 in labels with no predicted samples. Use `zero_division` parameter to control this behavior.\n",
      "  _warn_prf(average, modifier, msg_start, len(result))\n",
      "/Users/lakisha/opt/anaconda3/lib/python3.9/site-packages/sklearn/metrics/_classification.py:1248: UndefinedMetricWarning: Recall and F-score are ill-defined and being set to 0.0 in labels with no true samples. Use `zero_division` parameter to control this behavior.\n",
      "  _warn_prf(average, modifier, msg_start, len(result))\n",
      "/Users/lakisha/opt/anaconda3/lib/python3.9/site-packages/sklearn/metrics/_classification.py:1248: UndefinedMetricWarning: Precision and F-score are ill-defined and being set to 0.0 in labels with no predicted samples. Use `zero_division` parameter to control this behavior.\n",
      "  _warn_prf(average, modifier, msg_start, len(result))\n",
      "/Users/lakisha/opt/anaconda3/lib/python3.9/site-packages/sklearn/metrics/_classification.py:1248: UndefinedMetricWarning: Recall and F-score are ill-defined and being set to 0.0 in labels with no true samples. Use `zero_division` parameter to control this behavior.\n",
      "  _warn_prf(average, modifier, msg_start, len(result))\n",
      "/Users/lakisha/opt/anaconda3/lib/python3.9/site-packages/sklearn/metrics/_classification.py:1248: UndefinedMetricWarning: Precision and F-score are ill-defined and being set to 0.0 in labels with no predicted samples. Use `zero_division` parameter to control this behavior.\n",
      "  _warn_prf(average, modifier, msg_start, len(result))\n",
      "/Users/lakisha/opt/anaconda3/lib/python3.9/site-packages/sklearn/metrics/_classification.py:1248: UndefinedMetricWarning: Recall and F-score are ill-defined and being set to 0.0 in labels with no true samples. Use `zero_division` parameter to control this behavior.\n",
      "  _warn_prf(average, modifier, msg_start, len(result))\n"
     ]
    }
   ],
   "source": [
    "treePredictions = decisionTree.predict(x_test)\n",
    "from sklearn.metrics import classification_report,confusion_matrix\n",
    "print(confusion_matrix(y_test,treePredictions))\n",
    "print(classification_report(y_test,treePredictions))"
   ]
  },
  {
   "cell_type": "markdown",
   "id": "859e144f",
   "metadata": {},
   "source": [
    "# Random Forest"
   ]
  },
  {
   "cell_type": "code",
   "execution_count": 45,
   "id": "2b79917d",
   "metadata": {},
   "outputs": [],
   "source": [
    "import pandas as pd\n",
    "import numpy as np\n",
    "import matplotlib.pyplot as plt\n",
    "import seaborn as sns\n",
    "%matplotlib inline\n",
    "from sklearn.ensemble import RandomForestClassifier\n",
    "from sklearn.model_selection import train_test_split\n",
    "from sklearn.metrics import classification_report, confusion_matrix"
   ]
  },
  {
   "cell_type": "code",
   "execution_count": 47,
   "id": "f822da9c",
   "metadata": {},
   "outputs": [],
   "source": [
    "x = Temp2.drop('States', axis=1)\n",
    "y = Temp2['States']"
   ]
  },
  {
   "cell_type": "code",
   "execution_count": 48,
   "id": "4540b4f9",
   "metadata": {},
   "outputs": [],
   "source": [
    "x_train, x_test, y_train, y_test = train_test_split(x,y, test_size=0.3, random_state=76)"
   ]
  },
  {
   "cell_type": "code",
   "execution_count": 49,
   "id": "c3205bc9",
   "metadata": {},
   "outputs": [
    {
     "data": {
      "text/plain": [
       "RandomForestClassifier(n_estimators=10, random_state=76)"
      ]
     },
     "execution_count": 49,
     "metadata": {},
     "output_type": "execute_result"
    }
   ],
   "source": [
    "forest = RandomForestClassifier(n_estimators=10, random_state=76)\n",
    "forest.fit(x_train, y_train)"
   ]
  },
  {
   "cell_type": "code",
   "execution_count": 50,
   "id": "1a7ef7a7",
   "metadata": {},
   "outputs": [
    {
     "name": "stdout",
     "output_type": "stream",
     "text": [
      "[[0 0 0 0 0 0 0 0 0 0 0 0 0 0 0 0 0 0 1 0 0 0 0 0 0 0]\n",
      " [0 0 0 0 0 0 0 0 0 0 0 0 0 0 0 0 0 0 0 0 0 0 0 0 0 0]\n",
      " [0 0 0 0 0 0 0 0 0 0 0 0 0 0 0 0 0 0 0 1 0 0 0 0 0 0]\n",
      " [0 0 0 0 0 0 0 0 0 0 1 0 0 0 0 0 0 0 0 0 0 0 0 0 0 0]\n",
      " [0 0 0 0 0 0 0 0 0 0 0 0 0 0 0 0 0 0 0 0 0 0 0 1 0 0]\n",
      " [0 0 0 0 0 0 0 0 0 0 0 0 0 0 0 0 0 0 0 0 0 0 0 0 0 0]\n",
      " [0 0 0 0 0 0 0 0 0 0 0 0 0 0 0 0 0 0 0 0 0 0 0 0 0 0]\n",
      " [0 0 0 0 0 0 0 0 1 0 0 0 0 0 0 0 0 0 0 0 0 0 0 0 0 0]\n",
      " [0 0 0 0 0 0 0 0 0 0 0 0 0 0 0 0 0 0 0 0 0 0 0 0 0 0]\n",
      " [0 0 0 0 0 0 0 0 0 0 0 0 0 0 0 0 0 0 0 0 0 0 0 0 0 0]\n",
      " [0 0 0 0 0 0 0 0 0 0 0 0 0 0 0 0 0 0 0 0 0 0 0 0 0 0]\n",
      " [0 0 0 0 0 0 0 0 0 0 0 0 0 0 0 0 0 0 0 0 0 0 0 0 0 0]\n",
      " [0 0 0 0 0 0 0 0 0 0 0 0 0 0 0 0 0 0 0 0 0 0 0 0 0 0]\n",
      " [0 0 0 0 0 0 0 0 0 1 0 0 0 0 0 0 0 0 0 0 0 0 0 0 0 0]\n",
      " [0 0 0 0 0 0 0 0 0 0 0 1 0 0 0 0 0 0 0 0 0 0 0 0 0 0]\n",
      " [0 0 0 0 0 0 1 0 0 0 0 0 0 0 0 0 0 0 0 0 0 0 0 0 0 0]\n",
      " [0 1 0 0 0 0 0 0 0 0 0 0 0 0 0 0 0 0 0 0 0 0 0 0 0 0]\n",
      " [0 0 0 0 0 1 0 0 0 0 0 0 0 0 0 0 0 0 0 0 0 0 0 0 0 0]\n",
      " [0 0 0 0 0 0 0 0 0 0 0 0 0 0 0 0 0 0 0 0 0 0 0 0 0 0]\n",
      " [0 0 0 0 0 0 0 0 0 0 0 0 0 0 0 0 0 0 0 0 0 0 0 0 0 0]\n",
      " [0 0 0 0 0 1 0 0 0 0 0 0 0 0 0 0 0 0 0 0 0 0 0 0 0 0]\n",
      " [0 1 0 0 0 0 0 0 0 0 0 0 0 0 0 0 0 0 0 0 0 0 0 0 0 0]\n",
      " [0 0 0 0 0 0 0 0 0 0 1 0 0 0 0 0 0 0 0 0 0 0 0 0 0 0]\n",
      " [0 0 0 0 0 0 0 0 0 0 0 0 0 0 0 0 0 0 0 0 0 0 0 0 0 0]\n",
      " [0 0 0 0 0 1 0 0 0 0 0 0 0 0 0 0 0 0 0 0 0 0 0 0 0 0]\n",
      " [0 0 0 0 0 0 0 0 0 0 0 0 1 0 0 0 0 0 0 0 0 0 0 0 0 0]]\n",
      "                precision    recall  f1-score   support\n",
      "\n",
      "      Arkansas       0.00      0.00      0.00       1.0\n",
      "    California       0.00      0.00      0.00       0.0\n",
      "   Connecticut       0.00      0.00      0.00       1.0\n",
      "       Georgia       0.00      0.00      0.00       1.0\n",
      "         Idaho       0.00      0.00      0.00       1.0\n",
      "       Indiana       0.00      0.00      0.00       0.0\n",
      "          Iowa       0.00      0.00      0.00       0.0\n",
      "        Kansas       0.00      0.00      0.00       1.0\n",
      "      Maryland       0.00      0.00      0.00       0.0\n",
      " Massachusetts       0.00      0.00      0.00       0.0\n",
      "   Mississippi       0.00      0.00      0.00       0.0\n",
      "      Missouri       0.00      0.00      0.00       0.0\n",
      "       Montana       0.00      0.00      0.00       0.0\n",
      "      Nebraska       0.00      0.00      0.00       1.0\n",
      "    New Jersey       0.00      0.00      0.00       1.0\n",
      "      New York       0.00      0.00      0.00       1.0\n",
      "North Carolina       0.00      0.00      0.00       1.0\n",
      "          Ohio       0.00      0.00      0.00       1.0\n",
      "      Oklahoma       0.00      0.00      0.00       0.0\n",
      "  Pennsylvania       0.00      0.00      0.00       0.0\n",
      "  Rhode Island       0.00      0.00      0.00       1.0\n",
      "     Tennessee       0.00      0.00      0.00       1.0\n",
      "         Texas       0.00      0.00      0.00       1.0\n",
      "       Vermont       0.00      0.00      0.00       0.0\n",
      " West Virginia       0.00      0.00      0.00       1.0\n",
      "       Wyoming       0.00      0.00      0.00       1.0\n",
      "\n",
      "      accuracy                           0.00      15.0\n",
      "     macro avg       0.00      0.00      0.00      15.0\n",
      "  weighted avg       0.00      0.00      0.00      15.0\n",
      "\n"
     ]
    },
    {
     "name": "stderr",
     "output_type": "stream",
     "text": [
      "/Users/lakisha/opt/anaconda3/lib/python3.9/site-packages/sklearn/metrics/_classification.py:1248: UndefinedMetricWarning: Precision and F-score are ill-defined and being set to 0.0 in labels with no predicted samples. Use `zero_division` parameter to control this behavior.\n",
      "  _warn_prf(average, modifier, msg_start, len(result))\n",
      "/Users/lakisha/opt/anaconda3/lib/python3.9/site-packages/sklearn/metrics/_classification.py:1248: UndefinedMetricWarning: Recall and F-score are ill-defined and being set to 0.0 in labels with no true samples. Use `zero_division` parameter to control this behavior.\n",
      "  _warn_prf(average, modifier, msg_start, len(result))\n",
      "/Users/lakisha/opt/anaconda3/lib/python3.9/site-packages/sklearn/metrics/_classification.py:1248: UndefinedMetricWarning: Precision and F-score are ill-defined and being set to 0.0 in labels with no predicted samples. Use `zero_division` parameter to control this behavior.\n",
      "  _warn_prf(average, modifier, msg_start, len(result))\n",
      "/Users/lakisha/opt/anaconda3/lib/python3.9/site-packages/sklearn/metrics/_classification.py:1248: UndefinedMetricWarning: Recall and F-score are ill-defined and being set to 0.0 in labels with no true samples. Use `zero_division` parameter to control this behavior.\n",
      "  _warn_prf(average, modifier, msg_start, len(result))\n",
      "/Users/lakisha/opt/anaconda3/lib/python3.9/site-packages/sklearn/metrics/_classification.py:1248: UndefinedMetricWarning: Precision and F-score are ill-defined and being set to 0.0 in labels with no predicted samples. Use `zero_division` parameter to control this behavior.\n",
      "  _warn_prf(average, modifier, msg_start, len(result))\n",
      "/Users/lakisha/opt/anaconda3/lib/python3.9/site-packages/sklearn/metrics/_classification.py:1248: UndefinedMetricWarning: Recall and F-score are ill-defined and being set to 0.0 in labels with no true samples. Use `zero_division` parameter to control this behavior.\n",
      "  _warn_prf(average, modifier, msg_start, len(result))\n"
     ]
    }
   ],
   "source": [
    "forestPredictions = forest.predict(x_test)\n",
    "print(confusion_matrix(y_test, forestPredictions))\n",
    "print(classification_report(y_test, forestPredictions))"
   ]
  },
  {
   "cell_type": "code",
   "execution_count": null,
   "id": "031a930a",
   "metadata": {},
   "outputs": [],
   "source": []
  }
 ],
 "metadata": {
  "kernelspec": {
   "display_name": "Python 3 (ipykernel)",
   "language": "python",
   "name": "python3"
  },
  "language_info": {
   "codemirror_mode": {
    "name": "ipython",
    "version": 3
   },
   "file_extension": ".py",
   "mimetype": "text/x-python",
   "name": "python",
   "nbconvert_exporter": "python",
   "pygments_lexer": "ipython3",
   "version": "3.9.7"
  }
 },
 "nbformat": 4,
 "nbformat_minor": 5
}
