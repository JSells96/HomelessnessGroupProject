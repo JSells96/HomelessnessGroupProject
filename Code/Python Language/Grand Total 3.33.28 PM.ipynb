{
 "cells": [
  {
   "cell_type": "code",
   "execution_count": 1,
   "id": "70503e7c",
   "metadata": {},
   "outputs": [],
   "source": [
    "import pandas as pd\n",
    "from sklearn.linear_model import LinearRegression\n",
    "from sklearn.model_selection import train_test_split\n",
    "import matplotlib.pyplot as plt\n",
    "%matplotlib inline\n",
    "from sklearn import metrics\n",
    "import numpy as np"
   ]
  },
  {
   "cell_type": "code",
   "execution_count": 2,
   "id": "ea573e2b",
   "metadata": {},
   "outputs": [],
   "source": [
    "Grand = pd.read_excel('/Users/lakisha/Desktop/Grand Total HUD 2010-2021CoC Homeless Assistance Program Housing Inventory Report.xls')"
   ]
  },
  {
   "cell_type": "code",
   "execution_count": 3,
   "id": "071b5955",
   "metadata": {},
   "outputs": [
    {
     "name": "stdout",
     "output_type": "stream",
     "text": [
      "    Years  Family Units  Family Beds  Adult Only Beds  Child Only Beds  \\\n",
      "0    2021        142349       425650           535165             3422   \n",
      "1    2020        141849       434094           504476             3301   \n",
      "2    2019        135468       418859           489164             3634   \n",
      "3    2018        135370       420424           472526             3943   \n",
      "4    2017        139725       430341           464676             4042   \n",
      "5    2016        132654       413226           449853             4023   \n",
      "6    2015        128707       396796           428525             4799   \n",
      "7    2014        120857       366580           401461             4747   \n",
      "8    2013        113178       343718           382541             4117   \n",
      "9    2012        114237       349277           376318             3459   \n",
      "10   2011        119505       360681           380292                0   \n",
      "11   2010        106193       327605           353467                0   \n",
      "\n",
      "    Total Yr Round Beds  Seasonal  Overflow/Voucher  Veteran Beds  Youth Beds  \n",
      "0                964237     20779             28253        141090       29550  \n",
      "1                941871     20958             14919        138558       27244  \n",
      "2                911657     21746             16311        134576       23710  \n",
      "3                868893     21776             18216        139266       24089  \n",
      "4                899059     19833             15591        141541       23292  \n",
      "5                867102     21358             17446        129290       17180  \n",
      "6                830120     20791             22376        107532       17340  \n",
      "7                772788     22399             28331         90271       14229  \n",
      "8                730376     20822             27233             0           0  \n",
      "9                729054     19708             28098             0           0  \n",
      "10               740973     18952             32567             0           0  \n",
      "11               681072     19668             32393             0           0  \n"
     ]
    }
   ],
   "source": [
    "print (Grand)"
   ]
  },
  {
   "cell_type": "code",
   "execution_count": 4,
   "id": "fb3fb75c",
   "metadata": {},
   "outputs": [
    {
     "data": {
      "text/html": [
       "<div>\n",
       "<style scoped>\n",
       "    .dataframe tbody tr th:only-of-type {\n",
       "        vertical-align: middle;\n",
       "    }\n",
       "\n",
       "    .dataframe tbody tr th {\n",
       "        vertical-align: top;\n",
       "    }\n",
       "\n",
       "    .dataframe thead th {\n",
       "        text-align: right;\n",
       "    }\n",
       "</style>\n",
       "<table border=\"1\" class=\"dataframe\">\n",
       "  <thead>\n",
       "    <tr style=\"text-align: right;\">\n",
       "      <th></th>\n",
       "      <th>Years</th>\n",
       "      <th>Family Units</th>\n",
       "      <th>Family Beds</th>\n",
       "      <th>Adult Only Beds</th>\n",
       "      <th>Child Only Beds</th>\n",
       "      <th>Total Yr Round Beds</th>\n",
       "      <th>Veteran Beds</th>\n",
       "      <th>Youth Beds</th>\n",
       "    </tr>\n",
       "  </thead>\n",
       "  <tbody>\n",
       "    <tr>\n",
       "      <th>0</th>\n",
       "      <td>2021</td>\n",
       "      <td>142349</td>\n",
       "      <td>425650</td>\n",
       "      <td>535165</td>\n",
       "      <td>3422</td>\n",
       "      <td>964237</td>\n",
       "      <td>141090</td>\n",
       "      <td>29550</td>\n",
       "    </tr>\n",
       "    <tr>\n",
       "      <th>1</th>\n",
       "      <td>2020</td>\n",
       "      <td>141849</td>\n",
       "      <td>434094</td>\n",
       "      <td>504476</td>\n",
       "      <td>3301</td>\n",
       "      <td>941871</td>\n",
       "      <td>138558</td>\n",
       "      <td>27244</td>\n",
       "    </tr>\n",
       "    <tr>\n",
       "      <th>2</th>\n",
       "      <td>2019</td>\n",
       "      <td>135468</td>\n",
       "      <td>418859</td>\n",
       "      <td>489164</td>\n",
       "      <td>3634</td>\n",
       "      <td>911657</td>\n",
       "      <td>134576</td>\n",
       "      <td>23710</td>\n",
       "    </tr>\n",
       "    <tr>\n",
       "      <th>3</th>\n",
       "      <td>2018</td>\n",
       "      <td>135370</td>\n",
       "      <td>420424</td>\n",
       "      <td>472526</td>\n",
       "      <td>3943</td>\n",
       "      <td>868893</td>\n",
       "      <td>139266</td>\n",
       "      <td>24089</td>\n",
       "    </tr>\n",
       "    <tr>\n",
       "      <th>4</th>\n",
       "      <td>2017</td>\n",
       "      <td>139725</td>\n",
       "      <td>430341</td>\n",
       "      <td>464676</td>\n",
       "      <td>4042</td>\n",
       "      <td>899059</td>\n",
       "      <td>141541</td>\n",
       "      <td>23292</td>\n",
       "    </tr>\n",
       "  </tbody>\n",
       "</table>\n",
       "</div>"
      ],
      "text/plain": [
       "   Years  Family Units  Family Beds  Adult Only Beds  Child Only Beds  \\\n",
       "0   2021        142349       425650           535165             3422   \n",
       "1   2020        141849       434094           504476             3301   \n",
       "2   2019        135468       418859           489164             3634   \n",
       "3   2018        135370       420424           472526             3943   \n",
       "4   2017        139725       430341           464676             4042   \n",
       "\n",
       "   Total Yr Round Beds  Veteran Beds  Youth Beds  \n",
       "0               964237        141090       29550  \n",
       "1               941871        138558       27244  \n",
       "2               911657        134576       23710  \n",
       "3               868893        139266       24089  \n",
       "4               899059        141541       23292  "
      ]
     },
     "execution_count": 4,
     "metadata": {},
     "output_type": "execute_result"
    }
   ],
   "source": [
    "Grand1 = Grand.drop(['Seasonal', 'Overflow/Voucher'], axis=1)\n",
    "Grand1.head()"
   ]
  },
  {
   "cell_type": "code",
   "execution_count": 5,
   "id": "fa29bdf8",
   "metadata": {},
   "outputs": [],
   "source": [
    "\n",
    "x = Grand1[['Family Units', 'Family Beds', 'Adult Only Beds', 'Child Only Beds','Youth Beds','Total Yr Round Beds']]\n",
    "y = Grand1['Years']"
   ]
  },
  {
   "cell_type": "code",
   "execution_count": 6,
   "id": "5441da40",
   "metadata": {},
   "outputs": [],
   "source": [
    "x_train, x_test, y_train, y_test = train_test_split(x,y, test_size = .4)"
   ]
  },
  {
   "cell_type": "code",
   "execution_count": 7,
   "id": "8af02eb7",
   "metadata": {},
   "outputs": [
    {
     "name": "stdout",
     "output_type": "stream",
     "text": [
      "(7, 6) (7,)\n",
      "(5, 6) (5,)\n"
     ]
    }
   ],
   "source": [
    "print(x_train.shape, y_train.shape)\n",
    "print(x_test.shape, y_test.shape)"
   ]
  },
  {
   "cell_type": "code",
   "execution_count": 8,
   "id": "b4a6f0f6",
   "metadata": {},
   "outputs": [
    {
     "data": {
      "text/plain": [
       "LinearRegression()"
      ]
     },
     "execution_count": 8,
     "metadata": {},
     "output_type": "execute_result"
    }
   ],
   "source": [
    "lm = LinearRegression()\n",
    "lm.fit(x_train, y_train)"
   ]
  },
  {
   "cell_type": "code",
   "execution_count": 9,
   "id": "e57d18fd",
   "metadata": {},
   "outputs": [
    {
     "data": {
      "text/plain": [
       "array([2019.67491987, 2012.78879061, 2016.93278007, 2022.0118969 ,\n",
       "       2012.62836196])"
      ]
     },
     "execution_count": 9,
     "metadata": {},
     "output_type": "execute_result"
    }
   ],
   "source": [
    "predictions = lm.predict(x_test)\n",
    "predictions"
   ]
  },
  {
   "cell_type": "code",
   "execution_count": 10,
   "id": "69d56496",
   "metadata": {},
   "outputs": [
    {
     "data": {
      "text/plain": [
       "<matplotlib.collections.PathCollection at 0x7fa7880be280>"
      ]
     },
     "execution_count": 10,
     "metadata": {},
     "output_type": "execute_result"
    },
    {
     "data": {
      "image/png": "[encoded data removed]",
      "text/plain": [
       "<Figure size 432x288 with 1 Axes>"
      ]
     },
     "metadata": {
      "needs_background": "light"
     },
     "output_type": "display_data"
    }
   ],
   "source": [
    "plt.scatter(y_test, predictions)"
   ]
  },
  {
   "cell_type": "code",
   "execution_count": 11,
   "id": "2373e890",
   "metadata": {},
   "outputs": [
    {
     "name": "stdout",
     "output_type": "stream",
     "text": [
      "Score: 0.9125072156556521\n"
     ]
    }
   ],
   "source": [
    "\n",
    "print(\"Score:\", lm.score(x_test, y_test))"
   ]
  },
  {
   "cell_type": "markdown",
   "id": "3e8f70e4",
   "metadata": {},
   "source": [
    "# Model is accurate 91% of the time"
   ]
  },
  {
   "cell_type": "markdown",
   "id": "e324e5af",
   "metadata": {},
   "source": [
    "# Examine Error"
   ]
  },
  {
   "cell_type": "markdown",
   "id": "6d0a6591",
   "metadata": {},
   "source": [
    "# Mean Absolute Error (MAE)"
   ]
  },
  {
   "cell_type": "code",
   "execution_count": 12,
   "id": "eee26bf5",
   "metadata": {},
   "outputs": [
    {
     "data": {
      "text/plain": [
       "0.7909347704729051"
      ]
     },
     "execution_count": 12,
     "metadata": {},
     "output_type": "execute_result"
    }
   ],
   "source": [
    "metrics.mean_squared_error(y_test, predictions)"
   ]
  },
  {
   "cell_type": "markdown",
   "id": "727c795a",
   "metadata": {},
   "source": [
    "# Root Mean Squared Error (RMSE)"
   ]
  },
  {
   "cell_type": "code",
   "execution_count": 13,
   "id": "1ebfbd79",
   "metadata": {},
   "outputs": [
    {
     "data": {
      "text/plain": [
       "0.8893451357447821"
      ]
     },
     "execution_count": 13,
     "metadata": {},
     "output_type": "execute_result"
    }
   ],
   "source": [
    "np.sqrt(metrics.mean_squared_error(y_test, predictions))"
   ]
  },
  {
   "cell_type": "markdown",
   "id": "716fdeed",
   "metadata": {},
   "source": [
    "# k-Fold Cross Validation"
   ]
  },
  {
   "cell_type": "code",
   "execution_count": 14,
   "id": "01d3f9cb",
   "metadata": {},
   "outputs": [],
   "source": [
    "from sklearn.model_selection import KFold\n",
    "from sklearn.model_selection import cross_val_score"
   ]
  },
  {
   "cell_type": "markdown",
   "id": "037f914b",
   "metadata": {},
   "source": [
    "# Create Folds"
   ]
  },
  {
   "cell_type": "code",
   "execution_count": 22,
   "id": "b67fbd4d",
   "metadata": {},
   "outputs": [
    {
     "name": "stdout",
     "output_type": "stream",
     "text": [
      "train: [ 0  1  4  5  6  7  8  9 10 11], test: [2 3]\n",
      "train: [ 0  1  2  3  5  6  7  8  9 11], test: [ 4 10]\n",
      "train: [ 0  2  3  4  5  7  8  9 10 11], test: [1 6]\n",
      "train: [ 1  2  3  4  5  6  8  9 10 11], test: [0 7]\n",
      "train: [ 0  1  2  3  4  5  6  7  8 10], test: [ 9 11]\n",
      "train: [ 0  1  2  3  4  6  7  9 10 11], test: [5 8]\n"
     ]
    },
    {
     "name": "stderr",
     "output_type": "stream",
     "text": [
      "/Users/lakisha/opt/anaconda3/lib/python3.9/site-packages/sklearn/utils/validation.py:70: FutureWarning: Pass shuffle=True, random_state=1 as keyword args. From version 1.0 (renaming of 0.25) passing these as positional arguments will result in an error\n",
      "  warnings.warn(f\"Pass {args_msg} as keyword args. From version \"\n"
     ]
    }
   ],
   "source": [
    "kfold = KFold(6, True, 1)\n",
    "for train, test in kfold.split(x,y):\n",
    "    print('train: %s, test: %s' % (train,test))"
   ]
  },
  {
   "cell_type": "code",
   "execution_count": 23,
   "id": "a167c770",
   "metadata": {},
   "outputs": [
    {
     "name": "stdout",
     "output_type": "stream",
     "text": [
      "[-5.05494650e+00 -2.75792596e+25 -2.96200932e-02  6.61351876e-01\n",
      " -6.79723641e+00 -2.68712272e+01]\n"
     ]
    }
   ],
   "source": [
    "print(cross_val_score(lm, x,y, cv=6))"
   ]
  },
  {
   "cell_type": "code",
   "execution_count": null,
   "id": "72e5af60",
   "metadata": {},
   "outputs": [],
   "source": []
  }
 ],
 "metadata": {
  "kernelspec": {
   "display_name": "Python 3 (ipykernel)",
   "language": "python",
   "name": "python3"
  },
  "language_info": {
   "codemirror_mode": {
    "name": "ipython",
    "version": 3
   },
   "file_extension": ".py",
   "mimetype": "text/x-python",
   "name": "python",
   "nbconvert_exporter": "python",
   "pygments_lexer": "ipython3",
   "version": "3.9.7"
  }
 },
 "nbformat": 4,
 "nbformat_minor": 5
}
