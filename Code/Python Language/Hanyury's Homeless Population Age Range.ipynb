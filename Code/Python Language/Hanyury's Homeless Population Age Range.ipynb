{
 "cells": [
  {
   "cell_type": "code",
   "execution_count": 1,
   "id": "1e9e6047",
   "metadata": {},
   "outputs": [],
   "source": [
    "import pandas as pd\n",
    "import numpy as np\n",
    "from scipy.stats import norm\n",
    "from scipy import stats\n",
    "from statistics import mean"
   ]
  },
  {
   "cell_type": "code",
   "execution_count": 5,
   "id": "6ec35ba3",
   "metadata": {},
   "outputs": [
    {
     "data": {
      "text/html": [
       "<div>\n",
       "<style scoped>\n",
       "    .dataframe tbody tr th:only-of-type {\n",
       "        vertical-align: middle;\n",
       "    }\n",
       "\n",
       "    .dataframe tbody tr th {\n",
       "        vertical-align: top;\n",
       "    }\n",
       "\n",
       "    .dataframe thead th {\n",
       "        text-align: right;\n",
       "    }\n",
       "</style>\n",
       "<table border=\"1\" class=\"dataframe\">\n",
       "  <thead>\n",
       "    <tr style=\"text-align: right;\">\n",
       "      <th></th>\n",
       "      <th>Years</th>\n",
       "      <th>Under 18</th>\n",
       "      <th>18 to 24</th>\n",
       "      <th>Over 24</th>\n",
       "    </tr>\n",
       "  </thead>\n",
       "  <tbody>\n",
       "    <tr>\n",
       "      <th>0</th>\n",
       "      <td>2015</td>\n",
       "      <td>127787</td>\n",
       "      <td>52973</td>\n",
       "      <td>383948</td>\n",
       "    </tr>\n",
       "    <tr>\n",
       "      <th>1</th>\n",
       "      <td>2016</td>\n",
       "      <td>120819</td>\n",
       "      <td>50001</td>\n",
       "      <td>379108</td>\n",
       "    </tr>\n",
       "    <tr>\n",
       "      <th>2</th>\n",
       "      <td>2017</td>\n",
       "      <td>114529</td>\n",
       "      <td>50992</td>\n",
       "      <td>385475</td>\n",
       "    </tr>\n",
       "    <tr>\n",
       "      <th>3</th>\n",
       "      <td>2018</td>\n",
       "      <td>111592</td>\n",
       "      <td>48319</td>\n",
       "      <td>392919</td>\n",
       "    </tr>\n",
       "    <tr>\n",
       "      <th>4</th>\n",
       "      <td>2019</td>\n",
       "      <td>107069</td>\n",
       "      <td>45629</td>\n",
       "      <td>415017</td>\n",
       "    </tr>\n",
       "  </tbody>\n",
       "</table>\n",
       "</div>"
      ],
      "text/plain": [
       "   Years          Under 18          18 to 24          Over 24 \n",
       "0   2015            127787             52973            383948\n",
       "1   2016            120819             50001            379108\n",
       "2   2017            114529             50992            385475\n",
       "3   2018            111592             48319            392919\n",
       "4   2019            107069             45629            415017"
      ]
     },
     "execution_count": 5,
     "metadata": {},
     "output_type": "execute_result"
    }
   ],
   "source": [
    "homelesspop_age = pd.read_excel(\"../../Data/homeless population by Age.xlsx\")\n",
    "homelesspop_age.head()"
   ]
  },
  {
   "cell_type": "markdown",
   "id": "b3745e84",
   "metadata": {},
   "source": [
    "### graphing the data "
   ]
  },
  {
   "cell_type": "code",
   "execution_count": 6,
   "id": "86377514",
   "metadata": {},
   "outputs": [
    {
     "data": {
      "text/plain": [
       "array([[<AxesSubplot:title={'center':'Years'}>,\n",
       "        <AxesSubplot:title={'center':'        Under 18'}>],\n",
       "       [<AxesSubplot:title={'center':'        18 to 24'}>,\n",
       "        <AxesSubplot:title={'center':'        Over 24 '}>]], dtype=object)"
      ]
     },
     "execution_count": 6,
     "metadata": {},
     "output_type": "execute_result"
    },
    {
     "data": {
      "image/png": "[encoded data removed]",
      "text/plain": [
       "<Figure size 432x288 with 4 Axes>"
      ]
     },
     "metadata": {
      "needs_background": "light"
     },
     "output_type": "display_data"
    }
   ],
   "source": [
    "homelesspop_age.hist()"
   ]
  },
  {
   "cell_type": "code",
   "execution_count": 7,
   "id": "f2ef0bf0",
   "metadata": {},
   "outputs": [
    {
     "data": {
      "text/plain": [
       "Years                 2017.500000\n",
       "        Under 18    114693.333333\n",
       "        18 to 24     48859.500000\n",
       "        Over 24     397554.333333\n",
       "dtype: float64"
      ]
     },
     "execution_count": 7,
     "metadata": {},
     "output_type": "execute_result"
    }
   ],
   "source": [
    "homelesspop_age.mean()"
   ]
  },
  {
   "cell_type": "markdown",
   "id": "695d0656",
   "metadata": {},
   "source": [
    "we can see that the mean for the data set shows that there are more people who are over 24 years of age are homeless, from the data collected from 2015-2020."
   ]
  },
  {
   "cell_type": "code",
   "execution_count": null,
   "id": "916e0aa6",
   "metadata": {},
   "outputs": [],
   "source": []
  }
 ],
 "metadata": {
  "kernelspec": {
   "display_name": "Python 3 (ipykernel)",
   "language": "python",
   "name": "python3"
  },
  "language_info": {
   "codemirror_mode": {
    "name": "ipython",
    "version": 3
   },
   "file_extension": ".py",
   "mimetype": "text/x-python",
   "name": "python",
   "nbconvert_exporter": "python",
   "pygments_lexer": "ipython3",
   "version": "3.9.7"
  }
 },
 "nbformat": 4,
 "nbformat_minor": 5
}
