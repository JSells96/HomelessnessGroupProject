{
 "cells": [
  {
   "cell_type": "code",
   "execution_count": 30,
   "id": "2c26a2b3",
   "metadata": {},
   "outputs": [],
   "source": [
    "import pandas as pd\n",
    "import numpy as np\n",
    "from scipy.stats import norm\n",
    "from scipy import stats\n",
    "from statistics import mean"
   ]
  },
  {
   "cell_type": "code",
   "execution_count": 35,
   "id": "4b328afa",
   "metadata": {
    "scrolled": true
   },
   "outputs": [
    {
     "data": {
      "text/html": [
       "<div>\n",
       "<style scoped>\n",
       "    .dataframe tbody tr th:only-of-type {\n",
       "        vertical-align: middle;\n",
       "    }\n",
       "\n",
       "    .dataframe tbody tr th {\n",
       "        vertical-align: top;\n",
       "    }\n",
       "\n",
       "    .dataframe thead th {\n",
       "        text-align: right;\n",
       "    }\n",
       "</style>\n",
       "<table border=\"1\" class=\"dataframe\">\n",
       "  <thead>\n",
       "    <tr style=\"text-align: right;\">\n",
       "      <th></th>\n",
       "      <th>Population</th>\n",
       "      <th>Population_category</th>\n",
       "      <th>2005</th>\n",
       "      <th>2006</th>\n",
       "      <th>2007</th>\n",
       "      <th>2008</th>\n",
       "      <th>2009</th>\n",
       "      <th>2010</th>\n",
       "      <th>2011</th>\n",
       "      <th>2012</th>\n",
       "      <th>2013</th>\n",
       "      <th>2014</th>\n",
       "      <th>2015</th>\n",
       "      <th>2016</th>\n",
       "      <th>2017</th>\n",
       "      <th>2018</th>\n",
       "      <th>2019</th>\n",
       "      <th>2020</th>\n",
       "    </tr>\n",
       "  </thead>\n",
       "  <tbody>\n",
       "    <tr>\n",
       "      <th>0</th>\n",
       "      <td>Homeless population</td>\n",
       "      <td>1</td>\n",
       "      <td>754147</td>\n",
       "      <td>759101</td>\n",
       "      <td>647258</td>\n",
       "      <td>639784</td>\n",
       "      <td>630227</td>\n",
       "      <td>637077</td>\n",
       "      <td>623788</td>\n",
       "      <td>621553</td>\n",
       "      <td>590364</td>\n",
       "      <td>576450</td>\n",
       "      <td>564708</td>\n",
       "      <td>549928</td>\n",
       "      <td>550996</td>\n",
       "      <td>552830</td>\n",
       "      <td>567715</td>\n",
       "      <td>580466</td>\n",
       "    </tr>\n",
       "  </tbody>\n",
       "</table>\n",
       "</div>"
      ],
      "text/plain": [
       "             Population  Population_category    2005    2006    2007    2008  \\\n",
       "0  Homeless population                     1  754147  759101  647258  639784   \n",
       "\n",
       "     2009    2010    2011    2012    2013    2014    2015    2016    2017  \\\n",
       "0  630227  637077  623788  621553  590364  576450  564708  549928  550996   \n",
       "\n",
       "     2018    2019    2020  \n",
       "0  552830  567715  580466  "
      ]
     },
     "execution_count": 35,
     "metadata": {},
     "output_type": "execute_result"
    }
   ],
   "source": [
    "homelesspop = pd.read_excel(\"../../Data/homeless population Shelter & Unshelter.xlsx\")\n",
    "homelesspop.head()"
   ]
  },
  {
   "cell_type": "markdown",
   "id": "58477df5",
   "metadata": {},
   "source": [
    "### Histogram of shelter and Unshelter homeless population"
   ]
  },
  {
   "cell_type": "code",
   "execution_count": 21,
   "id": "02f3a710",
   "metadata": {
    "scrolled": true
   },
   "outputs": [
    {
     "data": {
      "text/plain": [
       "array([[<AxesSubplot:title={'center':'Population_category'}>,\n",
       "        <AxesSubplot:title={'center':'2005'}>,\n",
       "        <AxesSubplot:title={'center':'2006'}>,\n",
       "        <AxesSubplot:title={'center':'2007'}>],\n",
       "       [<AxesSubplot:title={'center':'2008'}>,\n",
       "        <AxesSubplot:title={'center':'2009'}>,\n",
       "        <AxesSubplot:title={'center':'2010'}>,\n",
       "        <AxesSubplot:title={'center':'2011'}>],\n",
       "       [<AxesSubplot:title={'center':'2012'}>,\n",
       "        <AxesSubplot:title={'center':'2013'}>,\n",
       "        <AxesSubplot:title={'center':'2014'}>,\n",
       "        <AxesSubplot:title={'center':'2015'}>],\n",
       "       [<AxesSubplot:title={'center':'2016'}>,\n",
       "        <AxesSubplot:title={'center':'2017'}>,\n",
       "        <AxesSubplot:title={'center':'2018'}>,\n",
       "        <AxesSubplot:title={'center':'2019'}>],\n",
       "       [<AxesSubplot:title={'center':'2020'}>, <AxesSubplot:>,\n",
       "        <AxesSubplot:>, <AxesSubplot:>]], dtype=object)"
      ]
     },
     "execution_count": 21,
     "metadata": {},
     "output_type": "execute_result"
    },
    {
     "data": {
      "image/png": "[encoded data removed]",
      "text/plain": [
       "<Figure size 432x288 with 20 Axes>"
      ]
     },
     "metadata": {
      "needs_background": "light"
     },
     "output_type": "display_data"
    }
   ],
   "source": [
    "homelesspop.hist()"
   ]
  },
  {
   "cell_type": "code",
   "execution_count": 22,
   "id": "1896c1f2",
   "metadata": {},
   "outputs": [
    {
     "data": {
      "text/plain": [
       "<AxesSubplot:>"
      ]
     },
     "execution_count": 22,
     "metadata": {},
     "output_type": "execute_result"
    },
    {
     "data": {
      "image/png": "[encoded data removed]",
      "text/plain": [
       "<Figure size 432x288 with 1 Axes>"
      ]
     },
     "metadata": {
      "needs_background": "light"
     },
     "output_type": "display_data"
    }
   ],
   "source": [
    "homelesspop[2010].hist()"
   ]
  },
  {
   "cell_type": "code",
   "execution_count": 23,
   "id": "213f747f",
   "metadata": {},
   "outputs": [
    {
     "data": {
      "text/plain": [
       "<AxesSubplot:>"
      ]
     },
     "execution_count": 23,
     "metadata": {},
     "output_type": "execute_result"
    },
    {
     "data": {
      "image/png": "[encoded data removed]",
      "text/plain": [
       "<Figure size 432x288 with 1 Axes>"
      ]
     },
     "metadata": {
      "needs_background": "light"
     },
     "output_type": "display_data"
    }
   ],
   "source": [
    "homelesspop[2020].hist()"
   ]
  },
  {
   "cell_type": "markdown",
   "id": "b76ebe1e",
   "metadata": {},
   "source": [
    "### finding the mean "
   ]
  },
  {
   "cell_type": "code",
   "execution_count": 33,
   "id": "593d24c2",
   "metadata": {},
   "outputs": [
    {
     "name": "stdout",
     "output_type": "stream",
     "text": [
      "615399.5\n"
     ]
    }
   ],
   "source": [
    "data_set = [754147,759101,647258,639784,630227,637077,623788,621553,590364,576450,564708,549928,550996,552830,567715,580466]\n",
    "print(np.mean(data_set))"
   ]
  },
  {
   "cell_type": "markdown",
   "id": "28907151",
   "metadata": {},
   "source": [
    "the mean or average number of the homeless population from 2005 - 2020 is 615399.5 "
   ]
  }
 ],
 "metadata": {
  "kernelspec": {
   "display_name": "Python 3 (ipykernel)",
   "language": "python",
   "name": "python3"
  },
  "language_info": {
   "codemirror_mode": {
    "name": "ipython",
    "version": 3
   },
   "file_extension": ".py",
   "mimetype": "text/x-python",
   "name": "python",
   "nbconvert_exporter": "python",
   "pygments_lexer": "ipython3",
   "version": "3.9.7"
  }
 },
 "nbformat": 4,
 "nbformat_minor": 5
}
