{
 "cells": [
  {
   "cell_type": "code",
   "execution_count": 2,
   "id": "909433df",
   "metadata": {},
   "outputs": [],
   "source": [
    "import pandas as pd\n",
    "from sklearn.linear_model import LinearRegression\n",
    "from sklearn.model_selection import train_test_split\n",
    "import matplotlib.pyplot as plt\n",
    "%matplotlib inline\n",
    "from sklearn import metrics\n",
    "import numpy as np\n"
   ]
  },
  {
   "cell_type": "code",
   "execution_count": 4,
   "id": "5c57654f",
   "metadata": {
    "scrolled": true
   },
   "outputs": [
    {
     "data": {
      "text/html": [
       "<div>\n",
       "<style scoped>\n",
       "    .dataframe tbody tr th:only-of-type {\n",
       "        vertical-align: middle;\n",
       "    }\n",
       "\n",
       "    .dataframe tbody tr th {\n",
       "        vertical-align: top;\n",
       "    }\n",
       "\n",
       "    .dataframe thead th {\n",
       "        text-align: right;\n",
       "    }\n",
       "</style>\n",
       "<table border=\"1\" class=\"dataframe\">\n",
       "  <thead>\n",
       "    <tr style=\"text-align: right;\">\n",
       "      <th></th>\n",
       "      <th>By_State</th>\n",
       "      <th>States</th>\n",
       "      <th>pop_total2010</th>\n",
       "      <th>pop_total2011</th>\n",
       "      <th>pop_total2012</th>\n",
       "      <th>pop_total2013</th>\n",
       "      <th>pop_total2014</th>\n",
       "      <th>pop_total2015</th>\n",
       "      <th>pop_total2016</th>\n",
       "      <th>pop_total2017</th>\n",
       "      <th>pop_total2018</th>\n",
       "      <th>pop_total2019</th>\n",
       "      <th>pop_total2020</th>\n",
       "    </tr>\n",
       "  </thead>\n",
       "  <tbody>\n",
       "    <tr>\n",
       "      <th>0</th>\n",
       "      <td>Alabama</td>\n",
       "      <td>1</td>\n",
       "      <td>6046</td>\n",
       "      <td>5558</td>\n",
       "      <td>5209</td>\n",
       "      <td>4689</td>\n",
       "      <td>4561</td>\n",
       "      <td>3970</td>\n",
       "      <td>4111</td>\n",
       "      <td>3793</td>\n",
       "      <td>3434</td>\n",
       "      <td>3261</td>\n",
       "      <td>3351</td>\n",
       "    </tr>\n",
       "    <tr>\n",
       "      <th>1</th>\n",
       "      <td>Alaska</td>\n",
       "      <td>2</td>\n",
       "      <td>1863</td>\n",
       "      <td>2128</td>\n",
       "      <td>1913</td>\n",
       "      <td>1946</td>\n",
       "      <td>1784</td>\n",
       "      <td>1956</td>\n",
       "      <td>1940</td>\n",
       "      <td>1845</td>\n",
       "      <td>2016</td>\n",
       "      <td>1907</td>\n",
       "      <td>1949</td>\n",
       "    </tr>\n",
       "    <tr>\n",
       "      <th>2</th>\n",
       "      <td>Arizona</td>\n",
       "      <td>3</td>\n",
       "      <td>13711</td>\n",
       "      <td>10504</td>\n",
       "      <td>11302</td>\n",
       "      <td>10562</td>\n",
       "      <td>10495</td>\n",
       "      <td>9896</td>\n",
       "      <td>9707</td>\n",
       "      <td>8947</td>\n",
       "      <td>9865</td>\n",
       "      <td>10007</td>\n",
       "      <td>10979</td>\n",
       "    </tr>\n",
       "    <tr>\n",
       "      <th>3</th>\n",
       "      <td>Arkansas</td>\n",
       "      <td>4</td>\n",
       "      <td>2762</td>\n",
       "      <td>3424</td>\n",
       "      <td>4214</td>\n",
       "      <td>3812</td>\n",
       "      <td>2936</td>\n",
       "      <td>2560</td>\n",
       "      <td>2463</td>\n",
       "      <td>2467</td>\n",
       "      <td>2712</td>\n",
       "      <td>2717</td>\n",
       "      <td>2366</td>\n",
       "    </tr>\n",
       "    <tr>\n",
       "      <th>4</th>\n",
       "      <td>California</td>\n",
       "      <td>5</td>\n",
       "      <td>123480</td>\n",
       "      <td>125128</td>\n",
       "      <td>120098</td>\n",
       "      <td>118552</td>\n",
       "      <td>113952</td>\n",
       "      <td>115738</td>\n",
       "      <td>118142</td>\n",
       "      <td>131532</td>\n",
       "      <td>129972</td>\n",
       "      <td>151278</td>\n",
       "      <td>161548</td>\n",
       "    </tr>\n",
       "  </tbody>\n",
       "</table>\n",
       "</div>"
      ],
      "text/plain": [
       "      By_State  States  pop_total2010  pop_total2011  pop_total2012  \\\n",
       "0     Alabama        1           6046           5558           5209   \n",
       "1      Alaska        2           1863           2128           1913   \n",
       "2     Arizona        3          13711          10504          11302   \n",
       "3    Arkansas        4           2762           3424           4214   \n",
       "4  California        5         123480         125128         120098   \n",
       "\n",
       "   pop_total2013  pop_total2014  pop_total2015  pop_total2016  pop_total2017  \\\n",
       "0           4689           4561           3970           4111           3793   \n",
       "1           1946           1784           1956           1940           1845   \n",
       "2          10562          10495           9896           9707           8947   \n",
       "3           3812           2936           2560           2463           2467   \n",
       "4         118552         113952         115738         118142         131532   \n",
       "\n",
       "   pop_total2018  pop_total2019  pop_total2020  \n",
       "0           3434           3261           3351  \n",
       "1           2016           1907           1949  \n",
       "2           9865          10007          10979  \n",
       "3           2712           2717           2366  \n",
       "4         129972         151278         161548  "
      ]
     },
     "execution_count": 4,
     "metadata": {},
     "output_type": "execute_result"
    }
   ],
   "source": [
    "homelesspop = pd.read_excel(\"../../Data/homeless population by state.xlsx\")\n",
    "homelesspop.head()"
   ]
  },
  {
   "cell_type": "code",
   "execution_count": 44,
   "id": "52e893af",
   "metadata": {
    "scrolled": true
   },
   "outputs": [
    {
     "name": "stdout",
     "output_type": "stream",
     "text": [
      "<class 'pandas.core.frame.DataFrame'>\n",
      "RangeIndex: 51 entries, 0 to 50\n",
      "Data columns (total 13 columns):\n",
      " #   Column         Non-Null Count  Dtype \n",
      "---  ------         --------------  ----- \n",
      " 0   By_State       51 non-null     object\n",
      " 1   States         51 non-null     int64 \n",
      " 2   pop_total2010  51 non-null     int64 \n",
      " 3   pop_total2011  51 non-null     int64 \n",
      " 4   pop_total2012  51 non-null     int64 \n",
      " 5   pop_total2013  51 non-null     int64 \n",
      " 6   pop_total2014  51 non-null     int64 \n",
      " 7   pop_total2015  51 non-null     int64 \n",
      " 8   pop_total2016  51 non-null     int64 \n",
      " 9   pop_total2017  51 non-null     int64 \n",
      " 10  pop_total2018  51 non-null     int64 \n",
      " 11  pop_total2019  51 non-null     int64 \n",
      " 12  pop_total2020  51 non-null     int64 \n",
      "dtypes: int64(12), object(1)\n",
      "memory usage: 5.3+ KB\n"
     ]
    }
   ],
   "source": [
    "homelesspop.info()"
   ]
  },
  {
   "cell_type": "markdown",
   "id": "ef95b9fd",
   "metadata": {},
   "source": [
    "## Data Wrangling"
   ]
  },
  {
   "cell_type": "code",
   "execution_count": 19,
   "id": "0c5372ab",
   "metadata": {
    "scrolled": true
   },
   "outputs": [
    {
     "data": {
      "text/html": [
       "<div>\n",
       "<style scoped>\n",
       "    .dataframe tbody tr th:only-of-type {\n",
       "        vertical-align: middle;\n",
       "    }\n",
       "\n",
       "    .dataframe tbody tr th {\n",
       "        vertical-align: top;\n",
       "    }\n",
       "\n",
       "    .dataframe thead th {\n",
       "        text-align: right;\n",
       "    }\n",
       "</style>\n",
       "<table border=\"1\" class=\"dataframe\">\n",
       "  <thead>\n",
       "    <tr style=\"text-align: right;\">\n",
       "      <th></th>\n",
       "      <th>States</th>\n",
       "      <th>pop_total2010</th>\n",
       "      <th>pop_total2011</th>\n",
       "      <th>pop_total2012</th>\n",
       "      <th>pop_total2013</th>\n",
       "      <th>pop_total2014</th>\n",
       "      <th>pop_total2015</th>\n",
       "      <th>pop_total2016</th>\n",
       "      <th>pop_total2017</th>\n",
       "      <th>pop_total2018</th>\n",
       "      <th>pop_total2019</th>\n",
       "      <th>pop_total2020</th>\n",
       "    </tr>\n",
       "  </thead>\n",
       "  <tbody>\n",
       "    <tr>\n",
       "      <th>0</th>\n",
       "      <td>1</td>\n",
       "      <td>6046</td>\n",
       "      <td>5558</td>\n",
       "      <td>5209</td>\n",
       "      <td>4689</td>\n",
       "      <td>4561</td>\n",
       "      <td>3970</td>\n",
       "      <td>4111</td>\n",
       "      <td>3793</td>\n",
       "      <td>3434</td>\n",
       "      <td>3261</td>\n",
       "      <td>3351</td>\n",
       "    </tr>\n",
       "    <tr>\n",
       "      <th>1</th>\n",
       "      <td>2</td>\n",
       "      <td>1863</td>\n",
       "      <td>2128</td>\n",
       "      <td>1913</td>\n",
       "      <td>1946</td>\n",
       "      <td>1784</td>\n",
       "      <td>1956</td>\n",
       "      <td>1940</td>\n",
       "      <td>1845</td>\n",
       "      <td>2016</td>\n",
       "      <td>1907</td>\n",
       "      <td>1949</td>\n",
       "    </tr>\n",
       "    <tr>\n",
       "      <th>2</th>\n",
       "      <td>3</td>\n",
       "      <td>13711</td>\n",
       "      <td>10504</td>\n",
       "      <td>11302</td>\n",
       "      <td>10562</td>\n",
       "      <td>10495</td>\n",
       "      <td>9896</td>\n",
       "      <td>9707</td>\n",
       "      <td>8947</td>\n",
       "      <td>9865</td>\n",
       "      <td>10007</td>\n",
       "      <td>10979</td>\n",
       "    </tr>\n",
       "    <tr>\n",
       "      <th>3</th>\n",
       "      <td>4</td>\n",
       "      <td>2762</td>\n",
       "      <td>3424</td>\n",
       "      <td>4214</td>\n",
       "      <td>3812</td>\n",
       "      <td>2936</td>\n",
       "      <td>2560</td>\n",
       "      <td>2463</td>\n",
       "      <td>2467</td>\n",
       "      <td>2712</td>\n",
       "      <td>2717</td>\n",
       "      <td>2366</td>\n",
       "    </tr>\n",
       "    <tr>\n",
       "      <th>4</th>\n",
       "      <td>5</td>\n",
       "      <td>123480</td>\n",
       "      <td>125128</td>\n",
       "      <td>120098</td>\n",
       "      <td>118552</td>\n",
       "      <td>113952</td>\n",
       "      <td>115738</td>\n",
       "      <td>118142</td>\n",
       "      <td>131532</td>\n",
       "      <td>129972</td>\n",
       "      <td>151278</td>\n",
       "      <td>161548</td>\n",
       "    </tr>\n",
       "  </tbody>\n",
       "</table>\n",
       "</div>"
      ],
      "text/plain": [
       "   States  pop_total2010  pop_total2011  pop_total2012  pop_total2013  \\\n",
       "0       1           6046           5558           5209           4689   \n",
       "1       2           1863           2128           1913           1946   \n",
       "2       3          13711          10504          11302          10562   \n",
       "3       4           2762           3424           4214           3812   \n",
       "4       5         123480         125128         120098         118552   \n",
       "\n",
       "   pop_total2014  pop_total2015  pop_total2016  pop_total2017  pop_total2018  \\\n",
       "0           4561           3970           4111           3793           3434   \n",
       "1           1784           1956           1940           1845           2016   \n",
       "2          10495           9896           9707           8947           9865   \n",
       "3           2936           2560           2463           2467           2712   \n",
       "4         113952         115738         118142         131532         129972   \n",
       "\n",
       "   pop_total2019  pop_total2020  \n",
       "0           3261           3351  \n",
       "1           1907           1949  \n",
       "2          10007          10979  \n",
       "3           2717           2366  \n",
       "4         151278         161548  "
      ]
     },
     "execution_count": 19,
     "metadata": {},
     "output_type": "execute_result"
    }
   ],
   "source": [
    "homelesspop1 = homelesspop.drop(['By_State'], axis=1)\n",
    "homelesspop1.head()"
   ]
  },
  {
   "cell_type": "code",
   "execution_count": 22,
   "id": "612702c3",
   "metadata": {},
   "outputs": [],
   "source": [
    "x = homelesspop1[['pop_total2010', 'pop_total2011', 'pop_total2012', 'pop_total2013','pop_total2014','pop_total2015','pop_total2016','pop_total2017','pop_total2018','pop_total2019','pop_total2020']]\n",
    "y = homelesspop1['States']"
   ]
  },
  {
   "cell_type": "code",
   "execution_count": 23,
   "id": "c041625f",
   "metadata": {},
   "outputs": [],
   "source": [
    "x_train, x_test, y_train, y_test = train_test_split(x,y, test_size = .4)"
   ]
  },
  {
   "cell_type": "code",
   "execution_count": 24,
   "id": "6f4806a3",
   "metadata": {},
   "outputs": [
    {
     "name": "stdout",
     "output_type": "stream",
     "text": [
      "(30, 11) (30,)\n",
      "(21, 11) (21,)\n"
     ]
    }
   ],
   "source": [
    "print(x_train.shape, y_train.shape)\n",
    "print(x_test.shape, y_test.shape)"
   ]
  },
  {
   "cell_type": "markdown",
   "id": "a07957f6",
   "metadata": {},
   "source": [
    "## Creating the linear Regression Model"
   ]
  },
  {
   "cell_type": "code",
   "execution_count": 27,
   "id": "d79cc741",
   "metadata": {},
   "outputs": [
    {
     "data": {
      "text/plain": [
       "LinearRegression()"
      ]
     },
     "execution_count": 27,
     "metadata": {},
     "output_type": "execute_result"
    }
   ],
   "source": [
    "lm = LinearRegression()\n",
    "lm.fit(x_train, y_train)"
   ]
  },
  {
   "cell_type": "markdown",
   "id": "61930dda",
   "metadata": {},
   "source": [
    "## Examine Predictions"
   ]
  },
  {
   "cell_type": "code",
   "execution_count": 26,
   "id": "4a60754f",
   "metadata": {},
   "outputs": [
    {
     "data": {
      "text/plain": [
       "array([ 29.08928867,  36.75368399,  28.76269334,  41.83028368,\n",
       "       245.61724233,  57.10722876,  30.6857734 ,  58.49500343,\n",
       "        20.920419  ,  27.33971983,   2.17753787,  28.33193259,\n",
       "       132.65401767,  -1.82502421,  41.43361975,  55.01089068,\n",
       "        13.60277879,  86.59525966,  34.531286  ,  27.57887782,\n",
       "        22.13394807])"
      ]
     },
     "execution_count": 26,
     "metadata": {},
     "output_type": "execute_result"
    }
   ],
   "source": [
    "predictions = lm.predict(x_test)\n",
    "predictions"
   ]
  },
  {
   "cell_type": "code",
   "execution_count": 28,
   "id": "8144d9ac",
   "metadata": {},
   "outputs": [
    {
     "data": {
      "text/plain": [
       "<matplotlib.collections.PathCollection at 0x2052b28eaf0>"
      ]
     },
     "execution_count": 28,
     "metadata": {},
     "output_type": "execute_result"
    },
    {
     "data": {
      "image/png": "[encoded data removed]",
      "text/plain": [
       "<Figure size 432x288 with 1 Axes>"
      ]
     },
     "metadata": {
      "needs_background": "light"
     },
     "output_type": "display_data"
    }
   ],
   "source": [
    "plt.scatter(y_test, predictions)"
   ]
  },
  {
   "cell_type": "markdown",
   "id": "00488119",
   "metadata": {},
   "source": [
    "## Accuracy Score"
   ]
  },
  {
   "cell_type": "code",
   "execution_count": 30,
   "id": "4e46eee6",
   "metadata": {},
   "outputs": [
    {
     "name": "stdout",
     "output_type": "stream",
     "text": [
      "Score: -15.675383322206457\n"
     ]
    }
   ],
   "source": [
    "print(\"Score:\", lm.score(x_test, y_test))"
   ]
  },
  {
   "cell_type": "markdown",
   "id": "9fb4cbf0",
   "metadata": {},
   "source": [
    "looks like the model is not so accurate \n",
    "\n",
    "## Mean Absolute Error (MAE)"
   ]
  },
  {
   "cell_type": "code",
   "execution_count": 31,
   "id": "68db89b9",
   "metadata": {},
   "outputs": [
    {
     "data": {
      "text/plain": [
       "35.4249023461598"
      ]
     },
     "execution_count": 31,
     "metadata": {},
     "output_type": "execute_result"
    }
   ],
   "source": [
    "metrics.mean_absolute_error(y_test, predictions)"
   ]
  },
  {
   "cell_type": "markdown",
   "id": "d3df27e1",
   "metadata": {},
   "source": [
    "## Mean Squared Error (MSE)"
   ]
  },
  {
   "cell_type": "code",
   "execution_count": 32,
   "id": "849963e6",
   "metadata": {},
   "outputs": [
    {
     "data": {
      "text/plain": [
       "3490.1085728790385"
      ]
     },
     "execution_count": 32,
     "metadata": {},
     "output_type": "execute_result"
    }
   ],
   "source": [
    "metrics.mean_squared_error(y_test, predictions)"
   ]
  },
  {
   "cell_type": "markdown",
   "id": "f5c6be76",
   "metadata": {},
   "source": [
    "## Root Mean Squared Error (RMSE)"
   ]
  },
  {
   "cell_type": "code",
   "execution_count": 33,
   "id": "bb92a5a3",
   "metadata": {},
   "outputs": [
    {
     "data": {
      "text/plain": [
       "59.077140865812375"
      ]
     },
     "execution_count": 33,
     "metadata": {},
     "output_type": "execute_result"
    }
   ],
   "source": [
    "np.sqrt(metrics.mean_squared_error(y_test, predictions))"
   ]
  },
  {
   "cell_type": "markdown",
   "id": "61084b83",
   "metadata": {},
   "source": [
    "## k-fold Cross Validation"
   ]
  },
  {
   "cell_type": "code",
   "execution_count": 34,
   "id": "0e8ec578",
   "metadata": {},
   "outputs": [],
   "source": [
    "from sklearn.model_selection import KFold\n",
    "from sklearn.model_selection import cross_val_score"
   ]
  },
  {
   "cell_type": "markdown",
   "id": "40afec37",
   "metadata": {},
   "source": [
    "## Creating Folds"
   ]
  },
  {
   "cell_type": "code",
   "execution_count": 39,
   "id": "96906cca",
   "metadata": {},
   "outputs": [
    {
     "name": "stdout",
     "output_type": "stream",
     "text": [
      "train: [ 0  1  3  4  5  6  7  8  9 10 11 12 13 14 15 16 17 18 19 20 21 23 24 25\n",
      " 27 28 29 30 31 32 34 35 36 37 38 39 40 41 42 43 45 46 47 48 50], test: [ 2 22 26 33 44 49]\n",
      "train: [ 0  1  2  4  5  6  7  8  9 10 11 12 13 14 15 16 17 18 19 20 21 22 23 24\n",
      " 25 26 28 29 31 33 34 35 36 37 38 39 40 41 42 43 44 45 46 47 48 49], test: [ 3 27 30 32 50]\n",
      "train: [ 0  1  2  3  4  5  6  7  8  9 10 11 12 13 14 15 16 17 18 19 20 22 23 24\n",
      " 25 26 27 28 30 31 32 33 34 35 36 37 38 40 42 43 44 45 46 48 49 50], test: [21 29 39 41 47]\n",
      "train: [ 0  1  2  3  4  5  6  7  8  9 10 11 12 14 15 16 17 18 20 21 22 23 25 26\n",
      " 27 28 29 30 31 32 33 34 35 36 37 39 41 42 43 44 45 46 47 48 49 50], test: [13 19 24 38 40]\n",
      "train: [ 0  1  2  3  4  5  6  7  8  9 10 11 12 13 14 15 16 18 19 20 21 22 24 25\n",
      " 26 27 28 29 30 31 32 33 34 35 37 38 39 40 41 43 44 45 47 48 49 50], test: [17 23 36 42 46]\n",
      "train: [ 0  1  2  3  5  6  7  8  9 11 12 13 15 16 17 18 19 20 21 22 23 24 25 26\n",
      " 27 28 29 30 32 33 35 36 37 38 39 40 41 42 43 44 45 46 47 48 49 50], test: [ 4 10 14 31 34]\n",
      "train: [ 0  1  2  3  4  5  6  7  8  9 10 11 12 13 14 15 16 17 19 21 22 23 24 25\n",
      " 26 27 29 30 31 32 33 34 36 37 38 39 40 41 42 43 44 46 47 48 49 50], test: [18 20 28 35 45]\n",
      "train: [ 0  2  3  4  5  8  9 10 11 12 13 14 15 16 17 18 19 20 21 22 23 24 26 27\n",
      " 28 29 30 31 32 33 34 35 36 37 38 39 40 41 42 43 44 45 46 47 49 50], test: [ 1  6  7 25 48]\n",
      "train: [ 1  2  3  4  6  7  8  9 10 12 13 14 17 18 19 20 21 22 23 24 25 26 27 28\n",
      " 29 30 31 32 33 34 35 36 37 38 39 40 41 42 43 44 45 46 47 48 49 50], test: [ 0  5 11 15 16]\n",
      "train: [ 0  1  2  3  4  5  6  7 10 11 13 14 15 16 17 18 19 20 21 22 23 24 25 26\n",
      " 27 28 29 30 31 32 33 34 35 36 38 39 40 41 42 44 45 46 47 48 49 50], test: [ 8  9 12 37 43]\n"
     ]
    },
    {
     "name": "stderr",
     "output_type": "stream",
     "text": [
      "C:\\Users\\hanyu\\anaconda3\\lib\\site-packages\\sklearn\\utils\\validation.py:70: FutureWarning: Pass shuffle=True, random_state=1 as keyword args. From version 1.0 (renaming of 0.25) passing these as positional arguments will result in an error\n",
      "  warnings.warn(f\"Pass {args_msg} as keyword args. From version \"\n"
     ]
    }
   ],
   "source": [
    "kfold = KFold(10, True, 1)\n",
    "for train, test in kfold.split(x,y):\n",
    "    print('train: %s, test: %s' % (train,test))"
   ]
  },
  {
   "cell_type": "code",
   "execution_count": 40,
   "id": "38c76b98",
   "metadata": {},
   "outputs": [
    {
     "name": "stdout",
     "output_type": "stream",
     "text": [
      "[-2.16629232e+03 -5.02818225e+02 -1.25991657e+02 -5.85148942e+01\n",
      " -2.43903980e+01 -2.08359588e+00 -3.47460743e+01 -2.44368078e+02\n",
      " -3.23693176e+02 -4.47317977e+02]\n"
     ]
    }
   ],
   "source": [
    "print(cross_val_score(lm, x,y, cv=10))"
   ]
  },
  {
   "cell_type": "markdown",
   "id": "253e6d77",
   "metadata": {},
   "source": [
    "looks like model 3 is the best moder for the analysis of homeless populationin the last decade."
   ]
  },
  {
   "cell_type": "code",
   "execution_count": null,
   "id": "b2837124",
   "metadata": {},
   "outputs": [],
   "source": []
  }
 ],
 "metadata": {
  "kernelspec": {
   "display_name": "Python 3 (ipykernel)",
   "language": "python",
   "name": "python3"
  },
  "language_info": {
   "codemirror_mode": {
    "name": "ipython",
    "version": 3
   },
   "file_extension": ".py",
   "mimetype": "text/x-python",
   "name": "python",
   "nbconvert_exporter": "python",
   "pygments_lexer": "ipython3",
   "version": "3.9.7"
  }
 },
 "nbformat": 4,
 "nbformat_minor": 5
}
