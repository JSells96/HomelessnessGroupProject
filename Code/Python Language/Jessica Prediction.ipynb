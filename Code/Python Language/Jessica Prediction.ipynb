{
 "cells": [
  {
   "cell_type": "markdown",
   "id": "d2f6f87a-0373-45ea-ad28-62ee47030d00",
   "metadata": {},
   "source": [
    "Import Packages"
   ]
  },
  {
   "cell_type": "code",
   "execution_count": 36,
   "id": "71ab1e83-92fb-4776-8f5b-930c983b0714",
   "metadata": {},
   "outputs": [],
   "source": [
    "import pandas as pd\n",
    "import numpy as np\n",
    "import matplotlib.pyplot as plt\n",
    "import seaborn as sns\n",
    "%matplotlib inline\n",
    "from sklearn import metrics\n",
    "from sklearn.linear_model import LinearRegression\n",
    "from sklearn.preprocessing import StandardScaler\n",
    "from sklearn.model_selection import train_test_split\n",
    "from sklearn.ensemble import RandomForestClassifier\n",
    "from sklearn.neighbors import KNeighborsClassifier\n",
    "from sklearn.metrics import classification_report, confusion_matrix"
   ]
  },
  {
   "cell_type": "markdown",
   "id": "697fdcea-df5c-4386-9f72-10c8b674b5c4",
   "metadata": {},
   "source": [
    "Load Data"
   ]
  },
  {
   "cell_type": "code",
   "execution_count": 6,
   "id": "7609e455-f351-4833-948d-749d98c5b013",
   "metadata": {},
   "outputs": [],
   "source": [
    "Income21 = pd.read_csv(\"../../Data/hhpub21.csv\")\n",
    "Income20 = pd.read_csv(\"../../Data/hhpub20.csv\")\n",
    "Income19 = pd.read_csv(\"../../Final/Data/hhpub19.csv\")\n",
    "\n",
    "StateHomelessPop = pd.read_excel(\"../../Data/HomelessTotals.xlsx\")"
   ]
  },
  {
   "cell_type": "code",
   "execution_count": 7,
   "id": "e5b099f7-37b3-4809-afe2-52ce4ef8d837",
   "metadata": {},
   "outputs": [
    {
     "data": {
      "text/html": [
       "<div>\n",
       "<style scoped>\n",
       "    .dataframe tbody tr th:only-of-type {\n",
       "        vertical-align: middle;\n",
       "    }\n",
       "\n",
       "    .dataframe tbody tr th {\n",
       "        vertical-align: top;\n",
       "    }\n",
       "\n",
       "    .dataframe thead th {\n",
       "        text-align: right;\n",
       "    }\n",
       "</style>\n",
       "<table border=\"1\" class=\"dataframe\">\n",
       "  <thead>\n",
       "    <tr style=\"text-align: right;\">\n",
       "      <th></th>\n",
       "      <th>Unnamed: 0</th>\n",
       "      <th>2007.0</th>\n",
       "      <th>2008.0</th>\n",
       "      <th>2009.0</th>\n",
       "      <th>2010.0</th>\n",
       "      <th>2011.0</th>\n",
       "      <th>2012.0</th>\n",
       "      <th>2013.0</th>\n",
       "      <th>2014.0</th>\n",
       "      <th>2015.0</th>\n",
       "      <th>2016.0</th>\n",
       "      <th>2017.0</th>\n",
       "      <th>2018.0</th>\n",
       "      <th>2019.0</th>\n",
       "      <th>2020.0</th>\n",
       "      <th>HomelessPopulation</th>\n",
       "      <th>State</th>\n",
       "      <th>Year</th>\n",
       "    </tr>\n",
       "  </thead>\n",
       "  <tbody>\n",
       "    <tr>\n",
       "      <th>0</th>\n",
       "      <td>Alabama</td>\n",
       "      <td>5452.0</td>\n",
       "      <td>5387.0</td>\n",
       "      <td>6080.0</td>\n",
       "      <td>6046.0</td>\n",
       "      <td>5558.0</td>\n",
       "      <td>5209.0</td>\n",
       "      <td>4689.0</td>\n",
       "      <td>4561.0</td>\n",
       "      <td>3970.0</td>\n",
       "      <td>4111.0</td>\n",
       "      <td>3793.0</td>\n",
       "      <td>3434.0</td>\n",
       "      <td>3261.0</td>\n",
       "      <td>3351.0</td>\n",
       "      <td>5452</td>\n",
       "      <td>Alabama</td>\n",
       "      <td>2007</td>\n",
       "    </tr>\n",
       "    <tr>\n",
       "      <th>1</th>\n",
       "      <td>Alaska</td>\n",
       "      <td>1642.0</td>\n",
       "      <td>1646.0</td>\n",
       "      <td>1992.0</td>\n",
       "      <td>1863.0</td>\n",
       "      <td>2128.0</td>\n",
       "      <td>1913.0</td>\n",
       "      <td>1946.0</td>\n",
       "      <td>1784.0</td>\n",
       "      <td>1956.0</td>\n",
       "      <td>1940.0</td>\n",
       "      <td>1845.0</td>\n",
       "      <td>2016.0</td>\n",
       "      <td>1907.0</td>\n",
       "      <td>1949.0</td>\n",
       "      <td>5387</td>\n",
       "      <td>Alabama</td>\n",
       "      <td>2008</td>\n",
       "    </tr>\n",
       "    <tr>\n",
       "      <th>2</th>\n",
       "      <td>Arizona (1)</td>\n",
       "      <td>14646.0</td>\n",
       "      <td>12488.0</td>\n",
       "      <td>14721.0</td>\n",
       "      <td>13711.0</td>\n",
       "      <td>10504.0</td>\n",
       "      <td>11302.0</td>\n",
       "      <td>10562.0</td>\n",
       "      <td>10495.0</td>\n",
       "      <td>9896.0</td>\n",
       "      <td>9707.0</td>\n",
       "      <td>8947.0</td>\n",
       "      <td>9865.0</td>\n",
       "      <td>10007.0</td>\n",
       "      <td>10979.0</td>\n",
       "      <td>6080</td>\n",
       "      <td>Alabama</td>\n",
       "      <td>2009</td>\n",
       "    </tr>\n",
       "    <tr>\n",
       "      <th>3</th>\n",
       "      <td>Arkansas (1)</td>\n",
       "      <td>3836.0</td>\n",
       "      <td>3255.0</td>\n",
       "      <td>2852.0</td>\n",
       "      <td>2762.0</td>\n",
       "      <td>3424.0</td>\n",
       "      <td>4214.0</td>\n",
       "      <td>3812.0</td>\n",
       "      <td>2936.0</td>\n",
       "      <td>2560.0</td>\n",
       "      <td>2463.0</td>\n",
       "      <td>2467.0</td>\n",
       "      <td>2712.0</td>\n",
       "      <td>2717.0</td>\n",
       "      <td>2366.0</td>\n",
       "      <td>6046</td>\n",
       "      <td>Alabama</td>\n",
       "      <td>2010</td>\n",
       "    </tr>\n",
       "    <tr>\n",
       "      <th>4</th>\n",
       "      <td>California (1)</td>\n",
       "      <td>138986.0</td>\n",
       "      <td>136531.0</td>\n",
       "      <td>123678.0</td>\n",
       "      <td>123480.0</td>\n",
       "      <td>125128.0</td>\n",
       "      <td>120098.0</td>\n",
       "      <td>118552.0</td>\n",
       "      <td>113952.0</td>\n",
       "      <td>115738.0</td>\n",
       "      <td>118142.0</td>\n",
       "      <td>131532.0</td>\n",
       "      <td>129972.0</td>\n",
       "      <td>151278.0</td>\n",
       "      <td>161548.0</td>\n",
       "      <td>5558</td>\n",
       "      <td>Alabama</td>\n",
       "      <td>2011</td>\n",
       "    </tr>\n",
       "  </tbody>\n",
       "</table>\n",
       "</div>"
      ],
      "text/plain": [
       "       Unnamed: 0    2007.0    2008.0    2009.0    2010.0    2011.0    2012.0  \\\n",
       "0         Alabama    5452.0    5387.0    6080.0    6046.0    5558.0    5209.0   \n",
       "1          Alaska    1642.0    1646.0    1992.0    1863.0    2128.0    1913.0   \n",
       "2     Arizona (1)   14646.0   12488.0   14721.0   13711.0   10504.0   11302.0   \n",
       "3    Arkansas (1)    3836.0    3255.0    2852.0    2762.0    3424.0    4214.0   \n",
       "4  California (1)  138986.0  136531.0  123678.0  123480.0  125128.0  120098.0   \n",
       "\n",
       "     2013.0    2014.0    2015.0    2016.0    2017.0    2018.0    2019.0  \\\n",
       "0    4689.0    4561.0    3970.0    4111.0    3793.0    3434.0    3261.0   \n",
       "1    1946.0    1784.0    1956.0    1940.0    1845.0    2016.0    1907.0   \n",
       "2   10562.0   10495.0    9896.0    9707.0    8947.0    9865.0   10007.0   \n",
       "3    3812.0    2936.0    2560.0    2463.0    2467.0    2712.0    2717.0   \n",
       "4  118552.0  113952.0  115738.0  118142.0  131532.0  129972.0  151278.0   \n",
       "\n",
       "     2020.0  HomelessPopulation    State  Year  \n",
       "0    3351.0                5452  Alabama  2007  \n",
       "1    1949.0                5387  Alabama  2008  \n",
       "2   10979.0                6080  Alabama  2009  \n",
       "3    2366.0                6046  Alabama  2010  \n",
       "4  161548.0                5558  Alabama  2011  "
      ]
     },
     "execution_count": 7,
     "metadata": {},
     "output_type": "execute_result"
    }
   ],
   "source": [
    "StateHomelessPop.head()"
   ]
  },
  {
   "cell_type": "markdown",
   "id": "9464b54a-d41d-47c9-a594-e6f8517d01a5",
   "metadata": {},
   "source": [
    "Data Wrangling"
   ]
  },
  {
   "cell_type": "code",
   "execution_count": 14,
   "id": "d8edc0ae-c3b1-48b0-9e5d-ad449a99a9d7",
   "metadata": {},
   "outputs": [],
   "source": [
    "Income21Keeps = Income21[['H_YEAR', 'H_LIVQRT', 'H_TENURE', 'H_NUMPER', 'HHINC', 'HDIS_YN', 'HINC_UC', 'HPAW_YN']]"
   ]
  },
  {
   "cell_type": "code",
   "execution_count": 18,
   "id": "0c57aecb-6061-4f29-87c3-6733acd82c7f",
   "metadata": {},
   "outputs": [],
   "source": [
    "pd.options.mode.chained_assignment = None"
   ]
  },
  {
   "cell_type": "code",
   "execution_count": 19,
   "id": "3e9650dd-eb5b-41e2-813d-5c10c73edb87",
   "metadata": {},
   "outputs": [],
   "source": [
    "Income21Keeps.rename(columns={'H_LIVQRT' : 'TypeOfHousing21'}, inplace=True)\n",
    "Income21Keeps.rename(columns={'H_TENURE' : 'RentOrOwn21'}, inplace=True)\n",
    "Income21Keeps.rename(columns={'H_NUMPER' : 'PersonsInHousehold21'}, inplace=True)\n",
    "Income21Keeps.rename(columns={'HHINC' : 'HouseholdIncomeAmt21'}, inplace=True)\n",
    "Income21Keeps.rename(columns={'HDIS_YN' : 'Disability21'}, inplace=True)\n",
    "Income21Keeps.rename(columns={'HINC_UC' : 'Unemployment21'}, inplace=True)\n",
    "Income21Keeps.rename(columns={'HPAW_YN' : 'Welfare21'}, inplace=True)"
   ]
  },
  {
   "cell_type": "code",
   "execution_count": 23,
   "id": "85ad3d0c-414d-4576-acd8-815f6d78d8bf",
   "metadata": {},
   "outputs": [],
   "source": [
    "IncomeY = Income21Keeps[['HouseholdIncomeAmt21']]\n",
    "IncomeX = Income21Keeps[['TypeOfHousing21', 'RentOrOwn21', 'PersonsInHousehold21', 'Disability21', 'Unemployment21', 'Welfare21']]"
   ]
  },
  {
   "cell_type": "markdown",
   "id": "8e718e4e-4d06-4873-b5d3-90114861cce7",
   "metadata": {},
   "source": [
    "Train Test Split"
   ]
  },
  {
   "cell_type": "code",
   "execution_count": 34,
   "id": "ca4033d5-9d75-40be-997f-48ecede8bb4b",
   "metadata": {},
   "outputs": [],
   "source": [
    "x_train, x_test, y_train, y_test = train_test_split(IncomeX, IncomeY, test_size = .2, random_state=101)"
   ]
  },
  {
   "cell_type": "markdown",
   "id": "02038572-1762-4bbf-9e61-6e28d65ac4b9",
   "metadata": {},
   "source": [
    "Create Random Forest Model"
   ]
  },
  {
   "cell_type": "code",
   "execution_count": 38,
   "id": "80e49176-964a-4793-b704-a3792ac45097",
   "metadata": {},
   "outputs": [
    {
     "name": "stderr",
     "output_type": "stream",
     "text": [
      "/var/folders/bh/tk1s08xn44l3bl8vxph612m40000gn/T/ipykernel_9211/292930261.py:2: DataConversionWarning: A column-vector y was passed when a 1d array was expected. Please change the shape of y to (n_samples,), for example using ravel().\n",
      "  forest.fit(x_train, y_train)\n"
     ]
    },
    {
     "data": {
      "text/html": [
       "<style>#sk-container-id-3 {color: black;background-color: white;}#sk-container-id-3 pre{padding: 0;}#sk-container-id-3 div.sk-toggleable {background-color: white;}#sk-container-id-3 label.sk-toggleable__label {cursor: pointer;display: block;width: 100%;margin-bottom: 0;padding: 0.3em;box-sizing: border-box;text-align: center;}#sk-container-id-3 label.sk-toggleable__label-arrow:before {content: \"▸\";float: left;margin-right: 0.25em;color: #696969;}#sk-container-id-3 label.sk-toggleable__label-arrow:hover:before {color: black;}#sk-container-id-3 div.sk-estimator:hover label.sk-toggleable__label-arrow:before {color: black;}#sk-container-id-3 div.sk-toggleable__content {max-height: 0;max-width: 0;overflow: hidden;text-align: left;background-color: #f0f8ff;}#sk-container-id-3 div.sk-toggleable__content pre {margin: 0.2em;color: black;border-radius: 0.25em;background-color: #f0f8ff;}#sk-container-id-3 input.sk-toggleable__control:checked~div.sk-toggleable__content {max-height: 200px;max-width: 100%;overflow: auto;}#sk-container-id-3 input.sk-toggleable__control:checked~label.sk-toggleable__label-arrow:before {content: \"▾\";}#sk-container-id-3 div.sk-estimator input.sk-toggleable__control:checked~label.sk-toggleable__label {background-color: #d4ebff;}#sk-container-id-3 div.sk-label input.sk-toggleable__control:checked~label.sk-toggleable__label {background-color: #d4ebff;}#sk-container-id-3 input.sk-hidden--visually {border: 0;clip: rect(1px 1px 1px 1px);clip: rect(1px, 1px, 1px, 1px);height: 1px;margin: -1px;overflow: hidden;padding: 0;position: absolute;width: 1px;}#sk-container-id-3 div.sk-estimator {font-family: monospace;background-color: #f0f8ff;border: 1px dotted black;border-radius: 0.25em;box-sizing: border-box;margin-bottom: 0.5em;}#sk-container-id-3 div.sk-estimator:hover {background-color: #d4ebff;}#sk-container-id-3 div.sk-parallel-item::after {content: \"\";width: 100%;border-bottom: 1px solid gray;flex-grow: 1;}#sk-container-id-3 div.sk-label:hover label.sk-toggleable__label {background-color: #d4ebff;}#sk-container-id-3 div.sk-serial::before {content: \"\";position: absolute;border-left: 1px solid gray;box-sizing: border-box;top: 0;bottom: 0;left: 50%;z-index: 0;}#sk-container-id-3 div.sk-serial {display: flex;flex-direction: column;align-items: center;background-color: white;padding-right: 0.2em;padding-left: 0.2em;position: relative;}#sk-container-id-3 div.sk-item {position: relative;z-index: 1;}#sk-container-id-3 div.sk-parallel {display: flex;align-items: stretch;justify-content: center;background-color: white;position: relative;}#sk-container-id-3 div.sk-item::before, #sk-container-id-3 div.sk-parallel-item::before {content: \"\";position: absolute;border-left: 1px solid gray;box-sizing: border-box;top: 0;bottom: 0;left: 50%;z-index: -1;}#sk-container-id-3 div.sk-parallel-item {display: flex;flex-direction: column;z-index: 1;position: relative;background-color: white;}#sk-container-id-3 div.sk-parallel-item:first-child::after {align-self: flex-end;width: 50%;}#sk-container-id-3 div.sk-parallel-item:last-child::after {align-self: flex-start;width: 50%;}#sk-container-id-3 div.sk-parallel-item:only-child::after {width: 0;}#sk-container-id-3 div.sk-dashed-wrapped {border: 1px dashed gray;margin: 0 0.4em 0.5em 0.4em;box-sizing: border-box;padding-bottom: 0.4em;background-color: white;}#sk-container-id-3 div.sk-label label {font-family: monospace;font-weight: bold;display: inline-block;line-height: 1.2em;}#sk-container-id-3 div.sk-label-container {text-align: center;}#sk-container-id-3 div.sk-container {/* jupyter's `normalize.less` sets `[hidden] { display: none; }` but bootstrap.min.css set `[hidden] { display: none !important; }` so we also need the `!important` here to be able to override the default hidden behavior on the sphinx rendered scikit-learn.org. See: https://github.com/scikit-learn/scikit-learn/issues/21755 */display: inline-block !important;position: relative;}#sk-container-id-3 div.sk-text-repr-fallback {display: none;}</style><div id=\"sk-container-id-3\" class=\"sk-top-container\"><div class=\"sk-text-repr-fallback\"><pre>RandomForestClassifier(random_state=76)</pre><b>In a Jupyter environment, please rerun this cell to show the HTML representation or trust the notebook. <br />On GitHub, the HTML representation is unable to render, please try loading this page with nbviewer.org.</b></div><div class=\"sk-container\" hidden><div class=\"sk-item\"><div class=\"sk-estimator sk-toggleable\"><input class=\"sk-toggleable__control sk-hidden--visually\" id=\"sk-estimator-id-3\" type=\"checkbox\" checked><label for=\"sk-estimator-id-3\" class=\"sk-toggleable__label sk-toggleable__label-arrow\">RandomForestClassifier</label><div class=\"sk-toggleable__content\"><pre>RandomForestClassifier(random_state=76)</pre></div></div></div></div></div>"
      ],
      "text/plain": [
       "RandomForestClassifier(random_state=76)"
      ]
     },
     "execution_count": 38,
     "metadata": {},
     "output_type": "execute_result"
    }
   ],
   "source": [
    "forest = RandomForestClassifier(n_estimators=100, random_state=76)\n",
    "forest.fit(x_train, y_train)"
   ]
  },
  {
   "cell_type": "code",
   "execution_count": 39,
   "id": "b23d863f-0550-4133-8c66-cb7d891fa736",
   "metadata": {},
   "outputs": [
    {
     "name": "stdout",
     "output_type": "stream",
     "text": [
      "[[5584    0    0 ...    0    0    0]\n",
      " [   0    8    0 ...    0    0  295]\n",
      " [   0    1    0 ...    0    0   74]\n",
      " ...\n",
      " [   0    0    0 ...    0    0  140]\n",
      " [   0    0    0 ...    0    0  116]\n",
      " [   0    3    0 ...    0    1 4248]]\n",
      "              precision    recall  f1-score   support\n",
      "\n",
      "           0       1.00      1.00      1.00      5584\n",
      "           1       0.19      0.03      0.04       315\n",
      "           2       0.00      0.00      0.00        83\n",
      "           3       0.00      0.00      0.00       106\n",
      "           4       0.00      0.00      0.00       164\n",
      "           5       0.07      0.02      0.03       249\n",
      "           6       0.14      0.02      0.03       292\n",
      "           7       0.12      0.04      0.06       273\n",
      "           8       0.04      0.00      0.01       271\n",
      "           9       0.00      0.00      0.00       293\n",
      "          10       0.00      0.00      0.00       253\n",
      "          11       0.09      0.00      0.01       278\n",
      "          12       0.00      0.00      0.00       241\n",
      "          13       0.04      0.02      0.03       314\n",
      "          14       0.00      0.00      0.00       217\n",
      "          15       0.00      0.00      0.00       285\n",
      "          16       0.00      0.00      0.00       213\n",
      "          17       0.00      0.00      0.00       284\n",
      "          18       0.00      0.00      0.00       171\n",
      "          19       0.00      0.00      0.00       241\n",
      "          20       0.00      0.00      0.00       199\n",
      "          21       0.00      0.00      0.00       284\n",
      "          22       0.00      0.00      0.00       190\n",
      "          23       0.00      0.00      0.00       224\n",
      "          24       0.00      0.00      0.00       169\n",
      "          25       0.00      0.00      0.00       234\n",
      "          26       0.00      0.00      0.00       150\n",
      "          27       0.00      0.00      0.00       208\n",
      "          28       0.00      0.00      0.00       163\n",
      "          29       0.00      0.00      0.00       211\n",
      "          30       0.00      0.00      0.00       168\n",
      "          31       0.00      0.00      0.00       211\n",
      "          32       0.00      0.00      0.00       132\n",
      "          33       0.50      0.00      0.01       223\n",
      "          34       0.00      0.00      0.00       124\n",
      "          35       0.00      0.00      0.00       161\n",
      "          36       0.00      0.00      0.00       127\n",
      "          37       0.00      0.00      0.00       174\n",
      "          38       0.00      0.00      0.00       114\n",
      "          39       0.00      0.00      0.00       143\n",
      "          40       0.00      0.00      0.00       118\n",
      "          41       0.35      0.99      0.52      4298\n",
      "\n",
      "    accuracy                           0.54     18152\n",
      "   macro avg       0.06      0.05      0.04     18152\n",
      "weighted avg       0.41      0.54      0.43     18152\n",
      "\n"
     ]
    },
    {
     "name": "stderr",
     "output_type": "stream",
     "text": [
      "/opt/homebrew/lib/python3.9/site-packages/sklearn/metrics/_classification.py:1327: UndefinedMetricWarning: Precision and F-score are ill-defined and being set to 0.0 in labels with no predicted samples. Use `zero_division` parameter to control this behavior.\n",
      "  _warn_prf(average, modifier, msg_start, len(result))\n",
      "/opt/homebrew/lib/python3.9/site-packages/sklearn/metrics/_classification.py:1327: UndefinedMetricWarning: Precision and F-score are ill-defined and being set to 0.0 in labels with no predicted samples. Use `zero_division` parameter to control this behavior.\n",
      "  _warn_prf(average, modifier, msg_start, len(result))\n",
      "/opt/homebrew/lib/python3.9/site-packages/sklearn/metrics/_classification.py:1327: UndefinedMetricWarning: Precision and F-score are ill-defined and being set to 0.0 in labels with no predicted samples. Use `zero_division` parameter to control this behavior.\n",
      "  _warn_prf(average, modifier, msg_start, len(result))\n"
     ]
    }
   ],
   "source": [
    "forestPredictions = forest.predict(x_test)\n",
    "print(confusion_matrix(y_test, forestPredictions))\n",
    "print(classification_report(y_test, forestPredictions))"
   ]
  },
  {
   "cell_type": "code",
   "execution_count": 28,
   "id": "02dc2555-58ae-4b49-9a39-fcc758c4e022",
   "metadata": {},
   "outputs": [
    {
     "data": {
      "text/plain": [
       "<matplotlib.collections.PathCollection at 0x2823477c0>"
      ]
     },
     "execution_count": 28,
     "metadata": {},
     "output_type": "execute_result"
    },
    {
     "data": {
      "image/png": "[encoded data removed]",
      "text/plain": [
       "<Figure size 432x288 with 1 Axes>"
      ]
     },
     "metadata": {
      "needs_background": "light"
     },
     "output_type": "display_data"
    }
   ],
   "source": [
    "plt.scatter(y_test, HouseholdIncomePredictions)\n"
   ]
  },
  {
   "cell_type": "code",
   "execution_count": 29,
   "id": "9e21cd26-5ecc-4aaa-8d87-7e964b858162",
   "metadata": {},
   "outputs": [
    {
     "name": "stdout",
     "output_type": "stream",
     "text": [
      "Score: 0.6108437185196196\n"
     ]
    }
   ],
   "source": [
    "print(\"Score:\", lm.score(x_test, y_test))\n"
   ]
  },
  {
   "cell_type": "code",
   "execution_count": 33,
   "id": "134fd34c-15c4-4592-93a6-c78928f7a5d0",
   "metadata": {},
   "outputs": [
    {
     "data": {
      "text/plain": [
       "8.234765862643572"
      ]
     },
     "execution_count": 33,
     "metadata": {},
     "output_type": "execute_result"
    }
   ],
   "source": [
    "metrics.mean_absolute_error(y_test, HouseholdIncomePredictions)\n"
   ]
  },
  {
   "cell_type": "code",
   "execution_count": null,
   "id": "aa59346c-7d79-4d9e-82e2-5134cabe4f5a",
   "metadata": {},
   "outputs": [],
   "source": []
  }
 ],
 "metadata": {
  "kernelspec": {
   "display_name": "Python 3 (ipykernel)",
   "language": "python",
   "name": "python3"
  },
  "language_info": {
   "codemirror_mode": {
    "name": "ipython",
    "version": 3
   },
   "file_extension": ".py",
   "mimetype": "text/x-python",
   "name": "python",
   "nbconvert_exporter": "python",
   "pygments_lexer": "ipython3",
   "version": "3.9.12"
  }
 },
 "nbformat": 4,
 "nbformat_minor": 5
}
