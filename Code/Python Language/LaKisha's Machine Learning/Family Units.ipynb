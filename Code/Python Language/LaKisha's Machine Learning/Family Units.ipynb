{
 "cells": [
  {
   "cell_type": "code",
   "execution_count": 1,
   "id": "415c5a4a",
   "metadata": {},
   "outputs": [],
   "source": [
    "import pandas as pd\n",
    "from sklearn.linear_model import LinearRegression\n",
    "from sklearn.model_selection import train_test_split\n",
    "import matplotlib.pyplot as plt\n",
    "%matplotlib inline\n",
    "from sklearn import metrics\n",
    "import numpy as np"
   ]
  },
  {
   "cell_type": "markdown",
   "id": "2c227cba",
   "metadata": {},
   "source": [
    "# Import Data"
   ]
  },
  {
   "cell_type": "code",
   "execution_count": 2,
   "id": "fcda96ca",
   "metadata": {},
   "outputs": [],
   "source": [
    "Family = pd.read_excel ('../../Data/2010-2021 Family Units 1.xlsx')"
   ]
  },
  {
   "cell_type": "code",
   "execution_count": 3,
   "id": "c8e3b896",
   "metadata": {},
   "outputs": [
    {
     "name": "stdout",
     "output_type": "stream",
     "text": [
      "<class 'pandas.core.frame.DataFrame'>\n",
      "RangeIndex: 9 entries, 0 to 8\n",
      "Data columns (total 13 columns):\n",
      " #   Column        Non-Null Count  Dtype\n",
      "---  ------        --------------  -----\n",
      " 0   Family Units  9 non-null      int64\n",
      " 1   FAM2010       9 non-null      int64\n",
      " 2   FAM2011       9 non-null      int64\n",
      " 3   FAM2012       9 non-null      int64\n",
      " 4   FAM2013       9 non-null      int64\n",
      " 5   FAM2014       9 non-null      int64\n",
      " 6   FAM2015       9 non-null      int64\n",
      " 7   FAM2016       9 non-null      int64\n",
      " 8   FAM2017       9 non-null      int64\n",
      " 9   FAM2018       9 non-null      int64\n",
      " 10  FAM2019       9 non-null      int64\n",
      " 11  FAM2020       9 non-null      int64\n",
      " 12  FAM2021       9 non-null      int64\n",
      "dtypes: int64(13)\n",
      "memory usage: 1.0 KB\n"
     ]
    }
   ],
   "source": [
    "Family.info()"
   ]
  },
  {
   "cell_type": "code",
   "execution_count": 4,
   "id": "41260c0b",
   "metadata": {},
   "outputs": [
    {
     "data": {
      "text/html": [
       "<div>\n",
       "<style scoped>\n",
       "    .dataframe tbody tr th:only-of-type {\n",
       "        vertical-align: middle;\n",
       "    }\n",
       "\n",
       "    .dataframe tbody tr th {\n",
       "        vertical-align: top;\n",
       "    }\n",
       "\n",
       "    .dataframe thead th {\n",
       "        text-align: right;\n",
       "    }\n",
       "</style>\n",
       "<table border=\"1\" class=\"dataframe\">\n",
       "  <thead>\n",
       "    <tr style=\"text-align: right;\">\n",
       "      <th></th>\n",
       "      <th>Family Units</th>\n",
       "      <th>FAM2010</th>\n",
       "      <th>FAM2011</th>\n",
       "      <th>FAM2012</th>\n",
       "      <th>FAM2013</th>\n",
       "      <th>FAM2014</th>\n",
       "      <th>FAM2015</th>\n",
       "      <th>FAM2016</th>\n",
       "      <th>FAM2017</th>\n",
       "      <th>FAM2018</th>\n",
       "      <th>FAM2019</th>\n",
       "      <th>FAM2020</th>\n",
       "      <th>FAM2021</th>\n",
       "    </tr>\n",
       "  </thead>\n",
       "  <tbody>\n",
       "    <tr>\n",
       "      <th>0</th>\n",
       "      <td>1</td>\n",
       "      <td>68063</td>\n",
       "      <td>70777</td>\n",
       "      <td>68983</td>\n",
       "      <td>74148</td>\n",
       "      <td>66959</td>\n",
       "      <td>66170</td>\n",
       "      <td>63870</td>\n",
       "      <td>62633</td>\n",
       "      <td>60432</td>\n",
       "      <td>58332</td>\n",
       "      <td>58858</td>\n",
       "      <td>57359</td>\n",
       "    </tr>\n",
       "    <tr>\n",
       "      <th>1</th>\n",
       "      <td>2</td>\n",
       "      <td>32878</td>\n",
       "      <td>34977</td>\n",
       "      <td>34031</td>\n",
       "      <td>35065</td>\n",
       "      <td>36152</td>\n",
       "      <td>39261</td>\n",
       "      <td>39603</td>\n",
       "      <td>42797</td>\n",
       "      <td>44155</td>\n",
       "      <td>43203</td>\n",
       "      <td>44503</td>\n",
       "      <td>44174</td>\n",
       "    </tr>\n",
       "    <tr>\n",
       "      <th>2</th>\n",
       "      <td>3</td>\n",
       "      <td>0</td>\n",
       "      <td>0</td>\n",
       "      <td>0</td>\n",
       "      <td>0</td>\n",
       "      <td>0</td>\n",
       "      <td>0</td>\n",
       "      <td>0</td>\n",
       "      <td>0</td>\n",
       "      <td>0</td>\n",
       "      <td>0</td>\n",
       "      <td>5</td>\n",
       "      <td>8</td>\n",
       "    </tr>\n",
       "    <tr>\n",
       "      <th>3</th>\n",
       "      <td>4</td>\n",
       "      <td>35185</td>\n",
       "      <td>35800</td>\n",
       "      <td>34952</td>\n",
       "      <td>39083</td>\n",
       "      <td>30807</td>\n",
       "      <td>26909</td>\n",
       "      <td>24267</td>\n",
       "      <td>19836</td>\n",
       "      <td>16277</td>\n",
       "      <td>15129</td>\n",
       "      <td>14350</td>\n",
       "      <td>13177</td>\n",
       "    </tr>\n",
       "    <tr>\n",
       "      <th>4</th>\n",
       "      <td>5</td>\n",
       "      <td>0</td>\n",
       "      <td>0</td>\n",
       "      <td>0</td>\n",
       "      <td>0</td>\n",
       "      <td>53898</td>\n",
       "      <td>62537</td>\n",
       "      <td>68784</td>\n",
       "      <td>77092</td>\n",
       "      <td>74938</td>\n",
       "      <td>77136</td>\n",
       "      <td>82991</td>\n",
       "      <td>84990</td>\n",
       "    </tr>\n",
       "  </tbody>\n",
       "</table>\n",
       "</div>"
      ],
      "text/plain": [
       "   Family Units  FAM2010  FAM2011  FAM2012  FAM2013  FAM2014  FAM2015  \\\n",
       "0             1    68063    70777    68983    74148    66959    66170   \n",
       "1             2    32878    34977    34031    35065    36152    39261   \n",
       "2             3        0        0        0        0        0        0   \n",
       "3             4    35185    35800    34952    39083    30807    26909   \n",
       "4             5        0        0        0        0    53898    62537   \n",
       "\n",
       "   FAM2016  FAM2017  FAM2018  FAM2019  FAM2020  FAM2021  \n",
       "0    63870    62633    60432    58332    58858    57359  \n",
       "1    39603    42797    44155    43203    44503    44174  \n",
       "2        0        0        0        0        5        8  \n",
       "3    24267    19836    16277    15129    14350    13177  \n",
       "4    68784    77092    74938    77136    82991    84990  "
      ]
     },
     "execution_count": 4,
     "metadata": {},
     "output_type": "execute_result"
    }
   ],
   "source": [
    "Family.head()"
   ]
  },
  {
   "cell_type": "markdown",
   "id": "eb079d92",
   "metadata": {},
   "source": [
    "# Wrangle Data"
   ]
  },
  {
   "cell_type": "code",
   "execution_count": 5,
   "id": "be504a0a",
   "metadata": {},
   "outputs": [],
   "source": [
    "x = Family[['FAM2010', 'FAM2011', 'FAM2012', 'FAM2013','FAM2014','FAM2015','FAM2016','FAM2017','FAM2018','FAM2019','FAM2020','FAM2021']]\n",
    "y = Family['Family Units']\n"
   ]
  },
  {
   "cell_type": "markdown",
   "id": "fc7ba862",
   "metadata": {},
   "source": [
    "# Train Test Split"
   ]
  },
  {
   "cell_type": "code",
   "execution_count": 6,
   "id": "b062714b",
   "metadata": {},
   "outputs": [],
   "source": [
    "x_train, x_test, y_train, y_test = train_test_split(x,y, test_size = .4)"
   ]
  },
  {
   "cell_type": "code",
   "execution_count": 7,
   "id": "a1d4afc1",
   "metadata": {},
   "outputs": [
    {
     "name": "stdout",
     "output_type": "stream",
     "text": [
      "(5, 12) (5,)\n",
      "(4, 12) (4,)\n"
     ]
    }
   ],
   "source": [
    "print(x_train.shape, y_train.shape)\n",
    "print(x_test.shape, y_test.shape)"
   ]
  },
  {
   "cell_type": "markdown",
   "id": "f3e1263a",
   "metadata": {},
   "source": [
    "# Create Linear Regression Model"
   ]
  },
  {
   "cell_type": "code",
   "execution_count": 8,
   "id": "b41d18ec",
   "metadata": {},
   "outputs": [
    {
     "data": {
      "text/plain": [
       "LinearRegression()"
      ]
     },
     "execution_count": 8,
     "metadata": {},
     "output_type": "execute_result"
    }
   ],
   "source": [
    "lm = LinearRegression()\n",
    "lm.fit(x_train, y_train)"
   ]
  },
  {
   "cell_type": "markdown",
   "id": "7580ccd6",
   "metadata": {},
   "source": [
    "# Examine Predicitions"
   ]
  },
  {
   "cell_type": "code",
   "execution_count": 9,
   "id": "ffafea35",
   "metadata": {},
   "outputs": [
    {
     "data": {
      "text/plain": [
       "array([ 4.8223537 ,  7.82201319, 16.78954115, -1.46655033])"
      ]
     },
     "execution_count": 9,
     "metadata": {},
     "output_type": "execute_result"
    }
   ],
   "source": [
    "predictions = lm.predict(x_test)\n",
    "predictions"
   ]
  },
  {
   "cell_type": "code",
   "execution_count": 10,
   "id": "d731c58c",
   "metadata": {},
   "outputs": [
    {
     "data": {
      "text/plain": [
       "<matplotlib.collections.PathCollection at 0x7ffbd0160310>"
      ]
     },
     "execution_count": 10,
     "metadata": {},
     "output_type": "execute_result"
    },
    {
     "data": {
      "image/png": "[encoded data removed]",
      "text/plain": [
       "<Figure size 432x288 with 1 Axes>"
      ]
     },
     "metadata": {
      "needs_background": "light"
     },
     "output_type": "display_data"
    }
   ],
   "source": [
    "plt.scatter(y_test, predictions)"
   ]
  },
  {
   "cell_type": "markdown",
   "id": "4b967e1a",
   "metadata": {},
   "source": [
    "# Accuracy Score"
   ]
  },
  {
   "cell_type": "code",
   "execution_count": 11,
   "id": "96639f9c",
   "metadata": {},
   "outputs": [
    {
     "name": "stdout",
     "output_type": "stream",
     "text": [
      "Score: -8.730763405211714\n"
     ]
    }
   ],
   "source": [
    "print(\"Score:\", lm.score(x_test, y_test))"
   ]
  },
  {
   "cell_type": "markdown",
   "id": "a00c0b81",
   "metadata": {},
   "source": [
    "# Model is not accurate"
   ]
  },
  {
   "cell_type": "markdown",
   "id": "45b63241",
   "metadata": {},
   "source": [
    "# Mean Absolute Error (MAE)"
   ]
  },
  {
   "cell_type": "code",
   "execution_count": 12,
   "id": "4beb3071",
   "metadata": {},
   "outputs": [
    {
     "data": {
      "text/plain": [
       "7.475114591583095"
      ]
     },
     "execution_count": 12,
     "metadata": {},
     "output_type": "execute_result"
    }
   ],
   "source": [
    "metrics.mean_absolute_error(y_test, predictions)"
   ]
  },
  {
   "cell_type": "markdown",
   "id": "e8339879",
   "metadata": {},
   "source": [
    "# Mean Squared Error (MSE)"
   ]
  },
  {
   "cell_type": "code",
   "execution_count": 13,
   "id": "34e60199",
   "metadata": {},
   "outputs": [
    {
     "data": {
      "text/plain": [
       "69.9398619749592"
      ]
     },
     "execution_count": 13,
     "metadata": {},
     "output_type": "execute_result"
    }
   ],
   "source": [
    "metrics.mean_squared_error(y_test, predictions)"
   ]
  },
  {
   "cell_type": "markdown",
   "id": "77f79bcd",
   "metadata": {},
   "source": [
    "# Root Mean Squared Error (RMSE)"
   ]
  },
  {
   "cell_type": "code",
   "execution_count": 14,
   "id": "d40a2a00",
   "metadata": {},
   "outputs": [
    {
     "data": {
      "text/plain": [
       "8.363005558706702"
      ]
     },
     "execution_count": 14,
     "metadata": {},
     "output_type": "execute_result"
    }
   ],
   "source": [
    "np.sqrt(metrics.mean_squared_error(y_test, predictions))"
   ]
  },
  {
   "cell_type": "markdown",
   "id": "71ddb559",
   "metadata": {},
   "source": [
    "# k-Fold Cross Validation"
   ]
  },
  {
   "cell_type": "code",
   "execution_count": 15,
   "id": "cdc1a16e",
   "metadata": {},
   "outputs": [],
   "source": [
    "from sklearn.model_selection import KFold\n",
    "from sklearn.model_selection import cross_val_score"
   ]
  },
  {
   "cell_type": "markdown",
   "id": "ec6268d3",
   "metadata": {},
   "source": [
    "# Creating Folds"
   ]
  },
  {
   "cell_type": "code",
   "execution_count": 25,
   "id": "cc656fde",
   "metadata": {},
   "outputs": [
    {
     "name": "stdout",
     "output_type": "stream",
     "text": [
      "train: [0 1 3 4 5 7], test: [2 6 8]\n",
      "train: [2 3 4 5 6 8], test: [0 1 7]\n",
      "train: [0 1 2 6 7 8], test: [3 4 5]\n"
     ]
    },
    {
     "name": "stderr",
     "output_type": "stream",
     "text": [
      "/Users/lakisha/opt/anaconda3/lib/python3.9/site-packages/sklearn/utils/validation.py:70: FutureWarning: Pass shuffle=True, random_state=1 as keyword args. From version 1.0 (renaming of 0.25) passing these as positional arguments will result in an error\n",
      "  warnings.warn(f\"Pass {args_msg} as keyword args. From version \"\n"
     ]
    }
   ],
   "source": [
    "kfold = KFold(3, True, 1)\n",
    "for train, test in kfold.split(x,y):\n",
    "    print('train: %s, test: %s' % (train,test))"
   ]
  },
  {
   "cell_type": "code",
   "execution_count": 26,
   "id": "c1cae99d",
   "metadata": {},
   "outputs": [
    {
     "name": "stdout",
     "output_type": "stream",
     "text": [
      "[-2.44493356e+01 -2.46111394e+01 -1.45818110e+05]\n"
     ]
    }
   ],
   "source": [
    "print(cross_val_score(lm, x,y, cv=3))"
   ]
  },
  {
   "cell_type": "markdown",
   "id": "abc5df20",
   "metadata": {},
   "source": [
    "# Model 3 is the best model"
   ]
  },
  {
   "cell_type": "code",
   "execution_count": null,
   "id": "74893ba7",
   "metadata": {},
   "outputs": [],
   "source": []
  }
 ],
 "metadata": {
  "kernelspec": {
   "display_name": "Python 3 (ipykernel)",
   "language": "python",
   "name": "python3"
  },
  "language_info": {
   "codemirror_mode": {
    "name": "ipython",
    "version": 3
   },
   "file_extension": ".py",
   "mimetype": "text/x-python",
   "name": "python",
   "nbconvert_exporter": "python",
   "pygments_lexer": "ipython3",
   "version": "3.9.7"
  }
 },
 "nbformat": 4,
 "nbformat_minor": 5
}
