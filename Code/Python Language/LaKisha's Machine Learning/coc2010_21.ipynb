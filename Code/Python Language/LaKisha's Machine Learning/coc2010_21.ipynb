{
 "cells": [
  {
   "cell_type": "code",
   "execution_count": 1,
   "id": "40435fd3",
   "metadata": {},
   "outputs": [],
   "source": [
    "import pandas as pd\n",
    "from sklearn.linear_model import LinearRegression\n",
    "from sklearn.model_selection import train_test_split\n",
    "import matplotlib.pyplot as plt\n",
    "%matplotlib inline\n",
    "from sklearn import metrics\n",
    "import numpy as np"
   ]
  },
  {
   "cell_type": "markdown",
   "id": "f003b684",
   "metadata": {},
   "source": [
    "# Import Data"
   ]
  },
  {
   "cell_type": "code",
   "execution_count": 2,
   "id": "871737a8",
   "metadata": {},
   "outputs": [],
   "source": [
    "coc2010_21 = pd.read_excel('../../Data/2010_2021.xlsx')"
   ]
  },
  {
   "cell_type": "code",
   "execution_count": 3,
   "id": "112e11ce",
   "metadata": {},
   "outputs": [
    {
     "data": {
      "text/html": [
       "<div>\n",
       "<style scoped>\n",
       "    .dataframe tbody tr th:only-of-type {\n",
       "        vertical-align: middle;\n",
       "    }\n",
       "\n",
       "    .dataframe tbody tr th {\n",
       "        vertical-align: top;\n",
       "    }\n",
       "\n",
       "    .dataframe thead th {\n",
       "        text-align: right;\n",
       "    }\n",
       "</style>\n",
       "<table border=\"1\" class=\"dataframe\">\n",
       "  <thead>\n",
       "    <tr style=\"text-align: right;\">\n",
       "      <th></th>\n",
       "      <th>2021</th>\n",
       "      <th>Family Units</th>\n",
       "      <th>Family Beds</th>\n",
       "      <th>Individual Beds</th>\n",
       "      <th>Adult Only Beds</th>\n",
       "      <th>Child Only Beds</th>\n",
       "      <th>Total Yr Round Beds</th>\n",
       "      <th>Seasonal</th>\n",
       "      <th>Overflow/Voucher</th>\n",
       "      <th>Veteran Beds</th>\n",
       "      <th>Youth Beds</th>\n",
       "    </tr>\n",
       "  </thead>\n",
       "  <tbody>\n",
       "    <tr>\n",
       "      <th>0</th>\n",
       "      <td>1</td>\n",
       "      <td>57359</td>\n",
       "      <td>178740</td>\n",
       "      <td>0</td>\n",
       "      <td>214593</td>\n",
       "      <td>3133</td>\n",
       "      <td>396466</td>\n",
       "      <td>20779</td>\n",
       "      <td>28253</td>\n",
       "      <td>18243</td>\n",
       "      <td>16156</td>\n",
       "    </tr>\n",
       "    <tr>\n",
       "      <th>1</th>\n",
       "      <td>2</td>\n",
       "      <td>44174</td>\n",
       "      <td>139345</td>\n",
       "      <td>0</td>\n",
       "      <td>165961</td>\n",
       "      <td>2602</td>\n",
       "      <td>307908</td>\n",
       "      <td>20779</td>\n",
       "      <td>28253</td>\n",
       "      <td>4356</td>\n",
       "      <td>6633</td>\n",
       "    </tr>\n",
       "    <tr>\n",
       "      <th>2</th>\n",
       "      <td>3</td>\n",
       "      <td>8</td>\n",
       "      <td>11</td>\n",
       "      <td>0</td>\n",
       "      <td>2476</td>\n",
       "      <td>0</td>\n",
       "      <td>2487</td>\n",
       "      <td>0</td>\n",
       "      <td>0</td>\n",
       "      <td>1505</td>\n",
       "      <td>10</td>\n",
       "    </tr>\n",
       "    <tr>\n",
       "      <th>3</th>\n",
       "      <td>4</td>\n",
       "      <td>13177</td>\n",
       "      <td>39384</td>\n",
       "      <td>0</td>\n",
       "      <td>46156</td>\n",
       "      <td>531</td>\n",
       "      <td>86071</td>\n",
       "      <td>0</td>\n",
       "      <td>0</td>\n",
       "      <td>12382</td>\n",
       "      <td>9513</td>\n",
       "    </tr>\n",
       "    <tr>\n",
       "      <th>4</th>\n",
       "      <td>5</td>\n",
       "      <td>84990</td>\n",
       "      <td>246910</td>\n",
       "      <td>0</td>\n",
       "      <td>350572</td>\n",
       "      <td>289</td>\n",
       "      <td>567771</td>\n",
       "      <td>0</td>\n",
       "      <td>0</td>\n",
       "      <td>122847</td>\n",
       "      <td>13394</td>\n",
       "    </tr>\n",
       "    <tr>\n",
       "      <th>...</th>\n",
       "      <td>...</td>\n",
       "      <td>...</td>\n",
       "      <td>...</td>\n",
       "      <td>...</td>\n",
       "      <td>...</td>\n",
       "      <td>...</td>\n",
       "      <td>...</td>\n",
       "      <td>...</td>\n",
       "      <td>...</td>\n",
       "      <td>...</td>\n",
       "      <td>...</td>\n",
       "    </tr>\n",
       "    <tr>\n",
       "      <th>105</th>\n",
       "      <td>3</td>\n",
       "      <td>0</td>\n",
       "      <td>0</td>\n",
       "      <td>2199</td>\n",
       "      <td>0</td>\n",
       "      <td>0</td>\n",
       "      <td>2199</td>\n",
       "      <td>0</td>\n",
       "      <td>0</td>\n",
       "      <td>0</td>\n",
       "      <td>0</td>\n",
       "    </tr>\n",
       "    <tr>\n",
       "      <th>106</th>\n",
       "      <td>4</td>\n",
       "      <td>35185</td>\n",
       "      <td>109512</td>\n",
       "      <td>91111</td>\n",
       "      <td>0</td>\n",
       "      <td>0</td>\n",
       "      <td>200623</td>\n",
       "      <td>0</td>\n",
       "      <td>0</td>\n",
       "      <td>0</td>\n",
       "      <td>0</td>\n",
       "    </tr>\n",
       "    <tr>\n",
       "      <th>107</th>\n",
       "      <td>7</td>\n",
       "      <td>5070</td>\n",
       "      <td>14790</td>\n",
       "      <td>5052</td>\n",
       "      <td>0</td>\n",
       "      <td>0</td>\n",
       "      <td>19842</td>\n",
       "      <td>0</td>\n",
       "      <td>0</td>\n",
       "      <td>0</td>\n",
       "      <td>0</td>\n",
       "    </tr>\n",
       "    <tr>\n",
       "      <th>108</th>\n",
       "      <td>6</td>\n",
       "      <td>33060</td>\n",
       "      <td>95353</td>\n",
       "      <td>141445</td>\n",
       "      <td>0</td>\n",
       "      <td>0</td>\n",
       "      <td>236798</td>\n",
       "      <td>0</td>\n",
       "      <td>0</td>\n",
       "      <td>0</td>\n",
       "      <td>0</td>\n",
       "    </tr>\n",
       "    <tr>\n",
       "      <th>109</th>\n",
       "      <td>9</td>\n",
       "      <td>106193</td>\n",
       "      <td>327605</td>\n",
       "      <td>353467</td>\n",
       "      <td>0</td>\n",
       "      <td>0</td>\n",
       "      <td>681072</td>\n",
       "      <td>19668</td>\n",
       "      <td>32393</td>\n",
       "      <td>0</td>\n",
       "      <td>0</td>\n",
       "    </tr>\n",
       "  </tbody>\n",
       "</table>\n",
       "<p>110 rows × 11 columns</p>\n",
       "</div>"
      ],
      "text/plain": [
       "     2021  Family Units  Family Beds  Individual Beds  Adult Only Beds  \\\n",
       "0       1         57359       178740                0           214593   \n",
       "1       2         44174       139345                0           165961   \n",
       "2       3             8           11                0             2476   \n",
       "3       4         13177        39384                0            46156   \n",
       "4       5         84990       246910                0           350572   \n",
       "..    ...           ...          ...              ...              ...   \n",
       "105     3             0            0             2199                0   \n",
       "106     4         35185       109512            91111                0   \n",
       "107     7          5070        14790             5052                0   \n",
       "108     6         33060        95353           141445                0   \n",
       "109     9        106193       327605           353467                0   \n",
       "\n",
       "     Child Only Beds  Total Yr Round Beds  Seasonal  Overflow/Voucher  \\\n",
       "0               3133               396466     20779             28253   \n",
       "1               2602               307908     20779             28253   \n",
       "2                  0                 2487         0                 0   \n",
       "3                531                86071         0                 0   \n",
       "4                289               567771         0                 0   \n",
       "..               ...                  ...       ...               ...   \n",
       "105                0                 2199         0                 0   \n",
       "106                0               200623         0                 0   \n",
       "107                0                19842         0                 0   \n",
       "108                0               236798         0                 0   \n",
       "109                0               681072     19668             32393   \n",
       "\n",
       "     Veteran Beds  Youth Beds  \n",
       "0           18243       16156  \n",
       "1            4356        6633  \n",
       "2            1505          10  \n",
       "3           12382        9513  \n",
       "4          122847       13394  \n",
       "..            ...         ...  \n",
       "105             0           0  \n",
       "106             0           0  \n",
       "107             0           0  \n",
       "108             0           0  \n",
       "109             0           0  \n",
       "\n",
       "[110 rows x 11 columns]"
      ]
     },
     "execution_count": 3,
     "metadata": {},
     "output_type": "execute_result"
    }
   ],
   "source": [
    "coc2010_21"
   ]
  },
  {
   "cell_type": "code",
   "execution_count": 4,
   "id": "049400d4",
   "metadata": {},
   "outputs": [
    {
     "data": {
      "text/plain": [
       "<bound method DataFrame.dropna of      2021  Family Units  Family Beds  Individual Beds  Adult Only Beds  \\\n",
       "0       1         57359       178740                0           214593   \n",
       "1       2         44174       139345                0           165961   \n",
       "2       3             8           11                0             2476   \n",
       "3       4         13177        39384                0            46156   \n",
       "4       5         84990       246910                0           350572   \n",
       "..    ...           ...          ...              ...              ...   \n",
       "105     3             0            0             2199                0   \n",
       "106     4         35185       109512            91111                0   \n",
       "107     7          5070        14790             5052                0   \n",
       "108     6         33060        95353           141445                0   \n",
       "109     9        106193       327605           353467                0   \n",
       "\n",
       "     Child Only Beds  Total Yr Round Beds  Seasonal  Overflow/Voucher  \\\n",
       "0               3133               396466     20779             28253   \n",
       "1               2602               307908     20779             28253   \n",
       "2                  0                 2487         0                 0   \n",
       "3                531                86071         0                 0   \n",
       "4                289               567771         0                 0   \n",
       "..               ...                  ...       ...               ...   \n",
       "105                0                 2199         0                 0   \n",
       "106                0               200623         0                 0   \n",
       "107                0                19842         0                 0   \n",
       "108                0               236798         0                 0   \n",
       "109                0               681072     19668             32393   \n",
       "\n",
       "     Veteran Beds  Youth Beds  \n",
       "0           18243       16156  \n",
       "1            4356        6633  \n",
       "2            1505          10  \n",
       "3           12382        9513  \n",
       "4          122847       13394  \n",
       "..            ...         ...  \n",
       "105             0           0  \n",
       "106             0           0  \n",
       "107             0           0  \n",
       "108             0           0  \n",
       "109             0           0  \n",
       "\n",
       "[110 rows x 11 columns]>"
      ]
     },
     "execution_count": 4,
     "metadata": {},
     "output_type": "execute_result"
    }
   ],
   "source": [
    "coc2010_21.dropna"
   ]
  },
  {
   "cell_type": "code",
   "execution_count": 5,
   "id": "4f3fda07",
   "metadata": {},
   "outputs": [
    {
     "data": {
      "text/html": [
       "<div>\n",
       "<style scoped>\n",
       "    .dataframe tbody tr th:only-of-type {\n",
       "        vertical-align: middle;\n",
       "    }\n",
       "\n",
       "    .dataframe tbody tr th {\n",
       "        vertical-align: top;\n",
       "    }\n",
       "\n",
       "    .dataframe thead th {\n",
       "        text-align: right;\n",
       "    }\n",
       "</style>\n",
       "<table border=\"1\" class=\"dataframe\">\n",
       "  <thead>\n",
       "    <tr style=\"text-align: right;\">\n",
       "      <th></th>\n",
       "      <th>2021</th>\n",
       "      <th>Family Units</th>\n",
       "      <th>Family Beds</th>\n",
       "      <th>Individual Beds</th>\n",
       "      <th>Adult Only Beds</th>\n",
       "      <th>Child Only Beds</th>\n",
       "      <th>Total Yr Round Beds</th>\n",
       "      <th>Seasonal</th>\n",
       "      <th>Overflow/Voucher</th>\n",
       "      <th>Veteran Beds</th>\n",
       "      <th>Youth Beds</th>\n",
       "    </tr>\n",
       "  </thead>\n",
       "  <tbody>\n",
       "    <tr>\n",
       "      <th>0</th>\n",
       "      <td>1</td>\n",
       "      <td>57359</td>\n",
       "      <td>178740</td>\n",
       "      <td>0</td>\n",
       "      <td>214593</td>\n",
       "      <td>3133</td>\n",
       "      <td>396466</td>\n",
       "      <td>20779</td>\n",
       "      <td>28253</td>\n",
       "      <td>18243</td>\n",
       "      <td>16156</td>\n",
       "    </tr>\n",
       "    <tr>\n",
       "      <th>1</th>\n",
       "      <td>2</td>\n",
       "      <td>44174</td>\n",
       "      <td>139345</td>\n",
       "      <td>0</td>\n",
       "      <td>165961</td>\n",
       "      <td>2602</td>\n",
       "      <td>307908</td>\n",
       "      <td>20779</td>\n",
       "      <td>28253</td>\n",
       "      <td>4356</td>\n",
       "      <td>6633</td>\n",
       "    </tr>\n",
       "    <tr>\n",
       "      <th>2</th>\n",
       "      <td>3</td>\n",
       "      <td>8</td>\n",
       "      <td>11</td>\n",
       "      <td>0</td>\n",
       "      <td>2476</td>\n",
       "      <td>0</td>\n",
       "      <td>2487</td>\n",
       "      <td>0</td>\n",
       "      <td>0</td>\n",
       "      <td>1505</td>\n",
       "      <td>10</td>\n",
       "    </tr>\n",
       "    <tr>\n",
       "      <th>3</th>\n",
       "      <td>4</td>\n",
       "      <td>13177</td>\n",
       "      <td>39384</td>\n",
       "      <td>0</td>\n",
       "      <td>46156</td>\n",
       "      <td>531</td>\n",
       "      <td>86071</td>\n",
       "      <td>0</td>\n",
       "      <td>0</td>\n",
       "      <td>12382</td>\n",
       "      <td>9513</td>\n",
       "    </tr>\n",
       "    <tr>\n",
       "      <th>4</th>\n",
       "      <td>5</td>\n",
       "      <td>84990</td>\n",
       "      <td>246910</td>\n",
       "      <td>0</td>\n",
       "      <td>350572</td>\n",
       "      <td>289</td>\n",
       "      <td>567771</td>\n",
       "      <td>0</td>\n",
       "      <td>0</td>\n",
       "      <td>122847</td>\n",
       "      <td>13394</td>\n",
       "    </tr>\n",
       "    <tr>\n",
       "      <th>...</th>\n",
       "      <td>...</td>\n",
       "      <td>...</td>\n",
       "      <td>...</td>\n",
       "      <td>...</td>\n",
       "      <td>...</td>\n",
       "      <td>...</td>\n",
       "      <td>...</td>\n",
       "      <td>...</td>\n",
       "      <td>...</td>\n",
       "      <td>...</td>\n",
       "      <td>...</td>\n",
       "    </tr>\n",
       "    <tr>\n",
       "      <th>105</th>\n",
       "      <td>3</td>\n",
       "      <td>0</td>\n",
       "      <td>0</td>\n",
       "      <td>2199</td>\n",
       "      <td>0</td>\n",
       "      <td>0</td>\n",
       "      <td>2199</td>\n",
       "      <td>0</td>\n",
       "      <td>0</td>\n",
       "      <td>0</td>\n",
       "      <td>0</td>\n",
       "    </tr>\n",
       "    <tr>\n",
       "      <th>106</th>\n",
       "      <td>4</td>\n",
       "      <td>35185</td>\n",
       "      <td>109512</td>\n",
       "      <td>91111</td>\n",
       "      <td>0</td>\n",
       "      <td>0</td>\n",
       "      <td>200623</td>\n",
       "      <td>0</td>\n",
       "      <td>0</td>\n",
       "      <td>0</td>\n",
       "      <td>0</td>\n",
       "    </tr>\n",
       "    <tr>\n",
       "      <th>107</th>\n",
       "      <td>7</td>\n",
       "      <td>5070</td>\n",
       "      <td>14790</td>\n",
       "      <td>5052</td>\n",
       "      <td>0</td>\n",
       "      <td>0</td>\n",
       "      <td>19842</td>\n",
       "      <td>0</td>\n",
       "      <td>0</td>\n",
       "      <td>0</td>\n",
       "      <td>0</td>\n",
       "    </tr>\n",
       "    <tr>\n",
       "      <th>108</th>\n",
       "      <td>6</td>\n",
       "      <td>33060</td>\n",
       "      <td>95353</td>\n",
       "      <td>141445</td>\n",
       "      <td>0</td>\n",
       "      <td>0</td>\n",
       "      <td>236798</td>\n",
       "      <td>0</td>\n",
       "      <td>0</td>\n",
       "      <td>0</td>\n",
       "      <td>0</td>\n",
       "    </tr>\n",
       "    <tr>\n",
       "      <th>109</th>\n",
       "      <td>9</td>\n",
       "      <td>106193</td>\n",
       "      <td>327605</td>\n",
       "      <td>353467</td>\n",
       "      <td>0</td>\n",
       "      <td>0</td>\n",
       "      <td>681072</td>\n",
       "      <td>19668</td>\n",
       "      <td>32393</td>\n",
       "      <td>0</td>\n",
       "      <td>0</td>\n",
       "    </tr>\n",
       "  </tbody>\n",
       "</table>\n",
       "<p>110 rows × 11 columns</p>\n",
       "</div>"
      ],
      "text/plain": [
       "     2021  Family Units  Family Beds  Individual Beds  Adult Only Beds  \\\n",
       "0       1         57359       178740                0           214593   \n",
       "1       2         44174       139345                0           165961   \n",
       "2       3             8           11                0             2476   \n",
       "3       4         13177        39384                0            46156   \n",
       "4       5         84990       246910                0           350572   \n",
       "..    ...           ...          ...              ...              ...   \n",
       "105     3             0            0             2199                0   \n",
       "106     4         35185       109512            91111                0   \n",
       "107     7          5070        14790             5052                0   \n",
       "108     6         33060        95353           141445                0   \n",
       "109     9        106193       327605           353467                0   \n",
       "\n",
       "     Child Only Beds  Total Yr Round Beds  Seasonal  Overflow/Voucher  \\\n",
       "0               3133               396466     20779             28253   \n",
       "1               2602               307908     20779             28253   \n",
       "2                  0                 2487         0                 0   \n",
       "3                531                86071         0                 0   \n",
       "4                289               567771         0                 0   \n",
       "..               ...                  ...       ...               ...   \n",
       "105                0                 2199         0                 0   \n",
       "106                0               200623         0                 0   \n",
       "107                0                19842         0                 0   \n",
       "108                0               236798         0                 0   \n",
       "109                0               681072     19668             32393   \n",
       "\n",
       "     Veteran Beds  Youth Beds  \n",
       "0           18243       16156  \n",
       "1            4356        6633  \n",
       "2            1505          10  \n",
       "3           12382        9513  \n",
       "4          122847       13394  \n",
       "..            ...         ...  \n",
       "105             0           0  \n",
       "106             0           0  \n",
       "107             0           0  \n",
       "108             0           0  \n",
       "109             0           0  \n",
       "\n",
       "[110 rows x 11 columns]"
      ]
     },
     "execution_count": 5,
     "metadata": {},
     "output_type": "execute_result"
    }
   ],
   "source": [
    "coc2010_21"
   ]
  },
  {
   "cell_type": "code",
   "execution_count": 6,
   "id": "882c0844",
   "metadata": {},
   "outputs": [],
   "source": [
    "x = coc2010_21[['Adult Only Beds', 'Child Only Beds', 'Youth Beds', 'Family Beds', 'Family Units', 'Veteran Beds']]\n",
    "y = coc2010_21['Total Yr Round Beds']"
   ]
  },
  {
   "cell_type": "markdown",
   "id": "b36a5fb3",
   "metadata": {},
   "source": [
    "# Train Test Split"
   ]
  },
  {
   "cell_type": "code",
   "execution_count": 7,
   "id": "854b2c16",
   "metadata": {},
   "outputs": [],
   "source": [
    "x_train, x_test, y_train, y_test = train_test_split(x,y, test_size = 0.4)"
   ]
  },
  {
   "cell_type": "code",
   "execution_count": 8,
   "id": "a1533f88",
   "metadata": {},
   "outputs": [
    {
     "name": "stdout",
     "output_type": "stream",
     "text": [
      "(66, 6) (66,)\n",
      "(44, 6) (44,)\n"
     ]
    }
   ],
   "source": [
    "print(x_train.shape, y_train.shape)\n",
    "print(x_test.shape, y_test.shape)"
   ]
  },
  {
   "cell_type": "code",
   "execution_count": 9,
   "id": "7efa7a3c",
   "metadata": {},
   "outputs": [
    {
     "data": {
      "text/plain": [
       "LinearRegression()"
      ]
     },
     "execution_count": 9,
     "metadata": {},
     "output_type": "execute_result"
    }
   ],
   "source": [
    "lm = LinearRegression()\n",
    "lm.fit(x_train, y_train)"
   ]
  },
  {
   "cell_type": "code",
   "execution_count": 10,
   "id": "1573b433",
   "metadata": {},
   "outputs": [
    {
     "data": {
      "text/plain": [
       "array([166747.0264146 ,  -4627.9559675 ,  -4293.34853557, 377546.95626459,\n",
       "       206554.5834338 , 462445.00211128, 314074.75852499, 311491.83816068,\n",
       "        -4627.9559675 ,  92116.26281675, 223292.96071419,  86508.44202629,\n",
       "        -4151.48160965, 190689.14079591,  -4627.9559675 ,  45937.73805689,\n",
       "       515498.44631036, 369223.28617776, 518118.20582618, 279566.19202986,\n",
       "        -4627.9559675 ,   8489.88773546, 300712.17397167,  -4210.9092058 ,\n",
       "       373621.05597162,  -4627.9559675 , 305987.60732839, 109354.38496201,\n",
       "        -4627.9559675 , 246482.93569005, 761014.82800424, 277305.22086289,\n",
       "        -4627.9559675 , 766248.5141482 , 289230.61912864, 641011.52068314,\n",
       "        66392.31656018, 797519.76442451, 152685.95493293, 424255.73693769,\n",
       "       300940.48789522, 422161.69276713, 301275.12907194, 447745.91615833])"
      ]
     },
     "execution_count": 10,
     "metadata": {},
     "output_type": "execute_result"
    }
   ],
   "source": [
    "predictions = lm.predict(x_test)\n",
    "predictions"
   ]
  },
  {
   "cell_type": "code",
   "execution_count": 11,
   "id": "98d2211e",
   "metadata": {},
   "outputs": [
    {
     "data": {
      "text/plain": [
       "<matplotlib.collections.PathCollection at 0x7fee90156b50>"
      ]
     },
     "execution_count": 11,
     "metadata": {},
     "output_type": "execute_result"
    },
    {
     "data": {
      "image/png": "[encoded data removed]",
      "text/plain": [
       "<Figure size 432x288 with 1 Axes>"
      ]
     },
     "metadata": {
      "needs_background": "light"
     },
     "output_type": "display_data"
    }
   ],
   "source": [
    "plt.scatter(y_test, predictions)"
   ]
  },
  {
   "cell_type": "code",
   "execution_count": 12,
   "id": "c7b761eb",
   "metadata": {},
   "outputs": [
    {
     "name": "stdout",
     "output_type": "stream",
     "text": [
      "Score: 0.9861973779623683\n"
     ]
    }
   ],
   "source": [
    "print(\"Score:\", lm.score(x_test, y_test))"
   ]
  },
  {
   "cell_type": "code",
   "execution_count": 13,
   "id": "15e9981f",
   "metadata": {},
   "outputs": [
    {
     "data": {
      "text/plain": [
       "19658.974269860068"
      ]
     },
     "execution_count": 13,
     "metadata": {},
     "output_type": "execute_result"
    }
   ],
   "source": [
    "metrics.mean_absolute_error(y_test, predictions)"
   ]
  },
  {
   "cell_type": "code",
   "execution_count": 14,
   "id": "dd7d82fd",
   "metadata": {},
   "outputs": [
    {
     "data": {
      "text/plain": [
       "688257992.3373863"
      ]
     },
     "execution_count": 14,
     "metadata": {},
     "output_type": "execute_result"
    }
   ],
   "source": [
    "metrics.mean_squared_error(y_test, predictions)"
   ]
  },
  {
   "cell_type": "code",
   "execution_count": 15,
   "id": "348e5492",
   "metadata": {},
   "outputs": [
    {
     "data": {
      "text/plain": [
       "26234.67156907794"
      ]
     },
     "execution_count": 15,
     "metadata": {},
     "output_type": "execute_result"
    }
   ],
   "source": [
    "np.sqrt(metrics.mean_squared_error(y_test, predictions))"
   ]
  },
  {
   "cell_type": "code",
   "execution_count": 16,
   "id": "3f55bb02",
   "metadata": {},
   "outputs": [],
   "source": [
    "from sklearn.model_selection import KFold\n",
    "from sklearn.model_selection import cross_val_score"
   ]
  },
  {
   "cell_type": "code",
   "execution_count": 17,
   "id": "06491484",
   "metadata": {},
   "outputs": [
    {
     "name": "stdout",
     "output_type": "stream",
     "text": [
      "train: [  0   1   2   3   4   5   6   7   8   9  10  11  12  13  14  15  16  17\n",
      "  18  19  20  21  22  23  24  25  26  27  28  29  30  31  32  33  34  36\n",
      "  37  39  40  41  42  43  45  46  47  48  49  50  51  52  53  54  55  57\n",
      "  59  60  61  62  63  64  66  67  68  70  71  72  73  74  75  76  77  78\n",
      "  79  80  82  83  84  85  86  87  88  90  91  92  93  94  95  96  98  99\n",
      " 100 102 103 104 105 106 107 108 109], test: [ 35  38  44  56  58  65  69  81  89  97 101]\n",
      "train: [  0   1   3   4   5   6   7   8   9  10  11  12  13  14  15  16  18  19\n",
      "  20  21  22  23  24  25  26  27  28  29  30  31  32  33  34  35  36  37\n",
      "  38  39  40  41  43  44  45  46  47  48  49  50  51  52  54  55  56  57\n",
      "  58  59  60  61  62  63  64  65  66  67  68  69  70  71  72  74  75  76\n",
      "  77  78  79  80  81  82  83  84  85  86  87  89  91  92  94  95  97  98\n",
      "  99 100 101 102 105 106 107 108 109], test: [  2  17  42  53  73  88  90  93  96 103 104]\n",
      "train: [  0   1   2   3   4   5   6   7   8   9  10  11  12  13  14  15  16  17\n",
      "  18  19  20  21  22  23  24  25  26  27  28  29  30  32  34  35  36  37\n",
      "  38  39  40  41  42  43  44  45  47  49  50  51  52  53  56  57  58  60\n",
      "  61  62  63  64  65  66  68  69  70  71  72  73  74  75  76  78  79  80\n",
      "  81  82  83  84  85  88  89  90  91  92  93  94  95  96  97  98  99 100\n",
      " 101 102 103 104 105 106 107 108 109], test: [31 33 46 48 54 55 59 67 77 86 87]\n",
      "train: [  0   1   2   3   4   5   6   7   8   9  11  12  13  14  15  16  17  18\n",
      "  20  21  22  23  24  25  26  28  29  30  31  33  34  35  37  38  40  41\n",
      "  42  43  44  45  46  47  48  49  50  51  52  53  54  55  56  57  58  59\n",
      "  60  61  62  63  64  65  67  68  69  70  71  72  73  75  76  77  78  79\n",
      "  80  81  82  84  86  87  88  89  90  91  92  93  94  95  96  97  98  99\n",
      " 100 101 102 103 104 105 106 107 108], test: [ 10  19  27  32  36  39  66  74  83  85 109]\n",
      "train: [  0   1   2   3   5   6   7   8   9  10  11  12  13  14  15  16  17  18\n",
      "  19  20  21  22  24  25  26  27  28  29  30  31  32  33  35  36  37  38\n",
      "  39  41  42  43  44  45  46  47  48  49  50  51  52  53  54  55  56  57\n",
      "  58  59  60  61  63  64  65  66  67  68  69  70  71  72  73  74  75  76\n",
      "  77  78  79  81  83  84  85  86  87  88  89  90  91  92  93  94  96  97\n",
      "  99 100 101 103 104 105 107 108 109], test: [  4  23  34  40  62  80  82  95  98 102 106]\n",
      "train: [  0   1   2   3   4   5   6   7   8   9  10  11  12  13  14  16  17  18\n",
      "  19  20  21  22  23  25  27  28  29  30  31  32  33  34  35  36  37  38\n",
      "  39  40  42  44  46  47  48  49  50  53  54  55  56  57  58  59  60  61\n",
      "  62  63  64  65  66  67  68  69  70  71  72  73  74  75  76  77  78  79\n",
      "  80  81  82  83  84  85  86  87  88  89  90  91  93  94  95  96  97  98\n",
      "  99 101 102 103 104 105 106 107 109], test: [ 15  24  26  41  43  45  51  52  92 100 108]\n",
      "train: [  1   2   4   5   6   7   9  10  11  12  13  14  15  16  17  18  19  20\n",
      "  22  23  24  25  26  27  28  29  31  32  33  34  35  36  37  38  39  40\n",
      "  41  42  43  44  45  46  48  50  51  52  53  54  55  56  57  58  59  61\n",
      "  62  63  64  65  66  67  68  69  71  72  73  74  75  76  77  79  80  81\n",
      "  82  83  84  85  86  87  88  89  90  92  93  94  95  96  97  98  99 100\n",
      " 101 102 103 104 105 106 107 108 109], test: [ 0  3  8 21 30 47 49 60 70 78 91]\n",
      "train: [  0   1   2   3   4   5   6   8   9  10  11  12  15  16  17  18  19  20\n",
      "  21  23  24  25  26  27  28  29  30  31  32  33  34  35  36  37  38  39\n",
      "  40  41  42  43  44  45  46  47  48  49  50  51  52  53  54  55  56  58\n",
      "  59  60  62  64  65  66  67  69  70  71  72  73  74  75  76  77  78  79\n",
      "  80  81  82  83  84  85  86  87  88  89  90  91  92  93  95  96  97  98\n",
      " 100 101 102 103 104 106 107 108 109], test: [  7  13  14  22  57  61  63  68  94  99 105]\n",
      "train: [  0   1   2   3   4   5   7   8   9  10  12  13  14  15  16  17  19  21\n",
      "  22  23  24  26  27  30  31  32  33  34  35  36  37  38  39  40  41  42\n",
      "  43  44  45  46  47  48  49  51  52  53  54  55  56  57  58  59  60  61\n",
      "  62  63  64  65  66  67  68  69  70  72  73  74  75  77  78  79  80  81\n",
      "  82  83  85  86  87  88  89  90  91  92  93  94  95  96  97  98  99 100\n",
      " 101 102 103 104 105 106 107 108 109], test: [ 6 11 18 20 25 28 29 50 71 76 84]\n",
      "train: [  0   2   3   4   6   7   8  10  11  13  14  15  17  18  19  20  21  22\n",
      "  23  24  25  26  27  28  29  30  31  32  33  34  35  36  38  39  40  41\n",
      "  42  43  44  45  46  47  48  49  50  51  52  53  54  55  56  57  58  59\n",
      "  60  61  62  63  65  66  67  68  69  70  71  73  74  76  77  78  80  81\n",
      "  82  83  84  85  86  87  88  89  90  91  92  93  94  95  96  97  98  99\n",
      " 100 101 102 103 104 105 106 108 109], test: [  1   5   9  12  16  37  64  72  75  79 107]\n"
     ]
    },
    {
     "name": "stderr",
     "output_type": "stream",
     "text": [
      "/Users/lakisha/opt/anaconda3/lib/python3.9/site-packages/sklearn/utils/validation.py:70: FutureWarning: Pass shuffle=True, random_state=1 as keyword args. From version 1.0 (renaming of 0.25) passing these as positional arguments will result in an error\n",
      "  warnings.warn(f\"Pass {args_msg} as keyword args. From version \"\n"
     ]
    }
   ],
   "source": [
    "kfold = KFold(10, True, 1)\n",
    "for train, test in kfold.split(x,y):\n",
    "    print('train: %s, test: %s' % (train,test))"
   ]
  },
  {
   "cell_type": "code",
   "execution_count": 18,
   "id": "0ceb77e2",
   "metadata": {},
   "outputs": [
    {
     "name": "stdout",
     "output_type": "stream",
     "text": [
      "[0.98934517 0.99134723 0.99329794 0.99211435 0.99250923 0.99436832\n",
      " 0.99441121 0.98953651 0.99498111 0.88006825]\n"
     ]
    }
   ],
   "source": [
    "print(cross_val_score(lm, x,y, cv=10))"
   ]
  },
  {
   "cell_type": "code",
   "execution_count": 19,
   "id": "ee66136f",
   "metadata": {},
   "outputs": [],
   "source": [
    "import pandas as pd\n",
    "import numpy as np\n",
    "import matplotlib.pyplot as plt\n",
    "import seaborn as sns\n",
    "%matplotlib inline\n",
    "from sklearn.cluster import KMeans"
   ]
  },
  {
   "cell_type": "code",
   "execution_count": 20,
   "id": "791bf72f",
   "metadata": {},
   "outputs": [
    {
     "data": {
      "text/html": [
       "<div>\n",
       "<style scoped>\n",
       "    .dataframe tbody tr th:only-of-type {\n",
       "        vertical-align: middle;\n",
       "    }\n",
       "\n",
       "    .dataframe tbody tr th {\n",
       "        vertical-align: top;\n",
       "    }\n",
       "\n",
       "    .dataframe thead th {\n",
       "        text-align: right;\n",
       "    }\n",
       "</style>\n",
       "<table border=\"1\" class=\"dataframe\">\n",
       "  <thead>\n",
       "    <tr style=\"text-align: right;\">\n",
       "      <th></th>\n",
       "      <th>2021</th>\n",
       "      <th>Family Units</th>\n",
       "      <th>Family Beds</th>\n",
       "      <th>Individual Beds</th>\n",
       "      <th>Adult Only Beds</th>\n",
       "      <th>Child Only Beds</th>\n",
       "      <th>Total Yr Round Beds</th>\n",
       "      <th>Seasonal</th>\n",
       "      <th>Overflow/Voucher</th>\n",
       "      <th>Veteran Beds</th>\n",
       "      <th>Youth Beds</th>\n",
       "    </tr>\n",
       "  </thead>\n",
       "  <tbody>\n",
       "    <tr>\n",
       "      <th>0</th>\n",
       "      <td>1</td>\n",
       "      <td>57359</td>\n",
       "      <td>178740</td>\n",
       "      <td>0</td>\n",
       "      <td>214593</td>\n",
       "      <td>3133</td>\n",
       "      <td>396466</td>\n",
       "      <td>20779</td>\n",
       "      <td>28253</td>\n",
       "      <td>18243</td>\n",
       "      <td>16156</td>\n",
       "    </tr>\n",
       "    <tr>\n",
       "      <th>1</th>\n",
       "      <td>2</td>\n",
       "      <td>44174</td>\n",
       "      <td>139345</td>\n",
       "      <td>0</td>\n",
       "      <td>165961</td>\n",
       "      <td>2602</td>\n",
       "      <td>307908</td>\n",
       "      <td>20779</td>\n",
       "      <td>28253</td>\n",
       "      <td>4356</td>\n",
       "      <td>6633</td>\n",
       "    </tr>\n",
       "    <tr>\n",
       "      <th>2</th>\n",
       "      <td>3</td>\n",
       "      <td>8</td>\n",
       "      <td>11</td>\n",
       "      <td>0</td>\n",
       "      <td>2476</td>\n",
       "      <td>0</td>\n",
       "      <td>2487</td>\n",
       "      <td>0</td>\n",
       "      <td>0</td>\n",
       "      <td>1505</td>\n",
       "      <td>10</td>\n",
       "    </tr>\n",
       "    <tr>\n",
       "      <th>3</th>\n",
       "      <td>4</td>\n",
       "      <td>13177</td>\n",
       "      <td>39384</td>\n",
       "      <td>0</td>\n",
       "      <td>46156</td>\n",
       "      <td>531</td>\n",
       "      <td>86071</td>\n",
       "      <td>0</td>\n",
       "      <td>0</td>\n",
       "      <td>12382</td>\n",
       "      <td>9513</td>\n",
       "    </tr>\n",
       "    <tr>\n",
       "      <th>4</th>\n",
       "      <td>5</td>\n",
       "      <td>84990</td>\n",
       "      <td>246910</td>\n",
       "      <td>0</td>\n",
       "      <td>350572</td>\n",
       "      <td>289</td>\n",
       "      <td>567771</td>\n",
       "      <td>0</td>\n",
       "      <td>0</td>\n",
       "      <td>122847</td>\n",
       "      <td>13394</td>\n",
       "    </tr>\n",
       "  </tbody>\n",
       "</table>\n",
       "</div>"
      ],
      "text/plain": [
       "   2021  Family Units  Family Beds  Individual Beds  Adult Only Beds  \\\n",
       "0     1         57359       178740                0           214593   \n",
       "1     2         44174       139345                0           165961   \n",
       "2     3             8           11                0             2476   \n",
       "3     4         13177        39384                0            46156   \n",
       "4     5         84990       246910                0           350572   \n",
       "\n",
       "   Child Only Beds  Total Yr Round Beds  Seasonal  Overflow/Voucher  \\\n",
       "0             3133               396466     20779             28253   \n",
       "1             2602               307908     20779             28253   \n",
       "2                0                 2487         0                 0   \n",
       "3              531                86071         0                 0   \n",
       "4              289               567771         0                 0   \n",
       "\n",
       "   Veteran Beds  Youth Beds  \n",
       "0         18243       16156  \n",
       "1          4356        6633  \n",
       "2          1505          10  \n",
       "3         12382        9513  \n",
       "4        122847       13394  "
      ]
     },
     "execution_count": 20,
     "metadata": {},
     "output_type": "execute_result"
    }
   ],
   "source": [
    "coc2010_21.head()"
   ]
  },
  {
   "cell_type": "code",
   "execution_count": 21,
   "id": "87ab926a",
   "metadata": {},
   "outputs": [
    {
     "data": {
      "text/plain": [
       "<bound method DataFrame.dropna of      2021  Family Units  Family Beds  Individual Beds  Adult Only Beds  \\\n",
       "0       1         57359       178740                0           214593   \n",
       "1       2         44174       139345                0           165961   \n",
       "2       3             8           11                0             2476   \n",
       "3       4         13177        39384                0            46156   \n",
       "4       5         84990       246910                0           350572   \n",
       "..    ...           ...          ...              ...              ...   \n",
       "105     3             0            0             2199                0   \n",
       "106     4         35185       109512            91111                0   \n",
       "107     7          5070        14790             5052                0   \n",
       "108     6         33060        95353           141445                0   \n",
       "109     9        106193       327605           353467                0   \n",
       "\n",
       "     Child Only Beds  Total Yr Round Beds  Seasonal  Overflow/Voucher  \\\n",
       "0               3133               396466     20779             28253   \n",
       "1               2602               307908     20779             28253   \n",
       "2                  0                 2487         0                 0   \n",
       "3                531                86071         0                 0   \n",
       "4                289               567771         0                 0   \n",
       "..               ...                  ...       ...               ...   \n",
       "105                0                 2199         0                 0   \n",
       "106                0               200623         0                 0   \n",
       "107                0                19842         0                 0   \n",
       "108                0               236798         0                 0   \n",
       "109                0               681072     19668             32393   \n",
       "\n",
       "     Veteran Beds  Youth Beds  \n",
       "0           18243       16156  \n",
       "1            4356        6633  \n",
       "2            1505          10  \n",
       "3           12382        9513  \n",
       "4          122847       13394  \n",
       "..            ...         ...  \n",
       "105             0           0  \n",
       "106             0           0  \n",
       "107             0           0  \n",
       "108             0           0  \n",
       "109             0           0  \n",
       "\n",
       "[110 rows x 11 columns]>"
      ]
     },
     "execution_count": 21,
     "metadata": {},
     "output_type": "execute_result"
    }
   ],
   "source": [
    "coc2010_21.dropna"
   ]
  },
  {
   "cell_type": "code",
   "execution_count": 22,
   "id": "3430bb88",
   "metadata": {},
   "outputs": [
    {
     "data": {
      "text/html": [
       "<div>\n",
       "<style scoped>\n",
       "    .dataframe tbody tr th:only-of-type {\n",
       "        vertical-align: middle;\n",
       "    }\n",
       "\n",
       "    .dataframe tbody tr th {\n",
       "        vertical-align: top;\n",
       "    }\n",
       "\n",
       "    .dataframe thead th {\n",
       "        text-align: right;\n",
       "    }\n",
       "</style>\n",
       "<table border=\"1\" class=\"dataframe\">\n",
       "  <thead>\n",
       "    <tr style=\"text-align: right;\">\n",
       "      <th></th>\n",
       "      <th>2021</th>\n",
       "      <th>Family Units</th>\n",
       "      <th>Family Beds</th>\n",
       "      <th>Individual Beds</th>\n",
       "      <th>Adult Only Beds</th>\n",
       "      <th>Child Only Beds</th>\n",
       "      <th>Total Yr Round Beds</th>\n",
       "      <th>Seasonal</th>\n",
       "      <th>Overflow/Voucher</th>\n",
       "      <th>Veteran Beds</th>\n",
       "      <th>Youth Beds</th>\n",
       "    </tr>\n",
       "  </thead>\n",
       "  <tbody>\n",
       "    <tr>\n",
       "      <th>0</th>\n",
       "      <td>1</td>\n",
       "      <td>57359</td>\n",
       "      <td>178740</td>\n",
       "      <td>0</td>\n",
       "      <td>214593</td>\n",
       "      <td>3133</td>\n",
       "      <td>396466</td>\n",
       "      <td>20779</td>\n",
       "      <td>28253</td>\n",
       "      <td>18243</td>\n",
       "      <td>16156</td>\n",
       "    </tr>\n",
       "    <tr>\n",
       "      <th>1</th>\n",
       "      <td>2</td>\n",
       "      <td>44174</td>\n",
       "      <td>139345</td>\n",
       "      <td>0</td>\n",
       "      <td>165961</td>\n",
       "      <td>2602</td>\n",
       "      <td>307908</td>\n",
       "      <td>20779</td>\n",
       "      <td>28253</td>\n",
       "      <td>4356</td>\n",
       "      <td>6633</td>\n",
       "    </tr>\n",
       "    <tr>\n",
       "      <th>2</th>\n",
       "      <td>3</td>\n",
       "      <td>8</td>\n",
       "      <td>11</td>\n",
       "      <td>0</td>\n",
       "      <td>2476</td>\n",
       "      <td>0</td>\n",
       "      <td>2487</td>\n",
       "      <td>0</td>\n",
       "      <td>0</td>\n",
       "      <td>1505</td>\n",
       "      <td>10</td>\n",
       "    </tr>\n",
       "    <tr>\n",
       "      <th>3</th>\n",
       "      <td>4</td>\n",
       "      <td>13177</td>\n",
       "      <td>39384</td>\n",
       "      <td>0</td>\n",
       "      <td>46156</td>\n",
       "      <td>531</td>\n",
       "      <td>86071</td>\n",
       "      <td>0</td>\n",
       "      <td>0</td>\n",
       "      <td>12382</td>\n",
       "      <td>9513</td>\n",
       "    </tr>\n",
       "    <tr>\n",
       "      <th>4</th>\n",
       "      <td>5</td>\n",
       "      <td>84990</td>\n",
       "      <td>246910</td>\n",
       "      <td>0</td>\n",
       "      <td>350572</td>\n",
       "      <td>289</td>\n",
       "      <td>567771</td>\n",
       "      <td>0</td>\n",
       "      <td>0</td>\n",
       "      <td>122847</td>\n",
       "      <td>13394</td>\n",
       "    </tr>\n",
       "    <tr>\n",
       "      <th>5</th>\n",
       "      <td>6</td>\n",
       "      <td>43997</td>\n",
       "      <td>124471</td>\n",
       "      <td>0</td>\n",
       "      <td>252172</td>\n",
       "      <td>66</td>\n",
       "      <td>376709</td>\n",
       "      <td>0</td>\n",
       "      <td>0</td>\n",
       "      <td>104705</td>\n",
       "      <td>4909</td>\n",
       "    </tr>\n",
       "    <tr>\n",
       "      <th>6</th>\n",
       "      <td>7</td>\n",
       "      <td>31158</td>\n",
       "      <td>92984</td>\n",
       "      <td>0</td>\n",
       "      <td>44051</td>\n",
       "      <td>171</td>\n",
       "      <td>137206</td>\n",
       "      <td>0</td>\n",
       "      <td>0</td>\n",
       "      <td>16199</td>\n",
       "      <td>7493</td>\n",
       "    </tr>\n",
       "    <tr>\n",
       "      <th>7</th>\n",
       "      <td>8</td>\n",
       "      <td>9835</td>\n",
       "      <td>29455</td>\n",
       "      <td>0</td>\n",
       "      <td>24349</td>\n",
       "      <td>52</td>\n",
       "      <td>53856</td>\n",
       "      <td>0</td>\n",
       "      <td>0</td>\n",
       "      <td>1943</td>\n",
       "      <td>992</td>\n",
       "    </tr>\n",
       "    <tr>\n",
       "      <th>8</th>\n",
       "      <td>9</td>\n",
       "      <td>142349</td>\n",
       "      <td>425650</td>\n",
       "      <td>0</td>\n",
       "      <td>535165</td>\n",
       "      <td>3422</td>\n",
       "      <td>964237</td>\n",
       "      <td>20779</td>\n",
       "      <td>28253</td>\n",
       "      <td>141090</td>\n",
       "      <td>29550</td>\n",
       "    </tr>\n",
       "    <tr>\n",
       "      <th>9</th>\n",
       "      <td>2020</td>\n",
       "      <td>0</td>\n",
       "      <td>0</td>\n",
       "      <td>0</td>\n",
       "      <td>0</td>\n",
       "      <td>0</td>\n",
       "      <td>0</td>\n",
       "      <td>0</td>\n",
       "      <td>0</td>\n",
       "      <td>0</td>\n",
       "      <td>0</td>\n",
       "    </tr>\n",
       "  </tbody>\n",
       "</table>\n",
       "</div>"
      ],
      "text/plain": [
       "   2021  Family Units  Family Beds  Individual Beds  Adult Only Beds  \\\n",
       "0     1         57359       178740                0           214593   \n",
       "1     2         44174       139345                0           165961   \n",
       "2     3             8           11                0             2476   \n",
       "3     4         13177        39384                0            46156   \n",
       "4     5         84990       246910                0           350572   \n",
       "5     6         43997       124471                0           252172   \n",
       "6     7         31158        92984                0            44051   \n",
       "7     8          9835        29455                0            24349   \n",
       "8     9        142349       425650                0           535165   \n",
       "9  2020             0            0                0                0   \n",
       "\n",
       "   Child Only Beds  Total Yr Round Beds  Seasonal  Overflow/Voucher  \\\n",
       "0             3133               396466     20779             28253   \n",
       "1             2602               307908     20779             28253   \n",
       "2                0                 2487         0                 0   \n",
       "3              531                86071         0                 0   \n",
       "4              289               567771         0                 0   \n",
       "5               66               376709         0                 0   \n",
       "6              171               137206         0                 0   \n",
       "7               52                53856         0                 0   \n",
       "8             3422               964237     20779             28253   \n",
       "9                0                    0         0                 0   \n",
       "\n",
       "   Veteran Beds  Youth Beds  \n",
       "0         18243       16156  \n",
       "1          4356        6633  \n",
       "2          1505          10  \n",
       "3         12382        9513  \n",
       "4        122847       13394  \n",
       "5        104705        4909  \n",
       "6         16199        7493  \n",
       "7          1943         992  \n",
       "8        141090       29550  \n",
       "9             0           0  "
      ]
     },
     "execution_count": 22,
     "metadata": {},
     "output_type": "execute_result"
    }
   ],
   "source": [
    "coc2010_21.head(10)"
   ]
  },
  {
   "cell_type": "code",
   "execution_count": 23,
   "id": "bd0fc8e6",
   "metadata": {},
   "outputs": [
    {
     "data": {
      "text/plain": [
       "KMeans(n_clusters=2)"
      ]
     },
     "execution_count": 23,
     "metadata": {},
     "output_type": "execute_result"
    }
   ],
   "source": [
    "kmeans = KMeans(n_clusters=2)\n",
    "kmeans.fit(coc2010_21)"
   ]
  },
  {
   "cell_type": "code",
   "execution_count": 24,
   "id": "e5a1ec63",
   "metadata": {},
   "outputs": [
    {
     "data": {
      "text/plain": [
       "<matplotlib.collections.PathCollection at 0x7fee80215f70>"
      ]
     },
     "execution_count": 24,
     "metadata": {},
     "output_type": "execute_result"
    },
    {
     "data": {
      "image/png": "[encoded data removed]",
      "text/plain": [
       "<Figure size 720x432 with 1 Axes>"
      ]
     },
     "metadata": {
      "needs_background": "light"
     },
     "output_type": "display_data"
    }
   ],
   "source": [
    "plt.figure(figsize=(10,6))\n",
    "plt.title('K Means')\n",
    "plt.scatter(coc2010_21['Total Yr Round Beds'], coc2010_21['Adult Only Beds'], coc2010_21['Child Only Beds'], c=kmeans.labels_, cmap='viridis')"
   ]
  },
  {
   "cell_type": "code",
   "execution_count": 25,
   "id": "e386fe33",
   "metadata": {},
   "outputs": [
    {
     "data": {
      "text/plain": [
       "<matplotlib.collections.PathCollection at 0x7feeb403eca0>"
      ]
     },
     "execution_count": 25,
     "metadata": {},
     "output_type": "execute_result"
    },
    {
     "data": {
      "image/png": "[encoded data removed]",
      "text/plain": [
       "<Figure size 720x432 with 1 Axes>"
      ]
     },
     "metadata": {
      "needs_background": "light"
     },
     "output_type": "display_data"
    }
   ],
   "source": [
    "plt.figure(figsize=(10,6))\n",
    "plt.title('K Means')\n",
    "plt.scatter(coc2010_21['Total Yr Round Beds'], coc2010_21['Veteran Beds'], coc2010_21['Individual Beds'], c=kmeans.labels_, cmap='viridis')"
   ]
  },
  {
   "cell_type": "code",
   "execution_count": 26,
   "id": "f84365cf",
   "metadata": {},
   "outputs": [
    {
     "data": {
      "text/plain": [
       "<matplotlib.collections.PathCollection at 0x7fee8026eee0>"
      ]
     },
     "execution_count": 26,
     "metadata": {},
     "output_type": "execute_result"
    },
    {
     "data": {
      "image/png": "[encoded data removed]",
      "text/plain": [
       "<Figure size 720x432 with 1 Axes>"
      ]
     },
     "metadata": {
      "needs_background": "light"
     },
     "output_type": "display_data"
    }
   ],
   "source": [
    "plt.figure(figsize=(10,6))\n",
    "plt.title('K Means')\n",
    "plt.scatter(coc2010_21['Total Yr Round Beds'], coc2010_21['Family Beds'], coc2010_21['Individual Beds'], c=kmeans.labels_, cmap='viridis')"
   ]
  },
  {
   "cell_type": "code",
   "execution_count": 27,
   "id": "e09afd51",
   "metadata": {},
   "outputs": [],
   "source": [
    "coc2010_21['Group'] = kmeans.labels_"
   ]
  },
  {
   "cell_type": "code",
   "execution_count": 29,
   "id": "65dfda9b",
   "metadata": {},
   "outputs": [
    {
     "data": {
      "text/html": [
       "<div>\n",
       "<style scoped>\n",
       "    .dataframe tbody tr th:only-of-type {\n",
       "        vertical-align: middle;\n",
       "    }\n",
       "\n",
       "    .dataframe tbody tr th {\n",
       "        vertical-align: top;\n",
       "    }\n",
       "\n",
       "    .dataframe thead th {\n",
       "        text-align: right;\n",
       "    }\n",
       "</style>\n",
       "<table border=\"1\" class=\"dataframe\">\n",
       "  <thead>\n",
       "    <tr style=\"text-align: right;\">\n",
       "      <th></th>\n",
       "      <th>2021</th>\n",
       "      <th>Family Units</th>\n",
       "      <th>Family Beds</th>\n",
       "      <th>Individual Beds</th>\n",
       "      <th>Adult Only Beds</th>\n",
       "      <th>Child Only Beds</th>\n",
       "      <th>Total Yr Round Beds</th>\n",
       "      <th>Seasonal</th>\n",
       "      <th>Overflow/Voucher</th>\n",
       "      <th>Veteran Beds</th>\n",
       "      <th>Youth Beds</th>\n",
       "      <th>Group</th>\n",
       "    </tr>\n",
       "  </thead>\n",
       "  <tbody>\n",
       "    <tr>\n",
       "      <th>0</th>\n",
       "      <td>1</td>\n",
       "      <td>57359</td>\n",
       "      <td>178740</td>\n",
       "      <td>0</td>\n",
       "      <td>214593</td>\n",
       "      <td>3133</td>\n",
       "      <td>396466</td>\n",
       "      <td>20779</td>\n",
       "      <td>28253</td>\n",
       "      <td>18243</td>\n",
       "      <td>16156</td>\n",
       "      <td>1</td>\n",
       "    </tr>\n",
       "    <tr>\n",
       "      <th>1</th>\n",
       "      <td>2</td>\n",
       "      <td>44174</td>\n",
       "      <td>139345</td>\n",
       "      <td>0</td>\n",
       "      <td>165961</td>\n",
       "      <td>2602</td>\n",
       "      <td>307908</td>\n",
       "      <td>20779</td>\n",
       "      <td>28253</td>\n",
       "      <td>4356</td>\n",
       "      <td>6633</td>\n",
       "      <td>0</td>\n",
       "    </tr>\n",
       "    <tr>\n",
       "      <th>2</th>\n",
       "      <td>3</td>\n",
       "      <td>8</td>\n",
       "      <td>11</td>\n",
       "      <td>0</td>\n",
       "      <td>2476</td>\n",
       "      <td>0</td>\n",
       "      <td>2487</td>\n",
       "      <td>0</td>\n",
       "      <td>0</td>\n",
       "      <td>1505</td>\n",
       "      <td>10</td>\n",
       "      <td>0</td>\n",
       "    </tr>\n",
       "    <tr>\n",
       "      <th>3</th>\n",
       "      <td>4</td>\n",
       "      <td>13177</td>\n",
       "      <td>39384</td>\n",
       "      <td>0</td>\n",
       "      <td>46156</td>\n",
       "      <td>531</td>\n",
       "      <td>86071</td>\n",
       "      <td>0</td>\n",
       "      <td>0</td>\n",
       "      <td>12382</td>\n",
       "      <td>9513</td>\n",
       "      <td>0</td>\n",
       "    </tr>\n",
       "    <tr>\n",
       "      <th>4</th>\n",
       "      <td>5</td>\n",
       "      <td>84990</td>\n",
       "      <td>246910</td>\n",
       "      <td>0</td>\n",
       "      <td>350572</td>\n",
       "      <td>289</td>\n",
       "      <td>567771</td>\n",
       "      <td>0</td>\n",
       "      <td>0</td>\n",
       "      <td>122847</td>\n",
       "      <td>13394</td>\n",
       "      <td>1</td>\n",
       "    </tr>\n",
       "  </tbody>\n",
       "</table>\n",
       "</div>"
      ],
      "text/plain": [
       "   2021  Family Units  Family Beds  Individual Beds  Adult Only Beds  \\\n",
       "0     1         57359       178740                0           214593   \n",
       "1     2         44174       139345                0           165961   \n",
       "2     3             8           11                0             2476   \n",
       "3     4         13177        39384                0            46156   \n",
       "4     5         84990       246910                0           350572   \n",
       "\n",
       "   Child Only Beds  Total Yr Round Beds  Seasonal  Overflow/Voucher  \\\n",
       "0             3133               396466     20779             28253   \n",
       "1             2602               307908     20779             28253   \n",
       "2                0                 2487         0                 0   \n",
       "3              531                86071         0                 0   \n",
       "4              289               567771         0                 0   \n",
       "\n",
       "   Veteran Beds  Youth Beds  Group  \n",
       "0         18243       16156      1  \n",
       "1          4356        6633      0  \n",
       "2          1505          10      0  \n",
       "3         12382        9513      0  \n",
       "4        122847       13394      1  "
      ]
     },
     "execution_count": 29,
     "metadata": {},
     "output_type": "execute_result"
    }
   ],
   "source": [
    "coc2010_21.head()"
   ]
  },
  {
   "cell_type": "code",
   "execution_count": 30,
   "id": "8266517d",
   "metadata": {},
   "outputs": [
    {
     "data": {
      "text/plain": [
       "Group\n",
       "0    105223.464789\n",
       "1    544717.794872\n",
       "Name: Total Yr Round Beds, dtype: float64"
      ]
     },
     "execution_count": 30,
     "metadata": {},
     "output_type": "execute_result"
    }
   ],
   "source": [
    "coc2010_21.groupby('Group')['Total Yr Round Beds'].mean()"
   ]
  },
  {
   "cell_type": "code",
   "execution_count": 31,
   "id": "bb0d2141",
   "metadata": {},
   "outputs": [
    {
     "data": {
      "text/plain": [
       "Group\n",
       "0     40617.211268\n",
       "1    264405.641026\n",
       "Name: Adult Only Beds, dtype: float64"
      ]
     },
     "execution_count": 31,
     "metadata": {},
     "output_type": "execute_result"
    }
   ],
   "source": [
    "coc2010_21.groupby('Group')['Adult Only Beds'].mean()"
   ]
  },
  {
   "cell_type": "code",
   "execution_count": 32,
   "id": "0ac08e2c",
   "metadata": {},
   "outputs": [
    {
     "data": {
      "text/plain": [
       "Group\n",
       "0     538.042254\n",
       "1    2052.256410\n",
       "Name: Child Only Beds, dtype: float64"
      ]
     },
     "execution_count": 32,
     "metadata": {},
     "output_type": "execute_result"
    }
   ],
   "source": [
    "coc2010_21.groupby('Group')['Child Only Beds'].mean()"
   ]
  },
  {
   "cell_type": "code",
   "execution_count": 33,
   "id": "5775ca78",
   "metadata": {},
   "outputs": [
    {
     "data": {
      "text/plain": [
       "Group\n",
       "0     53736.112676\n",
       "1    250557.897436\n",
       "Name: Family Beds, dtype: float64"
      ]
     },
     "execution_count": 33,
     "metadata": {},
     "output_type": "execute_result"
    }
   ],
   "source": [
    "coc2010_21.groupby('Group')['Family Beds'].mean()"
   ]
  },
  {
   "cell_type": "code",
   "execution_count": 34,
   "id": "aeac97ef",
   "metadata": {},
   "outputs": [
    {
     "data": {
      "text/plain": [
       "Group\n",
       "0    10334.633803\n",
       "1    29471.230769\n",
       "Name: Individual Beds, dtype: float64"
      ]
     },
     "execution_count": 34,
     "metadata": {},
     "output_type": "execute_result"
    }
   ],
   "source": [
    "coc2010_21.groupby('Group')['Individual Beds'].mean()"
   ]
  },
  {
   "cell_type": "code",
   "execution_count": 35,
   "id": "e5cbd3fb",
   "metadata": {},
   "outputs": [
    {
     "data": {
      "text/plain": [
       "Group\n",
       "0     4855.746479\n",
       "1    69784.974359\n",
       "Name: Veteran Beds, dtype: float64"
      ]
     },
     "execution_count": 35,
     "metadata": {},
     "output_type": "execute_result"
    }
   ],
   "source": [
    "coc2010_21.groupby('Group')['Veteran Beds'].mean()"
   ]
  },
  {
   "cell_type": "code",
   "execution_count": 36,
   "id": "06dc9dce",
   "metadata": {},
   "outputs": [
    {
     "data": {
      "text/plain": [
       "array([[3.16112676e+02, 1.72541408e+04, 5.37361127e+04, 1.03346338e+04,\n",
       "        4.06172113e+04, 5.38042254e+02, 1.05223465e+05, 3.50408451e+03,\n",
       "        3.96808451e+03, 4.85574648e+03, 2.08311268e+03],\n",
       "       [5.17948718e+00, 8.18997436e+04, 2.50557897e+05, 2.94712308e+04,\n",
       "        2.64405641e+05, 2.05225641e+03, 5.44717795e+05, 1.27584615e+04,\n",
       "        1.44478974e+04, 6.97849744e+04, 9.79489744e+03]])"
      ]
     },
     "execution_count": 36,
     "metadata": {},
     "output_type": "execute_result"
    }
   ],
   "source": [
    "kmeans.cluster_centers_"
   ]
  },
  {
   "cell_type": "code",
   "execution_count": 37,
   "id": "77f6fb72",
   "metadata": {},
   "outputs": [
    {
     "data": {
      "text/plain": [
       "4530001449577.461"
      ]
     },
     "execution_count": 37,
     "metadata": {},
     "output_type": "execute_result"
    }
   ],
   "source": [
    "kmeans.inertia_"
   ]
  },
  {
   "cell_type": "code",
   "execution_count": 38,
   "id": "eb74cba7",
   "metadata": {},
   "outputs": [],
   "source": [
    "import pandas as pd\n",
    "import numpy as np\n",
    "import matplotlib.pyplot as plt\n",
    "import seaborn as sns\n",
    "%matplotlib inline\n",
    "from sklearn.model_selection import train_test_split\n",
    "from sklearn.tree import DecisionTreeClassifier\n",
    "from sklearn.metrics import classification_report, confusion_matrix, accuracy_score"
   ]
  },
  {
   "cell_type": "code",
   "execution_count": 39,
   "id": "98342ffa",
   "metadata": {},
   "outputs": [
    {
     "data": {
      "text/html": [
       "<div>\n",
       "<style scoped>\n",
       "    .dataframe tbody tr th:only-of-type {\n",
       "        vertical-align: middle;\n",
       "    }\n",
       "\n",
       "    .dataframe tbody tr th {\n",
       "        vertical-align: top;\n",
       "    }\n",
       "\n",
       "    .dataframe thead th {\n",
       "        text-align: right;\n",
       "    }\n",
       "</style>\n",
       "<table border=\"1\" class=\"dataframe\">\n",
       "  <thead>\n",
       "    <tr style=\"text-align: right;\">\n",
       "      <th></th>\n",
       "      <th>2021</th>\n",
       "      <th>Family Units</th>\n",
       "      <th>Family Beds</th>\n",
       "      <th>Individual Beds</th>\n",
       "      <th>Adult Only Beds</th>\n",
       "      <th>Child Only Beds</th>\n",
       "      <th>Total Yr Round Beds</th>\n",
       "      <th>Seasonal</th>\n",
       "      <th>Overflow/Voucher</th>\n",
       "      <th>Veteran Beds</th>\n",
       "      <th>Youth Beds</th>\n",
       "      <th>Group</th>\n",
       "    </tr>\n",
       "  </thead>\n",
       "  <tbody>\n",
       "    <tr>\n",
       "      <th>0</th>\n",
       "      <td>1</td>\n",
       "      <td>57359</td>\n",
       "      <td>178740</td>\n",
       "      <td>0</td>\n",
       "      <td>214593</td>\n",
       "      <td>3133</td>\n",
       "      <td>396466</td>\n",
       "      <td>20779</td>\n",
       "      <td>28253</td>\n",
       "      <td>18243</td>\n",
       "      <td>16156</td>\n",
       "      <td>1</td>\n",
       "    </tr>\n",
       "    <tr>\n",
       "      <th>1</th>\n",
       "      <td>2</td>\n",
       "      <td>44174</td>\n",
       "      <td>139345</td>\n",
       "      <td>0</td>\n",
       "      <td>165961</td>\n",
       "      <td>2602</td>\n",
       "      <td>307908</td>\n",
       "      <td>20779</td>\n",
       "      <td>28253</td>\n",
       "      <td>4356</td>\n",
       "      <td>6633</td>\n",
       "      <td>0</td>\n",
       "    </tr>\n",
       "    <tr>\n",
       "      <th>2</th>\n",
       "      <td>3</td>\n",
       "      <td>8</td>\n",
       "      <td>11</td>\n",
       "      <td>0</td>\n",
       "      <td>2476</td>\n",
       "      <td>0</td>\n",
       "      <td>2487</td>\n",
       "      <td>0</td>\n",
       "      <td>0</td>\n",
       "      <td>1505</td>\n",
       "      <td>10</td>\n",
       "      <td>0</td>\n",
       "    </tr>\n",
       "    <tr>\n",
       "      <th>3</th>\n",
       "      <td>4</td>\n",
       "      <td>13177</td>\n",
       "      <td>39384</td>\n",
       "      <td>0</td>\n",
       "      <td>46156</td>\n",
       "      <td>531</td>\n",
       "      <td>86071</td>\n",
       "      <td>0</td>\n",
       "      <td>0</td>\n",
       "      <td>12382</td>\n",
       "      <td>9513</td>\n",
       "      <td>0</td>\n",
       "    </tr>\n",
       "    <tr>\n",
       "      <th>4</th>\n",
       "      <td>5</td>\n",
       "      <td>84990</td>\n",
       "      <td>246910</td>\n",
       "      <td>0</td>\n",
       "      <td>350572</td>\n",
       "      <td>289</td>\n",
       "      <td>567771</td>\n",
       "      <td>0</td>\n",
       "      <td>0</td>\n",
       "      <td>122847</td>\n",
       "      <td>13394</td>\n",
       "      <td>1</td>\n",
       "    </tr>\n",
       "  </tbody>\n",
       "</table>\n",
       "</div>"
      ],
      "text/plain": [
       "   2021  Family Units  Family Beds  Individual Beds  Adult Only Beds  \\\n",
       "0     1         57359       178740                0           214593   \n",
       "1     2         44174       139345                0           165961   \n",
       "2     3             8           11                0             2476   \n",
       "3     4         13177        39384                0            46156   \n",
       "4     5         84990       246910                0           350572   \n",
       "\n",
       "   Child Only Beds  Total Yr Round Beds  Seasonal  Overflow/Voucher  \\\n",
       "0             3133               396466     20779             28253   \n",
       "1             2602               307908     20779             28253   \n",
       "2                0                 2487         0                 0   \n",
       "3              531                86071         0                 0   \n",
       "4              289               567771         0                 0   \n",
       "\n",
       "   Veteran Beds  Youth Beds  Group  \n",
       "0         18243       16156      1  \n",
       "1          4356        6633      0  \n",
       "2          1505          10      0  \n",
       "3         12382        9513      0  \n",
       "4        122847       13394      1  "
      ]
     },
     "execution_count": 39,
     "metadata": {},
     "output_type": "execute_result"
    }
   ],
   "source": [
    "coc2010_21.head()"
   ]
  },
  {
   "cell_type": "code",
   "execution_count": 40,
   "id": "c344083d",
   "metadata": {},
   "outputs": [],
   "source": [
    "x = coc2010_21.drop('Total Yr Round Beds', axis=1)\n",
    "y = coc2010_21['Total Yr Round Beds']"
   ]
  },
  {
   "cell_type": "code",
   "execution_count": 41,
   "id": "af22ff8f",
   "metadata": {},
   "outputs": [],
   "source": [
    "x_train, x_test, y_train, y_test = train_test_split(x,y, test_size=0.3, random_state=76)"
   ]
  },
  {
   "cell_type": "code",
   "execution_count": 42,
   "id": "0fa073e1",
   "metadata": {},
   "outputs": [
    {
     "data": {
      "text/plain": [
       "DecisionTreeClassifier(random_state=76)"
      ]
     },
     "execution_count": 42,
     "metadata": {},
     "output_type": "execute_result"
    }
   ],
   "source": [
    "decisionTree = DecisionTreeClassifier(random_state=76)\n",
    "decisionTree.fit(x_train, y_train)"
   ]
  },
  {
   "cell_type": "code",
   "execution_count": 43,
   "id": "92e5d51a",
   "metadata": {},
   "outputs": [
    {
     "name": "stdout",
     "output_type": "stream",
     "text": [
      "[[4 0 0 ... 0 0 0]\n",
      " [0 0 1 ... 0 0 0]\n",
      " [0 0 0 ... 0 0 0]\n",
      " ...\n",
      " [0 0 0 ... 0 0 0]\n",
      " [0 0 0 ... 1 0 0]\n",
      " [0 0 0 ... 0 0 0]]\n",
      "              precision    recall  f1-score   support\n",
      "\n",
      "           0       1.00      1.00      1.00         4\n",
      "        2129       0.00      0.00      0.00         1\n",
      "        2191       0.00      0.00      0.00         0\n",
      "        2266       0.00      0.00      0.00         0\n",
      "        2390       0.00      0.00      0.00         1\n",
      "       36790       0.00      0.00      0.00         1\n",
      "       39854       0.00      0.00      0.00         0\n",
      "       52102       0.00      0.00      0.00         1\n",
      "       53856       0.00      0.00      0.00         0\n",
      "       60312       0.00      0.00      0.00         1\n",
      "       86071       0.00      0.00      0.00         0\n",
      "       92258       0.00      0.00      0.00         1\n",
      "       95446       0.00      0.00      0.00         1\n",
      "      101029       0.00      0.00      0.00         0\n",
      "      109095       0.00      0.00      0.00         0\n",
      "      112961       0.00      0.00      0.00         0\n",
      "      122815       0.00      0.00      0.00         1\n",
      "      137206       0.00      0.00      0.00         1\n",
      "      144749       0.00      0.00      0.00         1\n",
      "      159784       0.00      0.00      0.00         0\n",
      "      197192       0.00      0.00      0.00         1\n",
      "      205179       0.00      0.00      0.00         0\n",
      "      221610       0.00      0.00      0.00         1\n",
      "      225831       0.00      0.00      0.00         0\n",
      "      229206       0.00      0.00      0.00         0\n",
      "      238708       0.00      0.00      0.00         0\n",
      "      264440       0.00      0.00      0.00         0\n",
      "      264629       0.00      0.00      0.00         1\n",
      "      277537       0.00      0.00      0.00         1\n",
      "      291837       0.00      0.00      0.00         0\n",
      "      300282       0.00      0.00      0.00         1\n",
      "      340906       0.00      0.00      0.00         1\n",
      "      361386       0.00      0.00      0.00         0\n",
      "      369293       0.00      0.00      0.00         1\n",
      "      389549       0.00      0.00      0.00         0\n",
      "      389622       0.00      0.00      0.00         1\n",
      "      396149       0.00      0.00      0.00         1\n",
      "      399439       0.00      0.00      0.00         0\n",
      "      403853       0.00      0.00      0.00         0\n",
      "      424432       0.00      0.00      0.00         1\n",
      "      428527       0.00      0.00      0.00         1\n",
      "      429692       0.00      0.00      0.00         0\n",
      "      446078       0.00      0.00      0.00         0\n",
      "      455817       0.00      0.00      0.00         1\n",
      "      499620       0.00      0.00      0.00         1\n",
      "      507271       0.00      0.00      0.00         0\n",
      "      681072       0.00      0.00      0.00         1\n",
      "      729054       0.00      0.00      0.00         1\n",
      "      730376       0.00      0.00      0.00         1\n",
      "      740973       0.00      0.00      0.00         0\n",
      "      772788       0.00      0.00      0.00         1\n",
      "      830120       0.00      0.00      0.00         0\n",
      "      868893       0.00      0.00      0.00         1\n",
      "      899059       0.00      0.00      0.00         0\n",
      "      941871       0.00      0.00      0.00         1\n",
      "      964237       0.00      0.00      0.00         0\n",
      "\n",
      "    accuracy                           0.12        33\n",
      "   macro avg       0.02      0.02      0.02        33\n",
      "weighted avg       0.12      0.12      0.12        33\n",
      "\n"
     ]
    },
    {
     "name": "stderr",
     "output_type": "stream",
     "text": [
      "/Users/lakisha/opt/anaconda3/lib/python3.9/site-packages/sklearn/metrics/_classification.py:1248: UndefinedMetricWarning: Precision and F-score are ill-defined and being set to 0.0 in labels with no predicted samples. Use `zero_division` parameter to control this behavior.\n",
      "  _warn_prf(average, modifier, msg_start, len(result))\n",
      "/Users/lakisha/opt/anaconda3/lib/python3.9/site-packages/sklearn/metrics/_classification.py:1248: UndefinedMetricWarning: Recall and F-score are ill-defined and being set to 0.0 in labels with no true samples. Use `zero_division` parameter to control this behavior.\n",
      "  _warn_prf(average, modifier, msg_start, len(result))\n",
      "/Users/lakisha/opt/anaconda3/lib/python3.9/site-packages/sklearn/metrics/_classification.py:1248: UndefinedMetricWarning: Precision and F-score are ill-defined and being set to 0.0 in labels with no predicted samples. Use `zero_division` parameter to control this behavior.\n",
      "  _warn_prf(average, modifier, msg_start, len(result))\n",
      "/Users/lakisha/opt/anaconda3/lib/python3.9/site-packages/sklearn/metrics/_classification.py:1248: UndefinedMetricWarning: Recall and F-score are ill-defined and being set to 0.0 in labels with no true samples. Use `zero_division` parameter to control this behavior.\n",
      "  _warn_prf(average, modifier, msg_start, len(result))\n",
      "/Users/lakisha/opt/anaconda3/lib/python3.9/site-packages/sklearn/metrics/_classification.py:1248: UndefinedMetricWarning: Precision and F-score are ill-defined and being set to 0.0 in labels with no predicted samples. Use `zero_division` parameter to control this behavior.\n",
      "  _warn_prf(average, modifier, msg_start, len(result))\n",
      "/Users/lakisha/opt/anaconda3/lib/python3.9/site-packages/sklearn/metrics/_classification.py:1248: UndefinedMetricWarning: Recall and F-score are ill-defined and being set to 0.0 in labels with no true samples. Use `zero_division` parameter to control this behavior.\n",
      "  _warn_prf(average, modifier, msg_start, len(result))\n"
     ]
    }
   ],
   "source": [
    "treePredictions = decisionTree.predict(x_test)\n",
    "from sklearn.metrics import classification_report,confusion_matrix\n",
    "print(confusion_matrix(y_test,treePredictions))\n",
    "print(classification_report(y_test,treePredictions))"
   ]
  },
  {
   "cell_type": "code",
   "execution_count": 44,
   "id": "7742dbee",
   "metadata": {},
   "outputs": [],
   "source": [
    "import pandas as pd\n",
    "import numpy as np\n",
    "import matplotlib.pyplot as plt\n",
    "import seaborn as sns\n",
    "%matplotlib inline\n",
    "from sklearn.ensemble import RandomForestClassifier\n",
    "from sklearn.model_selection import train_test_split\n",
    "from sklearn.metrics import classification_report, confusion_matrix"
   ]
  },
  {
   "cell_type": "code",
   "execution_count": 45,
   "id": "c600a531",
   "metadata": {},
   "outputs": [],
   "source": [
    "x = coc2010_21.drop('Total Yr Round Beds', axis=1)\n",
    "y = coc2010_21['Total Yr Round Beds']"
   ]
  },
  {
   "cell_type": "code",
   "execution_count": 46,
   "id": "558e3d28",
   "metadata": {},
   "outputs": [],
   "source": [
    "x_train, x_test, y_train, y_test = train_test_split(x,y, test_size=0.3, random_state=76)"
   ]
  },
  {
   "cell_type": "code",
   "execution_count": 47,
   "id": "e2748632",
   "metadata": {},
   "outputs": [
    {
     "data": {
      "text/plain": [
       "RandomForestClassifier(n_estimators=10, random_state=76)"
      ]
     },
     "execution_count": 47,
     "metadata": {},
     "output_type": "execute_result"
    }
   ],
   "source": [
    "forest = RandomForestClassifier(n_estimators=10, random_state=76)\n",
    "forest.fit(x_train, y_train)"
   ]
  },
  {
   "cell_type": "code",
   "execution_count": 48,
   "id": "e45429eb",
   "metadata": {},
   "outputs": [
    {
     "name": "stdout",
     "output_type": "stream",
     "text": [
      "[[4 0 0 ... 0 0 0]\n",
      " [0 0 0 ... 0 0 0]\n",
      " [0 0 0 ... 0 0 0]\n",
      " ...\n",
      " [0 0 0 ... 0 0 0]\n",
      " [0 0 0 ... 0 0 1]\n",
      " [0 0 0 ... 0 0 0]]\n",
      "              precision    recall  f1-score   support\n",
      "\n",
      "           0       1.00      1.00      1.00         4\n",
      "        1907       0.00      0.00      0.00         0\n",
      "        2129       0.00      0.00      0.00         1\n",
      "        2191       0.00      0.00      0.00         0\n",
      "        2390       0.00      0.00      0.00         1\n",
      "       36790       0.00      0.00      0.00         1\n",
      "       49877       0.00      0.00      0.00         0\n",
      "       52102       0.00      0.00      0.00         1\n",
      "       53856       0.00      0.00      0.00         0\n",
      "       60312       0.00      0.00      0.00         1\n",
      "       77141       0.00      0.00      0.00         0\n",
      "       92258       0.00      0.00      0.00         1\n",
      "       95446       0.00      0.00      0.00         1\n",
      "      101029       0.00      0.00      0.00         0\n",
      "      109095       0.00      0.00      0.00         0\n",
      "      122815       0.00      0.00      0.00         1\n",
      "      137206       0.00      0.00      0.00         1\n",
      "      144749       0.00      0.00      0.00         1\n",
      "      159784       0.00      0.00      0.00         0\n",
      "      197192       0.00      0.00      0.00         1\n",
      "      205179       0.00      0.00      0.00         0\n",
      "      221610       0.00      0.00      0.00         1\n",
      "      225831       0.00      0.00      0.00         0\n",
      "      264440       0.00      0.00      0.00         0\n",
      "      264629       0.00      0.00      0.00         1\n",
      "      277537       0.00      0.00      0.00         1\n",
      "      300282       0.00      0.00      0.00         1\n",
      "      340906       0.00      0.00      0.00         1\n",
      "      361386       0.00      0.00      0.00         0\n",
      "      369293       0.00      0.00      0.00         1\n",
      "      376709       0.00      0.00      0.00         0\n",
      "      389549       0.00      0.00      0.00         0\n",
      "      389622       0.00      0.00      0.00         1\n",
      "      396149       0.00      0.00      0.00         1\n",
      "      424432       0.00      0.00      0.00         1\n",
      "      428527       0.00      0.00      0.00         1\n",
      "      429692       0.00      0.00      0.00         0\n",
      "      446078       0.00      0.00      0.00         0\n",
      "      455817       0.00      0.00      0.00         1\n",
      "      499620       0.00      0.00      0.00         1\n",
      "      507271       0.00      0.00      0.00         0\n",
      "      681072       0.00      0.00      0.00         1\n",
      "      729054       0.00      0.00      0.00         1\n",
      "      730376       0.00      0.00      0.00         1\n",
      "      740973       0.00      0.00      0.00         0\n",
      "      772788       0.00      0.00      0.00         1\n",
      "      830120       0.00      0.00      0.00         0\n",
      "      867102       0.00      0.00      0.00         0\n",
      "      868893       0.00      0.00      0.00         1\n",
      "      941871       0.00      0.00      0.00         1\n",
      "      964237       0.00      0.00      0.00         0\n",
      "\n",
      "    accuracy                           0.12        33\n",
      "   macro avg       0.02      0.02      0.02        33\n",
      "weighted avg       0.12      0.12      0.12        33\n",
      "\n"
     ]
    },
    {
     "name": "stderr",
     "output_type": "stream",
     "text": [
      "/Users/lakisha/opt/anaconda3/lib/python3.9/site-packages/sklearn/metrics/_classification.py:1248: UndefinedMetricWarning: Precision and F-score are ill-defined and being set to 0.0 in labels with no predicted samples. Use `zero_division` parameter to control this behavior.\n",
      "  _warn_prf(average, modifier, msg_start, len(result))\n",
      "/Users/lakisha/opt/anaconda3/lib/python3.9/site-packages/sklearn/metrics/_classification.py:1248: UndefinedMetricWarning: Recall and F-score are ill-defined and being set to 0.0 in labels with no true samples. Use `zero_division` parameter to control this behavior.\n",
      "  _warn_prf(average, modifier, msg_start, len(result))\n",
      "/Users/lakisha/opt/anaconda3/lib/python3.9/site-packages/sklearn/metrics/_classification.py:1248: UndefinedMetricWarning: Precision and F-score are ill-defined and being set to 0.0 in labels with no predicted samples. Use `zero_division` parameter to control this behavior.\n",
      "  _warn_prf(average, modifier, msg_start, len(result))\n",
      "/Users/lakisha/opt/anaconda3/lib/python3.9/site-packages/sklearn/metrics/_classification.py:1248: UndefinedMetricWarning: Recall and F-score are ill-defined and being set to 0.0 in labels with no true samples. Use `zero_division` parameter to control this behavior.\n",
      "  _warn_prf(average, modifier, msg_start, len(result))\n",
      "/Users/lakisha/opt/anaconda3/lib/python3.9/site-packages/sklearn/metrics/_classification.py:1248: UndefinedMetricWarning: Precision and F-score are ill-defined and being set to 0.0 in labels with no predicted samples. Use `zero_division` parameter to control this behavior.\n",
      "  _warn_prf(average, modifier, msg_start, len(result))\n",
      "/Users/lakisha/opt/anaconda3/lib/python3.9/site-packages/sklearn/metrics/_classification.py:1248: UndefinedMetricWarning: Recall and F-score are ill-defined and being set to 0.0 in labels with no true samples. Use `zero_division` parameter to control this behavior.\n",
      "  _warn_prf(average, modifier, msg_start, len(result))\n"
     ]
    }
   ],
   "source": [
    "forestPredictions = forest.predict(x_test)\n",
    "print(confusion_matrix(y_test, forestPredictions))\n",
    "print(classification_report(y_test, forestPredictions))"
   ]
  },
  {
   "cell_type": "code",
   "execution_count": null,
   "id": "ce4f2b03",
   "metadata": {},
   "outputs": [],
   "source": []
  }
 ],
 "metadata": {
  "kernelspec": {
   "display_name": "Python 3 (ipykernel)",
   "language": "python",
   "name": "python3"
  },
  "language_info": {
   "codemirror_mode": {
    "name": "ipython",
    "version": 3
   },
   "file_extension": ".py",
   "mimetype": "text/x-python",
   "name": "python",
   "nbconvert_exporter": "python",
   "pygments_lexer": "ipython3",
   "version": "3.9.7"
  }
 },
 "nbformat": 4,
 "nbformat_minor": 5
}
