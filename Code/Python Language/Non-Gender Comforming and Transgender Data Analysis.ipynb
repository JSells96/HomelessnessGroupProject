{
 "cells": [
  {
   "cell_type": "code",
   "execution_count": 34,
   "id": "550701fd",
   "metadata": {},
   "outputs": [],
   "source": [
    "import pandas as pd\n",
    "import numpy as np\n",
    "from scipy.stats import norm\n",
    "from scipy import stats\n",
    "import seaborn as sns\n",
    "import matplotlib.pyplot as plt\n",
    "import numpy as np\n",
    "import scipy\n",
    "from scipy import stats\n",
    "from statsmodels.stats.multicomp import pairwise_tukeyhsd\n",
    "from statsmodels.stats.multicomp import MultiComparison"
   ]
  },
  {
   "cell_type": "code",
   "execution_count": 2,
   "id": "947d20d3",
   "metadata": {},
   "outputs": [],
   "source": [
    "Trans2019_2020 = pd.read_excel('../../Data/Non-Gender Confoming and Transgender Homeless Data wrangled.xlsx')"
   ]
  },
  {
   "cell_type": "code",
   "execution_count": 3,
   "id": "ec4a1772",
   "metadata": {},
   "outputs": [
    {
     "data": {
      "text/html": [
       "<div>\n",
       "<style scoped>\n",
       "    .dataframe tbody tr th:only-of-type {\n",
       "        vertical-align: middle;\n",
       "    }\n",
       "\n",
       "    .dataframe tbody tr th {\n",
       "        vertical-align: top;\n",
       "    }\n",
       "\n",
       "    .dataframe thead th {\n",
       "        text-align: right;\n",
       "    }\n",
       "</style>\n",
       "<table border=\"1\" class=\"dataframe\">\n",
       "  <thead>\n",
       "    <tr style=\"text-align: right;\">\n",
       "      <th></th>\n",
       "      <th>Unnamed: 0</th>\n",
       "      <th>Homeless,</th>\n",
       "      <th>Transgender,</th>\n",
       "      <th>Conforming,</th>\n",
       "      <th>Total</th>\n",
       "      <th>Unnamed: 5</th>\n",
       "      <th>Homeless,.1</th>\n",
       "      <th>Transgender,.1</th>\n",
       "      <th>Conforming,.1</th>\n",
       "      <th>Total.1</th>\n",
       "      <th>Unnamed: 10</th>\n",
       "    </tr>\n",
       "  </thead>\n",
       "  <tbody>\n",
       "    <tr>\n",
       "      <th>0</th>\n",
       "      <td>State</td>\n",
       "      <td>2020</td>\n",
       "      <td>2020</td>\n",
       "      <td>2020</td>\n",
       "      <td>2020</td>\n",
       "      <td>% 2020</td>\n",
       "      <td>2019</td>\n",
       "      <td>2019</td>\n",
       "      <td>2019</td>\n",
       "      <td>2019</td>\n",
       "      <td>% 2019</td>\n",
       "    </tr>\n",
       "    <tr>\n",
       "      <th>1</th>\n",
       "      <td>WA</td>\n",
       "      <td>22923</td>\n",
       "      <td>175</td>\n",
       "      <td>228</td>\n",
       "      <td>403</td>\n",
       "      <td>0.018</td>\n",
       "      <td>21577</td>\n",
       "      <td>246</td>\n",
       "      <td>321</td>\n",
       "      <td>567</td>\n",
       "      <td>0.026</td>\n",
       "    </tr>\n",
       "    <tr>\n",
       "      <th>2</th>\n",
       "      <td>VI</td>\n",
       "      <td>304</td>\n",
       "      <td>0</td>\n",
       "      <td>5</td>\n",
       "      <td>5</td>\n",
       "      <td>0.016</td>\n",
       "      <td>314</td>\n",
       "      <td>0</td>\n",
       "      <td>5</td>\n",
       "      <td>5</td>\n",
       "      <td>0.016</td>\n",
       "    </tr>\n",
       "    <tr>\n",
       "      <th>3</th>\n",
       "      <td>GA</td>\n",
       "      <td>10234</td>\n",
       "      <td>44</td>\n",
       "      <td>107</td>\n",
       "      <td>151</td>\n",
       "      <td>0.015</td>\n",
       "      <td>10443</td>\n",
       "      <td>57</td>\n",
       "      <td>11</td>\n",
       "      <td>68</td>\n",
       "      <td>0.007</td>\n",
       "    </tr>\n",
       "    <tr>\n",
       "      <th>4</th>\n",
       "      <td>CA</td>\n",
       "      <td>161548</td>\n",
       "      <td>1601</td>\n",
       "      <td>705</td>\n",
       "      <td>2306</td>\n",
       "      <td>0.014</td>\n",
       "      <td>151278</td>\n",
       "      <td>1764</td>\n",
       "      <td>643</td>\n",
       "      <td>2407</td>\n",
       "      <td>0.016</td>\n",
       "    </tr>\n",
       "  </tbody>\n",
       "</table>\n",
       "</div>"
      ],
      "text/plain": [
       "  Unnamed: 0  Homeless,  Transgender,  Conforming,  Total Unnamed: 5  \\\n",
       "0      State       2020          2020         2020   2020     % 2020   \n",
       "1         WA      22923           175          228    403      0.018   \n",
       "2         VI        304             0            5      5      0.016   \n",
       "3         GA      10234            44          107    151      0.015   \n",
       "4         CA     161548          1601          705   2306      0.014   \n",
       "\n",
       "   Homeless,.1  Transgender,.1  Conforming,.1  Total.1 Unnamed: 10  \n",
       "0         2019            2019           2019     2019      % 2019  \n",
       "1        21577             246            321      567       0.026  \n",
       "2          314               0              5        5       0.016  \n",
       "3        10443              57             11       68       0.007  \n",
       "4       151278            1764            643     2407       0.016  "
      ]
     },
     "execution_count": 3,
     "metadata": {},
     "output_type": "execute_result"
    }
   ],
   "source": [
    "Trans2019_2020.head()"
   ]
  },
  {
   "cell_type": "markdown",
   "id": "7a5da5e5",
   "metadata": {},
   "source": [
    "# Test Assumptions"
   ]
  },
  {
   "cell_type": "code",
   "execution_count": 4,
   "id": "70d12f63",
   "metadata": {},
   "outputs": [
    {
     "data": {
      "text/plain": [
       "<AxesSubplot:>"
      ]
     },
     "execution_count": 4,
     "metadata": {},
     "output_type": "execute_result"
    },
    {
     "data": {
      "image/png": "[encoded data removed]",
      "text/plain": [
       "<Figure size 432x288 with 1 Axes>"
      ]
     },
     "metadata": {
      "needs_background": "light"
     },
     "output_type": "display_data"
    }
   ],
   "source": [
    "Trans2019_2020['Transgender,'].hist()"
   ]
  },
  {
   "cell_type": "code",
   "execution_count": null,
   "id": "0a3bd71c",
   "metadata": {},
   "outputs": [],
   "source": [
    "#Histogram for transgender homeless population in United States (2020) shown above"
   ]
  },
  {
   "cell_type": "code",
   "execution_count": 5,
   "id": "e94ffa4d",
   "metadata": {},
   "outputs": [
    {
     "data": {
      "text/plain": [
       "<AxesSubplot:>"
      ]
     },
     "execution_count": 5,
     "metadata": {},
     "output_type": "execute_result"
    },
    {
     "data": {
      "image/png": "[encoded data removed]",
      "text/plain": [
       "<Figure size 432x288 with 1 Axes>"
      ]
     },
     "metadata": {
      "needs_background": "light"
     },
     "output_type": "display_data"
    }
   ],
   "source": [
    "Trans2019_2020['Homeless,'].hist()"
   ]
  },
  {
   "cell_type": "code",
   "execution_count": null,
   "id": "e0b90fe5",
   "metadata": {},
   "outputs": [],
   "source": [
    "#Histogram for general homeless population in United States (2020) shown above"
   ]
  },
  {
   "cell_type": "code",
   "execution_count": 11,
   "id": "49247827",
   "metadata": {},
   "outputs": [
    {
     "data": {
      "text/plain": [
       "<AxesSubplot:>"
      ]
     },
     "execution_count": 11,
     "metadata": {},
     "output_type": "execute_result"
    },
    {
     "data": {
      "image/png": "[encoded data removed]",
      "text/plain": [
       "<Figure size 432x288 with 1 Axes>"
      ]
     },
     "metadata": {
      "needs_background": "light"
     },
     "output_type": "display_data"
    }
   ],
   "source": [
    "Trans2019_2020['Transgender,.1'].hist()"
   ]
  },
  {
   "cell_type": "code",
   "execution_count": null,
   "id": "5011f413",
   "metadata": {},
   "outputs": [],
   "source": [
    "#Histogram for transgender homeless population in United States (2019) shown above"
   ]
  },
  {
   "cell_type": "code",
   "execution_count": 12,
   "id": "559135da",
   "metadata": {},
   "outputs": [
    {
     "data": {
      "text/plain": [
       "<AxesSubplot:>"
      ]
     },
     "execution_count": 12,
     "metadata": {},
     "output_type": "execute_result"
    },
    {
     "data": {
      "image/png": "[encoded data removed]",
      "text/plain": [
       "<Figure size 432x288 with 1 Axes>"
      ]
     },
     "metadata": {
      "needs_background": "light"
     },
     "output_type": "display_data"
    }
   ],
   "source": [
    "Trans2019_2020['Homeless,.1'].hist()"
   ]
  },
  {
   "cell_type": "code",
   "execution_count": null,
   "id": "c5dff761",
   "metadata": {},
   "outputs": [],
   "source": [
    "#Histogram for general homeless population in United States (2019) shown above"
   ]
  },
  {
   "cell_type": "code",
   "execution_count": 15,
   "id": "d77755db",
   "metadata": {},
   "outputs": [
    {
     "data": {
      "text/plain": [
       "Ttest_1sampResult(statistic=-0.0235327074540515, pvalue=0.9813090038906631)"
      ]
     },
     "execution_count": 15,
     "metadata": {},
     "output_type": "execute_result"
    }
   ],
   "source": [
    "stats.ttest_1samp(Trans2019_2020['Transgender,'], 148)"
   ]
  },
  {
   "cell_type": "code",
   "execution_count": 17,
   "id": "3818c70c",
   "metadata": {},
   "outputs": [
    {
     "data": {
      "text/plain": [
       "Ttest_1sampResult(statistic=0.022516068462776945, pvalue=0.9821163335790907)"
      ]
     },
     "execution_count": 17,
     "metadata": {},
     "output_type": "execute_result"
    }
   ],
   "source": [
    "stats.ttest_1samp(Trans2019_2020['Transgender,.1'], 148)"
   ]
  },
  {
   "cell_type": "code",
   "execution_count": 10,
   "id": "f788ac04",
   "metadata": {},
   "outputs": [
    {
     "data": {
      "text/plain": [
       "146.35087719298247"
      ]
     },
     "execution_count": 10,
     "metadata": {},
     "output_type": "execute_result"
    }
   ],
   "source": [
    "Trans2019_2020['Transgender,'].mean()"
   ]
  },
  {
   "cell_type": "code",
   "execution_count": 13,
   "id": "f29e039a",
   "metadata": {},
   "outputs": [
    {
     "data": {
      "text/plain": [
       "149.6315789473684"
      ]
     },
     "execution_count": 13,
     "metadata": {},
     "output_type": "execute_result"
    }
   ],
   "source": [
    "Trans2019_2020['Transgender,.1'].mean()"
   ]
  },
  {
   "cell_type": "markdown",
   "id": "95af9d35",
   "metadata": {},
   "source": [
    "# The average population of transgender homelessness in the United States is approximately 148 homeless trans people averaged\n",
    "# between 2019 and 2020. According to the data, transgender people also make up .5% of the general United States homeless population"
   ]
  },
  {
   "cell_type": "code",
   "execution_count": null,
   "id": "16320c03",
   "metadata": {},
   "outputs": [],
   "source": []
  },
  {
   "cell_type": "markdown",
   "id": "6269b1c0",
   "metadata": {},
   "source": [
    "# Creation of Contingency Table"
   ]
  },
  {
   "cell_type": "code",
   "execution_count": 18,
   "id": "4fe1a596",
   "metadata": {},
   "outputs": [],
   "source": [
    "transgender_crosstab = pd.crosstab(Trans2019_2020['Transgender,'], Trans2019_2020['Transgender,.1'])"
   ]
  },
  {
   "cell_type": "code",
   "execution_count": null,
   "id": "a53d0609",
   "metadata": {},
   "outputs": [],
   "source": []
  },
  {
   "cell_type": "markdown",
   "id": "f771135d",
   "metadata": {},
   "source": [
    "# Running the Chi-Square"
   ]
  },
  {
   "cell_type": "code",
   "execution_count": 19,
   "id": "8d55f3b2",
   "metadata": {},
   "outputs": [
    {
     "data": {
      "text/plain": [
       "(1483.6625,\n",
       " 1.0797625734935114e-08,\n",
       " 1190,\n",
       " array([[0.49122807, 0.28070175, 0.14035088, ..., 0.07017544, 0.07017544,\n",
       "         0.07017544],\n",
       "        [0.24561404, 0.14035088, 0.07017544, ..., 0.03508772, 0.03508772,\n",
       "         0.03508772],\n",
       "        [0.12280702, 0.07017544, 0.03508772, ..., 0.01754386, 0.01754386,\n",
       "         0.01754386],\n",
       "        ...,\n",
       "        [0.12280702, 0.07017544, 0.03508772, ..., 0.01754386, 0.01754386,\n",
       "         0.01754386],\n",
       "        [0.12280702, 0.07017544, 0.03508772, ..., 0.01754386, 0.01754386,\n",
       "         0.01754386],\n",
       "        [0.12280702, 0.07017544, 0.03508772, ..., 0.01754386, 0.01754386,\n",
       "         0.01754386]]))"
      ]
     },
     "execution_count": 19,
     "metadata": {},
     "output_type": "execute_result"
    }
   ],
   "source": [
    "stats.chi2_contingency(transgender_crosstab)"
   ]
  },
  {
   "cell_type": "markdown",
   "id": "25e7e393",
   "metadata": {},
   "source": [
    "# The transgender homeless population has changed from 2019 to 2020. This is because the p value is > .05."
   ]
  },
  {
   "cell_type": "code",
   "execution_count": 21,
   "id": "d5d3750f",
   "metadata": {},
   "outputs": [],
   "source": [
    "transgender2_crosstab = pd.crosstab(Trans2019_2020['Unnamed: 0'], Trans2019_2020['Transgender,'])"
   ]
  },
  {
   "cell_type": "code",
   "execution_count": 22,
   "id": "3379e669",
   "metadata": {},
   "outputs": [
    {
     "data": {
      "text/plain": [
       "(1995.0,\n",
       " 0.28557583261006453,\n",
       " 1960,\n",
       " array([[0.07017544, 0.03508772, 0.01754386, ..., 0.01754386, 0.01754386,\n",
       "         0.01754386],\n",
       "        [0.07017544, 0.03508772, 0.01754386, ..., 0.01754386, 0.01754386,\n",
       "         0.01754386],\n",
       "        [0.07017544, 0.03508772, 0.01754386, ..., 0.01754386, 0.01754386,\n",
       "         0.01754386],\n",
       "        ...,\n",
       "        [0.07017544, 0.03508772, 0.01754386, ..., 0.01754386, 0.01754386,\n",
       "         0.01754386],\n",
       "        [0.07017544, 0.03508772, 0.01754386, ..., 0.01754386, 0.01754386,\n",
       "         0.01754386],\n",
       "        [0.07017544, 0.03508772, 0.01754386, ..., 0.01754386, 0.01754386,\n",
       "         0.01754386]]))"
      ]
     },
     "execution_count": 22,
     "metadata": {},
     "output_type": "execute_result"
    }
   ],
   "source": [
    "stats.chi2_contingency(transgender2_crosstab)"
   ]
  },
  {
   "cell_type": "code",
   "execution_count": 23,
   "id": "1ca6dbca",
   "metadata": {},
   "outputs": [],
   "source": [
    "transgender3_crosstab = pd.crosstab(Trans2019_2020['Unnamed: 0'], Trans2019_2020['Transgender,.1'])"
   ]
  },
  {
   "cell_type": "code",
   "execution_count": 24,
   "id": "10912504",
   "metadata": {},
   "outputs": [
    {
     "data": {
      "text/plain": [
       "(1938.0000000000002,\n",
       " 0.28824638594580904,\n",
       " 1904,\n",
       " array([[0.12280702, 0.07017544, 0.03508772, ..., 0.01754386, 0.01754386,\n",
       "         0.01754386],\n",
       "        [0.12280702, 0.07017544, 0.03508772, ..., 0.01754386, 0.01754386,\n",
       "         0.01754386],\n",
       "        [0.12280702, 0.07017544, 0.03508772, ..., 0.01754386, 0.01754386,\n",
       "         0.01754386],\n",
       "        ...,\n",
       "        [0.12280702, 0.07017544, 0.03508772, ..., 0.01754386, 0.01754386,\n",
       "         0.01754386],\n",
       "        [0.12280702, 0.07017544, 0.03508772, ..., 0.01754386, 0.01754386,\n",
       "         0.01754386],\n",
       "        [0.12280702, 0.07017544, 0.03508772, ..., 0.01754386, 0.01754386,\n",
       "         0.01754386]]))"
      ]
     },
     "execution_count": 24,
     "metadata": {},
     "output_type": "execute_result"
    }
   ],
   "source": [
    "stats.chi2_contingency(transgender3_crosstab)"
   ]
  },
  {
   "cell_type": "markdown",
   "id": "8db42644",
   "metadata": {},
   "source": [
    "# Testing Correlations"
   ]
  },
  {
   "cell_type": "code",
   "execution_count": 26,
   "id": "4beab176",
   "metadata": {},
   "outputs": [
    {
     "data": {
      "text/plain": [
       "0.8439869822296227"
      ]
     },
     "execution_count": 26,
     "metadata": {},
     "output_type": "execute_result"
    }
   ],
   "source": [
    "Trans2019_2020['Transgender,'].corr(Trans2019_2020['Homeless,'])"
   ]
  },
  {
   "cell_type": "code",
   "execution_count": 27,
   "id": "9a837ff2",
   "metadata": {},
   "outputs": [
    {
     "data": {
      "text/plain": [
       "0.8443120317987299"
      ]
     },
     "execution_count": 27,
     "metadata": {},
     "output_type": "execute_result"
    }
   ],
   "source": [
    "Trans2019_2020['Transgender,.1'].corr(Trans2019_2020['Homeless,.1'])"
   ]
  },
  {
   "cell_type": "code",
   "execution_count": null,
   "id": "379c5327",
   "metadata": {},
   "outputs": [],
   "source": []
  },
  {
   "cell_type": "code",
   "execution_count": 32,
   "id": "1bef5509",
   "metadata": {},
   "outputs": [
    {
     "data": {
      "text/html": [
       "<style type=\"text/css\">\n",
       "#T_268dd_row0_col0, #T_268dd_row0_col4, #T_268dd_row1_col1, #T_268dd_row2_col2, #T_268dd_row3_col3, #T_268dd_row4_col0, #T_268dd_row4_col4, #T_268dd_row5_col5, #T_268dd_row6_col6, #T_268dd_row7_col7 {\n",
       "  background-color: #b40426;\n",
       "  color: #f1f1f1;\n",
       "}\n",
       "#T_268dd_row0_col1 {\n",
       "  background-color: #f6bea4;\n",
       "  color: #000000;\n",
       "}\n",
       "#T_268dd_row0_col2, #T_268dd_row4_col2 {\n",
       "  background-color: #4f69d9;\n",
       "  color: #f1f1f1;\n",
       "}\n",
       "#T_268dd_row0_col3, #T_268dd_row2_col5 {\n",
       "  background-color: #ef886b;\n",
       "  color: #f1f1f1;\n",
       "}\n",
       "#T_268dd_row0_col5, #T_268dd_row2_col3 {\n",
       "  background-color: #f7bca1;\n",
       "  color: #000000;\n",
       "}\n",
       "#T_268dd_row0_col6, #T_268dd_row1_col4, #T_268dd_row2_col4, #T_268dd_row3_col6, #T_268dd_row4_col6, #T_268dd_row5_col4, #T_268dd_row6_col4, #T_268dd_row7_col6 {\n",
       "  background-color: #3b4cc0;\n",
       "  color: #f1f1f1;\n",
       "}\n",
       "#T_268dd_row0_col7, #T_268dd_row6_col1 {\n",
       "  background-color: #f18d6f;\n",
       "  color: #f1f1f1;\n",
       "}\n",
       "#T_268dd_row1_col0 {\n",
       "  background-color: #3e51c5;\n",
       "  color: #f1f1f1;\n",
       "}\n",
       "#T_268dd_row1_col2 {\n",
       "  background-color: #dbdcde;\n",
       "  color: #000000;\n",
       "}\n",
       "#T_268dd_row1_col3 {\n",
       "  background-color: #cf453c;\n",
       "  color: #f1f1f1;\n",
       "}\n",
       "#T_268dd_row1_col5, #T_268dd_row2_col6, #T_268dd_row3_col7, #T_268dd_row5_col1, #T_268dd_row6_col2, #T_268dd_row7_col3 {\n",
       "  background-color: #b50927;\n",
       "  color: #f1f1f1;\n",
       "}\n",
       "#T_268dd_row1_col6 {\n",
       "  background-color: #bbd1f8;\n",
       "  color: #000000;\n",
       "}\n",
       "#T_268dd_row1_col7, #T_268dd_row7_col1 {\n",
       "  background-color: #d24b40;\n",
       "  color: #f1f1f1;\n",
       "}\n",
       "#T_268dd_row2_col0, #T_268dd_row6_col0 {\n",
       "  background-color: #3c4ec2;\n",
       "  color: #f1f1f1;\n",
       "}\n",
       "#T_268dd_row2_col1 {\n",
       "  background-color: #ec8165;\n",
       "  color: #f1f1f1;\n",
       "}\n",
       "#T_268dd_row2_col7, #T_268dd_row4_col5 {\n",
       "  background-color: #f6bda2;\n",
       "  color: #000000;\n",
       "}\n",
       "#T_268dd_row3_col0 {\n",
       "  background-color: #cbd8ee;\n",
       "  color: #000000;\n",
       "}\n",
       "#T_268dd_row3_col1 {\n",
       "  background-color: #cd423b;\n",
       "  color: #f1f1f1;\n",
       "}\n",
       "#T_268dd_row3_col2 {\n",
       "  background-color: #6282ea;\n",
       "  color: #f1f1f1;\n",
       "}\n",
       "#T_268dd_row3_col4 {\n",
       "  background-color: #c6d6f1;\n",
       "  color: #000000;\n",
       "}\n",
       "#T_268dd_row3_col5 {\n",
       "  background-color: #c83836;\n",
       "  color: #f1f1f1;\n",
       "}\n",
       "#T_268dd_row4_col1 {\n",
       "  background-color: #f6bfa6;\n",
       "  color: #000000;\n",
       "}\n",
       "#T_268dd_row4_col3 {\n",
       "  background-color: #f08b6e;\n",
       "  color: #f1f1f1;\n",
       "}\n",
       "#T_268dd_row4_col7 {\n",
       "  background-color: #f18f71;\n",
       "  color: #f1f1f1;\n",
       "}\n",
       "#T_268dd_row5_col0 {\n",
       "  background-color: #3f53c6;\n",
       "  color: #f1f1f1;\n",
       "}\n",
       "#T_268dd_row5_col2 {\n",
       "  background-color: #cdd9ec;\n",
       "  color: #000000;\n",
       "}\n",
       "#T_268dd_row5_col3, #T_268dd_row7_col5 {\n",
       "  background-color: #ca3b37;\n",
       "  color: #f1f1f1;\n",
       "}\n",
       "#T_268dd_row5_col6 {\n",
       "  background-color: #aac7fd;\n",
       "  color: #000000;\n",
       "}\n",
       "#T_268dd_row5_col7 {\n",
       "  background-color: #cb3e38;\n",
       "  color: #f1f1f1;\n",
       "}\n",
       "#T_268dd_row6_col3, #T_268dd_row6_col7 {\n",
       "  background-color: #f5c2aa;\n",
       "  color: #000000;\n",
       "}\n",
       "#T_268dd_row6_col5 {\n",
       "  background-color: #f29274;\n",
       "  color: #f1f1f1;\n",
       "}\n",
       "#T_268dd_row7_col0 {\n",
       "  background-color: #c1d4f4;\n",
       "  color: #000000;\n",
       "}\n",
       "#T_268dd_row7_col2 {\n",
       "  background-color: #5e7de7;\n",
       "  color: #f1f1f1;\n",
       "}\n",
       "#T_268dd_row7_col4 {\n",
       "  background-color: #bcd2f7;\n",
       "  color: #000000;\n",
       "}\n",
       "</style>\n",
       "<table id=\"T_268dd_\">\n",
       "  <thead>\n",
       "    <tr>\n",
       "      <th class=\"blank level0\" >&nbsp;</th>\n",
       "      <th class=\"col_heading level0 col0\" >Homeless,</th>\n",
       "      <th class=\"col_heading level0 col1\" >Transgender,</th>\n",
       "      <th class=\"col_heading level0 col2\" >Conforming,</th>\n",
       "      <th class=\"col_heading level0 col3\" >Total</th>\n",
       "      <th class=\"col_heading level0 col4\" >Homeless,.1</th>\n",
       "      <th class=\"col_heading level0 col5\" >Transgender,.1</th>\n",
       "      <th class=\"col_heading level0 col6\" >Conforming,.1</th>\n",
       "      <th class=\"col_heading level0 col7\" >Total.1</th>\n",
       "    </tr>\n",
       "  </thead>\n",
       "  <tbody>\n",
       "    <tr>\n",
       "      <th id=\"T_268dd_level0_row0\" class=\"row_heading level0 row0\" >Homeless,</th>\n",
       "      <td id=\"T_268dd_row0_col0\" class=\"data row0 col0\" >1.0</td>\n",
       "      <td id=\"T_268dd_row0_col1\" class=\"data row0 col1\" >0.84</td>\n",
       "      <td id=\"T_268dd_row0_col2\" class=\"data row0 col2\" >0.59</td>\n",
       "      <td id=\"T_268dd_row0_col3\" class=\"data row0 col3\" >0.91</td>\n",
       "      <td id=\"T_268dd_row0_col4\" class=\"data row0 col4\" >1.0</td>\n",
       "      <td id=\"T_268dd_row0_col5\" class=\"data row0 col5\" >0.85</td>\n",
       "      <td id=\"T_268dd_row0_col6\" class=\"data row0 col6\" >0.56</td>\n",
       "      <td id=\"T_268dd_row0_col7\" class=\"data row0 col7\" >0.9</td>\n",
       "    </tr>\n",
       "    <tr>\n",
       "      <th id=\"T_268dd_level0_row1\" class=\"row_heading level0 row1\" >Transgender,</th>\n",
       "      <td id=\"T_268dd_row1_col0\" class=\"data row1 col0\" >0.84</td>\n",
       "      <td id=\"T_268dd_row1_col1\" class=\"data row1 col1\" >1.0</td>\n",
       "      <td id=\"T_268dd_row1_col2\" class=\"data row1 col2\" >0.92</td>\n",
       "      <td id=\"T_268dd_row1_col3\" class=\"data row1 col3\" >0.99</td>\n",
       "      <td id=\"T_268dd_row1_col4\" class=\"data row1 col4\" >0.84</td>\n",
       "      <td id=\"T_268dd_row1_col5\" class=\"data row1 col5\" >1.0</td>\n",
       "      <td id=\"T_268dd_row1_col6\" class=\"data row1 col6\" >0.9</td>\n",
       "      <td id=\"T_268dd_row1_col7\" class=\"data row1 col7\" >0.99</td>\n",
       "    </tr>\n",
       "    <tr>\n",
       "      <th id=\"T_268dd_level0_row2\" class=\"row_heading level0 row2\" >Conforming,</th>\n",
       "      <td id=\"T_268dd_row2_col0\" class=\"data row2 col0\" >0.59</td>\n",
       "      <td id=\"T_268dd_row2_col1\" class=\"data row2 col1\" >0.92</td>\n",
       "      <td id=\"T_268dd_row2_col2\" class=\"data row2 col2\" >1.0</td>\n",
       "      <td id=\"T_268dd_row2_col3\" class=\"data row2 col3\" >0.86</td>\n",
       "      <td id=\"T_268dd_row2_col4\" class=\"data row2 col4\" >0.59</td>\n",
       "      <td id=\"T_268dd_row2_col5\" class=\"data row2 col5\" >0.91</td>\n",
       "      <td id=\"T_268dd_row2_col6\" class=\"data row2 col6\" >1.0</td>\n",
       "      <td id=\"T_268dd_row2_col7\" class=\"data row2 col7\" >0.86</td>\n",
       "    </tr>\n",
       "    <tr>\n",
       "      <th id=\"T_268dd_level0_row3\" class=\"row_heading level0 row3\" >Total</th>\n",
       "      <td id=\"T_268dd_row3_col0\" class=\"data row3 col0\" >0.91</td>\n",
       "      <td id=\"T_268dd_row3_col1\" class=\"data row3 col1\" >0.99</td>\n",
       "      <td id=\"T_268dd_row3_col2\" class=\"data row3 col2\" >0.86</td>\n",
       "      <td id=\"T_268dd_row3_col3\" class=\"data row3 col3\" >1.0</td>\n",
       "      <td id=\"T_268dd_row3_col4\" class=\"data row3 col4\" >0.9</td>\n",
       "      <td id=\"T_268dd_row3_col5\" class=\"data row3 col5\" >0.99</td>\n",
       "      <td id=\"T_268dd_row3_col6\" class=\"data row3 col6\" >0.84</td>\n",
       "      <td id=\"T_268dd_row3_col7\" class=\"data row3 col7\" >1.0</td>\n",
       "    </tr>\n",
       "    <tr>\n",
       "      <th id=\"T_268dd_level0_row4\" class=\"row_heading level0 row4\" >Homeless,.1</th>\n",
       "      <td id=\"T_268dd_row4_col0\" class=\"data row4 col0\" >1.0</td>\n",
       "      <td id=\"T_268dd_row4_col1\" class=\"data row4 col1\" >0.84</td>\n",
       "      <td id=\"T_268dd_row4_col2\" class=\"data row4 col2\" >0.59</td>\n",
       "      <td id=\"T_268dd_row4_col3\" class=\"data row4 col3\" >0.9</td>\n",
       "      <td id=\"T_268dd_row4_col4\" class=\"data row4 col4\" >1.0</td>\n",
       "      <td id=\"T_268dd_row4_col5\" class=\"data row4 col5\" >0.84</td>\n",
       "      <td id=\"T_268dd_row4_col6\" class=\"data row4 col6\" >0.56</td>\n",
       "      <td id=\"T_268dd_row4_col7\" class=\"data row4 col7\" >0.9</td>\n",
       "    </tr>\n",
       "    <tr>\n",
       "      <th id=\"T_268dd_level0_row5\" class=\"row_heading level0 row5\" >Transgender,.1</th>\n",
       "      <td id=\"T_268dd_row5_col0\" class=\"data row5 col0\" >0.85</td>\n",
       "      <td id=\"T_268dd_row5_col1\" class=\"data row5 col1\" >1.0</td>\n",
       "      <td id=\"T_268dd_row5_col2\" class=\"data row5 col2\" >0.91</td>\n",
       "      <td id=\"T_268dd_row5_col3\" class=\"data row5 col3\" >0.99</td>\n",
       "      <td id=\"T_268dd_row5_col4\" class=\"data row5 col4\" >0.84</td>\n",
       "      <td id=\"T_268dd_row5_col5\" class=\"data row5 col5\" >1.0</td>\n",
       "      <td id=\"T_268dd_row5_col6\" class=\"data row5 col6\" >0.9</td>\n",
       "      <td id=\"T_268dd_row5_col7\" class=\"data row5 col7\" >0.99</td>\n",
       "    </tr>\n",
       "    <tr>\n",
       "      <th id=\"T_268dd_level0_row6\" class=\"row_heading level0 row6\" >Conforming,.1</th>\n",
       "      <td id=\"T_268dd_row6_col0\" class=\"data row6 col0\" >0.56</td>\n",
       "      <td id=\"T_268dd_row6_col1\" class=\"data row6 col1\" >0.9</td>\n",
       "      <td id=\"T_268dd_row6_col2\" class=\"data row6 col2\" >1.0</td>\n",
       "      <td id=\"T_268dd_row6_col3\" class=\"data row6 col3\" >0.84</td>\n",
       "      <td id=\"T_268dd_row6_col4\" class=\"data row6 col4\" >0.56</td>\n",
       "      <td id=\"T_268dd_row6_col5\" class=\"data row6 col5\" >0.9</td>\n",
       "      <td id=\"T_268dd_row6_col6\" class=\"data row6 col6\" >1.0</td>\n",
       "      <td id=\"T_268dd_row6_col7\" class=\"data row6 col7\" >0.84</td>\n",
       "    </tr>\n",
       "    <tr>\n",
       "      <th id=\"T_268dd_level0_row7\" class=\"row_heading level0 row7\" >Total.1</th>\n",
       "      <td id=\"T_268dd_row7_col0\" class=\"data row7 col0\" >0.9</td>\n",
       "      <td id=\"T_268dd_row7_col1\" class=\"data row7 col1\" >0.99</td>\n",
       "      <td id=\"T_268dd_row7_col2\" class=\"data row7 col2\" >0.86</td>\n",
       "      <td id=\"T_268dd_row7_col3\" class=\"data row7 col3\" >1.0</td>\n",
       "      <td id=\"T_268dd_row7_col4\" class=\"data row7 col4\" >0.9</td>\n",
       "      <td id=\"T_268dd_row7_col5\" class=\"data row7 col5\" >0.99</td>\n",
       "      <td id=\"T_268dd_row7_col6\" class=\"data row7 col6\" >0.84</td>\n",
       "      <td id=\"T_268dd_row7_col7\" class=\"data row7 col7\" >1.0</td>\n",
       "    </tr>\n",
       "  </tbody>\n",
       "</table>\n"
      ],
      "text/plain": [
       "<pandas.io.formats.style.Styler at 0x1a747554040>"
      ]
     },
     "execution_count": 32,
     "metadata": {},
     "output_type": "execute_result"
    }
   ],
   "source": [
    "Trans2019_2020.corr(method='pearson').style.format(\"{:.2}\").background_gradient(cmap=plt.get_cmap('coolwarm'), axis=1)"
   ]
  },
  {
   "cell_type": "code",
   "execution_count": 33,
   "id": "07399870",
   "metadata": {},
   "outputs": [
    {
     "data": {
      "text/plain": [
       "<AxesSubplot:>"
      ]
     },
     "execution_count": 33,
     "metadata": {},
     "output_type": "execute_result"
    },
    {
     "data": {
      "image/png": "[encoded data removed]",
      "text/plain": [
       "<Figure size 432x288 with 2 Axes>"
      ]
     },
     "metadata": {
      "needs_background": "light"
     },
     "output_type": "display_data"
    }
   ],
   "source": [
    "sns.heatmap(Trans2019_2020.corr(), annot=True)"
   ]
  },
  {
   "cell_type": "code",
   "execution_count": null,
   "id": "21cbe989",
   "metadata": {},
   "outputs": [],
   "source": [
    "# The higher a state's homeless population is the higher it seems the transgender homeless population is. This especially\n",
    "rings true for densley populated states like New York and California. A positive correlation is indeed shown here"
   ]
  },
  {
   "cell_type": "code",
   "execution_count": null,
   "id": "2bd6d417",
   "metadata": {},
   "outputs": [],
   "source": []
  }
 ],
 "metadata": {
  "kernelspec": {
   "display_name": "Python 3 (ipykernel)",
   "language": "python",
   "name": "python3"
  },
  "language_info": {
   "codemirror_mode": {
    "name": "ipython",
    "version": 3
   },
   "file_extension": ".py",
   "mimetype": "text/x-python",
   "name": "python",
   "nbconvert_exporter": "python",
   "pygments_lexer": "ipython3",
   "version": "3.9.7"
  }
 },
 "nbformat": 4,
 "nbformat_minor": 5
}
