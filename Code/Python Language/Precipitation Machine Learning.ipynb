{
 "cells": [
  {
   "cell_type": "code",
   "execution_count": 1,
   "id": "d7d372c9",
   "metadata": {},
   "outputs": [],
   "source": [
    "import pandas as pd\n",
    "from sklearn.linear_model import LinearRegression\n",
    "from sklearn.model_selection import train_test_split\n",
    "import matplotlib.pyplot as plt\n",
    "%matplotlib inline\n",
    "from sklearn import metrics\n",
    "import numpy as np"
   ]
  },
  {
   "cell_type": "markdown",
   "id": "e253b96a",
   "metadata": {},
   "source": [
    "# Import Data"
   ]
  },
  {
   "cell_type": "code",
   "execution_count": 2,
   "id": "b813cd04",
   "metadata": {},
   "outputs": [],
   "source": [
    "Precip = pd.read_excel ('/Users/lakisha/Desktop/Precipitation.xlsx')"
   ]
  },
  {
   "cell_type": "code",
   "execution_count": 3,
   "id": "ce40a29a",
   "metadata": {},
   "outputs": [
    {
     "name": "stdout",
     "output_type": "stream",
     "text": [
      "<class 'pandas.core.frame.DataFrame'>\n",
      "RangeIndex: 50 entries, 0 to 49\n",
      "Data columns (total 14 columns):\n",
      " #   Column        Non-Null Count  Dtype  \n",
      "---  ------        --------------  -----  \n",
      " 0   State Number  50 non-null     int64  \n",
      " 1   States        50 non-null     object \n",
      " 2   January       50 non-null     float64\n",
      " 3   February      50 non-null     float64\n",
      " 4   March         50 non-null     float64\n",
      " 5   April         50 non-null     float64\n",
      " 6   May           50 non-null     float64\n",
      " 7   June          50 non-null     float64\n",
      " 8   July          50 non-null     float64\n",
      " 9   Aug           50 non-null     float64\n",
      " 10  Sep           50 non-null     float64\n",
      " 11  October       50 non-null     float64\n",
      " 12  November      50 non-null     float64\n",
      " 13  December      50 non-null     float64\n",
      "dtypes: float64(12), int64(1), object(1)\n",
      "memory usage: 5.6+ KB\n"
     ]
    }
   ],
   "source": [
    "Precip.info()"
   ]
  },
  {
   "cell_type": "markdown",
   "id": "b7984489",
   "metadata": {},
   "source": [
    "# Wrangling Data"
   ]
  },
  {
   "cell_type": "code",
   "execution_count": 4,
   "id": "12bf7721",
   "metadata": {},
   "outputs": [
    {
     "data": {
      "text/html": [
       "<div>\n",
       "<style scoped>\n",
       "    .dataframe tbody tr th:only-of-type {\n",
       "        vertical-align: middle;\n",
       "    }\n",
       "\n",
       "    .dataframe tbody tr th {\n",
       "        vertical-align: top;\n",
       "    }\n",
       "\n",
       "    .dataframe thead th {\n",
       "        text-align: right;\n",
       "    }\n",
       "</style>\n",
       "<table border=\"1\" class=\"dataframe\">\n",
       "  <thead>\n",
       "    <tr style=\"text-align: right;\">\n",
       "      <th></th>\n",
       "      <th>State Number</th>\n",
       "      <th>January</th>\n",
       "      <th>February</th>\n",
       "      <th>March</th>\n",
       "      <th>April</th>\n",
       "      <th>May</th>\n",
       "      <th>June</th>\n",
       "      <th>July</th>\n",
       "      <th>Aug</th>\n",
       "      <th>Sep</th>\n",
       "      <th>October</th>\n",
       "      <th>November</th>\n",
       "      <th>December</th>\n",
       "    </tr>\n",
       "  </thead>\n",
       "  <tbody>\n",
       "    <tr>\n",
       "      <th>0</th>\n",
       "      <td>1</td>\n",
       "      <td>5.25</td>\n",
       "      <td>4.87</td>\n",
       "      <td>5.05</td>\n",
       "      <td>4.92</td>\n",
       "      <td>3.68</td>\n",
       "      <td>5.08</td>\n",
       "      <td>5.94</td>\n",
       "      <td>5.22</td>\n",
       "      <td>4.15</td>\n",
       "      <td>3.21</td>\n",
       "      <td>4.63</td>\n",
       "      <td>5.67</td>\n",
       "    </tr>\n",
       "    <tr>\n",
       "      <th>1</th>\n",
       "      <td>2</td>\n",
       "      <td>1.60</td>\n",
       "      <td>1.60</td>\n",
       "      <td>1.14</td>\n",
       "      <td>1.10</td>\n",
       "      <td>1.51</td>\n",
       "      <td>1.35</td>\n",
       "      <td>2.02</td>\n",
       "      <td>3.25</td>\n",
       "      <td>4.70</td>\n",
       "      <td>3.62</td>\n",
       "      <td>2.82</td>\n",
       "      <td>2.82</td>\n",
       "    </tr>\n",
       "    <tr>\n",
       "      <th>2</th>\n",
       "      <td>3</td>\n",
       "      <td>0.76</td>\n",
       "      <td>1.35</td>\n",
       "      <td>0.75</td>\n",
       "      <td>0.11</td>\n",
       "      <td>0.09</td>\n",
       "      <td>0.10</td>\n",
       "      <td>1.09</td>\n",
       "      <td>0.70</td>\n",
       "      <td>0.52</td>\n",
       "      <td>0.57</td>\n",
       "      <td>0.40</td>\n",
       "      <td>0.68</td>\n",
       "    </tr>\n",
       "    <tr>\n",
       "      <th>3</th>\n",
       "      <td>4</td>\n",
       "      <td>3.08</td>\n",
       "      <td>2.87</td>\n",
       "      <td>4.89</td>\n",
       "      <td>4.84</td>\n",
       "      <td>6.25</td>\n",
       "      <td>4.44</td>\n",
       "      <td>4.10</td>\n",
       "      <td>3.91</td>\n",
       "      <td>4.57</td>\n",
       "      <td>4.42</td>\n",
       "      <td>4.49</td>\n",
       "      <td>4.22</td>\n",
       "    </tr>\n",
       "    <tr>\n",
       "      <th>4</th>\n",
       "      <td>5</td>\n",
       "      <td>3.29</td>\n",
       "      <td>3.64</td>\n",
       "      <td>2.23</td>\n",
       "      <td>0.69</td>\n",
       "      <td>0.32</td>\n",
       "      <td>0.09</td>\n",
       "      <td>0.02</td>\n",
       "      <td>0.00</td>\n",
       "      <td>0.13</td>\n",
       "      <td>0.58</td>\n",
       "      <td>0.78</td>\n",
       "      <td>2.48</td>\n",
       "    </tr>\n",
       "  </tbody>\n",
       "</table>\n",
       "</div>"
      ],
      "text/plain": [
       "   State Number  January  February  March  April   May  June  July   Aug  \\\n",
       "0             1     5.25      4.87   5.05   4.92  3.68  5.08  5.94  5.22   \n",
       "1             2     1.60      1.60   1.14   1.10  1.51  1.35  2.02  3.25   \n",
       "2             3     0.76      1.35   0.75   0.11  0.09  0.10  1.09  0.70   \n",
       "3             4     3.08      2.87   4.89   4.84  6.25  4.44  4.10  3.91   \n",
       "4             5     3.29      3.64   2.23   0.69  0.32  0.09  0.02  0.00   \n",
       "\n",
       "    Sep  October  November  December  \n",
       "0  4.15     3.21      4.63      5.67  \n",
       "1  4.70     3.62      2.82      2.82  \n",
       "2  0.52     0.57      0.40      0.68  \n",
       "3  4.57     4.42      4.49      4.22  \n",
       "4  0.13     0.58      0.78      2.48  "
      ]
     },
     "execution_count": 4,
     "metadata": {},
     "output_type": "execute_result"
    }
   ],
   "source": [
    "Precip1 = Precip.drop(['States'], axis=1)\n",
    "Precip1.head()"
   ]
  },
  {
   "cell_type": "code",
   "execution_count": 5,
   "id": "5ed473fd",
   "metadata": {},
   "outputs": [
    {
     "data": {
      "text/html": [
       "<div>\n",
       "<style scoped>\n",
       "    .dataframe tbody tr th:only-of-type {\n",
       "        vertical-align: middle;\n",
       "    }\n",
       "\n",
       "    .dataframe tbody tr th {\n",
       "        vertical-align: top;\n",
       "    }\n",
       "\n",
       "    .dataframe thead th {\n",
       "        text-align: right;\n",
       "    }\n",
       "</style>\n",
       "<table border=\"1\" class=\"dataframe\">\n",
       "  <thead>\n",
       "    <tr style=\"text-align: right;\">\n",
       "      <th></th>\n",
       "      <th>State Number</th>\n",
       "      <th>January</th>\n",
       "      <th>February</th>\n",
       "      <th>March</th>\n",
       "      <th>April</th>\n",
       "      <th>May</th>\n",
       "      <th>June</th>\n",
       "      <th>July</th>\n",
       "      <th>Aug</th>\n",
       "      <th>Sep</th>\n",
       "      <th>October</th>\n",
       "      <th>November</th>\n",
       "      <th>December</th>\n",
       "    </tr>\n",
       "  </thead>\n",
       "  <tbody>\n",
       "    <tr>\n",
       "      <th>0</th>\n",
       "      <td>1</td>\n",
       "      <td>5.25</td>\n",
       "      <td>4.87</td>\n",
       "      <td>5.05</td>\n",
       "      <td>4.92</td>\n",
       "      <td>3.68</td>\n",
       "      <td>5.08</td>\n",
       "      <td>5.94</td>\n",
       "      <td>5.22</td>\n",
       "      <td>4.15</td>\n",
       "      <td>3.21</td>\n",
       "      <td>4.63</td>\n",
       "      <td>5.67</td>\n",
       "    </tr>\n",
       "    <tr>\n",
       "      <th>1</th>\n",
       "      <td>2</td>\n",
       "      <td>1.60</td>\n",
       "      <td>1.60</td>\n",
       "      <td>1.14</td>\n",
       "      <td>1.10</td>\n",
       "      <td>1.51</td>\n",
       "      <td>1.35</td>\n",
       "      <td>2.02</td>\n",
       "      <td>3.25</td>\n",
       "      <td>4.70</td>\n",
       "      <td>3.62</td>\n",
       "      <td>2.82</td>\n",
       "      <td>2.82</td>\n",
       "    </tr>\n",
       "    <tr>\n",
       "      <th>2</th>\n",
       "      <td>3</td>\n",
       "      <td>0.76</td>\n",
       "      <td>1.35</td>\n",
       "      <td>0.75</td>\n",
       "      <td>0.11</td>\n",
       "      <td>0.09</td>\n",
       "      <td>0.10</td>\n",
       "      <td>1.09</td>\n",
       "      <td>0.70</td>\n",
       "      <td>0.52</td>\n",
       "      <td>0.57</td>\n",
       "      <td>0.40</td>\n",
       "      <td>0.68</td>\n",
       "    </tr>\n",
       "    <tr>\n",
       "      <th>3</th>\n",
       "      <td>4</td>\n",
       "      <td>3.08</td>\n",
       "      <td>2.87</td>\n",
       "      <td>4.89</td>\n",
       "      <td>4.84</td>\n",
       "      <td>6.25</td>\n",
       "      <td>4.44</td>\n",
       "      <td>4.10</td>\n",
       "      <td>3.91</td>\n",
       "      <td>4.57</td>\n",
       "      <td>4.42</td>\n",
       "      <td>4.49</td>\n",
       "      <td>4.22</td>\n",
       "    </tr>\n",
       "    <tr>\n",
       "      <th>4</th>\n",
       "      <td>5</td>\n",
       "      <td>3.29</td>\n",
       "      <td>3.64</td>\n",
       "      <td>2.23</td>\n",
       "      <td>0.69</td>\n",
       "      <td>0.32</td>\n",
       "      <td>0.09</td>\n",
       "      <td>0.02</td>\n",
       "      <td>0.00</td>\n",
       "      <td>0.13</td>\n",
       "      <td>0.58</td>\n",
       "      <td>0.78</td>\n",
       "      <td>2.48</td>\n",
       "    </tr>\n",
       "    <tr>\n",
       "      <th>5</th>\n",
       "      <td>6</td>\n",
       "      <td>0.53</td>\n",
       "      <td>0.70</td>\n",
       "      <td>1.37</td>\n",
       "      <td>2.08</td>\n",
       "      <td>2.76</td>\n",
       "      <td>1.84</td>\n",
       "      <td>2.03</td>\n",
       "      <td>1.67</td>\n",
       "      <td>1.26</td>\n",
       "      <td>1.16</td>\n",
       "      <td>0.81</td>\n",
       "      <td>0.59</td>\n",
       "    </tr>\n",
       "    <tr>\n",
       "      <th>6</th>\n",
       "      <td>7</td>\n",
       "      <td>3.28</td>\n",
       "      <td>3.13</td>\n",
       "      <td>3.81</td>\n",
       "      <td>3.88</td>\n",
       "      <td>3.79</td>\n",
       "      <td>4.28</td>\n",
       "      <td>4.17</td>\n",
       "      <td>4.21</td>\n",
       "      <td>4.39</td>\n",
       "      <td>4.52</td>\n",
       "      <td>3.51</td>\n",
       "      <td>4.08</td>\n",
       "    </tr>\n",
       "    <tr>\n",
       "      <th>7</th>\n",
       "      <td>8</td>\n",
       "      <td>3.51</td>\n",
       "      <td>2.90</td>\n",
       "      <td>4.43</td>\n",
       "      <td>3.55</td>\n",
       "      <td>3.85</td>\n",
       "      <td>4.38</td>\n",
       "      <td>4.60</td>\n",
       "      <td>4.43</td>\n",
       "      <td>4.62</td>\n",
       "      <td>3.99</td>\n",
       "      <td>3.14</td>\n",
       "      <td>4.31</td>\n",
       "    </tr>\n",
       "    <tr>\n",
       "      <th>8</th>\n",
       "      <td>9</td>\n",
       "      <td>2.33</td>\n",
       "      <td>2.27</td>\n",
       "      <td>2.47</td>\n",
       "      <td>3.44</td>\n",
       "      <td>4.94</td>\n",
       "      <td>7.76</td>\n",
       "      <td>5.98</td>\n",
       "      <td>7.51</td>\n",
       "      <td>8.45</td>\n",
       "      <td>6.49</td>\n",
       "      <td>3.29</td>\n",
       "      <td>2.25</td>\n",
       "    </tr>\n",
       "    <tr>\n",
       "      <th>9</th>\n",
       "      <td>10</td>\n",
       "      <td>4.29</td>\n",
       "      <td>4.61</td>\n",
       "      <td>4.90</td>\n",
       "      <td>3.77</td>\n",
       "      <td>3.12</td>\n",
       "      <td>4.45</td>\n",
       "      <td>4.84</td>\n",
       "      <td>3.96</td>\n",
       "      <td>3.52</td>\n",
       "      <td>3.37</td>\n",
       "      <td>3.91</td>\n",
       "      <td>4.56</td>\n",
       "    </tr>\n",
       "  </tbody>\n",
       "</table>\n",
       "</div>"
      ],
      "text/plain": [
       "   State Number  January  February  March  April   May  June  July   Aug  \\\n",
       "0             1     5.25      4.87   5.05   4.92  3.68  5.08  5.94  5.22   \n",
       "1             2     1.60      1.60   1.14   1.10  1.51  1.35  2.02  3.25   \n",
       "2             3     0.76      1.35   0.75   0.11  0.09  0.10  1.09  0.70   \n",
       "3             4     3.08      2.87   4.89   4.84  6.25  4.44  4.10  3.91   \n",
       "4             5     3.29      3.64   2.23   0.69  0.32  0.09  0.02  0.00   \n",
       "5             6     0.53      0.70   1.37   2.08  2.76  1.84  2.03  1.67   \n",
       "6             7     3.28      3.13   3.81   3.88  3.79  4.28  4.17  4.21   \n",
       "7             8     3.51      2.90   4.43   3.55  3.85  4.38  4.60  4.43   \n",
       "8             9     2.33      2.27   2.47   3.44  4.94  7.76  5.98  7.51   \n",
       "9            10     4.29      4.61   4.90   3.77  3.12  4.45  4.84  3.96   \n",
       "\n",
       "    Sep  October  November  December  \n",
       "0  4.15     3.21      4.63      5.67  \n",
       "1  4.70     3.62      2.82      2.82  \n",
       "2  0.52     0.57      0.40      0.68  \n",
       "3  4.57     4.42      4.49      4.22  \n",
       "4  0.13     0.58      0.78      2.48  \n",
       "5  1.26     1.16      0.81      0.59  \n",
       "6  4.39     4.52      3.51      4.08  \n",
       "7  4.62     3.99      3.14      4.31  \n",
       "8  8.45     6.49      3.29      2.25  \n",
       "9  3.52     3.37      3.91      4.56  "
      ]
     },
     "execution_count": 5,
     "metadata": {},
     "output_type": "execute_result"
    }
   ],
   "source": [
    "Precip1.head(10)"
   ]
  },
  {
   "cell_type": "code",
   "execution_count": 7,
   "id": "a0b0f860",
   "metadata": {},
   "outputs": [],
   "source": [
    "x = Precip[['January', 'February', 'March', 'April', 'May', 'June', 'July', 'Aug', 'Sep', 'October', 'November', 'December']]\n",
    "y = Precip['State Number']"
   ]
  },
  {
   "cell_type": "markdown",
   "id": "5e5ae1af",
   "metadata": {},
   "source": [
    "# Train Test Split"
   ]
  },
  {
   "cell_type": "code",
   "execution_count": 11,
   "id": "3e805f7d",
   "metadata": {},
   "outputs": [],
   "source": [
    "x_train, x_test, y_train, y_test = train_test_split(x,y, test_size = .4)"
   ]
  },
  {
   "cell_type": "code",
   "execution_count": 12,
   "id": "ac95dd6e",
   "metadata": {},
   "outputs": [
    {
     "name": "stdout",
     "output_type": "stream",
     "text": [
      "(30, 12) (30,)\n",
      "(20, 12) (20,)\n"
     ]
    }
   ],
   "source": [
    "print(x_train.shape, y_train.shape)\n",
    "print(x_test.shape, y_test.shape)"
   ]
  },
  {
   "cell_type": "markdown",
   "id": "e83596ba",
   "metadata": {},
   "source": [
    "# Checking Linear Regression"
   ]
  },
  {
   "cell_type": "code",
   "execution_count": 13,
   "id": "16a23244",
   "metadata": {},
   "outputs": [
    {
     "data": {
      "text/plain": [
       "LinearRegression()"
      ]
     },
     "execution_count": 13,
     "metadata": {},
     "output_type": "execute_result"
    }
   ],
   "source": [
    "lm = LinearRegression()\n",
    "lm.fit(x_train, y_train)"
   ]
  },
  {
   "cell_type": "markdown",
   "id": "f8bf6eb0",
   "metadata": {},
   "source": [
    "# Examine Predictions"
   ]
  },
  {
   "cell_type": "code",
   "execution_count": 14,
   "id": "53ab49e1",
   "metadata": {},
   "outputs": [
    {
     "data": {
      "text/plain": [
       "array([31.25894564, 47.71568758, 48.55984354, 46.81360086, 46.86893796,\n",
       "       28.11243058, 25.48045455, 14.81078479, 10.45153504, 32.33967915,\n",
       "       29.22436908, 14.65801825,  5.26739874, 34.93273304,  8.01622398,\n",
       "       25.93609828, 56.07385885,  9.1337473 , 45.77047654, 14.8417489 ])"
      ]
     },
     "execution_count": 14,
     "metadata": {},
     "output_type": "execute_result"
    }
   ],
   "source": [
    "predictions = lm.predict(x_test)\n",
    "predictions"
   ]
  },
  {
   "cell_type": "code",
   "execution_count": 15,
   "id": "0744236d",
   "metadata": {},
   "outputs": [
    {
     "data": {
      "text/plain": [
       "<matplotlib.collections.PathCollection at 0x7f9d0026c1f0>"
      ]
     },
     "execution_count": 15,
     "metadata": {},
     "output_type": "execute_result"
    },
    {
     "data": {
      "image/png": "[encoded data removed]",
      "text/plain": [
       "<Figure size 432x288 with 1 Axes>"
      ]
     },
     "metadata": {
      "needs_background": "light"
     },
     "output_type": "display_data"
    }
   ],
   "source": [
    "plt.scatter(y_test, predictions)"
   ]
  },
  {
   "cell_type": "markdown",
   "id": "2b77d53c",
   "metadata": {},
   "source": [
    "# Examine Accuracy Score"
   ]
  },
  {
   "cell_type": "code",
   "execution_count": 16,
   "id": "26da838b",
   "metadata": {},
   "outputs": [
    {
     "name": "stdout",
     "output_type": "stream",
     "text": [
      "Score: -1.9923786494282867\n"
     ]
    }
   ],
   "source": [
    "print(\"Score:\", lm.score(x_test, y_test))"
   ]
  },
  {
   "cell_type": "markdown",
   "id": "11d30c9a",
   "metadata": {},
   "source": [
    "# MAE"
   ]
  },
  {
   "cell_type": "code",
   "execution_count": 17,
   "id": "ddf5c350",
   "metadata": {},
   "outputs": [
    {
     "data": {
      "text/plain": [
       "18.35260455226328"
      ]
     },
     "execution_count": 17,
     "metadata": {},
     "output_type": "execute_result"
    }
   ],
   "source": [
    "metrics.mean_absolute_error(y_test, predictions)"
   ]
  },
  {
   "cell_type": "markdown",
   "id": "2afed1a8",
   "metadata": {},
   "source": [
    "# MSE"
   ]
  },
  {
   "cell_type": "code",
   "execution_count": 18,
   "id": "ba81039d",
   "metadata": {},
   "outputs": [
    {
     "data": {
      "text/plain": [
       "433.11688571825016"
      ]
     },
     "execution_count": 18,
     "metadata": {},
     "output_type": "execute_result"
    }
   ],
   "source": [
    "metrics.mean_squared_error(y_test, predictions)"
   ]
  },
  {
   "cell_type": "markdown",
   "id": "94bc2569",
   "metadata": {},
   "source": [
    "# Root MSE "
   ]
  },
  {
   "cell_type": "code",
   "execution_count": 19,
   "id": "95690278",
   "metadata": {},
   "outputs": [
    {
     "data": {
      "text/plain": [
       "20.811460441743396"
      ]
     },
     "execution_count": 19,
     "metadata": {},
     "output_type": "execute_result"
    }
   ],
   "source": [
    "np.sqrt(metrics.mean_squared_error(y_test, predictions))"
   ]
  },
  {
   "cell_type": "markdown",
   "id": "b602bc4f",
   "metadata": {},
   "source": [
    "# k-Fold Cross Validation"
   ]
  },
  {
   "cell_type": "code",
   "execution_count": 20,
   "id": "4c2a3536",
   "metadata": {},
   "outputs": [],
   "source": [
    "from sklearn.model_selection import KFold\n",
    "from sklearn.model_selection import cross_val_score"
   ]
  },
  {
   "cell_type": "markdown",
   "id": "77bda986",
   "metadata": {},
   "source": [
    "# Create k-Fold"
   ]
  },
  {
   "cell_type": "code",
   "execution_count": 21,
   "id": "5d1e3a10",
   "metadata": {},
   "outputs": [
    {
     "name": "stdout",
     "output_type": "stream",
     "text": [
      "train: [ 0  1  4  5  6  7  8  9 10 11 12 13 14 15 16 17 18 20 22 23 24 25 26 28\n",
      " 30 33 34 37 41 43 44 45 47], test: [ 2  3 19 21 27 29 31 32 35 36 38 39 40 42 46 48 49]\n",
      "train: [ 0  1  2  3  5  6  7  8  9 11 12 15 16 19 20 21 25 27 29 31 32 35 36 37\n",
      " 38 39 40 42 43 46 47 48 49], test: [ 4 10 13 14 17 18 22 23 24 26 28 30 33 34 41 44 45]\n",
      "train: [ 2  3  4 10 13 14 17 18 19 21 22 23 24 26 27 28 29 30 31 32 33 34 35 36\n",
      " 38 39 40 41 42 44 45 46 48 49], test: [ 0  1  5  6  7  8  9 11 12 15 16 20 25 37 43 47]\n"
     ]
    },
    {
     "name": "stderr",
     "output_type": "stream",
     "text": [
      "/Users/lakisha/opt/anaconda3/lib/python3.9/site-packages/sklearn/utils/validation.py:70: FutureWarning: Pass shuffle=True, random_state=1 as keyword args. From version 1.0 (renaming of 0.25) passing these as positional arguments will result in an error\n",
      "  warnings.warn(f\"Pass {args_msg} as keyword args. From version \"\n"
     ]
    }
   ],
   "source": [
    "kfold = KFold(3, True, 1)\n",
    "for train, test in kfold.split(x,y):\n",
    "    print('train: %s, test: %s' % (train,test))"
   ]
  },
  {
   "cell_type": "code",
   "execution_count": 22,
   "id": "36c77e1e",
   "metadata": {},
   "outputs": [
    {
     "name": "stdout",
     "output_type": "stream",
     "text": [
      "[-18.01982201 -12.39956035]\n"
     ]
    }
   ],
   "source": [
    "print(cross_val_score(lm, x,y, cv=2))"
   ]
  },
  {
   "cell_type": "markdown",
   "id": "ee3ba9bc",
   "metadata": {},
   "source": [
    "# Looking for k-Mean and Clusters"
   ]
  },
  {
   "cell_type": "code",
   "execution_count": 23,
   "id": "d2464236",
   "metadata": {},
   "outputs": [],
   "source": [
    "import pandas as pd\n",
    "import numpy as np\n",
    "import matplotlib.pyplot as plt\n",
    "import seaborn as sns\n",
    "%matplotlib inline\n",
    "from sklearn.cluster import KMeans"
   ]
  },
  {
   "cell_type": "markdown",
   "id": "7d6a8c91",
   "metadata": {},
   "source": [
    "# Perform a k-Mean"
   ]
  },
  {
   "cell_type": "code",
   "execution_count": 24,
   "id": "6af99f61",
   "metadata": {},
   "outputs": [
    {
     "data": {
      "text/plain": [
       "KMeans(n_clusters=3)"
      ]
     },
     "execution_count": 24,
     "metadata": {},
     "output_type": "execute_result"
    }
   ],
   "source": [
    "kmeans = KMeans(n_clusters=3)\n",
    "kmeans.fit(Precip1)"
   ]
  },
  {
   "cell_type": "code",
   "execution_count": 29,
   "id": "20e2653d",
   "metadata": {},
   "outputs": [
    {
     "data": {
      "text/html": [
       "<div>\n",
       "<style scoped>\n",
       "    .dataframe tbody tr th:only-of-type {\n",
       "        vertical-align: middle;\n",
       "    }\n",
       "\n",
       "    .dataframe tbody tr th {\n",
       "        vertical-align: top;\n",
       "    }\n",
       "\n",
       "    .dataframe thead th {\n",
       "        text-align: right;\n",
       "    }\n",
       "</style>\n",
       "<table border=\"1\" class=\"dataframe\">\n",
       "  <thead>\n",
       "    <tr style=\"text-align: right;\">\n",
       "      <th></th>\n",
       "      <th>State Number</th>\n",
       "      <th>January</th>\n",
       "      <th>February</th>\n",
       "      <th>March</th>\n",
       "      <th>April</th>\n",
       "      <th>May</th>\n",
       "      <th>June</th>\n",
       "      <th>July</th>\n",
       "      <th>Aug</th>\n",
       "      <th>Sep</th>\n",
       "      <th>October</th>\n",
       "      <th>November</th>\n",
       "      <th>December</th>\n",
       "    </tr>\n",
       "  </thead>\n",
       "  <tbody>\n",
       "    <tr>\n",
       "      <th>0</th>\n",
       "      <td>1</td>\n",
       "      <td>5.25</td>\n",
       "      <td>4.87</td>\n",
       "      <td>5.05</td>\n",
       "      <td>4.92</td>\n",
       "      <td>3.68</td>\n",
       "      <td>5.08</td>\n",
       "      <td>5.94</td>\n",
       "      <td>5.22</td>\n",
       "      <td>4.15</td>\n",
       "      <td>3.21</td>\n",
       "      <td>4.63</td>\n",
       "      <td>5.67</td>\n",
       "    </tr>\n",
       "    <tr>\n",
       "      <th>1</th>\n",
       "      <td>2</td>\n",
       "      <td>1.60</td>\n",
       "      <td>1.60</td>\n",
       "      <td>1.14</td>\n",
       "      <td>1.10</td>\n",
       "      <td>1.51</td>\n",
       "      <td>1.35</td>\n",
       "      <td>2.02</td>\n",
       "      <td>3.25</td>\n",
       "      <td>4.70</td>\n",
       "      <td>3.62</td>\n",
       "      <td>2.82</td>\n",
       "      <td>2.82</td>\n",
       "    </tr>\n",
       "    <tr>\n",
       "      <th>2</th>\n",
       "      <td>3</td>\n",
       "      <td>0.76</td>\n",
       "      <td>1.35</td>\n",
       "      <td>0.75</td>\n",
       "      <td>0.11</td>\n",
       "      <td>0.09</td>\n",
       "      <td>0.10</td>\n",
       "      <td>1.09</td>\n",
       "      <td>0.70</td>\n",
       "      <td>0.52</td>\n",
       "      <td>0.57</td>\n",
       "      <td>0.40</td>\n",
       "      <td>0.68</td>\n",
       "    </tr>\n",
       "    <tr>\n",
       "      <th>3</th>\n",
       "      <td>4</td>\n",
       "      <td>3.08</td>\n",
       "      <td>2.87</td>\n",
       "      <td>4.89</td>\n",
       "      <td>4.84</td>\n",
       "      <td>6.25</td>\n",
       "      <td>4.44</td>\n",
       "      <td>4.10</td>\n",
       "      <td>3.91</td>\n",
       "      <td>4.57</td>\n",
       "      <td>4.42</td>\n",
       "      <td>4.49</td>\n",
       "      <td>4.22</td>\n",
       "    </tr>\n",
       "    <tr>\n",
       "      <th>4</th>\n",
       "      <td>5</td>\n",
       "      <td>3.29</td>\n",
       "      <td>3.64</td>\n",
       "      <td>2.23</td>\n",
       "      <td>0.69</td>\n",
       "      <td>0.32</td>\n",
       "      <td>0.09</td>\n",
       "      <td>0.02</td>\n",
       "      <td>0.00</td>\n",
       "      <td>0.13</td>\n",
       "      <td>0.58</td>\n",
       "      <td>0.78</td>\n",
       "      <td>2.48</td>\n",
       "    </tr>\n",
       "  </tbody>\n",
       "</table>\n",
       "</div>"
      ],
      "text/plain": [
       "   State Number  January  February  March  April   May  June  July   Aug  \\\n",
       "0             1     5.25      4.87   5.05   4.92  3.68  5.08  5.94  5.22   \n",
       "1             2     1.60      1.60   1.14   1.10  1.51  1.35  2.02  3.25   \n",
       "2             3     0.76      1.35   0.75   0.11  0.09  0.10  1.09  0.70   \n",
       "3             4     3.08      2.87   4.89   4.84  6.25  4.44  4.10  3.91   \n",
       "4             5     3.29      3.64   2.23   0.69  0.32  0.09  0.02  0.00   \n",
       "\n",
       "    Sep  October  November  December  \n",
       "0  4.15     3.21      4.63      5.67  \n",
       "1  4.70     3.62      2.82      2.82  \n",
       "2  0.52     0.57      0.40      0.68  \n",
       "3  4.57     4.42      4.49      4.22  \n",
       "4  0.13     0.58      0.78      2.48  "
      ]
     },
     "execution_count": 29,
     "metadata": {},
     "output_type": "execute_result"
    }
   ],
   "source": [
    "Precip1.head()"
   ]
  },
  {
   "cell_type": "code",
   "execution_count": 34,
   "id": "54128dfb",
   "metadata": {},
   "outputs": [
    {
     "data": {
      "text/plain": [
       "<matplotlib.collections.PathCollection at 0x7f9ce011fe50>"
      ]
     },
     "execution_count": 34,
     "metadata": {},
     "output_type": "execute_result"
    },
    {
     "data": {
      "image/png": "[encoded data removed]",
      "text/plain": [
       "<Figure size 576x432 with 1 Axes>"
      ]
     },
     "metadata": {
      "needs_background": "light"
     },
     "output_type": "display_data"
    }
   ],
   "source": [
    "plt.figure(figsize=(8,6))\n",
    "plt.title('K Means')\n",
    "plt.scatter(Precip1['State Number'], Precip1['January'], Precip1['April'], c=kmeans.labels_, cmap='viridis')"
   ]
  },
  {
   "cell_type": "code",
   "execution_count": 35,
   "id": "45bc3b21",
   "metadata": {},
   "outputs": [
    {
     "data": {
      "text/plain": [
       "<matplotlib.collections.PathCollection at 0x7f9d20811e50>"
      ]
     },
     "execution_count": 35,
     "metadata": {},
     "output_type": "execute_result"
    },
    {
     "data": {
      "image/png": "[encoded data removed]",
      "text/plain": [
       "<Figure size 576x432 with 1 Axes>"
      ]
     },
     "metadata": {
      "needs_background": "light"
     },
     "output_type": "display_data"
    }
   ],
   "source": [
    "plt.figure(figsize=(8,6))\n",
    "plt.title('K Means')\n",
    "plt.scatter(Precip1['State Number'], Precip1['May'], Precip1['July'], c=kmeans.labels_, cmap='viridis')"
   ]
  },
  {
   "cell_type": "markdown",
   "id": "bc7403d9",
   "metadata": {},
   "source": [
    "# Adding Labels to Dataset"
   ]
  },
  {
   "cell_type": "code",
   "execution_count": 36,
   "id": "cb6ad451",
   "metadata": {},
   "outputs": [],
   "source": [
    "Precip1['Group'] = kmeans.labels_"
   ]
  },
  {
   "cell_type": "code",
   "execution_count": 37,
   "id": "c8da6925",
   "metadata": {},
   "outputs": [
    {
     "data": {
      "text/html": [
       "<div>\n",
       "<style scoped>\n",
       "    .dataframe tbody tr th:only-of-type {\n",
       "        vertical-align: middle;\n",
       "    }\n",
       "\n",
       "    .dataframe tbody tr th {\n",
       "        vertical-align: top;\n",
       "    }\n",
       "\n",
       "    .dataframe thead th {\n",
       "        text-align: right;\n",
       "    }\n",
       "</style>\n",
       "<table border=\"1\" class=\"dataframe\">\n",
       "  <thead>\n",
       "    <tr style=\"text-align: right;\">\n",
       "      <th></th>\n",
       "      <th>State Number</th>\n",
       "      <th>January</th>\n",
       "      <th>February</th>\n",
       "      <th>March</th>\n",
       "      <th>April</th>\n",
       "      <th>May</th>\n",
       "      <th>June</th>\n",
       "      <th>July</th>\n",
       "      <th>Aug</th>\n",
       "      <th>Sep</th>\n",
       "      <th>October</th>\n",
       "      <th>November</th>\n",
       "      <th>December</th>\n",
       "      <th>Group</th>\n",
       "    </tr>\n",
       "  </thead>\n",
       "  <tbody>\n",
       "    <tr>\n",
       "      <th>0</th>\n",
       "      <td>1</td>\n",
       "      <td>5.25</td>\n",
       "      <td>4.87</td>\n",
       "      <td>5.05</td>\n",
       "      <td>4.92</td>\n",
       "      <td>3.68</td>\n",
       "      <td>5.08</td>\n",
       "      <td>5.94</td>\n",
       "      <td>5.22</td>\n",
       "      <td>4.15</td>\n",
       "      <td>3.21</td>\n",
       "      <td>4.63</td>\n",
       "      <td>5.67</td>\n",
       "      <td>0</td>\n",
       "    </tr>\n",
       "    <tr>\n",
       "      <th>1</th>\n",
       "      <td>2</td>\n",
       "      <td>1.60</td>\n",
       "      <td>1.60</td>\n",
       "      <td>1.14</td>\n",
       "      <td>1.10</td>\n",
       "      <td>1.51</td>\n",
       "      <td>1.35</td>\n",
       "      <td>2.02</td>\n",
       "      <td>3.25</td>\n",
       "      <td>4.70</td>\n",
       "      <td>3.62</td>\n",
       "      <td>2.82</td>\n",
       "      <td>2.82</td>\n",
       "      <td>0</td>\n",
       "    </tr>\n",
       "    <tr>\n",
       "      <th>2</th>\n",
       "      <td>3</td>\n",
       "      <td>0.76</td>\n",
       "      <td>1.35</td>\n",
       "      <td>0.75</td>\n",
       "      <td>0.11</td>\n",
       "      <td>0.09</td>\n",
       "      <td>0.10</td>\n",
       "      <td>1.09</td>\n",
       "      <td>0.70</td>\n",
       "      <td>0.52</td>\n",
       "      <td>0.57</td>\n",
       "      <td>0.40</td>\n",
       "      <td>0.68</td>\n",
       "      <td>0</td>\n",
       "    </tr>\n",
       "    <tr>\n",
       "      <th>3</th>\n",
       "      <td>4</td>\n",
       "      <td>3.08</td>\n",
       "      <td>2.87</td>\n",
       "      <td>4.89</td>\n",
       "      <td>4.84</td>\n",
       "      <td>6.25</td>\n",
       "      <td>4.44</td>\n",
       "      <td>4.10</td>\n",
       "      <td>3.91</td>\n",
       "      <td>4.57</td>\n",
       "      <td>4.42</td>\n",
       "      <td>4.49</td>\n",
       "      <td>4.22</td>\n",
       "      <td>0</td>\n",
       "    </tr>\n",
       "    <tr>\n",
       "      <th>4</th>\n",
       "      <td>5</td>\n",
       "      <td>3.29</td>\n",
       "      <td>3.64</td>\n",
       "      <td>2.23</td>\n",
       "      <td>0.69</td>\n",
       "      <td>0.32</td>\n",
       "      <td>0.09</td>\n",
       "      <td>0.02</td>\n",
       "      <td>0.00</td>\n",
       "      <td>0.13</td>\n",
       "      <td>0.58</td>\n",
       "      <td>0.78</td>\n",
       "      <td>2.48</td>\n",
       "      <td>0</td>\n",
       "    </tr>\n",
       "  </tbody>\n",
       "</table>\n",
       "</div>"
      ],
      "text/plain": [
       "   State Number  January  February  March  April   May  June  July   Aug  \\\n",
       "0             1     5.25      4.87   5.05   4.92  3.68  5.08  5.94  5.22   \n",
       "1             2     1.60      1.60   1.14   1.10  1.51  1.35  2.02  3.25   \n",
       "2             3     0.76      1.35   0.75   0.11  0.09  0.10  1.09  0.70   \n",
       "3             4     3.08      2.87   4.89   4.84  6.25  4.44  4.10  3.91   \n",
       "4             5     3.29      3.64   2.23   0.69  0.32  0.09  0.02  0.00   \n",
       "\n",
       "    Sep  October  November  December  Group  \n",
       "0  4.15     3.21      4.63      5.67      0  \n",
       "1  4.70     3.62      2.82      2.82      0  \n",
       "2  0.52     0.57      0.40      0.68      0  \n",
       "3  4.57     4.42      4.49      4.22      0  \n",
       "4  0.13     0.58      0.78      2.48      0  "
      ]
     },
     "execution_count": 37,
     "metadata": {},
     "output_type": "execute_result"
    }
   ],
   "source": [
    "Precip1.head()"
   ]
  },
  {
   "cell_type": "markdown",
   "id": "97072d1f",
   "metadata": {},
   "source": [
    "# Investigate KMeans by groupby"
   ]
  },
  {
   "cell_type": "code",
   "execution_count": 39,
   "id": "3f7c3e72",
   "metadata": {},
   "outputs": [
    {
     "data": {
      "text/plain": [
       "Group\n",
       "0     8.000000\n",
       "1    40.500000\n",
       "2    23.176471\n",
       "Name: State Number, dtype: float64"
      ]
     },
     "execution_count": 39,
     "metadata": {},
     "output_type": "execute_result"
    }
   ],
   "source": [
    "\n",
    "Precip1.groupby('Group')['State Number'].mean()"
   ]
  },
  {
   "cell_type": "code",
   "execution_count": 40,
   "id": "c611872d",
   "metadata": {},
   "outputs": [
    {
     "data": {
      "text/plain": [
       "Group\n",
       "0    2.588667\n",
       "1    2.598333\n",
       "2    2.558824\n",
       "Name: January, dtype: float64"
      ]
     },
     "execution_count": 40,
     "metadata": {},
     "output_type": "execute_result"
    }
   ],
   "source": [
    "\n",
    "Precip1.groupby('Group')['January'].mean()"
   ]
  },
  {
   "cell_type": "code",
   "execution_count": 41,
   "id": "476ce0c3",
   "metadata": {},
   "outputs": [
    {
     "data": {
      "text/plain": [
       "Group\n",
       "0    2.876000\n",
       "1    3.206667\n",
       "2    3.478235\n",
       "Name: April, dtype: float64"
      ]
     },
     "execution_count": 41,
     "metadata": {},
     "output_type": "execute_result"
    }
   ],
   "source": [
    "Precip1.groupby('Group')['April'].mean()"
   ]
  },
  {
   "cell_type": "code",
   "execution_count": 42,
   "id": "7f6b3065",
   "metadata": {},
   "outputs": [
    {
     "data": {
      "text/plain": [
       "Group\n",
       "0    3.159333\n",
       "1    3.616111\n",
       "2    3.851765\n",
       "Name: May, dtype: float64"
      ]
     },
     "execution_count": 42,
     "metadata": {},
     "output_type": "execute_result"
    }
   ],
   "source": [
    "Precip1.groupby('Group')['May'].mean()"
   ]
  },
  {
   "cell_type": "code",
   "execution_count": 43,
   "id": "71d81895",
   "metadata": {},
   "outputs": [
    {
     "data": {
      "text/plain": [
       "Group\n",
       "0    3.278667\n",
       "1    3.493889\n",
       "2    4.043529\n",
       "Name: July, dtype: float64"
      ]
     },
     "execution_count": 43,
     "metadata": {},
     "output_type": "execute_result"
    }
   ],
   "source": [
    "Precip1.groupby('Group')['July'].mean()"
   ]
  },
  {
   "cell_type": "code",
   "execution_count": 44,
   "id": "5d82da2f",
   "metadata": {},
   "outputs": [
    {
     "data": {
      "text/plain": [
       "array([[ 8.        ,  2.58866667,  2.482     ,  2.902     ,  2.876     ,\n",
       "         3.15933333,  3.404     ,  3.27866667,  3.218     ,  3.252     ,\n",
       "         2.97733333,  2.67533333,  2.88066667],\n",
       "       [40.5       ,  2.59833333,  2.40888889,  3.04222222,  3.20666667,\n",
       "         3.61611111,  3.74833333,  3.49388889,  3.28888889,  3.13388889,\n",
       "         3.20444444,  2.73166667,  3.00888889],\n",
       "       [23.17647059,  2.55882353,  2.36941176,  3.14705882,  3.47823529,\n",
       "         3.85176471,  4.23941176,  4.04352941,  3.73176471,  3.37882353,\n",
       "         3.21470588,  2.73588235,  2.84294118]])"
      ]
     },
     "execution_count": 44,
     "metadata": {},
     "output_type": "execute_result"
    }
   ],
   "source": [
    "kmeans.cluster_centers_"
   ]
  },
  {
   "cell_type": "markdown",
   "id": "bcbe2591",
   "metadata": {},
   "source": [
    "# Decision Trees"
   ]
  },
  {
   "cell_type": "code",
   "execution_count": 45,
   "id": "401158aa",
   "metadata": {},
   "outputs": [],
   "source": [
    "\n",
    "import pandas as pd\n",
    "import numpy as np\n",
    "import matplotlib.pyplot as plt\n",
    "import seaborn as sns\n",
    "%matplotlib inline\n",
    "from sklearn.model_selection import train_test_split\n",
    "from sklearn.tree import DecisionTreeClassifier\n",
    "from sklearn.metrics import classification_report, confusion_matrix, accuracy_score"
   ]
  },
  {
   "cell_type": "code",
   "execution_count": 46,
   "id": "7fb86ad1",
   "metadata": {},
   "outputs": [
    {
     "data": {
      "text/html": [
       "<div>\n",
       "<style scoped>\n",
       "    .dataframe tbody tr th:only-of-type {\n",
       "        vertical-align: middle;\n",
       "    }\n",
       "\n",
       "    .dataframe tbody tr th {\n",
       "        vertical-align: top;\n",
       "    }\n",
       "\n",
       "    .dataframe thead th {\n",
       "        text-align: right;\n",
       "    }\n",
       "</style>\n",
       "<table border=\"1\" class=\"dataframe\">\n",
       "  <thead>\n",
       "    <tr style=\"text-align: right;\">\n",
       "      <th></th>\n",
       "      <th>State Number</th>\n",
       "      <th>States</th>\n",
       "      <th>January</th>\n",
       "      <th>February</th>\n",
       "      <th>March</th>\n",
       "      <th>April</th>\n",
       "      <th>May</th>\n",
       "      <th>June</th>\n",
       "      <th>July</th>\n",
       "      <th>Aug</th>\n",
       "      <th>Sep</th>\n",
       "      <th>October</th>\n",
       "      <th>November</th>\n",
       "      <th>December</th>\n",
       "    </tr>\n",
       "  </thead>\n",
       "  <tbody>\n",
       "    <tr>\n",
       "      <th>0</th>\n",
       "      <td>1</td>\n",
       "      <td>Alabama</td>\n",
       "      <td>5.25</td>\n",
       "      <td>4.87</td>\n",
       "      <td>5.05</td>\n",
       "      <td>4.92</td>\n",
       "      <td>3.68</td>\n",
       "      <td>5.08</td>\n",
       "      <td>5.94</td>\n",
       "      <td>5.22</td>\n",
       "      <td>4.15</td>\n",
       "      <td>3.21</td>\n",
       "      <td>4.63</td>\n",
       "      <td>5.67</td>\n",
       "    </tr>\n",
       "    <tr>\n",
       "      <th>1</th>\n",
       "      <td>2</td>\n",
       "      <td>Alaska</td>\n",
       "      <td>1.60</td>\n",
       "      <td>1.60</td>\n",
       "      <td>1.14</td>\n",
       "      <td>1.10</td>\n",
       "      <td>1.51</td>\n",
       "      <td>1.35</td>\n",
       "      <td>2.02</td>\n",
       "      <td>3.25</td>\n",
       "      <td>4.70</td>\n",
       "      <td>3.62</td>\n",
       "      <td>2.82</td>\n",
       "      <td>2.82</td>\n",
       "    </tr>\n",
       "    <tr>\n",
       "      <th>2</th>\n",
       "      <td>3</td>\n",
       "      <td>Arizona</td>\n",
       "      <td>0.76</td>\n",
       "      <td>1.35</td>\n",
       "      <td>0.75</td>\n",
       "      <td>0.11</td>\n",
       "      <td>0.09</td>\n",
       "      <td>0.10</td>\n",
       "      <td>1.09</td>\n",
       "      <td>0.70</td>\n",
       "      <td>0.52</td>\n",
       "      <td>0.57</td>\n",
       "      <td>0.40</td>\n",
       "      <td>0.68</td>\n",
       "    </tr>\n",
       "    <tr>\n",
       "      <th>3</th>\n",
       "      <td>4</td>\n",
       "      <td>Arkansas</td>\n",
       "      <td>3.08</td>\n",
       "      <td>2.87</td>\n",
       "      <td>4.89</td>\n",
       "      <td>4.84</td>\n",
       "      <td>6.25</td>\n",
       "      <td>4.44</td>\n",
       "      <td>4.10</td>\n",
       "      <td>3.91</td>\n",
       "      <td>4.57</td>\n",
       "      <td>4.42</td>\n",
       "      <td>4.49</td>\n",
       "      <td>4.22</td>\n",
       "    </tr>\n",
       "    <tr>\n",
       "      <th>4</th>\n",
       "      <td>5</td>\n",
       "      <td>California</td>\n",
       "      <td>3.29</td>\n",
       "      <td>3.64</td>\n",
       "      <td>2.23</td>\n",
       "      <td>0.69</td>\n",
       "      <td>0.32</td>\n",
       "      <td>0.09</td>\n",
       "      <td>0.02</td>\n",
       "      <td>0.00</td>\n",
       "      <td>0.13</td>\n",
       "      <td>0.58</td>\n",
       "      <td>0.78</td>\n",
       "      <td>2.48</td>\n",
       "    </tr>\n",
       "  </tbody>\n",
       "</table>\n",
       "</div>"
      ],
      "text/plain": [
       "   State Number      States  January  February  March  April   May  June  \\\n",
       "0             1     Alabama     5.25      4.87   5.05   4.92  3.68  5.08   \n",
       "1             2      Alaska     1.60      1.60   1.14   1.10  1.51  1.35   \n",
       "2             3     Arizona     0.76      1.35   0.75   0.11  0.09  0.10   \n",
       "3             4    Arkansas     3.08      2.87   4.89   4.84  6.25  4.44   \n",
       "4             5  California     3.29      3.64   2.23   0.69  0.32  0.09   \n",
       "\n",
       "   July   Aug   Sep  October  November  December  \n",
       "0  5.94  5.22  4.15     3.21      4.63      5.67  \n",
       "1  2.02  3.25  4.70     3.62      2.82      2.82  \n",
       "2  1.09  0.70  0.52     0.57      0.40      0.68  \n",
       "3  4.10  3.91  4.57     4.42      4.49      4.22  \n",
       "4  0.02  0.00  0.13     0.58      0.78      2.48  "
      ]
     },
     "execution_count": 46,
     "metadata": {},
     "output_type": "execute_result"
    }
   ],
   "source": [
    "Precip.head()"
   ]
  },
  {
   "cell_type": "markdown",
   "id": "bf624ac2",
   "metadata": {},
   "source": [
    "# Wrangling Data"
   ]
  },
  {
   "cell_type": "code",
   "execution_count": 50,
   "id": "7ed4ed36",
   "metadata": {},
   "outputs": [
    {
     "data": {
      "text/html": [
       "<div>\n",
       "<style scoped>\n",
       "    .dataframe tbody tr th:only-of-type {\n",
       "        vertical-align: middle;\n",
       "    }\n",
       "\n",
       "    .dataframe tbody tr th {\n",
       "        vertical-align: top;\n",
       "    }\n",
       "\n",
       "    .dataframe thead th {\n",
       "        text-align: right;\n",
       "    }\n",
       "</style>\n",
       "<table border=\"1\" class=\"dataframe\">\n",
       "  <thead>\n",
       "    <tr style=\"text-align: right;\">\n",
       "      <th></th>\n",
       "      <th>State Number</th>\n",
       "      <th>January</th>\n",
       "      <th>February</th>\n",
       "      <th>March</th>\n",
       "      <th>April</th>\n",
       "      <th>May</th>\n",
       "      <th>June</th>\n",
       "      <th>July</th>\n",
       "      <th>Aug</th>\n",
       "      <th>Sep</th>\n",
       "      <th>October</th>\n",
       "      <th>November</th>\n",
       "      <th>December</th>\n",
       "    </tr>\n",
       "  </thead>\n",
       "  <tbody>\n",
       "    <tr>\n",
       "      <th>0</th>\n",
       "      <td>1</td>\n",
       "      <td>5.25</td>\n",
       "      <td>4.87</td>\n",
       "      <td>5.05</td>\n",
       "      <td>4.92</td>\n",
       "      <td>3.68</td>\n",
       "      <td>5.08</td>\n",
       "      <td>5.94</td>\n",
       "      <td>5.22</td>\n",
       "      <td>4.15</td>\n",
       "      <td>3.21</td>\n",
       "      <td>4.63</td>\n",
       "      <td>5.67</td>\n",
       "    </tr>\n",
       "    <tr>\n",
       "      <th>1</th>\n",
       "      <td>2</td>\n",
       "      <td>1.60</td>\n",
       "      <td>1.60</td>\n",
       "      <td>1.14</td>\n",
       "      <td>1.10</td>\n",
       "      <td>1.51</td>\n",
       "      <td>1.35</td>\n",
       "      <td>2.02</td>\n",
       "      <td>3.25</td>\n",
       "      <td>4.70</td>\n",
       "      <td>3.62</td>\n",
       "      <td>2.82</td>\n",
       "      <td>2.82</td>\n",
       "    </tr>\n",
       "    <tr>\n",
       "      <th>2</th>\n",
       "      <td>3</td>\n",
       "      <td>0.76</td>\n",
       "      <td>1.35</td>\n",
       "      <td>0.75</td>\n",
       "      <td>0.11</td>\n",
       "      <td>0.09</td>\n",
       "      <td>0.10</td>\n",
       "      <td>1.09</td>\n",
       "      <td>0.70</td>\n",
       "      <td>0.52</td>\n",
       "      <td>0.57</td>\n",
       "      <td>0.40</td>\n",
       "      <td>0.68</td>\n",
       "    </tr>\n",
       "    <tr>\n",
       "      <th>3</th>\n",
       "      <td>4</td>\n",
       "      <td>3.08</td>\n",
       "      <td>2.87</td>\n",
       "      <td>4.89</td>\n",
       "      <td>4.84</td>\n",
       "      <td>6.25</td>\n",
       "      <td>4.44</td>\n",
       "      <td>4.10</td>\n",
       "      <td>3.91</td>\n",
       "      <td>4.57</td>\n",
       "      <td>4.42</td>\n",
       "      <td>4.49</td>\n",
       "      <td>4.22</td>\n",
       "    </tr>\n",
       "    <tr>\n",
       "      <th>4</th>\n",
       "      <td>5</td>\n",
       "      <td>3.29</td>\n",
       "      <td>3.64</td>\n",
       "      <td>2.23</td>\n",
       "      <td>0.69</td>\n",
       "      <td>0.32</td>\n",
       "      <td>0.09</td>\n",
       "      <td>0.02</td>\n",
       "      <td>0.00</td>\n",
       "      <td>0.13</td>\n",
       "      <td>0.58</td>\n",
       "      <td>0.78</td>\n",
       "      <td>2.48</td>\n",
       "    </tr>\n",
       "  </tbody>\n",
       "</table>\n",
       "</div>"
      ],
      "text/plain": [
       "   State Number  January  February  March  April   May  June  July   Aug  \\\n",
       "0             1     5.25      4.87   5.05   4.92  3.68  5.08  5.94  5.22   \n",
       "1             2     1.60      1.60   1.14   1.10  1.51  1.35  2.02  3.25   \n",
       "2             3     0.76      1.35   0.75   0.11  0.09  0.10  1.09  0.70   \n",
       "3             4     3.08      2.87   4.89   4.84  6.25  4.44  4.10  3.91   \n",
       "4             5     3.29      3.64   2.23   0.69  0.32  0.09  0.02  0.00   \n",
       "\n",
       "    Sep  October  November  December  \n",
       "0  4.15     3.21      4.63      5.67  \n",
       "1  4.70     3.62      2.82      2.82  \n",
       "2  0.52     0.57      0.40      0.68  \n",
       "3  4.57     4.42      4.49      4.22  \n",
       "4  0.13     0.58      0.78      2.48  "
      ]
     },
     "execution_count": 50,
     "metadata": {},
     "output_type": "execute_result"
    }
   ],
   "source": [
    "Precip2 = Precip.drop(['States'], axis=1)\n",
    "Precip2.head()"
   ]
  },
  {
   "cell_type": "code",
   "execution_count": 51,
   "id": "849537ca",
   "metadata": {},
   "outputs": [],
   "source": [
    "x = Precip2.drop('State Number', axis=1)\n",
    "y = Precip2['State Number']"
   ]
  },
  {
   "cell_type": "markdown",
   "id": "88c544de",
   "metadata": {},
   "source": [
    "# Train Test Split"
   ]
  },
  {
   "cell_type": "code",
   "execution_count": 52,
   "id": "4555e588",
   "metadata": {},
   "outputs": [],
   "source": [
    "x_train, x_test, y_train, y_test = train_test_split(x,y, test_size=0.3, random_state=76)"
   ]
  },
  {
   "cell_type": "markdown",
   "id": "9163919a",
   "metadata": {},
   "source": [
    "# Creating an initial Decision Tree"
   ]
  },
  {
   "cell_type": "code",
   "execution_count": 53,
   "id": "7d94514a",
   "metadata": {},
   "outputs": [
    {
     "data": {
      "text/plain": [
       "DecisionTreeClassifier(random_state=76)"
      ]
     },
     "execution_count": 53,
     "metadata": {},
     "output_type": "execute_result"
    }
   ],
   "source": [
    "decisionTree = DecisionTreeClassifier(random_state=76)\n",
    "decisionTree.fit(x_train, y_train)"
   ]
  },
  {
   "cell_type": "markdown",
   "id": "93438fb3",
   "metadata": {},
   "source": [
    "# Assessing the model"
   ]
  },
  {
   "cell_type": "code",
   "execution_count": 54,
   "id": "f4b676db",
   "metadata": {},
   "outputs": [
    {
     "name": "stdout",
     "output_type": "stream",
     "text": [
      "[[0 0 0 0 0 0 0 0 0 0 0 0 0 0 0 0 0 0 0 0 0 0 0 0 0 0]\n",
      " [0 0 0 0 0 0 1 0 0 0 0 0 0 0 0 0 0 0 0 0 0 0 0 0 0 0]\n",
      " [0 0 0 0 0 0 0 0 0 0 0 0 0 0 0 0 0 0 0 0 0 0 0 0 0 0]\n",
      " [0 0 0 0 0 0 0 0 0 0 0 0 0 0 0 0 0 0 0 1 0 0 0 0 0 0]\n",
      " [0 0 0 0 0 0 0 0 0 0 0 0 0 0 0 0 0 1 0 0 0 0 0 0 0 0]\n",
      " [0 0 0 0 0 0 0 0 0 0 0 0 0 0 0 0 0 0 0 0 0 0 0 0 1 0]\n",
      " [0 0 0 0 0 0 0 0 0 0 0 0 0 0 0 0 0 0 0 0 0 0 0 0 0 0]\n",
      " [0 0 0 0 0 0 0 0 0 0 0 0 0 0 0 0 0 0 0 0 0 0 0 0 0 0]\n",
      " [0 0 0 0 0 0 1 0 0 0 0 0 0 0 0 0 0 0 0 0 0 0 0 0 0 0]\n",
      " [0 0 0 0 0 0 1 0 0 0 0 0 0 0 0 0 0 0 0 0 0 0 0 0 0 0]\n",
      " [0 0 0 0 0 0 0 0 0 0 0 0 0 0 0 0 0 0 0 0 0 0 0 0 0 0]\n",
      " [0 0 0 0 0 0 0 0 0 0 0 0 0 0 0 0 0 0 0 0 0 0 0 0 0 0]\n",
      " [0 0 0 0 0 0 0 0 0 0 0 0 0 0 0 0 0 1 0 0 0 0 0 0 0 0]\n",
      " [0 0 0 0 0 0 0 0 0 0 0 1 0 0 0 0 0 0 0 0 0 0 0 0 0 0]\n",
      " [0 0 0 0 0 0 0 1 0 0 0 0 0 0 0 0 0 0 0 0 0 0 0 0 0 0]\n",
      " [0 0 0 0 0 0 0 0 0 0 0 0 0 0 0 0 0 0 0 0 0 0 0 0 0 0]\n",
      " [0 0 0 0 0 0 0 0 0 0 0 0 0 0 0 0 0 0 0 0 0 1 0 0 0 0]\n",
      " [0 0 0 0 0 0 0 0 0 0 0 0 0 0 0 0 0 0 0 0 0 0 0 0 0 0]\n",
      " [0 0 1 0 0 0 0 0 0 0 0 0 0 0 0 0 0 0 0 0 0 0 0 0 0 0]\n",
      " [0 0 0 0 0 0 0 0 0 0 0 0 0 0 0 0 0 0 0 0 0 0 0 0 0 0]\n",
      " [1 0 0 0 0 0 0 0 0 0 0 0 0 0 0 0 0 0 0 0 0 0 0 0 0 0]\n",
      " [0 0 0 0 0 0 0 0 0 0 0 0 0 0 0 0 0 0 0 0 0 0 0 0 0 0]\n",
      " [0 0 0 0 0 0 0 0 0 0 1 0 0 0 0 0 0 0 0 0 0 0 0 0 0 0]\n",
      " [0 0 0 0 0 0 0 0 0 0 0 0 0 0 0 0 0 0 0 0 0 0 0 0 1 0]\n",
      " [0 0 0 0 0 0 0 0 0 0 0 0 0 0 0 0 0 0 0 0 0 0 0 0 0 0]\n",
      " [0 0 0 0 0 0 0 0 0 0 0 0 0 0 0 1 0 0 0 0 0 0 0 0 0 0]]\n",
      "              precision    recall  f1-score   support\n",
      "\n",
      "           1       0.00      0.00      0.00       0.0\n",
      "           4       0.00      0.00      0.00       1.0\n",
      "           8       0.00      0.00      0.00       0.0\n",
      "          10       0.00      0.00      0.00       1.0\n",
      "          11       0.00      0.00      0.00       1.0\n",
      "          15       0.00      0.00      0.00       1.0\n",
      "          18       0.00      0.00      0.00       0.0\n",
      "          19       0.00      0.00      0.00       0.0\n",
      "          23       0.00      0.00      0.00       1.0\n",
      "          24       0.00      0.00      0.00       1.0\n",
      "          28       0.00      0.00      0.00       0.0\n",
      "          29       0.00      0.00      0.00       0.0\n",
      "          30       0.00      0.00      0.00       1.0\n",
      "          31       0.00      0.00      0.00       1.0\n",
      "          32       0.00      0.00      0.00       1.0\n",
      "          33       0.00      0.00      0.00       0.0\n",
      "          35       0.00      0.00      0.00       1.0\n",
      "          36       0.00      0.00      0.00       0.0\n",
      "          37       0.00      0.00      0.00       1.0\n",
      "          38       0.00      0.00      0.00       0.0\n",
      "          41       0.00      0.00      0.00       1.0\n",
      "          44       0.00      0.00      0.00       0.0\n",
      "          45       0.00      0.00      0.00       1.0\n",
      "          47       0.00      0.00      0.00       1.0\n",
      "          48       0.00      0.00      0.00       0.0\n",
      "          49       0.00      0.00      0.00       1.0\n",
      "\n",
      "    accuracy                           0.00      15.0\n",
      "   macro avg       0.00      0.00      0.00      15.0\n",
      "weighted avg       0.00      0.00      0.00      15.0\n",
      "\n"
     ]
    },
    {
     "name": "stderr",
     "output_type": "stream",
     "text": [
      "/Users/lakisha/opt/anaconda3/lib/python3.9/site-packages/sklearn/metrics/_classification.py:1248: UndefinedMetricWarning: Precision and F-score are ill-defined and being set to 0.0 in labels with no predicted samples. Use `zero_division` parameter to control this behavior.\n",
      "  _warn_prf(average, modifier, msg_start, len(result))\n",
      "/Users/lakisha/opt/anaconda3/lib/python3.9/site-packages/sklearn/metrics/_classification.py:1248: UndefinedMetricWarning: Recall and F-score are ill-defined and being set to 0.0 in labels with no true samples. Use `zero_division` parameter to control this behavior.\n",
      "  _warn_prf(average, modifier, msg_start, len(result))\n",
      "/Users/lakisha/opt/anaconda3/lib/python3.9/site-packages/sklearn/metrics/_classification.py:1248: UndefinedMetricWarning: Precision and F-score are ill-defined and being set to 0.0 in labels with no predicted samples. Use `zero_division` parameter to control this behavior.\n",
      "  _warn_prf(average, modifier, msg_start, len(result))\n",
      "/Users/lakisha/opt/anaconda3/lib/python3.9/site-packages/sklearn/metrics/_classification.py:1248: UndefinedMetricWarning: Recall and F-score are ill-defined and being set to 0.0 in labels with no true samples. Use `zero_division` parameter to control this behavior.\n",
      "  _warn_prf(average, modifier, msg_start, len(result))\n",
      "/Users/lakisha/opt/anaconda3/lib/python3.9/site-packages/sklearn/metrics/_classification.py:1248: UndefinedMetricWarning: Precision and F-score are ill-defined and being set to 0.0 in labels with no predicted samples. Use `zero_division` parameter to control this behavior.\n",
      "  _warn_prf(average, modifier, msg_start, len(result))\n",
      "/Users/lakisha/opt/anaconda3/lib/python3.9/site-packages/sklearn/metrics/_classification.py:1248: UndefinedMetricWarning: Recall and F-score are ill-defined and being set to 0.0 in labels with no true samples. Use `zero_division` parameter to control this behavior.\n",
      "  _warn_prf(average, modifier, msg_start, len(result))\n"
     ]
    }
   ],
   "source": [
    "treePredictions = decisionTree.predict(x_test)\n",
    "from sklearn.metrics import classification_report,confusion_matrix\n",
    "print(confusion_matrix(y_test,treePredictions))\n",
    "print(classification_report(y_test,treePredictions))"
   ]
  },
  {
   "cell_type": "markdown",
   "id": "3676d222",
   "metadata": {},
   "source": [
    "# Random Forest"
   ]
  },
  {
   "cell_type": "code",
   "execution_count": 55,
   "id": "83ae8edf",
   "metadata": {},
   "outputs": [],
   "source": [
    "import pandas as pd\n",
    "import numpy as np\n",
    "import matplotlib.pyplot as plt\n",
    "import seaborn as sns\n",
    "%matplotlib inline\n",
    "from sklearn.ensemble import RandomForestClassifier\n",
    "from sklearn.model_selection import train_test_split\n",
    "from sklearn.metrics import classification_report, confusion_matrix"
   ]
  },
  {
   "cell_type": "markdown",
   "id": "10f86fef",
   "metadata": {},
   "source": [
    "# Wrangle Data"
   ]
  },
  {
   "cell_type": "code",
   "execution_count": 56,
   "id": "2caeec45",
   "metadata": {},
   "outputs": [
    {
     "data": {
      "text/html": [
       "<div>\n",
       "<style scoped>\n",
       "    .dataframe tbody tr th:only-of-type {\n",
       "        vertical-align: middle;\n",
       "    }\n",
       "\n",
       "    .dataframe tbody tr th {\n",
       "        vertical-align: top;\n",
       "    }\n",
       "\n",
       "    .dataframe thead th {\n",
       "        text-align: right;\n",
       "    }\n",
       "</style>\n",
       "<table border=\"1\" class=\"dataframe\">\n",
       "  <thead>\n",
       "    <tr style=\"text-align: right;\">\n",
       "      <th></th>\n",
       "      <th>State Number</th>\n",
       "      <th>January</th>\n",
       "      <th>February</th>\n",
       "      <th>March</th>\n",
       "      <th>April</th>\n",
       "      <th>May</th>\n",
       "      <th>June</th>\n",
       "      <th>July</th>\n",
       "      <th>Aug</th>\n",
       "      <th>Sep</th>\n",
       "      <th>October</th>\n",
       "      <th>November</th>\n",
       "      <th>December</th>\n",
       "    </tr>\n",
       "  </thead>\n",
       "  <tbody>\n",
       "    <tr>\n",
       "      <th>0</th>\n",
       "      <td>1</td>\n",
       "      <td>5.25</td>\n",
       "      <td>4.87</td>\n",
       "      <td>5.05</td>\n",
       "      <td>4.92</td>\n",
       "      <td>3.68</td>\n",
       "      <td>5.08</td>\n",
       "      <td>5.94</td>\n",
       "      <td>5.22</td>\n",
       "      <td>4.15</td>\n",
       "      <td>3.21</td>\n",
       "      <td>4.63</td>\n",
       "      <td>5.67</td>\n",
       "    </tr>\n",
       "    <tr>\n",
       "      <th>1</th>\n",
       "      <td>2</td>\n",
       "      <td>1.60</td>\n",
       "      <td>1.60</td>\n",
       "      <td>1.14</td>\n",
       "      <td>1.10</td>\n",
       "      <td>1.51</td>\n",
       "      <td>1.35</td>\n",
       "      <td>2.02</td>\n",
       "      <td>3.25</td>\n",
       "      <td>4.70</td>\n",
       "      <td>3.62</td>\n",
       "      <td>2.82</td>\n",
       "      <td>2.82</td>\n",
       "    </tr>\n",
       "    <tr>\n",
       "      <th>2</th>\n",
       "      <td>3</td>\n",
       "      <td>0.76</td>\n",
       "      <td>1.35</td>\n",
       "      <td>0.75</td>\n",
       "      <td>0.11</td>\n",
       "      <td>0.09</td>\n",
       "      <td>0.10</td>\n",
       "      <td>1.09</td>\n",
       "      <td>0.70</td>\n",
       "      <td>0.52</td>\n",
       "      <td>0.57</td>\n",
       "      <td>0.40</td>\n",
       "      <td>0.68</td>\n",
       "    </tr>\n",
       "    <tr>\n",
       "      <th>3</th>\n",
       "      <td>4</td>\n",
       "      <td>3.08</td>\n",
       "      <td>2.87</td>\n",
       "      <td>4.89</td>\n",
       "      <td>4.84</td>\n",
       "      <td>6.25</td>\n",
       "      <td>4.44</td>\n",
       "      <td>4.10</td>\n",
       "      <td>3.91</td>\n",
       "      <td>4.57</td>\n",
       "      <td>4.42</td>\n",
       "      <td>4.49</td>\n",
       "      <td>4.22</td>\n",
       "    </tr>\n",
       "    <tr>\n",
       "      <th>4</th>\n",
       "      <td>5</td>\n",
       "      <td>3.29</td>\n",
       "      <td>3.64</td>\n",
       "      <td>2.23</td>\n",
       "      <td>0.69</td>\n",
       "      <td>0.32</td>\n",
       "      <td>0.09</td>\n",
       "      <td>0.02</td>\n",
       "      <td>0.00</td>\n",
       "      <td>0.13</td>\n",
       "      <td>0.58</td>\n",
       "      <td>0.78</td>\n",
       "      <td>2.48</td>\n",
       "    </tr>\n",
       "  </tbody>\n",
       "</table>\n",
       "</div>"
      ],
      "text/plain": [
       "   State Number  January  February  March  April   May  June  July   Aug  \\\n",
       "0             1     5.25      4.87   5.05   4.92  3.68  5.08  5.94  5.22   \n",
       "1             2     1.60      1.60   1.14   1.10  1.51  1.35  2.02  3.25   \n",
       "2             3     0.76      1.35   0.75   0.11  0.09  0.10  1.09  0.70   \n",
       "3             4     3.08      2.87   4.89   4.84  6.25  4.44  4.10  3.91   \n",
       "4             5     3.29      3.64   2.23   0.69  0.32  0.09  0.02  0.00   \n",
       "\n",
       "    Sep  October  November  December  \n",
       "0  4.15     3.21      4.63      5.67  \n",
       "1  4.70     3.62      2.82      2.82  \n",
       "2  0.52     0.57      0.40      0.68  \n",
       "3  4.57     4.42      4.49      4.22  \n",
       "4  0.13     0.58      0.78      2.48  "
      ]
     },
     "execution_count": 56,
     "metadata": {},
     "output_type": "execute_result"
    }
   ],
   "source": [
    "Precip2 = Precip.drop(['States'], axis=1)\n",
    "Precip2.head()"
   ]
  },
  {
   "cell_type": "markdown",
   "id": "8f120c43",
   "metadata": {},
   "source": [
    "# Train Test Split"
   ]
  },
  {
   "cell_type": "code",
   "execution_count": 57,
   "id": "235ee8c7",
   "metadata": {},
   "outputs": [],
   "source": [
    "x_train, x_test, y_train, y_test = train_test_split(x,y, test_size=0.3, random_state=76)"
   ]
  },
  {
   "cell_type": "markdown",
   "id": "23933d7b",
   "metadata": {},
   "source": [
    "# Initial Random Forest Model"
   ]
  },
  {
   "cell_type": "code",
   "execution_count": 58,
   "id": "a97897cd",
   "metadata": {},
   "outputs": [
    {
     "data": {
      "text/plain": [
       "RandomForestClassifier(n_estimators=10, random_state=76)"
      ]
     },
     "execution_count": 58,
     "metadata": {},
     "output_type": "execute_result"
    }
   ],
   "source": [
    "forest = RandomForestClassifier(n_estimators=10, random_state=76)\n",
    "forest.fit(x_train, y_train)"
   ]
  },
  {
   "cell_type": "markdown",
   "id": "c7d6e761",
   "metadata": {},
   "source": [
    "# Evaluate Model Fit"
   ]
  },
  {
   "cell_type": "code",
   "execution_count": 59,
   "id": "c12b298e",
   "metadata": {},
   "outputs": [
    {
     "name": "stdout",
     "output_type": "stream",
     "text": [
      "[[0 0 0 0 0 0 0 0 0 0 0 0 0 0 0 0 0 0 0 0 0 0 0 0 0 0 0]\n",
      " [0 0 0 0 0 0 0 0 0 0 1 0 0 0 0 0 0 0 0 0 0 0 0 0 0 0 0]\n",
      " [0 0 0 0 0 0 0 0 0 0 0 0 0 0 0 0 0 0 0 0 0 0 0 0 0 0 0]\n",
      " [0 0 0 0 0 0 0 0 0 0 0 0 1 0 0 0 0 0 0 0 0 0 0 0 0 0 0]\n",
      " [0 0 0 0 0 1 0 0 0 0 0 0 0 0 0 0 0 0 0 0 0 0 0 0 0 0 0]\n",
      " [0 0 0 0 0 0 0 0 0 0 0 0 0 0 0 0 0 0 0 0 0 0 0 0 0 0 0]\n",
      " [0 0 0 0 0 0 0 0 0 0 0 0 0 0 0 0 0 0 0 0 0 0 0 0 0 0 0]\n",
      " [0 0 0 0 0 0 0 0 0 0 0 0 0 0 0 0 0 0 0 0 0 0 0 0 0 0 0]\n",
      " [0 0 0 0 0 0 0 0 0 0 0 0 0 0 0 0 0 0 0 0 0 0 0 0 0 1 0]\n",
      " [0 0 0 0 0 0 0 0 0 0 0 0 0 0 0 0 0 0 0 0 0 0 0 0 0 0 0]\n",
      " [0 0 0 0 0 0 0 0 0 0 0 0 0 0 0 0 0 0 0 0 0 0 0 0 0 0 0]\n",
      " [0 0 0 0 0 0 0 0 0 0 0 0 0 0 0 0 0 0 0 0 0 0 0 0 0 0 0]\n",
      " [0 0 0 0 0 0 0 0 0 0 0 0 0 0 0 0 0 0 0 0 0 0 0 0 0 0 0]\n",
      " [0 0 0 0 0 0 0 0 0 0 1 0 0 0 0 0 0 0 0 0 0 0 0 0 0 0 0]\n",
      " [0 0 0 0 0 0 0 0 0 0 1 0 0 0 0 0 0 0 0 0 0 0 0 0 0 0 0]\n",
      " [0 0 0 0 0 0 0 0 0 0 0 0 0 0 0 0 0 0 0 0 1 0 0 0 0 0 0]\n",
      " [0 0 1 0 0 0 0 0 0 0 0 0 0 0 0 0 0 0 0 0 0 0 0 0 0 0 0]\n",
      " [0 0 0 0 0 0 0 0 0 1 0 0 0 0 0 0 0 0 0 0 0 0 0 0 0 0 0]\n",
      " [0 0 0 0 0 0 0 0 0 0 0 0 0 0 0 0 0 0 0 0 0 0 0 0 0 0 0]\n",
      " [0 0 0 0 0 0 1 0 0 0 0 0 0 0 0 0 0 0 0 0 0 0 0 0 0 0 0]\n",
      " [0 0 0 0 0 0 0 0 0 0 0 0 0 0 0 0 0 0 0 0 0 0 0 0 0 0 0]\n",
      " [0 0 1 0 0 0 0 0 0 0 0 0 0 0 0 0 0 0 0 0 0 0 0 0 0 0 0]\n",
      " [1 0 0 0 0 0 0 0 0 0 0 0 0 0 0 0 0 0 0 0 0 0 0 0 0 0 0]\n",
      " [0 0 0 0 0 0 0 0 0 0 0 1 0 0 0 0 0 0 0 0 0 0 0 0 0 0 0]\n",
      " [0 0 0 0 0 0 0 1 0 0 0 0 0 0 0 0 0 0 0 0 0 0 0 0 0 0 0]\n",
      " [0 0 0 0 0 0 0 0 0 0 0 0 0 0 0 0 0 0 0 0 0 0 0 0 0 0 0]\n",
      " [0 0 0 0 0 0 0 0 0 0 0 0 0 0 0 0 0 0 1 0 0 0 0 0 0 0 0]]\n",
      "              precision    recall  f1-score   support\n",
      "\n",
      "           1       0.00      0.00      0.00       0.0\n",
      "           4       0.00      0.00      0.00       1.0\n",
      "           8       0.00      0.00      0.00       0.0\n",
      "          10       0.00      0.00      0.00       1.0\n",
      "          11       0.00      0.00      0.00       1.0\n",
      "          12       0.00      0.00      0.00       0.0\n",
      "          13       0.00      0.00      0.00       0.0\n",
      "          14       0.00      0.00      0.00       0.0\n",
      "          15       0.00      0.00      0.00       1.0\n",
      "          17       0.00      0.00      0.00       0.0\n",
      "          18       0.00      0.00      0.00       0.0\n",
      "          19       0.00      0.00      0.00       0.0\n",
      "          20       0.00      0.00      0.00       0.0\n",
      "          23       0.00      0.00      0.00       1.0\n",
      "          24       0.00      0.00      0.00       1.0\n",
      "          30       0.00      0.00      0.00       1.0\n",
      "          31       0.00      0.00      0.00       1.0\n",
      "          32       0.00      0.00      0.00       1.0\n",
      "          33       0.00      0.00      0.00       0.0\n",
      "          35       0.00      0.00      0.00       1.0\n",
      "          36       0.00      0.00      0.00       0.0\n",
      "          37       0.00      0.00      0.00       1.0\n",
      "          41       0.00      0.00      0.00       1.0\n",
      "          45       0.00      0.00      0.00       1.0\n",
      "          47       0.00      0.00      0.00       1.0\n",
      "          48       0.00      0.00      0.00       0.0\n",
      "          49       0.00      0.00      0.00       1.0\n",
      "\n",
      "    accuracy                           0.00      15.0\n",
      "   macro avg       0.00      0.00      0.00      15.0\n",
      "weighted avg       0.00      0.00      0.00      15.0\n",
      "\n"
     ]
    },
    {
     "name": "stderr",
     "output_type": "stream",
     "text": [
      "/Users/lakisha/opt/anaconda3/lib/python3.9/site-packages/sklearn/metrics/_classification.py:1248: UndefinedMetricWarning: Precision and F-score are ill-defined and being set to 0.0 in labels with no predicted samples. Use `zero_division` parameter to control this behavior.\n",
      "  _warn_prf(average, modifier, msg_start, len(result))\n",
      "/Users/lakisha/opt/anaconda3/lib/python3.9/site-packages/sklearn/metrics/_classification.py:1248: UndefinedMetricWarning: Recall and F-score are ill-defined and being set to 0.0 in labels with no true samples. Use `zero_division` parameter to control this behavior.\n",
      "  _warn_prf(average, modifier, msg_start, len(result))\n",
      "/Users/lakisha/opt/anaconda3/lib/python3.9/site-packages/sklearn/metrics/_classification.py:1248: UndefinedMetricWarning: Precision and F-score are ill-defined and being set to 0.0 in labels with no predicted samples. Use `zero_division` parameter to control this behavior.\n",
      "  _warn_prf(average, modifier, msg_start, len(result))\n",
      "/Users/lakisha/opt/anaconda3/lib/python3.9/site-packages/sklearn/metrics/_classification.py:1248: UndefinedMetricWarning: Recall and F-score are ill-defined and being set to 0.0 in labels with no true samples. Use `zero_division` parameter to control this behavior.\n",
      "  _warn_prf(average, modifier, msg_start, len(result))\n",
      "/Users/lakisha/opt/anaconda3/lib/python3.9/site-packages/sklearn/metrics/_classification.py:1248: UndefinedMetricWarning: Precision and F-score are ill-defined and being set to 0.0 in labels with no predicted samples. Use `zero_division` parameter to control this behavior.\n",
      "  _warn_prf(average, modifier, msg_start, len(result))\n",
      "/Users/lakisha/opt/anaconda3/lib/python3.9/site-packages/sklearn/metrics/_classification.py:1248: UndefinedMetricWarning: Recall and F-score are ill-defined and being set to 0.0 in labels with no true samples. Use `zero_division` parameter to control this behavior.\n",
      "  _warn_prf(average, modifier, msg_start, len(result))\n"
     ]
    }
   ],
   "source": [
    "forestPredictions = forest.predict(x_test)\n",
    "print(confusion_matrix(y_test, forestPredictions))\n",
    "print(classification_report(y_test, forestPredictions))"
   ]
  },
  {
   "cell_type": "raw",
   "id": "ae12de49",
   "metadata": {},
   "source": [
    "Model does not fit data"
   ]
  },
  {
   "cell_type": "code",
   "execution_count": null,
   "id": "302dc3bc",
   "metadata": {},
   "outputs": [],
   "source": []
  }
 ],
 "metadata": {
  "kernelspec": {
   "display_name": "Python 3 (ipykernel)",
   "language": "python",
   "name": "python3"
  },
  "language_info": {
   "codemirror_mode": {
    "name": "ipython",
    "version": 3
   },
   "file_extension": ".py",
   "mimetype": "text/x-python",
   "name": "python",
   "nbconvert_exporter": "python",
   "pygments_lexer": "ipython3",
   "version": "3.9.7"
  }
 },
 "nbformat": 4,
 "nbformat_minor": 5
}
