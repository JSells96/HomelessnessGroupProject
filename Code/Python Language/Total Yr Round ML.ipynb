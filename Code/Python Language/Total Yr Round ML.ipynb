{
 "cells": [
  {
   "cell_type": "code",
   "execution_count": 25,
   "id": "4ea76fb0",
   "metadata": {},
   "outputs": [],
   "source": [
    "import pandas as pd\n",
    "from sklearn.linear_model import LinearRegression\n",
    "from sklearn.model_selection import train_test_split\n",
    "import matplotlib.pyplot as plt\n",
    "%matplotlib inline\n",
    "from sklearn import metrics\n",
    "import numpy as np"
   ]
  },
  {
   "cell_type": "markdown",
   "id": "aa298827",
   "metadata": {},
   "source": [
    "# Import Data"
   ]
  },
  {
   "cell_type": "code",
   "execution_count": 26,
   "id": "578e2c07",
   "metadata": {},
   "outputs": [],
   "source": [
    "TYR = pd.read_excel('../../Data/2010-2021 Total Year Round.xlsx')"
   ]
  },
  {
   "cell_type": "code",
   "execution_count": 27,
   "id": "422aa25c",
   "metadata": {},
   "outputs": [
    {
     "name": "stdout",
     "output_type": "stream",
     "text": [
      "<class 'pandas.core.frame.DataFrame'>\n",
      "RangeIndex: 9 entries, 0 to 8\n",
      "Data columns (total 13 columns):\n",
      " #   Column          Non-Null Count  Dtype\n",
      "---  ------          --------------  -----\n",
      " 0   Total Yr Round  9 non-null      int64\n",
      " 1   TYR2010         9 non-null      int64\n",
      " 2   TYR2011         9 non-null      int64\n",
      " 3   TYR2012         9 non-null      int64\n",
      " 4   TYR2013         9 non-null      int64\n",
      " 5   TYR2014         9 non-null      int64\n",
      " 6   TYR2015         9 non-null      int64\n",
      " 7   TYR2016         9 non-null      int64\n",
      " 8   TYR2017         9 non-null      int64\n",
      " 9   TYR2018         9 non-null      int64\n",
      " 10  TYR2019         9 non-null      int64\n",
      " 11  TYR2020         9 non-null      int64\n",
      " 12  TYR2021         9 non-null      int64\n",
      "dtypes: int64(13)\n",
      "memory usage: 1.0 KB\n"
     ]
    }
   ],
   "source": [
    "TYR.info()"
   ]
  },
  {
   "cell_type": "code",
   "execution_count": 4,
   "id": "ed1e4449",
   "metadata": {},
   "outputs": [
    {
     "data": {
      "text/html": [
       "<div>\n",
       "<style scoped>\n",
       "    .dataframe tbody tr th:only-of-type {\n",
       "        vertical-align: middle;\n",
       "    }\n",
       "\n",
       "    .dataframe tbody tr th {\n",
       "        vertical-align: top;\n",
       "    }\n",
       "\n",
       "    .dataframe thead th {\n",
       "        text-align: right;\n",
       "    }\n",
       "</style>\n",
       "<table border=\"1\" class=\"dataframe\">\n",
       "  <thead>\n",
       "    <tr style=\"text-align: right;\">\n",
       "      <th></th>\n",
       "      <th>Total Yr Round</th>\n",
       "      <th>TYR2010</th>\n",
       "      <th>TYR2011</th>\n",
       "      <th>TYR2012</th>\n",
       "      <th>TYR2013</th>\n",
       "      <th>TYR2014</th>\n",
       "      <th>TYR2015</th>\n",
       "      <th>TYR2016</th>\n",
       "      <th>TYR2017</th>\n",
       "      <th>TYR2018</th>\n",
       "      <th>TYR2019</th>\n",
       "      <th>TYR2020</th>\n",
       "      <th>TYR2021</th>\n",
       "    </tr>\n",
       "  </thead>\n",
       "  <tbody>\n",
       "    <tr>\n",
       "      <th>0</th>\n",
       "      <td>1</td>\n",
       "      <td>424432</td>\n",
       "      <td>429692</td>\n",
       "      <td>428527</td>\n",
       "      <td>446078</td>\n",
       "      <td>424880</td>\n",
       "      <td>426267</td>\n",
       "      <td>411285</td>\n",
       "      <td>399439</td>\n",
       "      <td>389622</td>\n",
       "      <td>389549</td>\n",
       "      <td>396149</td>\n",
       "      <td>396466</td>\n",
       "    </tr>\n",
       "    <tr>\n",
       "      <th>1</th>\n",
       "      <td>2</td>\n",
       "      <td>221610</td>\n",
       "      <td>225831</td>\n",
       "      <td>229206</td>\n",
       "      <td>238708</td>\n",
       "      <td>249497</td>\n",
       "      <td>264440</td>\n",
       "      <td>264629</td>\n",
       "      <td>277537</td>\n",
       "      <td>286203</td>\n",
       "      <td>291837</td>\n",
       "      <td>301589</td>\n",
       "      <td>307908</td>\n",
       "    </tr>\n",
       "    <tr>\n",
       "      <th>2</th>\n",
       "      <td>3</td>\n",
       "      <td>2199</td>\n",
       "      <td>2116</td>\n",
       "      <td>2129</td>\n",
       "      <td>2191</td>\n",
       "      <td>2159</td>\n",
       "      <td>2043</td>\n",
       "      <td>1907</td>\n",
       "      <td>1653</td>\n",
       "      <td>2390</td>\n",
       "      <td>2266</td>\n",
       "      <td>2302</td>\n",
       "      <td>2487</td>\n",
       "    </tr>\n",
       "    <tr>\n",
       "      <th>3</th>\n",
       "      <td>4</td>\n",
       "      <td>200623</td>\n",
       "      <td>201745</td>\n",
       "      <td>197192</td>\n",
       "      <td>205179</td>\n",
       "      <td>173224</td>\n",
       "      <td>159784</td>\n",
       "      <td>144749</td>\n",
       "      <td>120249</td>\n",
       "      <td>101029</td>\n",
       "      <td>95446</td>\n",
       "      <td>92258</td>\n",
       "      <td>86071</td>\n",
       "    </tr>\n",
       "    <tr>\n",
       "      <th>4</th>\n",
       "      <td>5</td>\n",
       "      <td>0</td>\n",
       "      <td>0</td>\n",
       "      <td>0</td>\n",
       "      <td>0</td>\n",
       "      <td>347908</td>\n",
       "      <td>403853</td>\n",
       "      <td>455817</td>\n",
       "      <td>499620</td>\n",
       "      <td>507271</td>\n",
       "      <td>522108</td>\n",
       "      <td>545722</td>\n",
       "      <td>567771</td>\n",
       "    </tr>\n",
       "  </tbody>\n",
       "</table>\n",
       "</div>"
      ],
      "text/plain": [
       "   Total Yr Round  TYR2010  TYR2011  TYR2012  TYR2013  TYR2014  TYR2015  \\\n",
       "0               1   424432   429692   428527   446078   424880   426267   \n",
       "1               2   221610   225831   229206   238708   249497   264440   \n",
       "2               3     2199     2116     2129     2191     2159     2043   \n",
       "3               4   200623   201745   197192   205179   173224   159784   \n",
       "4               5        0        0        0        0   347908   403853   \n",
       "\n",
       "   TYR2016  TYR2017  TYR2018  TYR2019  TYR2020  TYR2021  \n",
       "0   411285   399439   389622   389549   396149   396466  \n",
       "1   264629   277537   286203   291837   301589   307908  \n",
       "2     1907     1653     2390     2266     2302     2487  \n",
       "3   144749   120249   101029    95446    92258    86071  \n",
       "4   455817   499620   507271   522108   545722   567771  "
      ]
     },
     "execution_count": 4,
     "metadata": {},
     "output_type": "execute_result"
    }
   ],
   "source": [
    "TYR.head()"
   ]
  },
  {
   "cell_type": "markdown",
   "id": "9cf34129",
   "metadata": {},
   "source": [
    "# Wrangle Data"
   ]
  },
  {
   "cell_type": "code",
   "execution_count": 5,
   "id": "817ae397",
   "metadata": {},
   "outputs": [],
   "source": [
    "x = TYR[['TYR2010', 'TYR2011', 'TYR2012', 'TYR2013','TYR2014','TYR2015','TYR2016','TYR2017','TYR2018','TYR2019','TYR2020','TYR2021']]\n",
    "y = TYR['Total Yr Round']"
   ]
  },
  {
   "cell_type": "markdown",
   "id": "5fd0c3be",
   "metadata": {},
   "source": [
    "# Train Test Split"
   ]
  },
  {
   "cell_type": "code",
   "execution_count": 8,
   "id": "b696438e",
   "metadata": {},
   "outputs": [],
   "source": [
    "x_train, x_test, y_train, y_test = train_test_split(x,y, test_size = .6)"
   ]
  },
  {
   "cell_type": "code",
   "execution_count": 9,
   "id": "c57b0f9f",
   "metadata": {},
   "outputs": [
    {
     "name": "stdout",
     "output_type": "stream",
     "text": [
      "(3, 12) (3,)\n",
      "(6, 12) (6,)\n"
     ]
    }
   ],
   "source": [
    "print(x_train.shape, y_train.shape)\n",
    "print(x_test.shape, y_test.shape)"
   ]
  },
  {
   "cell_type": "markdown",
   "id": "23fbfadd",
   "metadata": {},
   "source": [
    "# Create Linear Regression Model"
   ]
  },
  {
   "cell_type": "code",
   "execution_count": 10,
   "id": "2b2e6673",
   "metadata": {},
   "outputs": [
    {
     "data": {
      "text/plain": [
       "LinearRegression()"
      ]
     },
     "execution_count": 10,
     "metadata": {},
     "output_type": "execute_result"
    }
   ],
   "source": [
    "lm = LinearRegression()\n",
    "lm.fit(x_train, y_train)"
   ]
  },
  {
   "cell_type": "markdown",
   "id": "0c58a9dd",
   "metadata": {},
   "source": [
    "# Examine Predictions"
   ]
  },
  {
   "cell_type": "code",
   "execution_count": 11,
   "id": "3e6cc476",
   "metadata": {},
   "outputs": [
    {
     "data": {
      "text/plain": [
       "array([  9.60772241,   8.71542466, -14.22652222,  -0.18922334,\n",
       "        -9.60538185,   5.75655029])"
      ]
     },
     "execution_count": 11,
     "metadata": {},
     "output_type": "execute_result"
    }
   ],
   "source": [
    "predictions = lm.predict(x_test)\n",
    "predictions"
   ]
  },
  {
   "cell_type": "code",
   "execution_count": 12,
   "id": "ae207a30",
   "metadata": {},
   "outputs": [
    {
     "data": {
      "text/plain": [
       "<matplotlib.collections.PathCollection at 0x7fcee80cd190>"
      ]
     },
     "execution_count": 12,
     "metadata": {},
     "output_type": "execute_result"
    },
    {
     "data": {
      "image/png": "[encoded data removed]",
      "text/plain": [
       "<Figure size 432x288 with 1 Axes>"
      ]
     },
     "metadata": {
      "needs_background": "light"
     },
     "output_type": "display_data"
    }
   ],
   "source": [
    "plt.scatter(y_test, predictions)"
   ]
  },
  {
   "cell_type": "markdown",
   "id": "1a6f5f0f",
   "metadata": {},
   "source": [
    "# Accuracy Score"
   ]
  },
  {
   "cell_type": "code",
   "execution_count": 14,
   "id": "f8c0b544",
   "metadata": {},
   "outputs": [
    {
     "name": "stdout",
     "output_type": "stream",
     "text": [
      "Score: -35.79450248233145\n"
     ]
    }
   ],
   "source": [
    "print(\"Score:\", lm.score(x_test, y_test))"
   ]
  },
  {
   "cell_type": "markdown",
   "id": "e04f440a",
   "metadata": {},
   "source": [
    "# Model is not accurate"
   ]
  },
  {
   "cell_type": "markdown",
   "id": "5ed87ed4",
   "metadata": {},
   "source": [
    "# Mean Absolute Error (MAE)"
   ]
  },
  {
   "cell_type": "code",
   "execution_count": 15,
   "id": "7efbe2c1",
   "metadata": {},
   "outputs": [
    {
     "data": {
      "text/plain": [
       "9.431287364882799"
      ]
     },
     "execution_count": 15,
     "metadata": {},
     "output_type": "execute_result"
    }
   ],
   "source": [
    "metrics.mean_absolute_error(y_test, predictions)"
   ]
  },
  {
   "cell_type": "markdown",
   "id": "ef3be2c9",
   "metadata": {},
   "source": [
    "# Mean Squared Error (MSE)"
   ]
  },
  {
   "cell_type": "code",
   "execution_count": 16,
   "id": "1acadc74",
   "metadata": {},
   "outputs": [
    {
     "data": {
      "text/plain": [
       "143.08973187573343"
      ]
     },
     "execution_count": 16,
     "metadata": {},
     "output_type": "execute_result"
    }
   ],
   "source": [
    "metrics.mean_squared_error(y_test, predictions)"
   ]
  },
  {
   "cell_type": "markdown",
   "id": "88b3067a",
   "metadata": {},
   "source": [
    "# Root Mean Squared Error (RMSE)"
   ]
  },
  {
   "cell_type": "code",
   "execution_count": 17,
   "id": "dad2940b",
   "metadata": {},
   "outputs": [
    {
     "data": {
      "text/plain": [
       "11.962012032920441"
      ]
     },
     "execution_count": 17,
     "metadata": {},
     "output_type": "execute_result"
    }
   ],
   "source": [
    "np.sqrt(metrics.mean_squared_error(y_test, predictions))"
   ]
  },
  {
   "cell_type": "markdown",
   "id": "162612b6",
   "metadata": {},
   "source": [
    "# k-Fold Cross Validation"
   ]
  },
  {
   "cell_type": "code",
   "execution_count": 18,
   "id": "91156271",
   "metadata": {},
   "outputs": [],
   "source": [
    "from sklearn.model_selection import KFold\n",
    "from sklearn.model_selection import cross_val_score"
   ]
  },
  {
   "cell_type": "markdown",
   "id": "bfa22cfc",
   "metadata": {},
   "source": [
    "# Creating Folds"
   ]
  },
  {
   "cell_type": "code",
   "execution_count": 23,
   "id": "91e5bfb3",
   "metadata": {},
   "outputs": [
    {
     "name": "stdout",
     "output_type": "stream",
     "text": [
      "train: [0 1 3 4 5 7], test: [2 6 8]\n",
      "train: [0 2 3 4 5 6 8], test: [1 7]\n",
      "train: [1 2 3 5 6 7 8], test: [0 4]\n",
      "train: [0 1 2 4 6 7 8], test: [3 5]\n"
     ]
    },
    {
     "name": "stderr",
     "output_type": "stream",
     "text": [
      "/Users/lakisha/opt/anaconda3/lib/python3.9/site-packages/sklearn/utils/validation.py:70: FutureWarning: Pass shuffle=True, random_state=1 as keyword args. From version 1.0 (renaming of 0.25) passing these as positional arguments will result in an error\n",
      "  warnings.warn(f\"Pass {args_msg} as keyword args. From version \"\n"
     ]
    }
   ],
   "source": [
    "kfold = KFold(4, True, 1)\n",
    "for train, test in kfold.split(x,y):\n",
    "    print('train: %s, test: %s' % (train,test))"
   ]
  },
  {
   "cell_type": "code",
   "execution_count": 24,
   "id": "a1db8d0f",
   "metadata": {},
   "outputs": [
    {
     "name": "stdout",
     "output_type": "stream",
     "text": [
      "[  -16.35962782 -1349.69363848 -8610.93684326 -7641.22418312]\n"
     ]
    }
   ],
   "source": [
    "print(cross_val_score(lm, x,y, cv=4))"
   ]
  },
  {
   "cell_type": "markdown",
   "id": "274b2ac4",
   "metadata": {},
   "source": [
    "# Model 1 is the best model"
   ]
  },
  {
   "cell_type": "code",
   "execution_count": null,
   "id": "c48ba1c1",
   "metadata": {},
   "outputs": [],
   "source": []
  }
 ],
 "metadata": {
  "kernelspec": {
   "display_name": "Python 3 (ipykernel)",
   "language": "python",
   "name": "python3"
  },
  "language_info": {
   "codemirror_mode": {
    "name": "ipython",
    "version": 3
   },
   "file_extension": ".py",
   "mimetype": "text/x-python",
   "name": "python",
   "nbconvert_exporter": "python",
   "pygments_lexer": "ipython3",
   "version": "3.9.7"
  }
 },
 "nbformat": 4,
 "nbformat_minor": 5
}
